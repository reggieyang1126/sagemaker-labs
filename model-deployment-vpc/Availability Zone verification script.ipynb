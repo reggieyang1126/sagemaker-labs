{
 "cells": [
  {
   "cell_type": "markdown",
   "id": "5dd59041-c55a-40b0-803b-7169f201e006",
   "metadata": {},
   "source": [
    "# Availability Zone verification script"
   ]
  },
  {
   "cell_type": "code",
   "execution_count": 1,
   "id": "bf57b8e1-74d3-4b99-89bf-786e84c77fc5",
   "metadata": {},
   "outputs": [],
   "source": [
    "import boto3\n",
    "\n",
    "#configure clients\n",
    "ec2 = boto3.client('ec2')\n",
    "sagemaker = boto3.client('sagemaker')"
   ]
  },
  {
   "cell_type": "code",
   "execution_count": 2,
   "id": "6fe9ef7a-97dd-4a10-9216-eb4ee197d830",
   "metadata": {},
   "outputs": [
    {
     "name": "stdout",
     "output_type": "stream",
     "text": [
      "Available Availability Zones:\n",
      "- us-east-1a (use1-az4\n",
      "- us-east-1b (use1-az6\n",
      "- us-east-1c (use1-az1\n",
      "- us-east-1d (use1-az2\n",
      "- us-east-1e (use1-az3\n",
      "- us-east-1f (use1-az5\n"
     ]
    }
   ],
   "source": [
    "#get available availability zones\n",
    "response = ec2.describe_availability_zones(\n",
    "   Filters=[\n",
    "       {\n",
    "           'Name': 'zone-type',\n",
    "           'Values': ['availability-zone']\n",
    "       }\n",
    "   ]\n",
    ")\n",
    "\n",
    "print(\"Available Availability Zones:\")\n",
    "for zone in response['AvailabilityZones']:\n",
    "   print(f\"- {zone['ZoneName']} ({zone['ZoneId']}\")"
   ]
  },
  {
   "cell_type": "code",
   "execution_count": null,
   "id": "03d67f5d-cbaf-448c-b6d2-1588b5be6275",
   "metadata": {},
   "outputs": [],
   "source": []
  }
 ],
 "metadata": {
  "kernelspec": {
   "display_name": "Python 3 (ipykernel)",
   "language": "python",
   "name": "python3"
  },
  "language_info": {
   "codemirror_mode": {
    "name": "ipython",
    "version": 3
   },
   "file_extension": ".py",
   "mimetype": "text/x-python",
   "name": "python",
   "nbconvert_exporter": "python",
   "pygments_lexer": "ipython3",
   "version": "3.11.10"
  }
 },
 "nbformat": 4,
 "nbformat_minor": 5
}
