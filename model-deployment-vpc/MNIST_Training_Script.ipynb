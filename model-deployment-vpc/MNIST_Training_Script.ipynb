{
 "cells": [
  {
   "cell_type": "code",
   "execution_count": 1,
   "id": "82a96b65-292b-4a88-874f-048f78a8544a",
   "metadata": {},
   "outputs": [
    {
     "name": "stdout",
     "output_type": "stream",
     "text": [
      "sagemaker.config INFO - Not applying SDK defaults from location: /etc/xdg/sagemaker/config.yaml\n",
      "sagemaker.config INFO - Not applying SDK defaults from location: /home/sagemaker-user/.config/sagemaker/config.yaml\n"
     ]
    }
   ],
   "source": [
    "import boto3\n",
    "import sagemaker\n",
    "import os\n",
    "from pathlib import Path\n"
   ]
  },
  {
   "cell_type": "code",
   "execution_count": 2,
   "id": "7a40c9b6-2597-4a04-8b61-a26674f57fd7",
   "metadata": {},
   "outputs": [],
   "source": [
    "session = sagemaker.Session()\n",
    "bucket_name = 'sagemaker-mlops-demo-dev-2024'  # Tu bucket\n",
    "s3 = boto3.client('s3')"
   ]
  },
  {
   "cell_type": "code",
   "execution_count": 3,
   "id": "cbb53aca-4f07-4300-8ccb-6e20f39a95d5",
   "metadata": {},
   "outputs": [],
   "source": [
    "training_script = '''\n",
    "import tensorflow as tf\n",
    "import argparse\n",
    "import os\n",
    "import numpy as np\n",
    "\n",
    "def parse_args():\n",
    "    parser = argparse.ArgumentParser()\n",
    "    \n",
    "    \n",
    "    parser.add_argument('--epochs', type=int, default=5)\n",
    "    parser.add_argument('--batch-size', type=int, default=32)\n",
    "    parser.add_argument('--learning-rate', type=float, default=0.001)\n",
    "    \n",
    "    \n",
    "    parser.add_argument('--model-dir', type=str, default=os.environ['SM_MODEL_DIR'])\n",
    "    parser.add_argument('--train', type=str, default=os.environ['SM_CHANNEL_TRAIN'])\n",
    "    parser.add_argument('--test', type=str, default=os.environ['SM_CHANNEL_TEST'])\n",
    "    \n",
    "    return parser.parse_known_args()[0]\n",
    "\n",
    "def load_data(train_dir, test_dir):\n",
    "    \"\"\"Cargar datos de entrenamiento y prueba\"\"\"\n",
    "    train_images = np.load(os.path.join(train_dir, 'train_images.npy'))\n",
    "    train_labels = np.load(os.path.join(train_dir, 'train_labels.npy'))\n",
    "    test_images = np.load(os.path.join(test_dir, 'test_images.npy'))\n",
    "    test_labels = np.load(os.path.join(test_dir, 'test_labels.npy'))\n",
    "    \n",
    "    return (train_images, train_labels), (test_images, test_labels)\n",
    "\n",
    "def create_model():\n",
    "    \"\"\"modelo CNN\"\"\"\n",
    "    model = tf.keras.Sequential([\n",
    "        tf.keras.layers.Dense(512, activation='relu', input_shape=(784,)),\n",
    "        tf.keras.layers.Dropout(0.2),\n",
    "        tf.keras.layers.Dense(10, activation='softmax')\n",
    "    ])\n",
    "    return model\n",
    "\n",
    "if __name__ == '__main__':\n",
    "    args = parse_args()\n",
    "    \n",
    "    #data\n",
    "    (train_images, train_labels), (test_images, test_labels) = load_data(args.train, args.test)\n",
    "    \n",
    "    \n",
    "    model = create_model()\n",
    "    model.compile(\n",
    "        optimizer=tf.keras.optimizers.Adam(learning_rate=args.learning_rate),\n",
    "        loss='sparse_categorical_crossentropy',\n",
    "        metrics=['accuracy']\n",
    "    )\n",
    "    \n",
    "    \n",
    "    model.fit(\n",
    "        train_images, train_labels,\n",
    "        batch_size=args.batch_size,\n",
    "        epochs=args.epochs,\n",
    "        validation_data=(test_images, test_labels)\n",
    "    )\n",
    "    \n",
    "    \n",
    "    test_loss, test_accuracy = model.evaluate(test_images, test_labels)\n",
    "    print(f'Test accuracy: {test_accuracy}')\n",
    "    \n",
    "    \n",
    "    model.save(os.path.join(args.model_dir, '1'))\n",
    "'''\n"
   ]
  },
  {
   "cell_type": "code",
   "execution_count": 4,
   "id": "1534e6c1-41a6-431e-add4-168fec107719",
   "metadata": {},
   "outputs": [
    {
     "name": "stdout",
     "output_type": "stream",
     "text": [
      "Script guardado localmente en: code/train.py\n"
     ]
    }
   ],
   "source": [
    "os.makedirs('code', exist_ok=True)\n",
    "script_path = 'code/train.py'\n",
    "\n",
    "with open(script_path, 'w') as f:\n",
    "    f.write(training_script)\n",
    "\n",
    "print(\"Script guardado localmente en:\", script_path)\n"
   ]
  },
  {
   "cell_type": "code",
   "execution_count": 5,
   "id": "254c3490-a63b-4d9c-b32a-adf017107f4d",
   "metadata": {},
   "outputs": [
    {
     "name": "stdout",
     "output_type": "stream",
     "text": [
      "\n",
      "Script subido a s3://sagemaker-mlops-demo-dev-2024/mnist/code/train.py\n"
     ]
    }
   ],
   "source": [
    "s3_key = 'mnist/code/train.py'\n",
    "s3.upload_file(\n",
    "    script_path,\n",
    "    bucket_name,\n",
    "    s3_key\n",
    ")\n",
    "\n",
    "print(f\"\\nScript subido a s3://{bucket_name}/{s3_key}\")"
   ]
  },
  {
   "cell_type": "code",
   "execution_count": null,
   "id": "e78d0321-2704-449a-9c09-e2fbe666c1cf",
   "metadata": {},
   "outputs": [],
   "source": []
  }
 ],
 "metadata": {
  "kernelspec": {
   "display_name": "Python 3 (ipykernel)",
   "language": "python",
   "name": "python3"
  },
  "language_info": {
   "codemirror_mode": {
    "name": "ipython",
    "version": 3
   },
   "file_extension": ".py",
   "mimetype": "text/x-python",
   "name": "python",
   "nbconvert_exporter": "python",
   "pygments_lexer": "ipython3",
   "version": "3.11.10"
  }
 },
 "nbformat": 4,
 "nbformat_minor": 5
}
