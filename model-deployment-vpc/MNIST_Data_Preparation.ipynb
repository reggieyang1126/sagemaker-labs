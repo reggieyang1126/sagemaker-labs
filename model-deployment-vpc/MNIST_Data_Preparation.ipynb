{
 "cells": [
  {
   "cell_type": "code",
   "execution_count": 7,
   "id": "d2cd7829-9c13-4e14-89d5-de49e5d1fedd",
   "metadata": {},
   "outputs": [],
   "source": [
    "import numpy as np\n",
    "import boto3\n",
    "import os\n",
    "from pathlib import Path\n",
    "import sagemaker\n",
    "from sklearn.datasets import fetch_openml\n",
    "\n"
   ]
  },
  {
   "cell_type": "code",
   "execution_count": 8,
   "id": "5c4f650d-8e9a-448a-b147-76616740dbdd",
   "metadata": {},
   "outputs": [],
   "source": [
    "session = sagemaker.Session()\n",
    "bucket_name = 'sagemaker-mlops-demo-dev-2024'  # Reemplaza con tu nombre de bucket\n",
    "s3 = boto3.client('s3')\n"
   ]
  },
  {
   "cell_type": "code",
   "execution_count": 9,
   "id": "3f7293fd-9511-465e-a311-22f320ee6772",
   "metadata": {},
   "outputs": [
    {
     "name": "stdout",
     "output_type": "stream",
     "text": [
      "Using bucket: sagemaker-mlops-demo-dev-2024\n"
     ]
    }
   ],
   "source": [
    "print(f\"Using bucket: {bucket_name}\")"
   ]
  },
  {
   "cell_type": "code",
   "execution_count": 10,
   "id": "8899e889-d736-4baa-aa6f-7223df0064cb",
   "metadata": {},
   "outputs": [
    {
     "name": "stdout",
     "output_type": "stream",
     "text": [
      "Downloading MNIST dataset from scikit-learn...\n"
     ]
    }
   ],
   "source": [
    "print(\"Downloading MNIST dataset from scikit-learn...\")\n",
    "X, y = fetch_openml('mnist_784', version=1, return_X_y=True, as_frame=False)\n"
   ]
  },
  {
   "cell_type": "code",
   "execution_count": 11,
   "id": "ecf2da21-b8fb-4ac4-b0ec-11e4425e9641",
   "metadata": {},
   "outputs": [],
   "source": [
    "X = X / 255.0\n",
    "\n"
   ]
  },
  {
   "cell_type": "code",
   "execution_count": 12,
   "id": "05667985-5107-4d3e-98c6-e255412181c6",
   "metadata": {},
   "outputs": [
    {
     "name": "stdout",
     "output_type": "stream",
     "text": [
      "Dataset shapes:\n",
      "Train images: (60000, 784)\n",
      "Train labels: (60000,)\n",
      "Test images: (10000, 784)\n",
      "Test labels: (10000,)\n"
     ]
    }
   ],
   "source": [
    "train_images = X[:60000]\n",
    "test_images = X[60000:]\n",
    "train_labels = y[:60000].astype(np.uint8)\n",
    "test_labels = y[60000:].astype(np.uint8)\n",
    "\n",
    "print(\"Dataset shapes:\")\n",
    "print(f\"Train images: {train_images.shape}\")\n",
    "print(f\"Train labels: {train_labels.shape}\")\n",
    "print(f\"Test images: {test_images.shape}\")\n",
    "print(f\"Test labels: {test_labels.shape}\")\n"
   ]
  },
  {
   "cell_type": "code",
   "execution_count": 13,
   "id": "5143a387-668b-4367-9421-93c5453ae9e5",
   "metadata": {},
   "outputs": [
    {
     "name": "stdout",
     "output_type": "stream",
     "text": [
      "\n",
      "Saving processed data...\n",
      "Data processing complete!\n"
     ]
    }
   ],
   "source": [
    "os.makedirs('processed_data', exist_ok=True)\n",
    "\n",
    "print(\"\\nSaving processed data...\")\n",
    "np.save('processed_data/train_images.npy', train_images)\n",
    "np.save('processed_data/train_labels.npy', train_labels)\n",
    "np.save('processed_data/test_images.npy', test_images)\n",
    "np.save('processed_data/test_labels.npy', test_labels)\n",
    "\n",
    "print(\"Data processing complete!\")\n"
   ]
  },
  {
   "cell_type": "code",
   "execution_count": 14,
   "id": "8f11fd4d-4e5d-4ac2-a775-0425b6d27796",
   "metadata": {},
   "outputs": [
    {
     "name": "stdout",
     "output_type": "stream",
     "text": [
      "\n",
      "Uploading data to S3 bucket: sagemaker-mlops-demo-dev-2024\n"
     ]
    }
   ],
   "source": [
    "print(f\"\\nUploading data to S3 bucket: {bucket_name}\")\n"
   ]
  },
  {
   "cell_type": "code",
   "execution_count": 15,
   "id": "c10010a7-4346-4bd6-8710-8311dc0a8649",
   "metadata": {},
   "outputs": [
    {
     "name": "stdout",
     "output_type": "stream",
     "text": [
      "Uploading processed_data/train_images.npy to s3://sagemaker-mlops-demo-dev-2024/mnist/data/train_images.npy\n",
      "Uploading processed_data/train_labels.npy to s3://sagemaker-mlops-demo-dev-2024/mnist/data/train_labels.npy\n",
      "Uploading processed_data/test_images.npy to s3://sagemaker-mlops-demo-dev-2024/mnist/data/test_images.npy\n",
      "Uploading processed_data/test_labels.npy to s3://sagemaker-mlops-demo-dev-2024/mnist/data/test_labels.npy\n",
      "\n",
      "Upload complete!\n",
      "Data is now available in s3://sagemaker-mlops-demo-dev-2024/mnist/data/\n"
     ]
    }
   ],
   "source": [
    "for file_path in Path('processed_data').glob('*.npy'):\n",
    "    s3_key = f'mnist/data/{file_path.name}'\n",
    "    print(f\"Uploading {file_path} to s3://{bucket_name}/{s3_key}\")\n",
    "    s3.upload_file(\n",
    "        str(file_path),\n",
    "        bucket_name,\n",
    "        s3_key\n",
    "    )\n",
    "\n",
    "print(\"\\nUpload complete!\")\n",
    "print(f\"Data is now available in s3://{bucket_name}/mnist/data/\")\n"
   ]
  },
  {
   "cell_type": "code",
   "execution_count": 16,
   "id": "a36e430f-106e-41d1-9eda-8350c4527acf",
   "metadata": {},
   "outputs": [
    {
     "name": "stdout",
     "output_type": "stream",
     "text": [
      "Files available in S3:\n",
      "- mnist/data/test_images.npy\n",
      "- mnist/data/test_labels.npy\n",
      "- mnist/data/train_images.npy\n",
      "- mnist/data/train_labels.npy\n"
     ]
    }
   ],
   "source": [
    "response = s3.list_objects_v2(\n",
    "    Bucket=bucket_name,\n",
    "    Prefix='mnist/data/'\n",
    ")\n",
    "\n",
    "print(\"Files available in S3:\")\n",
    "for obj in response['Contents']:\n",
    "    print(f\"- {obj['Key']}\")"
   ]
  },
  {
   "cell_type": "code",
   "execution_count": null,
   "id": "c7b0833b-033b-4224-bcca-76150c7610e0",
   "metadata": {},
   "outputs": [],
   "source": []
  },
  {
   "cell_type": "code",
   "execution_count": null,
   "id": "28aadc53-bff4-4699-84ef-be3d3fc302f1",
   "metadata": {},
   "outputs": [],
   "source": []
  },
  {
   "cell_type": "code",
   "execution_count": null,
   "id": "8c865cb5-b14a-47f8-8d91-1fa4bc515ac9",
   "metadata": {},
   "outputs": [],
   "source": []
  },
  {
   "cell_type": "code",
   "execution_count": null,
   "id": "53b68281-25f0-479d-84ae-ff36e870f970",
   "metadata": {},
   "outputs": [],
   "source": []
  },
  {
   "cell_type": "code",
   "execution_count": null,
   "id": "d63b9b29-8846-454d-ac88-23fa261fdf07",
   "metadata": {},
   "outputs": [],
   "source": []
  }
 ],
 "metadata": {
  "kernelspec": {
   "display_name": "Python 3 (ipykernel)",
   "language": "python",
   "name": "python3"
  },
  "language_info": {
   "codemirror_mode": {
    "name": "ipython",
    "version": 3
   },
   "file_extension": ".py",
   "mimetype": "text/x-python",
   "name": "python",
   "nbconvert_exporter": "python",
   "pygments_lexer": "ipython3",
   "version": "3.11.10"
  }
 },
 "nbformat": 4,
 "nbformat_minor": 5
}
