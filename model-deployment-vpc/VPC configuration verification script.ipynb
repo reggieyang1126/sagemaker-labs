{
 "cells": [
  {
   "cell_type": "markdown",
   "id": "ffa919a2-5ff2-4519-9384-088132e1480a",
   "metadata": {},
   "source": [
    "# VPC configuration verification script"
   ]
  },
  {
   "cell_type": "code",
   "execution_count": null,
   "id": "5fbed207-bba3-4a72-9c01-0ef92db03c88",
   "metadata": {},
   "outputs": [],
   "source": [
    "import boto3\n",
    "import json\n",
    "\n",
    "sm_client = boto3.client('sagemaker')"
   ]
  },
  {
   "cell_type": "code",
   "execution_count": null,
   "id": "9ed059e2-b932-4096-bef1-ac18bf8a115b",
   "metadata": {},
   "outputs": [],
   "source": [
    "#get latest endpoint\n",
    "endpoints = sm_client.list_endpoints(\n",
    "   SortBy='CreationTime',\n",
    "   SortOrder='Descending',\n",
    "   MaxResults=1\n",
    ")"
   ]
  },
  {
   "cell_type": "code",
   "execution_count": null,
   "id": "3460ee2b-3787-4652-96e6-12d88693e09e",
   "metadata": {},
   "outputs": [],
   "source": [
    "endpoint_name = endpoints['Endpoints'][0]['EndpointName']\n",
    "print(f\"Verifying endpoint: {endpoint_name}\")"
   ]
  },
  {
   "cell_type": "code",
   "execution_count": null,
   "id": "7e0defd8-9a3a-4620-9a9d-659acbcede6a",
   "metadata": {},
   "outputs": [],
   "source": [
    "#get endpoint details\n",
    "endpoint_details = sm_client.describe_endpoint(EndpointName=endpoint_name)\n",
    "endpoint_config_name = endpoint_details['EndpointConfigName']\n",
    "config_details = sm_client.describe_endpoint_config(EndpointConfigName=endpoint_config_name)"
   ]
  },
  {
   "cell_type": "code",
   "execution_count": null,
   "id": "959566d2-056f-4ca1-aa5e-010f59b33aad",
   "metadata": {},
   "outputs": [],
   "source": [
    "#get model details\n",
    "model_name = config_details['ProductionVariants'][0]['ModelName']\n",
    "model_details = sm_client.describe_model(ModelName=model_name)"
   ]
  },
  {
   "cell_type": "code",
   "execution_count": null,
   "id": "84c41102-a9c8-4d22-a377-25d89c12e81e",
   "metadata": {},
   "outputs": [],
   "source": [
    "#vpc configuration\n",
    "print(\"\\nModel VPC Configuration:\")\n",
    "if 'VpcConfig' in model_details:\n",
    "   vpc_config = model_details['VpcConfig']\n",
    "   print(f\"Subnets: {vpc_config['Subnets']}\")\n",
    "   print(f\"Security Groups: {vpc_config['SecurityGroupIds']}\")\n",
    "else:\n",
    "   print(\"Model is not configured with VPC\")\n",
    "\n",
    "print(\"\\nNetwork Isolation:\")\n",
    "print(f\"Enabled: {model_details.get('EnableNetworkIsolation', False)}\")"
   ]
  },
  {
   "cell_type": "code",
   "execution_count": null,
   "id": "2aa97c1e-d5c8-42bd-a25a-fa7a74d303f9",
   "metadata": {},
   "outputs": [],
   "source": []
  },
  {
   "cell_type": "code",
   "execution_count": null,
   "id": "cfcc6938-a60e-426b-929a-623ef45c084f",
   "metadata": {},
   "outputs": [],
   "source": []
  },
  {
   "cell_type": "code",
   "execution_count": null,
   "id": "832256f2-8c32-4062-b124-f6476841b68a",
   "metadata": {},
   "outputs": [],
   "source": []
  }
 ],
 "metadata": {
  "kernelspec": {
   "display_name": "Python 3 (ipykernel)",
   "language": "python",
   "name": "python3"
  },
  "language_info": {
   "codemirror_mode": {
    "name": "ipython",
    "version": 3
   },
   "file_extension": ".py",
   "mimetype": "text/x-python",
   "name": "python",
   "nbconvert_exporter": "python",
   "pygments_lexer": "ipython3",
   "version": "3.11.10"
  }
 },
 "nbformat": 4,
 "nbformat_minor": 5
}
