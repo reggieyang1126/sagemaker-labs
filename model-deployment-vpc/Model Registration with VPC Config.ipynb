{
 "cells": [
  {
   "cell_type": "markdown",
   "id": "39aa5732-1259-4a9a-b19d-28c5f77c53d5",
   "metadata": {},
   "source": [
    "# Model Registration with VPC Config"
   ]
  },
  {
   "cell_type": "code",
   "execution_count": 1,
   "id": "4e6076dd-bee1-4604-9bab-71ac1b049a75",
   "metadata": {},
   "outputs": [
    {
     "name": "stdout",
     "output_type": "stream",
     "text": [
      "sagemaker.config INFO - Not applying SDK defaults from location: /etc/xdg/sagemaker/config.yaml\n",
      "sagemaker.config INFO - Not applying SDK defaults from location: /home/sagemaker-user/.config/sagemaker/config.yaml\n"
     ]
    }
   ],
   "source": [
    "import boto3\n",
    "import sagemaker\n",
    "from sagemaker.model import Model\n",
    "from time import gmtime, strftime\n",
    "session = sagemaker.Session()\n",
    "role = sagemaker.get_execution_role()\n",
    "bucket_name = 'sagemaker-mlops-demo-dev-2024'\n",
    "model_package_group_name = 'mnist-classification-models'\n",
    "sm_client = boto3.client('sagemaker')"
   ]
  },
  {
   "cell_type": "code",
   "execution_count": 2,
   "id": "5c722675-9b3d-4c19-9bd7-ed59c61b3831",
   "metadata": {},
   "outputs": [],
   "source": [
    "\n",
    "#vpc configuration with multiple subnets\n",
    "vpc_config = {\n",
    "    'Subnets': [\n",
    "        'subnet-08ab4f85521900ccb',\n",
    "        'subnet-00ab8c58bb53cfbc9'\n",
    "    ],\n",
    "    'SecurityGroupIds': ['sg-061f2bba40ed5c109']\n",
    "}"
   ]
  },
  {
   "cell_type": "code",
   "execution_count": 3,
   "id": "41d261fc-d464-4be5-a15c-cc873729cad6",
   "metadata": {},
   "outputs": [
    {
     "name": "stdout",
     "output_type": "stream",
     "text": [
      "Latest training job found: tensorflow-training-2024-11-24-09-08-21-911\n",
      "Model location: s3://sagemaker-mlops-demo-dev-2024/mnist/models/tensorflow-training-2024-11-24-09-08-21-911/output/model.tar.gz\n"
     ]
    }
   ],
   "source": [
    "training_jobs = sm_client.list_training_jobs(\n",
    "    StatusEquals='Completed',\n",
    "    SortBy='CreationTime',\n",
    "    SortOrder='Descending',\n",
    "    MaxResults=1\n",
    ")\n",
    "latest_job_name = training_jobs['TrainingJobSummaries'][0]['TrainingJobName']\n",
    "training_job = sm_client.describe_training_job(TrainingJobName=latest_job_name)\n",
    "model_url = training_job['ModelArtifacts']['S3ModelArtifacts']\n",
    "print(f\"Latest training job found: {latest_job_name}\")\n",
    "print(f\"Model location: {model_url}\")"
   ]
  },
  {
   "cell_type": "code",
   "execution_count": 4,
   "id": "b32137c5-c99e-4cfe-abd1-c4dc413cfbfc",
   "metadata": {},
   "outputs": [],
   "source": [
    "#configure inference image\n",
    "inference_image_uri = sagemaker.image_uris.retrieve(\n",
    "    framework='tensorflow',\n",
    "    region=session.boto_session.region_name,\n",
    "    version='2.11.0',\n",
    "    py_version='py39',\n",
    "    instance_type='ml.m5.large',\n",
    "    image_scope='inference'\n",
    ")"
   ]
  },
  {
   "cell_type": "code",
   "execution_count": 5,
   "id": "0ef82e0a-021b-4938-a768-d683d8ab9eb5",
   "metadata": {},
   "outputs": [
    {
     "name": "stdout",
     "output_type": "stream",
     "text": [
      "\n",
      "Model registered with ARN: arn:aws:sagemaker:us-east-1:515966515324:model-package/mnist-classification-models/8\n",
      "\n",
      "Model registration status:\n",
      "Status: Completed\n",
      "Approval Status: PendingManualApproval\n"
     ]
    }
   ],
   "source": [
    "#create and register model with vpc config\n",
    "model = Model(\n",
    "    image_uri=inference_image_uri,\n",
    "    model_data=model_url,\n",
    "    role=role,\n",
    "    vpc_config=vpc_config,\n",
    "    sagemaker_session=session,\n",
    "    enable_network_isolation=True\n",
    ")\n",
    "model_package = model.register(\n",
    "    model_package_group_name=model_package_group_name,\n",
    "    approval_status='PendingManualApproval',\n",
    "    content_types=[\"application/json\"],\n",
    "    response_types=[\"application/json\"],\n",
    "    inference_instances=['ml.m5.large'],\n",
    "    transform_instances=['ml.m5.large'],\n",
    "    model_metrics=None\n",
    ")\n",
    "print(f\"\\nModel registered with ARN: {model_package.model_package_arn}\")\n",
    "response = sm_client.describe_model_package(\n",
    "    ModelPackageName=model_package.model_package_arn\n",
    ")\n",
    "print(\"\\nModel registration status:\")\n",
    "print(f\"Status: {response['ModelPackageStatus']}\")\n",
    "print(f\"Approval Status: {response['ModelApprovalStatus']}\")"
   ]
  },
  {
   "cell_type": "code",
   "execution_count": null,
   "id": "3ef3c369-374d-4e87-a806-b124826c3cbc",
   "metadata": {},
   "outputs": [],
   "source": []
  }
 ],
 "metadata": {
  "kernelspec": {
   "display_name": "Python 3 (ipykernel)",
   "language": "python",
   "name": "python3"
  },
  "language_info": {
   "codemirror_mode": {
    "name": "ipython",
    "version": 3
   },
   "file_extension": ".py",
   "mimetype": "text/x-python",
   "name": "python",
   "nbconvert_exporter": "python",
   "pygments_lexer": "ipython3",
   "version": "3.11.10"
  }
 },
 "nbformat": 4,
 "nbformat_minor": 5
}
