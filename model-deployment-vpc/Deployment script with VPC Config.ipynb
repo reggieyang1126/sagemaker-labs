{
 "cells": [
  {
   "cell_type": "markdown",
   "id": "458d3ea0-2303-4a55-a618-e5a4953c25f8",
   "metadata": {},
   "source": [
    "# Deployment script with VPC Config"
   ]
  },
  {
   "cell_type": "code",
   "execution_count": 1,
   "id": "51d07b63-6d7e-4010-8830-138e2aafa116",
   "metadata": {},
   "outputs": [
    {
     "name": "stdout",
     "output_type": "stream",
     "text": [
      "sagemaker.config INFO - Not applying SDK defaults from location: /etc/xdg/sagemaker/config.yaml\n",
      "sagemaker.config INFO - Not applying SDK defaults from location: /home/sagemaker-user/.config/sagemaker/config.yaml\n"
     ]
    }
   ],
   "source": [
    "import boto3\n",
    "import sagemaker\n",
    "import time\n",
    "from time import gmtime, strftime\n",
    "import json\n",
    "import numpy as np\n",
    "\n",
    "session = sagemaker.Session()\n",
    "sm_client = boto3.client('sagemaker')\n",
    "role = sagemaker.get_execution_role()"
   ]
  },
  {
   "cell_type": "code",
   "execution_count": 2,
   "id": "1d04b2c7-6232-40d2-bc93-ed309efdbdf4",
   "metadata": {},
   "outputs": [],
   "source": [
    "# vpc configuration with multiple subnets\n",
    "vpc_config = {\n",
    "   'Subnets': [\n",
    "       'subnet-08ab4f85521900ccb',\n",
    "       'subnet-00ab8c58bb53cfbc9'\n",
    "   ],\n",
    "   'SecurityGroupIds': ['sg-061f2bba40ed5c109']\n",
    "}"
   ]
  },
  {
   "cell_type": "code",
   "execution_count": 3,
   "id": "4d0c5ed2-6a47-4a5a-8ad7-afba569fa911",
   "metadata": {},
   "outputs": [],
   "source": [
    "model_package_arn = \"arn:aws:sagemaker:us-east-1:515966515324:model-package/mnist-classification-models/2\"\n"
   ]
  },
  {
   "cell_type": "code",
   "execution_count": 4,
   "id": "0ce50fb5-9f0a-46f8-a2b7-45e39e63b69e",
   "metadata": {},
   "outputs": [
    {
     "name": "stdout",
     "output_type": "stream",
     "text": [
      "Approving model...\n"
     ]
    },
    {
     "data": {
      "text/plain": [
       "{'ModelPackageArn': 'arn:aws:sagemaker:us-east-1:515966515324:model-package/mnist-classification-models/2',\n",
       " 'ResponseMetadata': {'RequestId': '6fe4647b-46d3-4ce9-a016-cd3b4eacdbb0',\n",
       "  'HTTPStatusCode': 200,\n",
       "  'HTTPHeaders': {'x-amzn-requestid': '6fe4647b-46d3-4ce9-a016-cd3b4eacdbb0',\n",
       "   'content-type': 'application/x-amz-json-1.1',\n",
       "   'content-length': '106',\n",
       "   'date': 'Wed, 27 Nov 2024 05:24:20 GMT'},\n",
       "  'RetryAttempts': 0}}"
      ]
     },
     "execution_count": 4,
     "metadata": {},
     "output_type": "execute_result"
    }
   ],
   "source": [
    "print(\"Approving model...\")\n",
    "sm_client.update_model_package(\n",
    "   ModelPackageArn=model_package_arn,\n",
    "   ModelApprovalStatus='Approved'\n",
    ")"
   ]
  },
  {
   "cell_type": "code",
   "execution_count": 5,
   "id": "11b747bd-2443-4547-89b3-fc8dff6541f7",
   "metadata": {},
   "outputs": [
    {
     "name": "stdout",
     "output_type": "stream",
     "text": [
      "\n",
      "Updated model status:\n",
      "Status: Completed\n",
      "Approval Status: Approved\n"
     ]
    }
   ],
   "source": [
    "response = sm_client.describe_model_package(\n",
    "   ModelPackageName=model_package_arn\n",
    ")\n",
    "\n",
    "print(\"\\nUpdated model status:\")\n",
    "print(f\"Status: {response['ModelPackageStatus']}\")\n",
    "print(f\"Approval Status: {response['ModelApprovalStatus']}\")\n"
   ]
  },
  {
   "cell_type": "code",
   "execution_count": 6,
   "id": "f330ca14-92e8-4ae7-b6bf-7c89c05967ff",
   "metadata": {},
   "outputs": [
    {
     "name": "stdout",
     "output_type": "stream",
     "text": [
      "\n",
      "Creating endpoint...\n"
     ]
    }
   ],
   "source": [
    "print(\"\\nCreating endpoint...\")\n",
    "timestamp = strftime(\"%Y-%m-%d-%H-%M-%S\", gmtime())\n",
    "endpoint_config_name = f'mnist-endpoint-config-{timestamp}'\n",
    "endpoint_name = f'mnist-endpoint-{timestamp}'\n",
    "model_name = f'mnist-model-{timestamp}'\n"
   ]
  },
  {
   "cell_type": "code",
   "execution_count": 7,
   "id": "1f4cd2d8-3474-4012-b445-d41343145d7c",
   "metadata": {},
   "outputs": [
    {
     "name": "stdout",
     "output_type": "stream",
     "text": [
      "Creating model in SageMaker...\n"
     ]
    },
    {
     "data": {
      "text/plain": [
       "{'ModelArn': 'arn:aws:sagemaker:us-east-1:515966515324:model/mnist-model-2024-11-27-05-24-25',\n",
       " 'ResponseMetadata': {'RequestId': '4542d48a-cb23-4dc7-9620-7179db6c0664',\n",
       "  'HTTPStatusCode': 200,\n",
       "  'HTTPHeaders': {'x-amzn-requestid': '4542d48a-cb23-4dc7-9620-7179db6c0664',\n",
       "   'content-type': 'application/x-amz-json-1.1',\n",
       "   'content-length': '93',\n",
       "   'date': 'Wed, 27 Nov 2024 05:24:26 GMT'},\n",
       "  'RetryAttempts': 0}}"
      ]
     },
     "execution_count": 7,
     "metadata": {},
     "output_type": "execute_result"
    }
   ],
   "source": [
    "print(\"Creating model in SageMaker...\")\n",
    "sm_client.create_model(\n",
    "   ModelName=model_name,\n",
    "   ExecutionRoleArn=role,\n",
    "   PrimaryContainer={\n",
    "       'ModelPackageName': model_package_arn\n",
    "   },\n",
    "   VpcConfig=vpc_config,\n",
    "   EnableNetworkIsolation=True\n",
    ")"
   ]
  },
  {
   "cell_type": "code",
   "execution_count": 8,
   "id": "29a6f6b4-b7eb-40ca-a19f-cf5e94431b9b",
   "metadata": {},
   "outputs": [
    {
     "name": "stdout",
     "output_type": "stream",
     "text": [
      "Creating endpoint configuration...\n"
     ]
    },
    {
     "data": {
      "text/plain": [
       "{'EndpointConfigArn': 'arn:aws:sagemaker:us-east-1:515966515324:endpoint-config/mnist-endpoint-config-2024-11-27-05-24-25',\n",
       " 'ResponseMetadata': {'RequestId': 'a2acacd3-e182-4826-97fe-5351563a3f04',\n",
       "  'HTTPStatusCode': 200,\n",
       "  'HTTPHeaders': {'x-amzn-requestid': 'a2acacd3-e182-4826-97fe-5351563a3f04',\n",
       "   'content-type': 'application/x-amz-json-1.1',\n",
       "   'content-length': '122',\n",
       "   'date': 'Wed, 27 Nov 2024 05:24:35 GMT'},\n",
       "  'RetryAttempts': 0}}"
      ]
     },
     "execution_count": 8,
     "metadata": {},
     "output_type": "execute_result"
    }
   ],
   "source": [
    "print(\"Creating endpoint configuration...\")\n",
    "sm_client.create_endpoint_config(\n",
    "   EndpointConfigName=endpoint_config_name,\n",
    "   ProductionVariants=[{\n",
    "       'InstanceType': 'ml.m5.large',\n",
    "       'InitialInstanceCount': 1,\n",
    "       'InitialVariantWeight': 1,\n",
    "       'ModelName': model_name,\n",
    "       'VariantName': 'AllTraffic'\n",
    "   }]\n",
    ")"
   ]
  },
  {
   "cell_type": "code",
   "execution_count": 9,
   "id": "4ad9db30-cc56-46c6-8ca9-cfdd54362066",
   "metadata": {},
   "outputs": [
    {
     "name": "stdout",
     "output_type": "stream",
     "text": [
      "Creating endpoint...\n",
      "\n",
      "Creating endpoint: mnist-endpoint-2024-11-27-05-24-25\n",
      "The endpoint may take a few minutes to be ready...\n"
     ]
    }
   ],
   "source": [
    "print(\"Creating endpoint...\")\n",
    "sm_client.create_endpoint(\n",
    "   EndpointName=endpoint_name,\n",
    "   EndpointConfigName=endpoint_config_name\n",
    ")\n",
    "\n",
    "print(f\"\\nCreating endpoint: {endpoint_name}\")\n",
    "print(\"The endpoint may take a few minutes to be ready...\")"
   ]
  },
  {
   "cell_type": "code",
   "execution_count": 10,
   "id": "5376ad04-a451-482e-a461-acfb0fc9c1d5",
   "metadata": {},
   "outputs": [
    {
     "name": "stdout",
     "output_type": "stream",
     "text": [
      "Waiting for endpoint to be ready...\n",
      "Status: Creating\n",
      "Status: Creating\n",
      "Status: Creating\n",
      "Status: Creating\n",
      "Status: Creating\n",
      "Status: InService\n",
      "Endpoint created successfully!\n"
     ]
    }
   ],
   "source": [
    "#verify status\n",
    "print(\"Waiting for endpoint to be ready...\")\n",
    "while True:\n",
    "   endpoint_desc = sm_client.describe_endpoint(EndpointName=endpoint_name)\n",
    "   status = endpoint_desc['EndpointStatus']\n",
    "   print(f\"Status: {status}\")\n",
    "   \n",
    "   if status == 'InService':\n",
    "       print(\"Endpoint created successfully!\")\n",
    "       break\n",
    "   elif status == 'Failed':\n",
    "       failure_reason = endpoint_desc.get('FailureReason', 'Unknown reason')\n",
    "       print(f\"Endpoint creation failed. Reason: {failure_reason}\")\n",
    "       \n",
    "       #endpoint logs\n",
    "       print(\"\\nEndpoint logs:\")\n",
    "       logs_client = boto3.client('logs')\n",
    "       log_group = f\"/aws/sagemaker/Endpoints/{endpoint_name}\"\n",
    "       \n",
    "       try:\n",
    "           log_streams = logs_client.describe_log_streams(\n",
    "               logGroupName=log_group,\n",
    "               orderBy='LastEventTime',\n",
    "               descending=True,\n",
    "               limit=1\n",
    "           )\n",
    "           \n",
    "           if log_streams.get('logStreams'):\n",
    "               stream_name = log_streams['logStreams'][0]['logStreamName']\n",
    "               logs = logs_client.get_log_events(\n",
    "                   logGroupName=log_group,\n",
    "                   logStreamName=stream_name\n",
    "               )\n",
    "               \n",
    "               for event in logs['events']:\n",
    "                   print(event['message'])\n",
    "       except Exception as e:\n",
    "           print(f\"Could not fetch logs: {str(e)}\")\n",
    "           \n",
    "       raise Exception(f\"Endpoint creation failed: {failure_reason}\")\n",
    "       \n",
    "   time.sleep(30)"
   ]
  },
  {
   "cell_type": "code",
   "execution_count": 11,
   "id": "cffa2cf2-9486-4b10-b505-f6a64fb20312",
   "metadata": {},
   "outputs": [],
   "source": [
    "#test prediction\n",
    "test_images = np.load('processed_data/test_images.npy')\n",
    "test_labels = np.load('processed_data/test_labels.npy')"
   ]
  },
  {
   "cell_type": "code",
   "execution_count": 12,
   "id": "6f83a84c-eef0-4007-8c23-f84baebe20bf",
   "metadata": {},
   "outputs": [],
   "source": [
    "test_image = test_images[0:1].tolist()  # take first image"
   ]
  },
  {
   "cell_type": "code",
   "execution_count": 13,
   "id": "4c37546a-8709-4083-ad02-764ac5190ce6",
   "metadata": {},
   "outputs": [
    {
     "name": "stdout",
     "output_type": "stream",
     "text": [
      "\n",
      "Making prediction...\n"
     ]
    }
   ],
   "source": [
    "runtime = boto3.client('sagemaker-runtime')\n",
    "\n",
    "print(\"\\nMaking prediction...\")\n",
    "response = runtime.invoke_endpoint(\n",
    "   EndpointName=endpoint_name,\n",
    "   ContentType='application/json',\n",
    "   Body=json.dumps(test_image)\n",
    ")"
   ]
  },
  {
   "cell_type": "code",
   "execution_count": 14,
   "id": "86ceb3b2-2b27-484c-a148-240031df6896",
   "metadata": {},
   "outputs": [
    {
     "name": "stdout",
     "output_type": "stream",
     "text": [
      "\n",
      "Actual label: 7\n",
      "Predicted label: 0\n"
     ]
    }
   ],
   "source": [
    "prediction = json.loads(response['Body'].read().decode())\n",
    "predicted_label = np.argmax(prediction)\n",
    "actual_label = test_labels[0]\n",
    "\n",
    "print(f\"\\nActual label: {actual_label}\")\n",
    "print(f\"Predicted label: {predicted_label}\")"
   ]
  },
  {
   "cell_type": "code",
   "execution_count": null,
   "id": "3cfb914c-05ab-4899-82fe-47921f879fbb",
   "metadata": {},
   "outputs": [],
   "source": []
  }
 ],
 "metadata": {
  "kernelspec": {
   "display_name": "Python 3 (ipykernel)",
   "language": "python",
   "name": "python3"
  },
  "language_info": {
   "codemirror_mode": {
    "name": "ipython",
    "version": 3
   },
   "file_extension": ".py",
   "mimetype": "text/x-python",
   "name": "python",
   "nbconvert_exporter": "python",
   "pygments_lexer": "ipython3",
   "version": "3.11.10"
  }
 },
 "nbformat": 4,
 "nbformat_minor": 5
}
