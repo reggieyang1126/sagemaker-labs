{
 "cells": [
  {
   "cell_type": "markdown",
   "metadata": {},
   "source": [
    "# Tarefa 4: Implantar um modelo para inferência assíncrona\n",
    "\n",
    "## Tarefa 4.1: configuração do ambiente\n",
    "\n",
    "Instale os pacotes e as dependências."
   ]
  },
  {
   "cell_type": "code",
   "execution_count": null,
   "metadata": {},
   "outputs": [],
   "source": [
    "#install-dependencies\n",
    "import boto3\n",
    "import sagemaker\n",
    "import sagemaker_datawrangler\n",
    "import time\n",
    "from sagemaker.session import Session\n",
    "from botocore.exceptions import ClientError\n",
    "\n",
    "role = sagemaker.get_execution_role()\n",
    "region = boto3.Session().region_name\n",
    "sess = boto3.Session()\n",
    "sm = sess.client('sagemaker')\n",
    "prefix = 'sagemaker/mlasms'\n",
    "bucket = sagemaker.Session().default_bucket()\n",
    "s3_client = boto3.client(\"s3\")\n",
    "sagemaker_runtime = boto3.client(\"sagemaker-runtime\", region_name=region)"
   ]
  },
  {
   "cell_type": "markdown",
   "metadata": {},
   "source": [
    "Salve o modelo do laboratório de treinamento e ajuste no bucket-padrão do Amazon Simple Storage Service (Amazon S3). Configure um modelo usando **create_model** e configure **ModelDataUrl** para referenciar o modelo treinado."
   ]
  },
  {
   "cell_type": "code",
   "execution_count": null,
   "metadata": {},
   "outputs": [],
   "source": [
    "#set-up-model\n",
    "# Upload the model to your Amazon S3 bucket\n",
    "s3_client.upload_file(Filename=\"model.tar.gz\", Bucket=bucket, Key=f\"{prefix}/models/model.tar.gz\")\n",
    "\n",
    "# Set a date to use in the model name\n",
    "create_date = time.strftime(\"%Y-%m-%d-%H-%M-%S\")\n",
    "model_name = 'income-model-{}'.format(create_date)\n",
    "\n",
    "# Retrieve the container image\n",
    "container = sagemaker.image_uris.retrieve(\n",
    "    region=boto3.Session().region_name, \n",
    "    framework='xgboost', \n",
    "    version='1.5-1'\n",
    ")\n",
    "\n",
    "# Set up the model\n",
    "income_model = sm.create_model(\n",
    "    ModelName = model_name,\n",
    "    ExecutionRoleArn = role,\n",
    "    PrimaryContainer = {\n",
    "        'Image': container,\n",
    "        'ModelDataUrl': f's3://{bucket}/{prefix}/models/model.tar.gz',\n",
    "    }\n",
    ")"
   ]
  },
  {
   "cell_type": "markdown",
   "metadata": {},
   "source": [
    "Carregue os registros assíncronos no bucket padrão do Amazon S3."
   ]
  },
  {
   "cell_type": "code",
   "execution_count": null,
   "metadata": {},
   "outputs": [],
   "source": [
    "#upload-dataset\n",
    "s3_client.upload_file(Filename=\"asynchronous_records.csv\", Bucket=bucket, Key=f\"{prefix}/asynchronous_records.csv\", ExtraArgs={\"ContentType\": \"text/csv;charset=utf-8\"})\n",
    "input_location = f\"s3://{bucket}/{prefix}/asynchronous_records.csv\""
   ]
  },
  {
   "cell_type": "markdown",
   "metadata": {},
   "source": [
    "## Tarefa 4.2: Criar um endpoint por meio do modelo retreinado e sintetizado fornecido"
   ]
  },
  {
   "cell_type": "markdown",
   "metadata": {},
   "source": [
    "O Amazon SageMaker Asynchronous Inference é uma capacidade do SageMaker que enfileira as solicitações de entrada e as processa de maneira assíncrona. Essa opção é ideal para solicitações com tamanho grande de payload (até 1 GB), tempo longo de processamento (até 15 minutos) e requisitos de latência em tempo real. Com o Asynchronous Inference, você pode reduzir os custos fazendo auto scaling da contagem de instâncias para zero quando não há nenhuma solicitação a ser processada. Portanto, você só paga quando o endpoint está processando solicitações.\n",
    "\n",
    "Há três etapas para criar um endpoint assíncrono usando o SDK Python do SageMaker. Estas etapas são as mesmas usadas para os endpoints em tempo real e sem servidor, mas apresentam configurações diferentes:\n",
    "1. Criar um modelo do SageMaker no SageMaker.\n",
    "2. Criar uma configuração de endpoint para um endpoint HTTPS.\n",
    "3. Criar um endpoint HTTPS.\n",
    "\n",
    "Você já criou um modelo. Agora você já pode criar uma configuração de endpoint e um endpoint. \n",
    "\n",
    "Primeiro, defina o nome da configuração de endpoint e o tipo de instância que deseja usar. Depois, chame a API CreateEndpointConfig.\n",
    "\n",
    "Para criar uma configuração de endpoint, você precisa definir as seguintes opções:\n",
    "- **VariantName**: o nome da variante de produção (um ou mais modelos em produção).\n",
    "- **ModelName**: o nome do modelo que você deseja hospedar. Esse é o nome que você especificou quando criou o modelo.\n",
    "- **InstanceType**: o tipo de instância de computação.\n",
    "- **S3OutputPath**: o local para carregar as saídas de resposta quando a solicitação não fornecer um local.\n",
    "- **MaxConcurrentInvocationsPerInstance**: (opcional) o número máximo de solicitações simultâneas enviadas pelo cliente SageMaker ao contêiner de modelo.\n",
    "\n",
    "Opcionalmente, você também pode definir um NotificationConfig, selecionando um tópico do Amazon Simple Notification Service (Amazon SNS) que poste notificações quando uma solicitação de inferência é bem-sucedida ou falha. Neste laboratório, você não precisa configurar essa opção."
   ]
  },
  {
   "cell_type": "code",
   "execution_count": null,
   "metadata": {},
   "outputs": [],
   "source": [
    "#create-endpoint-configuration \n",
    "# Create an endpoint config name. Here you create one based on the date so you can search endpoints based on creation time.\n",
    "endpoint_config_name = 'income-model-asynchronous-endpoint-{}'.format(create_date)                              \n",
    "output_location = f\"s3://{bucket}/{prefix}/output\"\n",
    "\n",
    "endpoint_config_response = sm.create_endpoint_config(\n",
    "   EndpointConfigName=endpoint_config_name,\n",
    "   ProductionVariants=[\n",
    "        {\n",
    "            \"ModelName\": model_name,\n",
    "            \"VariantName\": \"variant1\", # The name of the production variant.\n",
    "            \"InstanceType\": \"ml.m5.xlarge\", # Specify the compute instance type.\n",
    "            \"InitialInstanceCount\": 1 # Number of instances to launch initially.\n",
    "            \n",
    "        } \n",
    "    ],\n",
    "    AsyncInferenceConfig={\n",
    "        \"OutputConfig\": {\n",
    "            # Location to upload response outputs when no location is provided in the request.\n",
    "            \"S3OutputPath\": output_location\n",
    "        },\n",
    "        \"ClientConfig\": {\n",
    "            # (Optional) Specify the max number of inflight invocations per instance\n",
    "            # If no value is provided, Amazon SageMaker chooses an optimal value for you\n",
    "            \"MaxConcurrentInvocationsPerInstance\": 4\n",
    "        }\n",
    "    }\n",
    ")\n",
    "\n",
    "print(f\"Created EndpointConfig: {endpoint_config_response['EndpointConfigArn']}\")"
   ]
  },
  {
   "attachments": {},
   "cell_type": "markdown",
   "metadata": {},
   "source": [
    "Em seguida, crie um endpoint. Quando você cria um endpoint assíncrono, o SageMaker inicia instâncias de computação de machine learning (ML) e implanta o modelo de acordo com as especificações na configuração. Consulte [Inferência assíncrona](https://docs.aws.amazon.com/sagemaker/latest/dg/async-inference.html) para saber mais sobre as opções disponíveis com endpoints assíncronos.\n",
    "\n",
    "Quando o endpoint está em serviço, a função auxiliar imprime o Amazon Resource Name (ARN) do endpoint. A criação do endpoint pode exigir até sete minutos para ser executada."
   ]
  },
  {
   "cell_type": "code",
   "execution_count": null,
   "metadata": {},
   "outputs": [],
   "source": [
    "#create-endpoint\n",
    "# The name of the endpoint. The name must be unique within an AWS Region in your AWS account.\n",
    "endpoint_name = '{}-name'.format(endpoint_config_name)\n",
    "\n",
    "create_endpoint_response = sm.create_endpoint(\n",
    "    EndpointName=endpoint_name, \n",
    "    EndpointConfigName=endpoint_config_name\n",
    ") \n",
    "\n",
    "def wait_for_endpoint_creation_complete(endpoint):\n",
    "    \"\"\"Helper function to wait for the completion of creating an endpoint\"\"\"\n",
    "    response = sm.describe_endpoint(EndpointName=endpoint_name)\n",
    "    status = response.get(\"EndpointStatus\")\n",
    "    while status == \"Creating\":\n",
    "        print(\"Waiting for Endpoint Creation\")\n",
    "        time.sleep(15)\n",
    "        response = sm.describe_endpoint(EndpointName=endpoint_name)\n",
    "        status = response.get(\"EndpointStatus\")\n",
    "\n",
    "    if status != \"InService\":\n",
    "        print(f\"Failed to create endpoint, response: {response}\")\n",
    "        failureReason = response.get(\"FailureReason\", \"\")\n",
    "        raise SystemExit(\n",
    "            f\"Failed to create endpoint {create_endpoint_response['EndpointArn']}, status: {status}, reason: {failureReason}\"\n",
    "        )\n",
    "    print(f\"Endpoint {create_endpoint_response['EndpointArn']} successfully created.\")\n",
    "\n",
    "wait_for_endpoint_creation_complete(endpoint=create_endpoint_response)\n"
   ]
  },
  {
   "attachments": {},
   "cell_type": "markdown",
   "metadata": {},
   "source": [
    "No SageMaker Studio, você pode visualizar os detalhes do endpoint na aba **Endpoints**.\n",
    "\n",
    "A próxima etapa abre uma nova aba no SageMaker Studio. Para seguir essas orientações, escolha uma das seguintes opções:\n",
    "- **Opção 1:** visualizar as abas lado a lado. Para criar uma visualização de tela dividida por meio da janela principal do SageMaker Studio, arraste a aba **asynchronous_inference.ipynb** para a lateral ou selecione (clique com o botão direito) a aba **asynchronous_inference.ipynb** e escolha **New View for Notebook** (Nova visualização do notebook). Agora, as orientações ficam visíveis enquanto você explora o endpoint.\n",
    "- **Opção 2:** alternar entre as abas do SageMaker Studio para seguir essas instruções. Ao terminar de explorar o endpoint, retorne ao notebook selecionando a aba **asynchronous_inference.ipynb**.\n",
    "\n",
    "1. Selecione o ícone **Página inicial do SageMaker**.\n",
    "2. Escolha **Deployments** (Implantações).\n",
    "3. Escolha **Endpoints**.\n",
    "\n",
    "O SageMaker Studio exibe a aba **Endpoints**.\n",
    "\n",
    "4. Selecione o endpoint que tem **income-model-asynchronous-** na coluna **Nome**.\n",
    "\n",
    "Se o endpoint não aparecer, selecione o ícone de atualização até que o endpoint apareça na lista.\n",
    "\n",
    "O SageMaker Studio exibe a aba **ENDPOINT DETAILS** (DETALHES DO ENDPOINT).\n",
    "\n",
    "5. Selecione a aba **AWS settings** (Configurações da AWS).\n",
    "\n",
    "Se você abriu o endpoint antes que a criação fosse concluída, selecione o ícone de atualização até que o **Endpoint status** (Status do endpoint) seja alterado de *Creating* para *InService*.\n",
    "\n",
    "O **Endpoint type** (Tipo de endpoint) está listado como **Async** (Assíncrono). A seção **Endpoint runtime settings** (Configurações de runtime do endpoint) mostra as configurações que você já escolheu no notebook."
   ]
  },
  {
   "cell_type": "markdown",
   "metadata": {},
   "source": [
    "## Tarefa 4.3: Invocar um endpoint para inferência assíncrona com registros de cliente assíncronos\n",
    "\n",
    "Depois de implantar o modelo usando os serviços de host do SageMaker, você poderá testar o modelo nesse endpoint enviando dados a ele.\n",
    "\n",
    "Para testar um endpoint assíncrono, inclua o local de entrada do Amazon S3 na chamada de API. Para este laboratório, há um arquivo asynchronous_records.csv no bucket do S3 padrão do SageMaker com 100 registros de clientes que você pode usar para testar o endpoint. Se a ação for bem-sucedida, o serviço retornará uma resposta HTTP 202."
   ]
  },
  {
   "cell_type": "code",
   "execution_count": null,
   "metadata": {},
   "outputs": [],
   "source": [
    "#send-test-file\n",
    "response = sagemaker_runtime.invoke_endpoint_async(\n",
    "                            EndpointName=endpoint_name, \n",
    "                            InputLocation=input_location)\n",
    "\n",
    "print(response)\n",
    "\n",
    "output_key = response['OutputLocation'].split(\"/\", 3)[3]\n",
    "print('\\nThe output key is: {}'.format(output_key))"
   ]
  },
  {
   "cell_type": "markdown",
   "metadata": {},
   "source": [
    "Verifique o local de saída para saber se a inferência foi processada. Quando ela for processada, imprima as pontuações de previsão de todos os clientes incluídos na invocação."
   ]
  },
  {
   "cell_type": "code",
   "execution_count": null,
   "metadata": {},
   "outputs": [],
   "source": [
    "#get-output\n",
    "def get_output():\n",
    "    while True:\n",
    "        try:\n",
    "            return sagemaker.session.Session().read_s3_file(bucket=bucket, key_prefix=output_key)\n",
    "        except ClientError as e:\n",
    "            if e.response[\"Error\"][\"Code\"] == \"NoSuchKey\":\n",
    "                print(\"Waiting for output...\")\n",
    "                time.sleep(2)\n",
    "                continue\n",
    "            raise\n",
    "\n",
    "output = get_output()\n",
    "print(f\"Predictions for the 100 customers: {output}\")"
   ]
  },
  {
   "cell_type": "markdown",
   "metadata": {},
   "source": [
    "## Tarefa 4.4: Excluir o endpoint\n",
    "\n",
    "A limpeza do endpoint pode ser realizada em três etapas. Primeiro, exclua o endpoint. Depois, exclua a configuração do endpoint. Por fim, se você não precisar mais do modelo, exclua-o."
   ]
  },
  {
   "cell_type": "code",
   "execution_count": null,
   "metadata": {},
   "outputs": [],
   "source": [
    "#delete-resources\n",
    "# Delete endpoint\n",
    "sm.delete_endpoint(EndpointName=endpoint_name)\n",
    "\n",
    "# Delete endpoint configuration\n",
    "sm.delete_endpoint_config(EndpointConfigName=endpoint_config_name)\n",
    "                   \n",
    "# Delete model\n",
    "sm.delete_model(ModelName=model_name)"
   ]
  },
  {
   "cell_type": "markdown",
   "metadata": {},
   "source": [
    "### Conclusão\n",
    "\n",
    "Parabéns! Você usou o SageMaker para criar um endpoint assíncrono usando o SDK Python do SageMaker e para invocar o endpoint com sucesso.\n",
    "\n",
    "A próxima tarefa do laboratório se concentra na transformação em lote.\n",
    "\n",
    "## Limpeza\n",
    "\n",
    "Você concluiu este notebook. Passe para a próxima parte do laboratório da seguinte forma:\n",
    "\n",
    "- Feche este arquivo de notebook.\n",
    "- Retorne à sessão do laboratório e continue na **Tarefa 5: Usar a transformação em lote para obter inferências de um conjunto de dados grande**."
   ]
  }
 ],
 "metadata": {
  "instance_type": "ml.t3.xlarge",
  "kernelspec": {
   "display_name": "Python 3.9.6 64-bit",
   "language": "python",
   "name": "python3"
  },
  "language_info": {
   "codemirror_mode": {
    "name": "ipython",
    "version": 3
   },
   "file_extension": ".py",
   "mimetype": "text/x-python",
   "name": "python",
   "nbconvert_exporter": "python",
   "pygments_lexer": "ipython3",
   "version": "3.9.6"
  },
  "vscode": {
   "interpreter": {
    "hash": "2e45558c452cedcb26631315a9b3b77e80a9c32d662ed25df58964b99bc5b9b9"
   }
  }
 },
 "nbformat": 4,
 "nbformat_minor": 4
}
