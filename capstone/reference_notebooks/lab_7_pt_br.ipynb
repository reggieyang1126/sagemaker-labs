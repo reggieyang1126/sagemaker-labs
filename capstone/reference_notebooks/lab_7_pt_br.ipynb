{
 "cells": [
  {
   "cell_type": "markdown",
   "id": "669cd6bb",
   "metadata": {},
   "source": [
    "# Tarefa 2: Usar o SageMaker Debugger\n",
    "\n",
    "Neste laboratório, você vai usar o Amazon SageMaker Debugger para analisar, detectar e receber alertas sobre gargalos, taxas de utilização de recursos e vários problemas de treinamento durante os trabalhos de treinamento."
   ]
  },
  {
   "cell_type": "markdown",
   "id": "frequent-booking",
   "metadata": {
    "papermill": {
     "duration": 0.018947,
     "end_time": "2021-06-01T00:12:50.309809",
     "exception": false,
     "start_time": "2021-06-01T00:12:50.290862",
     "status": "completed"
    },
    "tags": []
   },
   "source": [
    "## Tarefa 2.1: Configuração do ambiente\n",
    "\n",
    "Instale os pacotes e as dependências."
   ]
  },
  {
   "cell_type": "code",
   "execution_count": null,
   "id": "516a23c6",
   "metadata": {},
   "outputs": [],
   "source": [
    "%%capture\n",
    "\n",
    "#install a compiler\n",
    "%conda install -c conda-forge gcc -y"
   ]
  },
  {
   "attachments": {},
   "cell_type": "markdown",
   "id": "1c83fa35",
   "metadata": {},
   "source": [
    "**Atenção:** o GCC pode exigir até cinco minutos para ser instalado."
   ]
  },
  {
   "cell_type": "code",
   "execution_count": null,
   "id": "faa03393",
   "metadata": {},
   "outputs": [],
   "source": [
    "#install-dependencies\n",
    "\n",
    "%pip install pytest-cov\n",
    "%pip install pytest-filter-subpackage\n",
    "%pip install -U sagemaker\n",
    "%pip install -U smdebug\n",
    "%pip install -U shap"
   ]
  },
  {
   "cell_type": "code",
   "execution_count": null,
   "id": "44983b4e",
   "metadata": {},
   "outputs": [],
   "source": [
    "#import libraries and set variable values\n",
    "\n",
    "import sys\n",
    "import boto3\n",
    "import matplotlib.pyplot as plt\n",
    "import numpy as np\n",
    "import os\n",
    "import pandas as pd\n",
    "import sagemaker\n",
    "import sagemaker_datawrangler \n",
    "import shap\n",
    "\n",
    "from mpl_toolkits.axes_grid1 import host_subplot\n",
    "\n",
    "from sagemaker.debugger import (\n",
    "    CollectionConfig,\n",
    "    DebuggerHookConfig,\n",
    "    FrameworkProfile,\n",
    "    ProfilerConfig,\n",
    "    ProfilerRule,\n",
    "    Rule,\n",
    "    rule_configs,\n",
    "    TensorBoardOutputConfig\n",
    ")\n",
    "\n",
    "from sagemaker.estimator import Estimator\n",
    "from sagemaker import get_execution_role\n",
    "from sagemaker.inputs import TrainingInput\n",
    "from sagemaker.s3 import S3Uploader\n",
    "from sagemaker.xgboost.estimator import XGBoost\n",
    "from smdebug.core import modes\n",
    "from smdebug.trials import create_trial\n",
    "\n",
    "base_job_name = \"lab-7-smdebugger-job\"\n",
    "bucket = sagemaker.Session().default_bucket()\n",
    "bucket_path = \"s3://{}\".format(bucket)\n",
    "prefix = \"lab-7-smdebugger\"\n",
    "region = boto3.Session().region_name\n",
    "role = sagemaker.get_execution_role()\n",
    "save_interval = 5"
   ]
  },
  {
   "cell_type": "markdown",
   "id": "c2f5b470",
   "metadata": {},
   "source": [
    "Depois, importe os conjuntos de dados."
   ]
  },
  {
   "cell_type": "code",
   "execution_count": null,
   "id": "57128928",
   "metadata": {},
   "outputs": [],
   "source": [
    "#import-dataset\n",
    "lab_test_data = pd.read_csv('adult_data_processed.csv')\n",
    "pd.set_option('display.max_columns', 500)\n",
    "pd.set_option('display.max_rows', 20)\n",
    "lab_test_data.head()"
   ]
  },
  {
   "cell_type": "markdown",
   "id": "d26e3138",
   "metadata": {},
   "source": [
    "Divida o conjunto de dados da seguinte maneira: treinamento (70%), validação (20%) e teste (10%). Os conjuntos de dados de treinamento e validação são usados para criar o modelo neste laboratório. Você não vai usar o conjunto de teste neste laboratório."
   ]
  },
  {
   "cell_type": "code",
   "execution_count": null,
   "id": "d95c48c9",
   "metadata": {},
   "outputs": [],
   "source": [
    "#split-dataset\n",
    "train_data, validation_data, test_data = np.split(\n",
    "    lab_test_data.sample(frac=1, random_state=1729),\n",
    "    [int(0.7 * len(lab_test_data)), int(0.9 * len(lab_test_data))],\n",
    ")\n",
    "\n",
    "train_data.to_csv('train_data.csv', index=False, header=False)\n",
    "validation_data.to_csv('validation_data.csv', index=False, header=False)\n",
    "\n",
    "feature_names = list(train_data.columns)"
   ]
  },
  {
   "cell_type": "markdown",
   "id": "42977436",
   "metadata": {},
   "source": [
    "Agora, carregue o conjunto de dados no Amazon Simple Storage Service (Amazon S3)."
   ]
  },
  {
   "cell_type": "code",
   "execution_count": null,
   "id": "be44e809",
   "metadata": {},
   "outputs": [],
   "source": [
    "#upload-dataset\n",
    "sagemaker_session = sagemaker.Session()\n",
    "\n",
    "train_path = S3Uploader.upload('train_data.csv', 's3://{}/{}'.format(bucket, prefix))\n",
    "validation_path = S3Uploader.upload('validation_data.csv', 's3://{}/{}'.format(bucket, prefix))\n",
    "\n",
    "train_input = TrainingInput(train_path, content_type='text/csv')\n",
    "validation_input = TrainingInput(validation_path, content_type='text/csv')\n",
    "\n",
    "data_inputs = {\n",
    "    'train': train_input,\n",
    "    'validation': validation_input\n",
    "}"
   ]
  },
  {
   "attachments": {},
   "cell_type": "markdown",
   "id": "wrong-terror",
   "metadata": {
    "papermill": {
     "duration": 0.022031,
     "end_time": "2021-06-01T00:12:54.187737",
     "exception": false,
     "start_time": "2021-06-01T00:12:54.165706",
     "status": "completed"
    },
    "tags": []
   },
   "source": [
    "## Tarefa 2.2: Modificar o script de treinamento para ativar o SageMaker Debugger\n",
    "\n",
    "Você precisa modificar o script de treinamento usado no laboratório anterior para salvar os tensores em um bucket do S3 de saída específico, determinar quais tensores serão salvos e registrar os ganchos de depuração.\n",
    "\n",
    "Para treinar o modelo, será necessário configurar o seguinte:\n",
    "- **Debugger Hook Parameters** (Parâmetros de gancho do Debugger) para ajustar os intervalos de salvamento dos tensores de saída nas fases de treinamento\n",
    "- **Debugger Rule Object** (Objeto de regra do Debugger) para salvar os tensores de saída para avaliação\n",
    "\n",
    "Em **Debugger Hook Parameters** (Parâmetros de gancho do Debugger), configure as coleções de tensores integradas **metrics**, **feature_importance**, **full_shap** e **average_shap** a serem capturadas durante o treinamento. Elas são configuradas em **collection_configs** de **debugger_hook_config**. As coleções de tensores integradas **full_shap** e **average_shap** usam valores Shapley (SHAP). O SHAP explica uma previsão de machine learning (ML) considerando que cada valor de recurso de uma instância de dados de treinamento é um agente em um jogo em que a previsão é o ganho. Ele também indica como distribuir o ganho de maneira justa entre os recursos. Consulte [Linhas de base do SHAP para explicabilidade](https://docs.aws.amazon.com/sagemaker/latest/dg/clarify-feature-attribute-shap-baselines.html) para saber mais sobre o SHAP.\n",
    "\n",
    "Em **Debugger Rule Object** (Objeto de regra do Debugger), configure as seguintes **rule_configs** em **rules**:\n",
    "- [Relatório de criação de perfil](https://docs.aws.amazon.com/sagemaker/latest/dg/debugger-report.html#debugger-profiling-report): executa regras para detecção de gargalos do sistema e gera automaticamente um relatório de definição de perfil.\n",
    "- [Relatório de treinamento do XGBoost](https://docs.aws.amazon.com/sagemaker/latest/dg/debugger-report-xgboost.html): executa um relatório abrangente do XGBoost.\n",
    "- [Sobreajuste](https://docs.aws.amazon.com/sagemaker/latest/dg/debugger-built-in-rules.html#overfit): detecta se o modelo está sendo sobreajustado para os dados de treinamento comparando a validação e as perdas de treinamento.\n",
    "- [Excesso de treinamento](https://docs.aws.amazon.com/sagemaker/latest/dg/debugger-built-in-rules.html#overtraining): detecta se um modelo está com excesso de treinamento. Após várias iterações de treinamento em um modelo com comportamento bom (redução de perda de treinamento e validação), o modelo se aproxima do mínimo da função de perda e não apresenta mais melhoria. Se o treinamento continuar no modelo, a perda de validação poderá começar a aumentar porque o modelo começará a ficar com sobreajuste.\n",
    "- [A perda não está diminuindo](https://docs.aws.amazon.com/sagemaker/latest/dg/debugger-built-in-rules.html#loss-not-decreasing): detecta quando a perda não está diminuindo em valor a uma taxa adequada. Essas perdas precisam ser escalares. "
   ]
  },
  {
   "cell_type": "code",
   "execution_count": null,
   "id": "4253b24f",
   "metadata": {},
   "outputs": [],
   "source": [
    "#enable-debugger\n",
    "# Retrieve the container image\n",
    "container = sagemaker.image_uris.retrieve(\n",
    "    region=boto3.Session().region_name, \n",
    "    framework='xgboost', \n",
    "    version='1.5-1'\n",
    ")\n",
    "# Set up the estimator\n",
    "xgb = sagemaker.estimator.Estimator(\n",
    "    container,\n",
    "    role, \n",
    "    base_job_name=base_job_name,\n",
    "    instance_count=1, \n",
    "    instance_type='ml.m5.4xlarge',\n",
    "    #Set the hyperparameters\n",
    "    hyperparameters= {\n",
    "        \"max_depth\": \"5\",\n",
    "        \"eta\": \"0.2\",\n",
    "        \"gamma\": \"4\",\n",
    "        \"min_child_weight\": \"6\",\n",
    "        \"subsample\": \"0.7\",\n",
    "        \"objective\": \"binary:logistic\",\n",
    "        \"num_round\": \"300\",\n",
    "    },\n",
    "    sagemaker_session=sagemaker_session,\n",
    "    max_run=1800,\n",
    "    #Set the Debugger Hook Config\n",
    "    debugger_hook_config=DebuggerHookConfig(\n",
    "        s3_output_path=bucket_path,  # Required\n",
    "        collection_configs=[  # For each of these, a new processing job will be run later in the lab\n",
    "            CollectionConfig(name=\"metrics\", parameters={\"save_interval\": str(save_interval)}),\n",
    "            CollectionConfig(name=\"feature_importance\", parameters={\"save_interval\": str(save_interval)},),\n",
    "            CollectionConfig(name=\"full_shap\", parameters={\"save_interval\": str(save_interval)}),\n",
    "            CollectionConfig(name=\"average_shap\", parameters={\"save_interval\": str(save_interval)}),\n",
    "        ],\n",
    "    ),\n",
    "    #Set the Debugger Profiler Configuration\n",
    "    profiler_config = ProfilerConfig(\n",
    "        system_monitor_interval_millis=500,\n",
    "        framework_profile_params=FrameworkProfile()\n",
    "\n",
    "    ),\n",
    "    #Configure the Debugger Rule Object\n",
    "    rules = [\n",
    "        ProfilerRule.sagemaker(rule_configs.ProfilerReport()),\n",
    "        Rule.sagemaker(rule_configs.create_xgboost_report()),  \n",
    "        Rule.sagemaker(rule_configs.overfit()),\n",
    "        Rule.sagemaker(rule_configs.overtraining()),\n",
    "        Rule.sagemaker(rule_configs.loss_not_decreasing(),\n",
    "            rule_parameters={\n",
    "                \"collection_names\": \"metrics\",\n",
    "                \"num_steps\": str(save_interval * 2),\n",
    "            }\n",
    "        )\n",
    "    ]\n",
    ")"
   ]
  },
  {
   "cell_type": "markdown",
   "id": "2c6a6c2d",
   "metadata": {},
   "source": [
    "## Tarefa 2.3: Executar o trabalho de treinamento ativado pelo Debugger\n",
    "\n",
    "Agora, treine o modelo do XGBoost usando o script ativado pelo Debugger. O treinamento exige cerca de cinco a dez minutos para ser executado. Você pode continuar na próxima tarefa enquanto o trabalho de treinamento está em execução e monitorar o andamento do trabalho usando o SageMaker Debugger."
   ]
  },
  {
   "cell_type": "code",
   "execution_count": null,
   "id": "88cd5dab",
   "metadata": {},
   "outputs": [],
   "source": [
    "#train-model\n",
    "xgb.fit(\n",
    "    inputs = data_inputs\n",
    ")"
   ]
  },
  {
   "attachments": {},
   "cell_type": "markdown",
   "id": "verified-draft",
   "metadata": {
    "papermill": {
     "duration": 0.022325,
     "end_time": "2021-06-01T00:12:55.995017",
     "exception": false,
     "start_time": "2021-06-01T00:12:55.972692",
     "status": "completed"
    },
    "tags": []
   },
   "source": [
    "## Tarefa 2.4: Monitorar o status do trabalho de treinamento\n",
    "\n",
    "No SageMaker Studio, você pode examinar os componentes de teste, incluindo todos os trabalhos do SageMaker Debugger que iniciou. Neste laboratório, você criou os trabalhos: **Relatório do XGBoost**, **Sobreajuste**, **Excesso de treinamento** e **A perda não está diminuindo**. Explore-os no SageMaker Studio.\n",
    "\n",
    "A próxima etapa abrirá uma nova aba no SageMaker Studio. Para seguir essas orientações, escolha uma das seguintes opções:\n",
    "- **Opção 1:** visualizar as abas lado a lado. Para criar uma visualização de tela dividida por meio da janela principal do SageMaker Studio, arraste a aba **lab_7.ipynb** para a lateral ou escolha (clique com o botão direito) a aba **lab_7.ipynb** e selecione **New View for Notebook** (Nova visualização do notebook). Agora, as orientações ficam visíveis enquanto você explora o grupo de recursos.\n",
    "- **Opção 2:** alternar entre as abas do SageMaker Studio para seguir essas instruções.\n",
    "\n",
    "1. Selecione o ícone **Página inicial do SageMaker**.\n",
    "2. Escolha **Experiments** (Experimentos).\n",
    "\n",
    "O SageMaker Studio abre a aba **Experiments** (Experimentos).\n",
    "\n",
    "3. Escolha **Unassigned runs** (Execuções não atribuídas).\n",
    "4. Na lista, selecione o **Name** (Nome) do trabalho, que tem o Tipo **SageMakerTrainingJob**.\n",
    "\n",
    "São exibidos detalhes do trabalho de treinamento.\n",
    "\n",
    "5. No lado esquerdo, selecione a aba **Debugger**.\n",
    "\n",
    "O SageMaker Debugger mostra o status do trabalho de treinamento, que você pode monitorar enquanto o treinamento do modelo está em execução. Após a conclusão, você verá o status dos problemas de treinamento especificados.\n",
    "\n",
    "A análise é concluída quando as linhas **Status** (Status) exibem **No Issues Found** (Nenhum problema encontrado) ou **Issues Found** (Problemas encontrados). As regras do Debugger podem exigir até nove minutos para serem concluídas.\n",
    "\n",
    "Se forem encontrados problemas no modelo, talvez você queira corrigi-los. Foram encontrados problemas nos trabalhos? \n",
    "\n",
    "Neste laboratório, você não vai resolver os problemas encontrados. No entanto, se você quiser resolver os problemas encontrados, poderá aplicar uma combinação de processamento de conjunto de dados e novo treinamento do modelo com hiperparâmetros ajustados.\n",
    "\n",
    "6. Quando a análise for concluída, retorne à aba do notebook chamada **lab_7.ipynb**."
   ]
  },
  {
   "cell_type": "markdown",
   "id": "adverse-galaxy",
   "metadata": {
    "papermill": {
     "duration": null,
     "end_time": null,
     "exception": null,
     "start_time": null,
     "status": "pending"
    },
    "tags": []
   },
   "source": [
    "## Tarefa 2.5: Executar a análise pós-treinamento\n",
    "\n",
    "Com o SageMaker Debugger, você pode criar logs de trabalho de processamento no Amazon CloudWatch que poderá usar para configurar alarmes personalizados. Aqui, você imprime o local em que os logs são armazenados para cada métrica avaliada."
   ]
  },
  {
   "cell_type": "code",
   "execution_count": null,
   "id": "southeast-command",
   "metadata": {
    "papermill": {
     "duration": null,
     "end_time": null,
     "exception": null,
     "start_time": null,
     "status": "pending"
    },
    "tags": []
   },
   "outputs": [],
   "source": [
    "#print-urls\n",
    "def _get_rule_job_name(training_job_name, rule_configuration_name, rule_job_arn):\n",
    "    \"\"\"Helper function to get the rule job name with correct casing\"\"\"\n",
    "    return \"{}-{}-{}\".format(\n",
    "        training_job_name[:26], rule_configuration_name[:26], rule_job_arn[-8:]\n",
    "    )\n",
    "\n",
    "\n",
    "def _get_cw_url_for_rule_job(rule_job_name, region):\n",
    "    return \"https://{}.console.aws.amazon.com/cloudwatch/home?region={}#logStream:group=/aws/sagemaker/ProcessingJobs;prefix={};streamFilter=typeLogStreamPrefix\".format(\n",
    "        region, region, rule_job_name\n",
    "    )\n",
    "\n",
    "\n",
    "def get_rule_jobs_cw_urls(xgb):\n",
    "    region = boto3.Session().region_name\n",
    "    training_job = xgb.latest_training_job\n",
    "    training_job_name = training_job.describe()[\"TrainingJobName\"]\n",
    "    rule_eval_statuses = training_job.describe()[\"DebugRuleEvaluationStatuses\"]\n",
    "\n",
    "    result = {}\n",
    "    for status in rule_eval_statuses:\n",
    "        if status.get(\"RuleEvaluationJobArn\", None) is not None:\n",
    "            rule_job_name = _get_rule_job_name(\n",
    "                training_job_name, status[\"RuleConfigurationName\"], status[\"RuleEvaluationJobArn\"]\n",
    "            )\n",
    "            result[status[\"RuleConfigurationName\"]] = _get_cw_url_for_rule_job(\n",
    "                rule_job_name, region\n",
    "            )\n",
    "    return result\n",
    "\n",
    "\n",
    "get_rule_jobs_cw_urls(xgb)"
   ]
  },
  {
   "cell_type": "markdown",
   "id": "0280e9a7",
   "metadata": {},
   "source": [
    "Os tensores podem ser recuperados por coleções-padrão como pesos, gradientes, vieses e perdas que o SageMaker Debugger cria por meio do trabalho de treinamento, além das coleções personalizadas dos tensores. Gere uma lista de nomes e valores para os tensores salvos a fim de determinar quais tensores devem ser colocados em gráfico para análise adicional."
   ]
  },
  {
   "cell_type": "code",
   "execution_count": null,
   "id": "cleared-liquid",
   "metadata": {
    "papermill": {
     "duration": null,
     "end_time": null,
     "exception": null,
     "start_time": null,
     "status": "pending"
    },
    "tags": []
   },
   "outputs": [],
   "source": [
    "#retrieve-names\n",
    "trial = create_trial(xgb.latest_job_debugger_artifacts_path())\n",
    "trial.tensor_names()"
   ]
  },
  {
   "cell_type": "code",
   "execution_count": null,
   "id": "e4ef14b5",
   "metadata": {},
   "outputs": [],
   "source": [
    "#retrieve-values\n",
    "trial.tensor(\"average_shap/f1\").values()"
   ]
  },
  {
   "cell_type": "code",
   "execution_count": null,
   "id": "8fba8e2f",
   "metadata": {},
   "outputs": [],
   "source": [
    "#plot-tensors\n",
    "shap_values = trial.tensor(\"full_shap/f10\").value(trial.last_complete_step)\n",
    "shap_no_base = shap_values[:, :-1]\n",
    "shap_base_value = shap_values[0, -1]\n",
    "shap.summary_plot(shap_no_base, plot_type=\"bar\", feature_names=feature_names)"
   ]
  },
  {
   "attachments": {},
   "cell_type": "markdown",
   "id": "c6e546ff",
   "metadata": {},
   "source": [
    "## Tarefa 2.6: Acessar o painel de informações do SageMaker Debugger\n",
    "\n",
    "1. Retorne à aba **Experiments** (Experimentos).\n",
    "2. À esquerda, selecione **Debugger**.\n",
    "3. Na seção **Debugger insights** (Informações do depurador), selecione o **lab-7-smdebugger-job** disponível na lista **Training job name** (Nome do trabalho de treinamento).\n",
    "\n",
    "O SageMaker Studio abre uma nova aba **Debugger insights tab** (Informações do Debugger) para o trabalho e inicia o carregamento de dados.\n",
    "\n",
    "O SageMaker Debugger fornece uma visão geral do desempenho do treinamento do modelo nas instâncias do Amazon Elastic Compute Cloud (Amazon EC2). Explore o SageMaker Debugger no SageMaker Studio e examine os detalhes contidos nos relatórios.\n",
    "\n",
    "A aba **Systems Metrics** (Métricas de sistemas) inclui as seguintes seções:\n",
    "\n",
    "- **Resource utilization summary** (Resumo de utilização de recurso)\n",
    "- **CPU utilization summary** (Resumo de utilização de CPU)\n",
    "- **GPU Utilization summary** (Resumo de utilização de GPU)\n",
    "\n",
    "A aba **Rules** (Regras) inclui as seguintes **Insights** (Informações): \n",
    "\n",
    "- **BatchSize**\n",
    "- **LowGPUUtiliztion**\n",
    "- **CPUBottleneck**\n",
    "- **GPUMemoryIncrease**\n",
    "- **StepOutlier**\n",
    "- **MaxInitializationTime**\n",
    "- **IOBottleneck**\n",
    "- **LoadBalancing**\n",
    "\n",
    "Os dados serão preenchidos nos gráficos e nas tabelas se algum problema for encontrado.\n",
    "\n",
    "4. Você pode baixar um relatório do Debugger clicando em <span style=\"background-color:#1a1b22; font-size:90%; color:#57c4f8; position:relative; top:-1px; padding-top:3px; padding-bottom:3px; padding-left:10px; padding-right:10px; border-color:#57c4f8; border-width:thin; border-style:solid; border-radius:2px; margin-right:5px; white-space:nowrap\">Download report (Baixar relatório)</span> próximo à parte superior da aba **Debugger insights** (Informações do Debugger).\n",
    "\n",
    "### Conclusão\n",
    "\n",
    "Parabéns! Você usou o SageMaker Debugger para analisar, detectar e criar alertas para possíveis problemas no treinamento do modelo. Agora você pode usar as informações geradas pelos relatórios e alertas para treinar e criar de maneira eficiente um modelo mais eficaz. O próximo laboratório se concentra no uso do SageMaker Clarify para detectar viés e fornecer explicabilidade para previsões de modelo.\n",
    "\n",
    "## Limpeza\n",
    "\n",
    "Você concluiu este notebook. Passe para a próxima parte do laboratório da seguinte forma:\n",
    "\n",
    "- Feche este arquivo de notebook.\n",
    "- Retorne à sessão do laboratório e continue com a **Conclusão**."
   ]
  }
 ],
 "metadata": {
  "instance_type": "ml.g4dn.xlarge",
  "kernelspec": {
   "display_name": "Python 3.9.6 64-bit",
   "language": "python",
   "name": "python3"
  },
  "language_info": {
   "codemirror_mode": {
    "name": "ipython",
    "version": 3
   },
   "file_extension": ".py",
   "mimetype": "text/x-python",
   "name": "python",
   "nbconvert_exporter": "python",
   "pygments_lexer": "ipython3",
   "version": "3.9.6"
  },
  "papermill": {
   "default_parameters": {},
   "duration": 239.460793,
   "end_time": "2021-06-01T00:16:48.734820",
   "environment_variables": {},
   "exception": true,
   "input_path": "pytorch_script_change_smdebug.ipynb",
   "output_path": "/opt/ml/processing/output/pytorch_script_change_smdebug-2021-06-01-00-08-41.ipynb",
   "parameters": {
    "kms_key": "arn:aws:kms:us-west-2:521695447989:key/6e9984db-50cf-4c7e-926c-877ec47a8b25"
   },
   "start_time": "2021-06-01T00:12:49.274027",
   "version": "2.3.3"
  },
  "vscode": {
   "interpreter": {
    "hash": "2e45558c452cedcb26631315a9b3b77e80a9c32d662ed25df58964b99bc5b9b9"
   }
  }
 },
 "nbformat": 4,
 "nbformat_minor": 5
}
