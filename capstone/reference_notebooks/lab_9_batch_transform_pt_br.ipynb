{
 "cells": [
  {
   "cell_type": "markdown",
   "metadata": {},
   "source": [
    "# Tarefa 5: Usar a transformação em lote para obter inferências de um conjunto de dados grande\n",
    "\n",
    "## Tarefa 5.1: Configuração do ambiente\n",
    "\n",
    "Instale os pacotes e as dependências."
   ]
  },
  {
   "cell_type": "code",
   "execution_count": null,
   "metadata": {},
   "outputs": [],
   "source": [
    "#install-dependencies\n",
    "import boto3\n",
    "import sagemaker\n",
    "import sagemaker_datawrangler\n",
    "import time\n",
    "from sagemaker.session import Session\n",
    "from sagemaker.transformer import Transformer\n",
    "\n",
    "role = sagemaker.get_execution_role()\n",
    "region = boto3.Session().region_name\n",
    "sess = boto3.Session()\n",
    "sm = sess.client('sagemaker')\n",
    "prefix = 'sagemaker/mlasms'\n",
    "sagemaker_session = sagemaker.Session()\n",
    "bucket = sagemaker.Session().default_bucket()\n",
    "s3_client = boto3.client(\"s3\")"
   ]
  },
  {
   "cell_type": "markdown",
   "metadata": {},
   "source": [
    "Salve o modelo do laboratório de treinamento e ajuste no bucket-padrão do Amazon Simple Storage Service (Amazon S3). Configure um modelo usando **create_model** e configure **ModelDataUrl** para referenciar o modelo treinado."
   ]
  },
  {
   "cell_type": "code",
   "execution_count": null,
   "metadata": {},
   "outputs": [],
   "source": [
    "#set-up-model\n",
    "# Upload the model and dataset to your Amazon S3 bucket\n",
    "s3_client.upload_file(Filename=\"model.tar.gz\", Bucket=bucket, Key=f\"{prefix}/models/model.tar.gz\")\n",
    "\n",
    "# Set a date to use in the model name\n",
    "create_date = time.strftime(\"%Y-%m-%d-%H-%M-%S\")\n",
    "model_name = 'income-model-{}'.format(create_date)\n",
    "\n",
    "# Retrieve the container image\n",
    "container = sagemaker.image_uris.retrieve(\n",
    "    region=boto3.Session().region_name, \n",
    "    framework='xgboost', \n",
    "    version='1.5-1'\n",
    ")\n",
    "\n",
    "# Set up the model\n",
    "income_model = sm.create_model(\n",
    "    ModelName = model_name,\n",
    "    ExecutionRoleArn = role,\n",
    "    PrimaryContainer = {\n",
    "        'Image': container,\n",
    "        'ModelDataUrl': f's3://{bucket}/{prefix}/models/model.tar.gz',\n",
    "    }\n",
    ")"
   ]
  },
  {
   "cell_type": "markdown",
   "metadata": {},
   "source": [
    "Carregue os registros em lote no bucket padrão do Amazon S3."
   ]
  },
  {
   "cell_type": "code",
   "execution_count": null,
   "metadata": {},
   "outputs": [],
   "source": [
    "#upload-dataset\n",
    "s3_client.upload_file(Filename=\"batch_data.csv\", Bucket=bucket, Key=f\"{prefix}/batch_data.csv\", ExtraArgs={\"ContentType\": \"text/csv;charset=utf-8\"})\n",
    "batch_path = f\"s3://{bucket}/{prefix}/batch_data.csv\""
   ]
  },
  {
   "cell_type": "markdown",
   "metadata": {},
   "source": [
    "### Tarefa 5.2: Criar um trabalho de transformação em lote\n",
    "\n",
    "A transformação em lote gerencia automaticamente o processamento de conjuntos de dados grandes dentro dos limites dos parâmetros especificados. Quando um trabalho de transformação em lote é iniciado, o SageMaker inicializa instâncias de computação e distribui a carga de trabalho de inferência ou de pré-processamento entre elas. A transformação em lote particiona os objetos do Amazon S3 na entrada por chave e mapeia os objetos do Amazon S3 para as instâncias.\n",
    "\n",
    "Use a transformação em lote quando precisar obter inferências de conjuntos de dados grandes ou quando não precisar de um endpoint persistente.\n",
    "\n",
    "Para criar um trabalho de transformação em lote, defina as seguintes opções:\n",
    "- **model_name**: o nome do modelo.\n",
    "- **instance_type**: o tipo de instância do Amazon Elastic Compute Cloud (Amazon EC2) a ser usado, por exemplo, \"ml.c4.xlarge\".\n",
    "- **instance_count**: o número de instâncias do EC2 a serem usadas.\n",
    "- **assemble_with**: a maneira em que a saída é montada. Os valores válidos são \"Line\" ou \"None\".\n",
    "- **strategy**: a estratégia usada para decidir como executar os registros em lote em uma só solicitação. Os valores válidos são \"MultiRecord\" e \"SingleRecord\".\n",
    "- **accept**: o tipo de arquivo a ser aceito.\n",
    "- **output_path**: o local do Amazon S3 para salvar o resultado da transformação. Se o valor não for especificado, os resultados serão armazenados em um bucket padrão."
   ]
  },
  {
   "cell_type": "code",
   "execution_count": null,
   "metadata": {},
   "outputs": [],
   "source": [
    "#create-batch-transformer\n",
    "transformer = Transformer(\n",
    "    model_name=model_name,\n",
    "    instance_type=\"ml.m4.xlarge\",\n",
    "    instance_count=1,\n",
    "    assemble_with=\"Line\",\n",
    "    strategy=\"MultiRecord\",\n",
    "    accept=\"text/csv\",\n",
    "    output_path=\"s3://{}/{}/batch-transform/test\".format(bucket, prefix)\n",
    ")"
   ]
  },
  {
   "attachments": {},
   "cell_type": "markdown",
   "metadata": {},
   "source": [
    "Use o conjunto de dados de teste como os registros de clientes e execute o trabalho de transformação em lote. O trabalho pode exigir até dez minutos para ser executado com esse conjunto de registros de clientes.\n",
    "\n",
    "Confira [Usar a transformação em lote](https://docs.aws.amazon.com/sagemaker/latest/dg/batch-transform.html) para saber mais sobre os trabalhos de transformação em lote."
   ]
  },
  {
   "cell_type": "code",
   "execution_count": null,
   "metadata": {},
   "outputs": [],
   "source": [
    "#run-batch-transform-job\n",
    "transformer.transform(batch_path, content_type=\"text/csv\", split_type=\"Line\", join_source=\"Input\")\n",
    "transformer.wait()"
   ]
  },
  {
   "attachments": {},
   "cell_type": "markdown",
   "metadata": {},
   "source": [
    "## Tarefa 5.3: Visualizar os dados de previsão no Amazon S3\n",
    "\n",
    "O trabalho de transformação em lote armazena o bucket e a pasta que você especificou quando configurou o transformador. É possível visualizar os resultados da previsão no Amazon S3, no console de gerenciamento da AWS ou no notebook.\n",
    "\n",
    "Se você quiser baixar e visualizar a saída do console, navegue até o Amazon S3, abra o bucket que começa com **sagemaker-** e navegue até o objeto localizado em **/sagemaker/mlasms/batch-transform/test**. Baixe o objeto **batch_data.csv.out** e abra-o com um editor de bloco de notas. O arquivo contém centenas de valores previstos para os registros de clientes que foram executados por meio do trabalho de transformação em lote.\n",
    "\n",
    "Um exemplo da saída também pode ser exibido no notebook.\n"
   ]
  },
  {
   "cell_type": "code",
   "execution_count": null,
   "metadata": {},
   "outputs": [],
   "source": [
    "!aws s3 cp --recursive $transformer.output_path ./\n",
    "!head batch_data.csv.out"
   ]
  },
  {
   "cell_type": "markdown",
   "metadata": {},
   "source": [
    "### Conclusão\n",
    "\n",
    "Parabéns! Você usou o Amazon SageMaker para executar um trabalho de transformação em lote com sucesso.\n",
    "\n",
    "## Limpeza\n",
    "\n",
    "Você concluiu este notebook. Passe para a próxima parte do laboratório da seguinte forma:\n",
    "\n",
    "- Feche este arquivo de notebook.\n",
    "- Retorne à sessão do laboratório e continue com a **Conclusão**."
   ]
  }
 ],
 "metadata": {
  "instance_type": "ml.t3.xlarge",
  "kernelspec": {
   "display_name": "Python 3.9.6 64-bit",
   "language": "python",
   "name": "python3"
  },
  "language_info": {
   "codemirror_mode": {
    "name": "ipython",
    "version": 3
   },
   "file_extension": ".py",
   "mimetype": "text/x-python",
   "name": "python",
   "nbconvert_exporter": "python",
   "pygments_lexer": "ipython3",
   "version": "3.9.6"
  },
  "vscode": {
   "interpreter": {
    "hash": "2e45558c452cedcb26631315a9b3b77e80a9c32d662ed25df58964b99bc5b9b9"
   }
  }
 },
 "nbformat": 4,
 "nbformat_minor": 4
}
