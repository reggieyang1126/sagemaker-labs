{
 "cells": [
  {
   "cell_type": "markdown",
   "id": "669cd6bb",
   "metadata": {},
   "source": [
    "# 任务 2：使用 SageMaker Debugger\n",
    "\n",
    "在本实验中，您将使用 Amazon SageMaker Debugger 来分析和检测训练任务期间的瓶颈、资源利用率和各种训练问题，并收到相关提醒。"
   ]
  },
  {
   "cell_type": "markdown",
   "id": "frequent-booking",
   "metadata": {
    "papermill": {
     "duration": 0.018947,
     "end_time": "2021-06-01T00:12:50.309809",
     "exception": false,
     "start_time": "2021-06-01T00:12:50.290862",
     "status": "completed"
    },
    "tags": []
   },
   "source": [
    "## 任务 2.1：环境设置\n",
    "\n",
    "安装程序包和依赖项。"
   ]
  },
  {
   "cell_type": "code",
   "execution_count": null,
   "id": "516a23c6",
   "metadata": {},
   "outputs": [],
   "source": [
    "%%capture\n",
    "\n",
    "#install a compiler\n",
    "%conda install -c conda-forge gcc -y"
   ]
  },
  {
   "attachments": {},
   "cell_type": "markdown",
   "id": "1c83fa35",
   "metadata": {},
   "source": [
    "**注意**：GCC 可能需要长达 5 分钟的时间才能完成安装。"
   ]
  },
  {
   "cell_type": "code",
   "execution_count": null,
   "id": "faa03393",
   "metadata": {},
   "outputs": [],
   "source": [
    "#install-dependencies\n",
    "\n",
    "%pip install pytest-cov\n",
    "%pip install pytest-filter-subpackage\n",
    "%pip install -U sagemaker\n",
    "%pip install -U smdebug\n",
    "%pip install -U shap"
   ]
  },
  {
   "cell_type": "code",
   "execution_count": null,
   "id": "44983b4e",
   "metadata": {},
   "outputs": [],
   "source": [
    "#import libraries and set variable values\n",
    "\n",
    "import sys\n",
    "import boto3\n",
    "import matplotlib.pyplot as plt\n",
    "import numpy as np\n",
    "import os\n",
    "import pandas as pd\n",
    "import sagemaker\n",
    "import sagemaker_datawrangler \n",
    "import shap\n",
    "\n",
    "from mpl_toolkits.axes_grid1 import host_subplot\n",
    "\n",
    "from sagemaker.debugger import (\n",
    "    CollectionConfig,\n",
    "    DebuggerHookConfig,\n",
    "    FrameworkProfile,\n",
    "    ProfilerConfig,\n",
    "    ProfilerRule,\n",
    "    Rule,\n",
    "    rule_configs,\n",
    "    TensorBoardOutputConfig\n",
    ")\n",
    "\n",
    "from sagemaker.estimator import Estimator\n",
    "from sagemaker import get_execution_role\n",
    "from sagemaker.inputs import TrainingInput\n",
    "from sagemaker.s3 import S3Uploader\n",
    "from sagemaker.xgboost.estimator import XGBoost\n",
    "from smdebug.core import modes\n",
    "from smdebug.trials import create_trial\n",
    "\n",
    "base_job_name = \"lab-7-smdebugger-job\"\n",
    "bucket = sagemaker.Session().default_bucket()\n",
    "bucket_path = \"s3://{}\".format(bucket)\n",
    "prefix = \"lab-7-smdebugger\"\n",
    "region = boto3.Session().region_name\n",
    "role = sagemaker.get_execution_role()\n",
    "save_interval = 5"
   ]
  },
  {
   "cell_type": "markdown",
   "id": "c2f5b470",
   "metadata": {},
   "source": [
    "接下来，导入数据集。"
   ]
  },
  {
   "cell_type": "code",
   "execution_count": null,
   "id": "57128928",
   "metadata": {},
   "outputs": [],
   "source": [
    "#import-dataset\n",
    "lab_test_data = pd.read_csv('adult_data_processed.csv')\n",
    "pd.set_option('display.max_columns', 500)\n",
    "pd.set_option('display.max_rows', 20)\n",
    "lab_test_data.head()"
   ]
  },
  {
   "cell_type": "markdown",
   "id": "d26e3138",
   "metadata": {},
   "source": [
    "将数据集拆分为训练数据集 (70%)、验证数据集 (20%) 和测试数据集 (10%)。在本实验中，您将使用训练和验证数据集来创建模型。您在本实验中不会用到测试数据集。"
   ]
  },
  {
   "cell_type": "code",
   "execution_count": null,
   "id": "d95c48c9",
   "metadata": {},
   "outputs": [],
   "source": [
    "#split-dataset\n",
    "train_data, validation_data, test_data = np.split(\n",
    "    lab_test_data.sample(frac=1, random_state=1729),\n",
    "    [int(0.7 * len(lab_test_data)), int(0.9 * len(lab_test_data))],\n",
    ")\n",
    "\n",
    "train_data.to_csv('train_data.csv', index=False, header=False)\n",
    "validation_data.to_csv('validation_data.csv', index=False, header=False)\n",
    "\n",
    "feature_names = list(train_data.columns)"
   ]
  },
  {
   "cell_type": "markdown",
   "id": "42977436",
   "metadata": {},
   "source": [
    "现在，将数据集上传到 Amazon Simple Storage Service (Amazon S3)。"
   ]
  },
  {
   "cell_type": "code",
   "execution_count": null,
   "id": "be44e809",
   "metadata": {},
   "outputs": [],
   "source": [
    "#upload-dataset\n",
    "sagemaker_session = sagemaker.Session()\n",
    "\n",
    "train_path = S3Uploader.upload('train_data.csv', 's3://{}/{}'.format(bucket, prefix))\n",
    "validation_path = S3Uploader.upload('validation_data.csv', 's3://{}/{}'.format(bucket, prefix))\n",
    "\n",
    "train_input = TrainingInput(train_path, content_type='text/csv')\n",
    "validation_input = TrainingInput(validation_path, content_type='text/csv')\n",
    "\n",
    "data_inputs = {\n",
    "    'train': train_input,\n",
    "    'validation': validation_input\n",
    "}"
   ]
  },
  {
   "attachments": {},
   "cell_type": "markdown",
   "id": "wrong-terror",
   "metadata": {
    "papermill": {
     "duration": 0.022031,
     "end_time": "2021-06-01T00:12:54.187737",
     "exception": false,
     "start_time": "2021-06-01T00:12:54.165706",
     "status": "completed"
    },
    "tags": []
   },
   "source": [
    "## 任务 2.2：修改训练脚本以启用 SageMaker Debugger\n",
    "\n",
    "您必须修改在上个实验中使用的训练脚本，以将张量保存到指定的输出 S3 存储桶，指定要保存的张量，并注册调试挂钩。\n",
    "\n",
    "要训练模型，您需要配置以下各项：\n",
    "- **Debugger Hook Parameters**（Debugger 挂钩参数），用于在训练阶段调整输出张量的保存间隔\n",
    "- **Debugger Rule Object**（Debugger 规则对象），用于保存输出张量以供评估\n",
    "\n",
    "对于 **Debugger Hook Parameters**（Debugger 挂钩参数），您需要配置要在训练期间捕获的 **metrics**、**feature_importance**、**full_shap** 和 **average_shap** 内置张量集合。它们是在 **collection_configs** 中为 **debugger_hook_config** 配置的。**full_shap** 和 **average_shap** 内置张量集合使用夏普里值 (SHAP)。SHAP 通过以下方式来解释机器学习 (ML) 预测：假设训练数据实例的每个特征值都是某游戏（其中的预测是支出）中的一个玩家。然后，它将指示如何在各个特征之间公平地分配支出。有关 SHAP 的更多信息，请参阅 [SHAP Baselines for Explainability](https://docs.aws.amazon.com/sagemaker/latest/dg/clarify-feature-attribute-shap-baselines.html)。\n",
    "\n",
    "对于 **Debugger Rule Object**（Debugger 规则对象），请在 **rules**（规则）中配置以下 **rule_configs**：\n",
    "- [Profiler 报告](https://docs.aws.amazon.com/sagemaker/latest/dg/debugger-report.html#debugger-profiling-report)：运行系统瓶颈检测规则并自动生成分析报告。\n",
    "- [XGBoost 训练报告](https://docs.aws.amazon.com/sagemaker/latest/dg/debugger-report-xgboost.html)：运行全面的 XGBoost 报告。\n",
    "- [过度拟合](https://docs.aws.amazon.com/sagemaker/latest/dg/debugger-built-in-rules.html#overfit)：通过比较验证损失和训练损失来检测模型是否被过度拟合到训练数据。\n",
    "- [过度训练](https://docs.aws.amazon.com/sagemaker/latest/dg/debugger-built-in-rules.html#overtraining)：检测模型是否被过度训练。对表现良好的模型进行多次训练迭代（训练和验证损失都减少）后，模型将接近损失函数的最小值，无法进一步改进。如果模型继续训练，验证损失可能会开始增加，因为模型开始过度拟合。\n",
    "- [损失未减少](https://docs.aws.amazon.com/sagemaker/latest/dg/debugger-built-in-rules.html#loss-not-decreasing)：检测损失的值何时没有以适当的速度减少。这些损失必须是标量。"
   ]
  },
  {
   "cell_type": "code",
   "execution_count": null,
   "id": "4253b24f",
   "metadata": {},
   "outputs": [],
   "source": [
    "#enable-debugger\n",
    "# Retrieve the container image\n",
    "container = sagemaker.image_uris.retrieve(\n",
    "    region=boto3.Session().region_name, \n",
    "    framework='xgboost', \n",
    "    version='1.5-1'\n",
    ")\n",
    "# Set up the estimator\n",
    "xgb = sagemaker.estimator.Estimator(\n",
    "    container,\n",
    "    role, \n",
    "    base_job_name=base_job_name,\n",
    "    instance_count=1, \n",
    "    instance_type='ml.m5.4xlarge',\n",
    "    #Set the hyperparameters\n",
    "    hyperparameters= {\n",
    "        \"max_depth\": \"5\",\n",
    "        \"eta\": \"0.2\",\n",
    "        \"gamma\": \"4\",\n",
    "        \"min_child_weight\": \"6\",\n",
    "        \"subsample\": \"0.7\",\n",
    "        \"objective\": \"binary:logistic\",\n",
    "        \"num_round\": \"300\",\n",
    "    },\n",
    "    sagemaker_session=sagemaker_session,\n",
    "    max_run=1800,\n",
    "    #Set the Debugger Hook Config\n",
    "    debugger_hook_config=DebuggerHookConfig(\n",
    "        s3_output_path=bucket_path,  # Required\n",
    "        collection_configs=[  # For each of these, a new processing job will be run later in the lab\n",
    "            CollectionConfig(name=\"metrics\", parameters={\"save_interval\": str(save_interval)}),\n",
    "            CollectionConfig(name=\"feature_importance\", parameters={\"save_interval\": str(save_interval)},),\n",
    "            CollectionConfig(name=\"full_shap\", parameters={\"save_interval\": str(save_interval)}),\n",
    "            CollectionConfig(name=\"average_shap\", parameters={\"save_interval\": str(save_interval)}),\n",
    "        ],\n",
    "    ),\n",
    "    #Set the Debugger Profiler Configuration\n",
    "    profiler_config = ProfilerConfig(\n",
    "        system_monitor_interval_millis=500,\n",
    "        framework_profile_params=FrameworkProfile()\n",
    "\n",
    "    ),\n",
    "    #Configure the Debugger Rule Object\n",
    "    rules = [\n",
    "        ProfilerRule.sagemaker(rule_configs.ProfilerReport()),\n",
    "        Rule.sagemaker(rule_configs.create_xgboost_report()),  \n",
    "        Rule.sagemaker(rule_configs.overfit()),\n",
    "        Rule.sagemaker(rule_configs.overtraining()),\n",
    "        Rule.sagemaker(rule_configs.loss_not_decreasing(),\n",
    "            rule_parameters={\n",
    "                \"collection_names\": \"metrics\",\n",
    "                \"num_steps\": str(save_interval * 2),\n",
    "            }\n",
    "        )\n",
    "    ]\n",
    ")"
   ]
  },
  {
   "cell_type": "markdown",
   "id": "2c6a6c2d",
   "metadata": {},
   "source": [
    "## 任务 2.3：运行启用 Debugger 的训练任务\n",
    "\n",
    "现在，使用启用 Debugger 的脚本训练 XGBoost 模型。运行训练大约需要 5–10 分钟。您可以在训练任务运行期间继续执行下一个任务，并使用 SageMaker Debugger 监控任务进度。"
   ]
  },
  {
   "cell_type": "code",
   "execution_count": null,
   "id": "88cd5dab",
   "metadata": {},
   "outputs": [],
   "source": [
    "#train-model\n",
    "xgb.fit(\n",
    "    inputs = data_inputs\n",
    ")"
   ]
  },
  {
   "attachments": {},
   "cell_type": "markdown",
   "id": "verified-draft",
   "metadata": {
    "papermill": {
     "duration": 0.022325,
     "end_time": "2021-06-01T00:12:55.995017",
     "exception": false,
     "start_time": "2021-06-01T00:12:55.972692",
     "status": "completed"
    },
    "tags": []
   },
   "source": [
    "## 任务 2.4：监控训练任务状态\n",
    "\n",
    "在 SageMaker Studio 中，您可以查看试用组件，包括您启动的所有 SageMaker Debugger 任务。在本实验中，您创建了一个 **XGBoost 报告**任务、一个**过度拟合**任务、一个**过度训练**任务和一个**损失未减少**任务。在 SageMaker Studio 中浏览这些任务。\n",
    "\n",
    "下一个步骤将在 SageMaker Studio 中打开一个新选项卡。要遵循这些指示，请使用以下选项之一：\n",
    "- **选项 1**：并排查看选项卡。要从 SageMaker Studio 主窗口创建分屏视图，请将 **lab_7.ipynb** 选项卡拖到一边，或者选择（右键单击）**lab_7.ipynb** 选项卡并选择 **New View for Notebook**（为笔记本新建视图）。现在，您可以在浏览特征组时看到相应指示。\n",
    "- **选项 2**：在 SageMaker Studio 选项卡之间切换，以遵循这些指示。\n",
    "\n",
    "1.选择 **SageMaker Home**（SageMaker 主页）图标。\n",
    "2.选择 **Experiments**（实验）。\n",
    "\n",
    "此时 SageMaker Studio 将打开 **Experiments**（实验）选项卡。\n",
    "\n",
    "3.选择 **Unassigned runs**（未分配的运行）。\n",
    "4.从列表中选择类型为 **SageMakerTrainingJob** 的任务的 **Name**（名称）。\n",
    "\n",
    "此时系统会显示相应训练任务的详细信息。\n",
    "\n",
    "5.选择左侧的 **Debugger** 选项卡。\n",
    "\n",
    "SageMaker Debugger 提供了训练任务的状态，您可以在模型训练运行期间对其进行监控。完成后，您将看到任何指定训练问题的状态。\n",
    "\n",
    "当所有 **Status**（状态）行都显示 **No Issues Found**（未发现问题）或 **Issues Found**（发现了问题）时，分析就完成了。Debugger 规则可能需要长达 9 分钟的时间才能完成。\n",
    "\n",
    "如果发现了问题，则意味着您的模型中可能有需要解决的问题。这些任务是否存在问题？ \n",
    "\n",
    "在本实验中，您不用解决发现的任何问题。但是，如果您想解决发现的问题，您可以处理数据集并使用经过调整的超参数重新训练模型来解决这些问题。\n",
    "\n",
    "6.分析完成后，返回标记为 **lab_7.ipynb** 的笔记本选项卡。"
   ]
  },
  {
   "cell_type": "markdown",
   "id": "adverse-galaxy",
   "metadata": {
    "papermill": {
     "duration": null,
     "end_time": null,
     "exception": null,
     "start_time": null,
     "status": "pending"
    },
    "tags": []
   },
   "source": [
    "## 任务 2.5：执行训练后分析\n",
    "\n",
    "借助 SageMaker Debugger，您可以在 Amazon CloudWatch 中创建可用于配置自定义警报的处理任务日志。在这里，您可以打印为每个评估的指标存储日志的位置。"
   ]
  },
  {
   "cell_type": "code",
   "execution_count": null,
   "id": "southeast-command",
   "metadata": {
    "papermill": {
     "duration": null,
     "end_time": null,
     "exception": null,
     "start_time": null,
     "status": "pending"
    },
    "tags": []
   },
   "outputs": [],
   "source": [
    "#print-urls\n",
    "def _get_rule_job_name(training_job_name, rule_configuration_name, rule_job_arn):\n",
    "    \"\"\"Helper function to get the rule job name with correct casing\"\"\"\n",
    "    return \"{}-{}-{}\".format(\n",
    "        training_job_name[:26], rule_configuration_name[:26], rule_job_arn[-8:]\n",
    "    )\n",
    "\n",
    "\n",
    "def _get_cw_url_for_rule_job(rule_job_name, region):\n",
    "    return \"https://{}.console.aws.amazon.com/cloudwatch/home?region={}#logStream:group=/aws/sagemaker/ProcessingJobs;prefix={};streamFilter=typeLogStreamPrefix\".format(\n",
    "        region, region, rule_job_name\n",
    "    )\n",
    "\n",
    "\n",
    "def get_rule_jobs_cw_urls(xgb):\n",
    "    region = boto3.Session().region_name\n",
    "    training_job = xgb.latest_training_job\n",
    "    training_job_name = training_job.describe()[\"TrainingJobName\"]\n",
    "    rule_eval_statuses = training_job.describe()[\"DebugRuleEvaluationStatuses\"]\n",
    "\n",
    "    result = {}\n",
    "    for status in rule_eval_statuses:\n",
    "        if status.get(\"RuleEvaluationJobArn\", None) is not None:\n",
    "            rule_job_name = _get_rule_job_name(\n",
    "                training_job_name, status[\"RuleConfigurationName\"], status[\"RuleEvaluationJobArn\"]\n",
    "            )\n",
    "            result[status[\"RuleConfigurationName\"]] = _get_cw_url_for_rule_job(\n",
    "                rule_job_name, region\n",
    "            )\n",
    "    return result\n",
    "\n",
    "\n",
    "get_rule_jobs_cw_urls(xgb)"
   ]
  },
  {
   "cell_type": "markdown",
   "id": "0280e9a7",
   "metadata": {},
   "source": [
    "除了来自张量的自定义集合外，还可以通过 SageMaker Debugger 从您的训练任务创建的默认集合（如权重、梯度、偏差和损失）检索张量。为保存的张量生成名称和值的列表，以确定要绘制哪些张量以供进一步分析。"
   ]
  },
  {
   "cell_type": "code",
   "execution_count": null,
   "id": "cleared-liquid",
   "metadata": {
    "papermill": {
     "duration": null,
     "end_time": null,
     "exception": null,
     "start_time": null,
     "status": "pending"
    },
    "tags": []
   },
   "outputs": [],
   "source": [
    "#retrieve-names\n",
    "trial = create_trial(xgb.latest_job_debugger_artifacts_path())\n",
    "trial.tensor_names()"
   ]
  },
  {
   "cell_type": "code",
   "execution_count": null,
   "id": "e4ef14b5",
   "metadata": {},
   "outputs": [],
   "source": [
    "#retrieve-values\n",
    "trial.tensor(\"average_shap/f1\").values()"
   ]
  },
  {
   "cell_type": "code",
   "execution_count": null,
   "id": "8fba8e2f",
   "metadata": {},
   "outputs": [],
   "source": [
    "#plot-tensors\n",
    "shap_values = trial.tensor(\"full_shap/f10\").value(trial.last_complete_step)\n",
    "shap_no_base = shap_values[:, :-1]\n",
    "shap_base_value = shap_values[0, -1]\n",
    "shap.summary_plot(shap_no_base, plot_type=\"bar\", feature_names=feature_names)"
   ]
  },
  {
   "attachments": {},
   "cell_type": "markdown",
   "id": "c6e546ff",
   "metadata": {},
   "source": [
    "## 任务 2.6：访问 SageMaker Debugger 见解控制面板\n",
    "\n",
    "1.返回 **Experiments**（实验）选项卡。\n",
    "2.选择左侧的 **Debugger**。\n",
    "3.在 **Debugger insights**（Debugger 见解）部分，选择 **Training job name**（训练任务名称）列表中的可用 **lab-7-smdebugger-job**。\n",
    "\n",
    "此时 SageMaker Studio 将为该任务打开一个新的 **Debugger insights**（Debugger 见解）选项卡，然后开始加载数据。\n",
    "\n",
    "SageMaker Debugger 概述了您在 Amazon Elastic Compute Cloud (Amazon EC2) 实例上的模型训练性能。在 SageMaker Studio 中浏览 SageMaker Debugger，然后检查报告中包含的详细信息。\n",
    "\n",
    "**Systems Metrics**（系统指标）选项卡包含以下部分：\n",
    "\n",
    "- **Resource utilization summary**（资源利用率摘要）\n",
    "- **CPU utilization summary**（CPU 利用率摘要）\n",
    "- **GPU Utilization summary**（GPU 利用率摘要）\n",
    "\n",
    "**Rules**（规则）选项卡包含以下 **Insights**（见解）： \n",
    "\n",
    "- **BatchSize**\n",
    "- **LowGPUUtiliztion**\n",
    "- **CPUBottleneck**\n",
    "- **GPUMemoryIncrease**\n",
    "- **StepOutlier**\n",
    "- **MaxInitializationTime**\n",
    "- **IOBottleneck**\n",
    "- **LoadBalancing**\n",
    "\n",
    "如果发现了任何问题，数据将填充在图表和表格中。\n",
    "\n",
    "4.您可以通过选择 **Debugger insights**（Debugger 见解）选项卡顶部附近的 <span style=\"background-color:#1a1b22; font-size:90%; color:#57c4f8; position:relative; top:-1px; padding-top:3px; padding-bottom:3px; padding-left:10px; padding-right:10px; border-color:#57c4f8; border-width:thin; border-style:solid; border-radius:2px; margin-right:5px; white-space:nowrap\">Download report</span>（下载报告）来下载 Debugger 报告。\n",
    "\n",
    "### 总结\n",
    "\n",
    "恭喜！ 您已使用 SageMaker Debugger 来分析和检测模型训练中的潜在问题并针对这些问题创建相关提醒。现在，您可以利用从报告和提醒生成的信息来深入了解如何高效地训练和创建更有效的模型。下一个实验的重点是使用 SageMaker Clarify 检测偏差并为模型预测提供可解释性。\n",
    "\n",
    "### 清理\n",
    "\n",
    "您已完成此笔记本。要进入本实验的下一部分，请执行以下操作：\n",
    "\n",
    "- 关闭此笔记本文件。\n",
    "- 返回至实验会话并继续**总结**部分。"
   ]
  }
 ],
 "metadata": {
  "instance_type": "ml.g4dn.xlarge",
  "kernelspec": {
   "display_name": "Python 3.9.6 64-bit",
   "language": "python",
   "name": "python3"
  },
  "language_info": {
   "codemirror_mode": {
    "name": "ipython",
    "version": 3
   },
   "file_extension": ".py",
   "mimetype": "text/x-python",
   "name": "python",
   "nbconvert_exporter": "python",
   "pygments_lexer": "ipython3",
   "version": "3.9.6"
  },
  "papermill": {
   "default_parameters": {},
   "duration": 239.460793,
   "end_time": "2021-06-01T00:16:48.734820",
   "environment_variables": {},
   "exception": true,
   "input_path": "pytorch_script_change_smdebug.ipynb",
   "output_path": "/opt/ml/processing/output/pytorch_script_change_smdebug-2021-06-01-00-08-41.ipynb",
   "parameters": {
    "kms_key": "arn:aws:kms:us-west-2:521695447989:key/6e9984db-50cf-4c7e-926c-877ec47a8b25"
   },
   "start_time": "2021-06-01T00:12:49.274027",
   "version": "2.3.3"
  },
  "vscode": {
   "interpreter": {
    "hash": "2e45558c452cedcb26631315a9b3b77e80a9c32d662ed25df58964b99bc5b9b9"
   }
  }
 },
 "nbformat": 4,
 "nbformat_minor": 5
}