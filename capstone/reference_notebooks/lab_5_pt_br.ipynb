{
 "cells": [
  {
   "cell_type": "markdown",
   "metadata": {},
   "source": [
    "# Tarefa 2: Usar o SageMaker Feature Store"
   ]
  },
  {
   "attachments": {},
   "cell_type": "markdown",
   "metadata": {},
   "source": [
    "## Tarefa 2.1: Opções do Feature Store\n",
    "\n",
    "Há três maneiras principais de armazenar recursos no Amazon SageMaker:\n",
    "1. Usar o Amazon SageMaker Feature Store como destino do Amazon SageMaker Data Wrangler depois que as etapas de pré-processamento forem concluídas e os recursos forem adicionados.\n",
    "2. Exportar um notebook do SageMaker Data Wrangler que executa definição de recurso, criação de grupo de recursos e ingestão de dados no SageMaker Feature Store.\n",
    "3. Usar o SDK Python do SageMaker em um notebook personalizado que executa definição de recurso, criação de grupo de recursos e ingestão de dados no SageMaker Feature Store.\n",
    "\n",
    "Essas três opções estão descritas nas seções a seguir.\n",
    "\n",
    "### Usar o SageMaker Feature Store como um destino do SageMaker Data Wrangler\n",
    "\n",
    "É possível adicionar o SageMaker Feature Store como um destino no Amazon SageMaker Studio usando a opção **Add destination** (Adicionar destino). Ao concluir as etapas de pré-processamento no SageMaker Data Wrangler, escolha **Add destination** (Adicionar destino) no fluxo. O SageMaker Studio mostra como criar o grupo de recursos e como realizar as etapas necessárias para fazer a ingestão dos dados pré-processados no SageMaker Feature Store.\n",
    "\n",
    "Consulte [Criar e armazenar recursos com facilidade no Amazon SageMaker sem código](https://aws.amazon.com/blogs/machine-learning/easily-create-and-store-features-in-amazon-sagemaker-without-code/#save_features_to_feature_store) para obter mais informações de como adicionar o SageMaker Feature Store como um destino.\n",
    "\n",
    "Consulte [Usar o Amazon SageMaker Feature Store com o Amazon SageMaker Studio](https://docs.aws.amazon.com/sagemaker/latest/dg/feature-store-use-with-studio.html) para obter mais informações de como criar um grupo de recursos no RSageMaker Studio.\n",
    "\n",
    "### Exportar um notebook do SageMaker Data Wrangler\n",
    "\n",
    "Você pode criar grupos de recursos usando a opção **Export to** (Exportar para) no SageMaker Studio. Ao usar a opção **Export to** (Exportar para), você pode criar um notebook que inclua todos os comandos necessários para criar um grupo de recursos.\n",
    "\n",
    "Com algumas personalizações, você percorrer o notebook para fazer o seguinte:\n",
    "- Criar uma definição de recurso com base no conjunto de dados.\n",
    "- Criar um grupo de recursos usando a definição de recurso.\n",
    "- Armazenar o grupo de recursos no SageMaker Feature Store.\n",
    "- Configurar as entradas e saídas de um trabalho de processamento.\n",
    "\n",
    "Este laboratório é semelhante ao notebook exportado. Este laboratório se concentra na primeira parte do notebook exportado. Ele mostra como ingerir dados no grupo de recursos e extrair registros de um armazenamento on-line e de um off-line.\n",
    "\n",
    "### Usar o SDK Python do SageMaker em um notebook personalizado\n",
    "\n",
    "Neste laboratório, você vai criar um grupo de recursos e extrair registros de um armazenamento on-line e de um off-line. Você vai aprender como o SageMaker Feature Store funciona com um notebook personalizado. Primeiro, você vai configurar o ambiente na Tarefa 2. Depois, você vai realizar as seguintes tarefas:\n",
    "\n",
    "Tarefa 2.3: configurar o SageMaker Feature Store\n",
    "- Criar recursos em um arquivo de notebook.\n",
    "- Criar um grupo de recursos no SageMaker Feature Store.\n",
    "- Confirmar se o grupo de recursos foi criado.\n",
    "- Visualizar o grupo de recursos no SageMaker Studio.\n",
    "\n",
    "Tarefa 2.4: Consultar os armazenamentos on-line e off-line\n",
    "- Fazer a ingestão de dados em um grupo de recursos.\n",
    "- Extrair registros de um armazenamento on-line.\n",
    "- Extrair registros de um armazenamento off-line usando o Amazon Athena."
   ]
  },
  {
   "cell_type": "markdown",
   "metadata": {},
   "source": [
    "## Tarefa 2.2: Configuração do ambiente\n",
    "\n",
    "Instale os pacotes e as dependências."
   ]
  },
  {
   "cell_type": "code",
   "execution_count": null,
   "metadata": {},
   "outputs": [],
   "source": [
    "#install-dependencies\n",
    "\n",
    "import boto3\n",
    "import json\n",
    "import pandas as pd\n",
    "import sagemaker\n",
    "import sagemaker_datawrangler\n",
    "import time\n",
    "import uuid\n",
    "import random\n",
    "from sagemaker.session import Session\n",
    "from sagemaker.feature_store.feature_definition import FeatureDefinition\n",
    "from sagemaker.feature_store.feature_definition import FeatureTypeEnum\n",
    "from sagemaker.feature_store.feature_group import FeatureGroup\n",
    "\n",
    "\n",
    "region = boto3.Session().region_name\n",
    "sess = boto3.Session(region_name=region)\n",
    "bucket = sagemaker.Session().default_bucket()\n",
    "role = sagemaker.get_execution_role()"
   ]
  },
  {
   "cell_type": "markdown",
   "metadata": {},
   "source": [
    "Importe o conjunto de dados processado de clientes."
   ]
  },
  {
   "cell_type": "code",
   "execution_count": null,
   "metadata": {},
   "outputs": [],
   "source": [
    "#explore-dataset\n",
    "\n",
    "column_list = ['income','age','education','education_num','capital_gain','capital_loss','hours_per_week','sex','workclass','marital_status','occupation','relationship','race']\n",
    "lab_test_data = pd.read_csv('adult_data_processed.csv', names=(column_list), header=1)\n",
    "pd.set_option('display.max_columns', 500)\n",
    "pd.set_option('display.max_rows', 20)"
   ]
  },
  {
   "attachments": {},
   "cell_type": "markdown",
   "metadata": {},
   "source": [
    "Depois, examine uma amostra do conjunto de dados em uma tabela."
   ]
  },
  {
   "cell_type": "code",
   "execution_count": null,
   "metadata": {},
   "outputs": [],
   "source": [
    "#view-dataset\n",
    "\n",
    "lab_test_data.dtypes\n",
    "lab_test_data.head()"
   ]
  },
  {
   "cell_type": "markdown",
   "metadata": {},
   "source": [
    "## Tarefa 2.3: Configurar o SageMaker Feature Store\n",
    "\n",
    "Crie recursos para ajudar a treinar o modelo. Use os dados processados do laboratório do Amazon SageMaker Data Wrangler para criar um grupo de recursos usando o SageMaker Feature Store.\n",
    "\n",
    "- Criar recursos em um arquivo de notebook.\n",
    "- Criar um grupo de recursos no SageMaker Feature Store.\n",
    "- Confirmar se o grupo de recursos foi criado.\n",
    "- Visualizar o grupo de recursos no SageMaker Studio."
   ]
  },
  {
   "cell_type": "markdown",
   "metadata": {},
   "source": [
    "### Tarefa 2.3.1: Criar recursos em um arquivo de notebook"
   ]
  },
  {
   "attachments": {},
   "cell_type": "markdown",
   "metadata": {},
   "source": [
    "Para criar um grupo de recursos, você precisa de colunas para atribuir a **record_identifier_name** e **event_time_feature_name**. Para cumprir esse requisito, adicione as colunas **record** e **event_time** ao conjunto de dados.\n",
    "- **record_identifier_name** se refere a um dos nomes de um recurso definido nas definições de recurso do grupo de recursos. Neste laboratório, você vai criar uma coluna de IDs exclusivos chamada **record**.\n",
    "- **event_time_feature_name** é um ponto no tempo quando ocorre um novo que corresponde à criação ou à atualização de um registro do grupo de recursos. Todos os registros no grupo de recursos precisam ter um horário do evento correspondente. Ele pode ser usado para monitorar as alterações em um registro ao longo do tempo. Neste laboratório, você vai criar uma coluna chamada **event_time**.\n",
    "\n",
    "Consulte [Introdução ao Amazon SageMaker Feature Store](https://docs.aws.amazon.com/sagemaker/latest/dg/feature-store-concepts.html) para saber mais sobre o nome do identificador de registro ou o horário do evento."
   ]
  },
  {
   "cell_type": "code",
   "execution_count": null,
   "metadata": {},
   "outputs": [],
   "source": [
    "#add-required-columns\n",
    "\n",
    "# Add record and event_time columns\n",
    "current_time_sec = int(round(time.time()))\n",
    "lab_test_data.insert(0, 'record', range(0, 0 + len(lab_test_data)))\n",
    "lab_test_data.insert(1, 'event_time', [current_time_sec]*len(lab_test_data))\n",
    "lab_test_data['record'] = lab_test_data['record'].astype('string')\n",
    "lab_test_data['event_time'] = lab_test_data['event_time'].astype('float64')\n",
    "\n",
    "# Set the record-and-event_time-feature-names\n",
    "record_identifier_feature_name = 'record'\n",
    "event_time_feature_name = 'event_time'\n",
    "\n",
    "# View the dataset\n",
    "print(lab_test_data.dtypes)\n",
    "lab_test_data.head()"
   ]
  },
  {
   "attachments": {},
   "cell_type": "markdown",
   "metadata": {},
   "source": [
    "Você pode adicionar novos recursos a qualquer momento durante o processamento de dados, dependendo das necessidades, usando o SDK Python do SageMaker ou o SageMaker Studio.\n",
    "\n",
    "Neste laboratório, como parte das etapas de processamento, você vai adicionar um recurso usando o SDK Python do SageMaker. Esse recurso é uma combinação ponderada de duas colunas no conjunto de dados e ajuda a treinar o modelo com mais eficiência.\n",
    "\n",
    "Crie um recurso prático combinando as colunas age e hours_per_week para identificar clientes que estão avançados na carreira."
   ]
  },
  {
   "cell_type": "code",
   "execution_count": null,
   "metadata": {},
   "outputs": [],
   "source": [
    "#add-feature\n",
    "\n",
    "lab_test_data = lab_test_data.assign(\n",
    "    workability = 0.5*lab_test_data.age + 0.5*lab_test_data.hours_per_week)\n",
    "\n",
    "lab_test_data.head()"
   ]
  },
  {
   "attachments": {},
   "cell_type": "markdown",
   "metadata": {},
   "source": [
    "### Tarefa 2.3.3: Criar um grupo de recursos no SageMaker Feature Store\n",
    "\n",
    "Para fazer a ingestão de recursos no SageMaker Feature Store, primeiro exclua as definições de recursos (nome do recurso e tipo de dados) de todos os recursos que pertencem ao grupo de recursos.\n",
    "\n",
    "Um só recurso corresponde a uma coluna no conjunto de dados. Um grupo de recursos é um esquema predefinido de uma coleção de recursos. Cada recurso no grupo de recursos tem um tipo e um nome de dados especificados. Um único registro em um grupo de recursos corresponde a uma linha no dataframe. Um Feature Store é uma coleção de grupos de recursos. \n",
    "\n",
    "Consulte [Criar, armazenar e compartilhar recursos com o Amazon SageMaker Feature Store](https://docs.aws.amazon.com/sagemaker/latest/dg/feature-store.html) para saber mais sobre o SageMaker Feature Store.\n",
    "\n",
    "Para iniciar o processo de criação de uma definição de recurso, liste o esquema de cada recurso."
   ]
  },
  {
   "cell_type": "code",
   "execution_count": null,
   "metadata": {},
   "outputs": [],
   "source": [
    "#list-column-schemas\n",
    "\n",
    "column_schemas = [\n",
    "    {\n",
    "        \"name\": \"record\",\n",
    "        \"type\": \"string\"\n",
    "    },\n",
    "    {\n",
    "        \"name\": \"event_time\",\n",
    "        \"type\": \"float\"\n",
    "    },\n",
    "    {\n",
    "        \"name\": \"income\",\n",
    "        \"type\": \"string\"\n",
    "    },\n",
    "    {\n",
    "        \"name\": \"age\",\n",
    "        \"type\": \"long\"\n",
    "    },\n",
    "    {\n",
    "        \"name\": \"education\",\n",
    "        \"type\": \"float\"\n",
    "    },\n",
    "    {\n",
    "        \"name\": \"education_num\",\n",
    "        \"type\": \"float\"\n",
    "    },\n",
    "    {\n",
    "        \"name\": \"capital_gain\",\n",
    "        \"type\": \"long\"\n",
    "    },\n",
    "    {\n",
    "        \"name\": \"capital_loss\",\n",
    "        \"type\": \"long\"\n",
    "    },\n",
    "    {\n",
    "        \"name\": \"hours_per_week\",\n",
    "        \"type\": \"long\"\n",
    "    },\n",
    "    {\n",
    "        \"name\": \"sex\",\n",
    "        \"type\": \"float\"\n",
    "    },\n",
    "    {\n",
    "        \"name\": \"workclass\",\n",
    "        \"type\": \"array\"\n",
    "    },\n",
    "    {\n",
    "        \"name\": \"marital_status\",\n",
    "        \"type\": \"array\"\n",
    "    },\n",
    "    {\n",
    "        \"name\": \"occupation\",\n",
    "        \"type\": \"array\"\n",
    "    },\n",
    "    {\n",
    "        \"name\": \"relationship\",\n",
    "        \"type\": \"array\"\n",
    "    },\n",
    "    {\n",
    "        \"name\": \"race\",\n",
    "        \"type\": \"array\"\n",
    "    },\n",
    "    {\n",
    "        \"name\": \"workability\",\n",
    "        \"type\": \"float\"\n",
    "    }\n",
    "]\n"
   ]
  },
  {
   "cell_type": "markdown",
   "metadata": {},
   "source": [
    "Agora que o esquema está definido, crie a entrada das definições de recurso. Configure um mapeamento de tipo para os valores flutuantes e longos do conjunto de dados como FRACTIONAL e INTEGRAL.\n",
    "\n",
    "Depois, crie a definição de recurso configurando os valores de **feature_name** e **feature_type** em todas as colunas no esquema definido."
   ]
  },
  {
   "cell_type": "code",
   "execution_count": null,
   "metadata": {},
   "outputs": [],
   "source": [
    "#create-feature-definitions\n",
    "\n",
    "default_feature_type = FeatureTypeEnum.STRING\n",
    "column_to_feature_type_mapping = {\n",
    "    \"float\": FeatureTypeEnum.FRACTIONAL,\n",
    "    \"long\": FeatureTypeEnum.INTEGRAL\n",
    "}\n",
    "\n",
    "feature_definitions = [\n",
    "    FeatureDefinition(\n",
    "        feature_name=column_schema['name'], \n",
    "        feature_type=column_to_feature_type_mapping.get(column_schema['type'], default_feature_type)\n",
    "    ) for column_schema in column_schemas\n",
    "]"
   ]
  },
  {
   "attachments": {},
   "cell_type": "markdown",
   "metadata": {},
   "source": [
    "No SageMaker Feature Store, os grupos de recursos podem ser somente on-line, somente off-line ou ambos. Neste laboratório, você usa os armazenamentos on-line e off-line, portanto, **enable_online_store** é definido como **True**.\n",
    "- O armazenamento on-line é indicado principalmente para dar suporte a previsões em tempo real que precisam de leituras com latência de poucos milissegundos e gravações com alto throughput.\n",
    "- O armazenamento off-line é indicado principalmente para previsões em lote e treinamento do modelo. O armazenamento off-line aceita apenas acréscimos e pode ser usado para armazenar e acessar dados históricos de recurso.\n",
    "\n",
    "Quando o Feature Store está definido para armazenamento on-line e off-line, todos os recursos que o armazenamento on-line ingere são replicados no armazenamento off-line. \n",
    "\n",
    "Configure o grupo de recursos, especificando opções para as seguintes configurações:\n",
    "- **feature_group_name**: o nome do grupo de recursos\n",
    "- **feature_store_offline_s3_uri**: o local do bucket do Amazon Simple Storage Service (Amazon S3) em que o SageMaker Feature Store grava dados no armazenamento off-line de um grupo de recursos.\n",
    "- **enable_online_store**: controla se um armazenamento on-line está ativado ou não"
   ]
  },
  {
   "cell_type": "code",
   "execution_count": null,
   "metadata": {},
   "outputs": [],
   "source": [
    "#configure-feature-store\n",
    "\n",
    "# flow name and a unique ID for this export (used later as the processing job name for the export)\n",
    "flow_name = \"DataWranglerLab\"\n",
    "flow_export_id = f\"{time.strftime('%d-%H-%M-%S', time.gmtime())}-{str(uuid.uuid4())[:8]}\"\n",
    "flow_export_name = f\"flow-{flow_export_id}\"\n",
    "feature_group_name = f\"FG-{flow_name}-{str(uuid.uuid4())[:8]}\"\n",
    "print(f\"Feature Group Name: {feature_group_name}\")\n",
    "\n",
    "feature_store_offline_s3_uri = 's3://' + bucket\n",
    "enable_online_store = True"
   ]
  },
  {
   "cell_type": "markdown",
   "metadata": {},
   "source": [
    "Agora que o Feature Store está configurado, definida uma Região da AWS e inicie uma sessão. Depois, configure um cliente do SageMaker e um runtime do Feature Store. Por fim, configure a sessão do Feature Store.\n",
    "\n",
    "Durante a configuração de uma sessão do Feature Store, os valores de **boto_session**, **sagemaker_client** e **sagemaker_featurestore_runtime_client** são definidos."
   ]
  },
  {
   "cell_type": "code",
   "execution_count": null,
   "metadata": {},
   "outputs": [],
   "source": [
    "#set-up-sagemaker-feature-store-session\n",
    "\n",
    "sagemaker_client = sess.client(service_name='sagemaker', region_name=region)\n",
    "featurestore_runtime = sess.client(service_name='sagemaker-featurestore-runtime', region_name=region)\n",
    "\n",
    "feature_store_session = Session(\n",
    "    boto_session=sess,\n",
    "    sagemaker_client=sagemaker_client,\n",
    "    sagemaker_featurestore_runtime_client=featurestore_runtime\n",
    ")"
   ]
  },
  {
   "cell_type": "markdown",
   "metadata": {},
   "source": [
    "Inicialize o grupo de recursos usando os parâmetros que já foram configurados e invoque a API do Feature Store para criar o grupo de recursos."
   ]
  },
  {
   "cell_type": "code",
   "execution_count": null,
   "metadata": {},
   "outputs": [],
   "source": [
    "#initialize-feature-group\n",
    "\n",
    "feature_group = FeatureGroup(\n",
    "    name=feature_group_name, sagemaker_session=feature_store_session, feature_definitions=feature_definitions)\n",
    "\n",
    "feature_group.create(\n",
    "    s3_uri=feature_store_offline_s3_uri,\n",
    "    record_identifier_name=record_identifier_feature_name,\n",
    "    event_time_feature_name=event_time_feature_name,\n",
    "    role_arn=role,\n",
    "    enable_online_store=enable_online_store\n",
    ")"
   ]
  },
  {
   "cell_type": "markdown",
   "metadata": {},
   "source": [
    "### Tarefa 2.3.3: Confirmar se o grupo de recursos foi criado\n",
    "\n",
    "O grupo de recursos está pronto agora. Confirme se o grupo de recursos foi criado com sucesso.\n",
    "\n",
    "Espere até que o grupo de recursos fique pronto usando a API Describe. Essa função verifica a resposta retornada pela API Describe e espera o status **Created** (Criado)."
   ]
  },
  {
   "cell_type": "code",
   "execution_count": null,
   "metadata": {},
   "outputs": [],
   "source": [
    "#wait-for-describe\n",
    "\n",
    "def wait_for_feature_group_creation_complete(feature_group):\n",
    "    \"\"\"Helper function to wait for the completions of creating a feature group\"\"\"\n",
    "    response = feature_group.describe()\n",
    "    status = response.get(\"FeatureGroupStatus\")\n",
    "    while status == \"Creating\":\n",
    "        print(\"Waiting for Feature Group Creation\")\n",
    "        time.sleep(5)\n",
    "        response = feature_group.describe()\n",
    "        status = response.get(\"FeatureGroupStatus\")\n",
    "\n",
    "    if status != \"Created\":\n",
    "        print(f\"Failed to create feature group, response: {response}\")\n",
    "        failureReason = response.get(\"FailureReason\", \"\")\n",
    "        raise SystemExit(\n",
    "            f\"Failed to create feature group {feature_group.name}, status: {status}, reason: {failureReason}\"\n",
    "        )\n",
    "    print(f\"FeatureGroup {feature_group.name} successfully created.\")\n",
    "\n",
    "wait_for_feature_group_creation_complete(feature_group=feature_group)"
   ]
  },
  {
   "attachments": {},
   "cell_type": "markdown",
   "metadata": {},
   "source": [
    "Liste os grupos de recursos usando a API ListFeatureGroups."
   ]
  },
  {
   "cell_type": "code",
   "execution_count": null,
   "metadata": {},
   "outputs": [],
   "source": [
    "#list-feature-groups\n",
    "\n",
    "response = sagemaker_client.list_feature_groups()\n",
    "print(json.dumps(response, indent=4, sort_keys=True, default=str))"
   ]
  },
  {
   "cell_type": "markdown",
   "metadata": {},
   "source": [
    "### Tarefa 2.3.4: Visualizar o grupo de recursos no SageMaker Studio"
   ]
  },
  {
   "attachments": {},
   "cell_type": "markdown",
   "metadata": {},
   "source": [
    "Você criou um grupo de recursos do SageMaker usando o SDK Python do SageMaker. Agora, examine o grupo de recursos no SageMaker Studio para descobrir mais detalhes.\n",
    "\n",
    "1. Na aba de navegação à esquerda do notebook, selecione o ícone **Página inicial do SageMaker**.\n",
    "\n",
    "A próxima etapa abre uma nova aba no SageMaker Studio. Para seguir essas orientações, escolha uma das seguintes opções:\n",
    "- **Opção 1:** visualizar as abas lado a lado. Para criar uma visualização de tela dividida por meio da janela principal do SageMaker Studio, arraste a aba **lab_5.ipynb** para a lateral ou escolha (clique com o botão direito) a aba **lab_5.ipynb** e selecione **Nova visualização do notebook**. Agora, as orientações ficam visíveis enquanto você explora o grupo de recursos.\n",
    "- **Opção 2:** alternar entre as abas do SageMaker Studio para seguir essas instruções. Ao terminar de explorar o grupo de recursos, retorne ao notebook selecionando a aba **lab_5.ipynb**.\n",
    "\n",
    "2. Expanda seção **Data** (Dados) e escolha **Feature Store**.\n",
    "3. O grupo de recursos recém-criado aparece na aba Feature Store. Você pode examinar os detalhes do grupo de recursos. Para encontrar mais detalhes, escolha o grupo de recursos que começa com **FG-DataWranglerLab-**. Examine os seguintes detalhes enquanto explora o SageMaker Feature Store no SageMaker Studio:\n",
    "    - **Features** (Recursos): descreve todos os recursos no grupo de recursos, incluindo o **Tipo** e quando o recurso foi criado, com base na coluna **event_time**.\n",
    "    - **Details** (Detalhes): descreve os metadados do grupo de recursos, incluindo o **Feature group status** (Status do grupo de recursos), o **Record identifier** (Identificador do registro) que você definiu inicialmente no notebook, o **Store type** (Tipo de armazenamento) definido como On-line/Off-line e o **Table name** (Nome da tabela) que você pode usar para consultar dados do Feature Store off-line com o Athena.\n",
    "    - **Sample query** (Consulta de exemplo): oferece várias consultas de exemplo que você pode usar para consultar dados no Feature Store off-line."
   ]
  },
  {
   "cell_type": "markdown",
   "metadata": {},
   "source": [
    "## Tarefa 2.4: Consultar os armazenamentos on-line e off-line\n",
    "\n",
    "Você criou um grupo de recursos. Agora, você vai fazer a ingestão de dados no grupos recursos e extrair registros de um armazenamento on-line e de um off-line com o Athena.\n",
    "\n",
    "- Fazer a ingestão de dados em um grupo de recursos.\n",
    "- Extrair registros de um armazenamento on-line.\n",
    "- Extrair registros de um armazenamento off-line usando o Athena."
   ]
  },
  {
   "attachments": {},
   "cell_type": "markdown",
   "metadata": {},
   "source": [
    "### Tarefa 2.4.1: Ingerir dados em um grupo de recursos\n",
    "\n",
    "Depois de criar um grupo de recursos, você vai inserir dados nele. Use a chamada da API PutRecord usando **ingest()** com o SDK Python do SageMaker. Sempre que criar um grupo de recursos ou quiser adicionar registros, você vai fazer a ingestão dos recursos no grupo de recursos. \n",
    "\n",
    "Para este conjunto de dados, a ingestão exige de três a cinco minutos. A célula é concluída quando uma saída como a seguinte é exibida:\n",
    "\n",
    "**IngestionManagerPandas(feature_group_name='FG-DataWranglerLab-13ee4f26', sagemaker_fs_runtime_client_config=<botocore.config.Config object at 0x7fdb7fccee60>, sagemaker_session=<sagemaker.session.Session object at 0x7fdb82a900d0>, max_workers=1, max_processes=1, profile_name=None, _async_result=None, _processing_pool=None, _failed_indices=[])**"
   ]
  },
  {
   "cell_type": "code",
   "execution_count": null,
   "metadata": {},
   "outputs": [],
   "source": [
    "#ingest-records\n",
    "\n",
    "feature_group.ingest(data_frame=lab_test_data, wait=True)"
   ]
  },
  {
   "cell_type": "markdown",
   "metadata": {},
   "source": [
    "### Tarefa 2.4.2: extrair registros de um armazenamento on-line\n",
    "\n",
    "O armazenamento on-line é útil principalmente porque permite retornar um subconjunto de recursos com rapidez.\n",
    "\n",
    "Agora que os dados já foram ingeridos, extraia um registro de um armazenamento on-line usando **get_record**."
   ]
  },
  {
   "cell_type": "code",
   "execution_count": null,
   "metadata": {},
   "outputs": [],
   "source": [
    "#get-record\n",
    "\n",
    "record = random.randint(0, len(lab_test_data.index)-1)\n",
    "sample_record = featurestore_runtime.get_record(FeatureGroupName=feature_group_name, RecordIdentifierValueAsString=str(record))\n",
    "\n",
    "print(json.dumps(sample_record, indent=4, sort_keys=True, default=str))"
   ]
  },
  {
   "cell_type": "markdown",
   "metadata": {},
   "source": [
    "Agora, obtenha vários registros do grupo de recursos usando **batch_get_record**. Vários registros já foram escolhidos para você, mas fique à vontade para alterar os registros listados em **records_list**."
   ]
  },
  {
   "cell_type": "code",
   "execution_count": null,
   "metadata": {},
   "outputs": [],
   "source": [
    "#batch-get-record\n",
    "\n",
    "records_list = [\"7789\", \"5646\", \"309\", \"24528\"]\n",
    "\n",
    "batch_records = featurestore_runtime.batch_get_record(\n",
    "    Identifiers=[\n",
    "        {\n",
    "            \"FeatureGroupName\": feature_group_name,\n",
    "            \"RecordIdentifiersValueAsString\": records_list,\n",
    "        }\n",
    "    ]\n",
    ")\n",
    "\n",
    "print(json.dumps(batch_records, indent=4, sort_keys=True, default=str))"
   ]
  },
  {
   "cell_type": "markdown",
   "metadata": {},
   "source": [
    "### Tarefa 2.4.3 Extrair registros de um armazenamento off-line usando o Athena"
   ]
  },
  {
   "cell_type": "markdown",
   "metadata": {},
   "source": [
    "Agora que você já extraiu registros de um armazenamento on-line, use o Athena para extrair um armazenamento off-line. \n",
    "\n",
    "Você pode consultar o conjunto de dados completo ao treinar e ajustar o modelo ou consultar um subconjunto de registros para inferência. Como o SageMaker Feature Store retém um horário do evento para cada registro, você pode treinar os modelos com o conjunto exato de recursos de um horário anterior específico sem correr o risco de incluir dados além desse horário. \n",
    "\n",
    "Como você ajustaria a consulta para alterar o subconjunto de dados retornados do armazenamento off-line?\n",
    "\n",
    "Primeiro, escolha as configurações da consulta. Você pode personalizar a consulta para examinar qualquer subconjunto dos dados armazenados no grupo de recursos. A consulta a seguir é uma definição básica da consulta SELECT."
   ]
  },
  {
   "cell_type": "code",
   "execution_count": null,
   "metadata": {},
   "outputs": [],
   "source": [
    "#query-settings\n",
    "# Confirm the Athena settings are configured\n",
    "try:\n",
    "    boto3.client('athena').update_work_group(\n",
    "        WorkGroup='primary',\n",
    "        ConfigurationUpdates={\n",
    "            'EnforceWorkGroupConfiguration':False\n",
    "        }\n",
    "    )\n",
    "except Exception:\n",
    "    pass\n",
    "\n",
    "#Create the query\n",
    "query = feature_group.athena_query()\n",
    "table = query.table_name\n",
    "query_string = f'SELECT * FROM \"{table}\" '\n",
    "output_location = f's3://{bucket}/query_results/'\n",
    "\n",
    "print(f'Athena query output location: \\n{output_location}')"
   ]
  },
  {
   "attachments": {},
   "cell_type": "markdown",
   "metadata": {},
   "source": [
    "Quando as opções estiverem definidas, execute a consulta e exiba os resultados em formato de tabela."
   ]
  },
  {
   "cell_type": "code",
   "execution_count": null,
   "metadata": {},
   "outputs": [],
   "source": [
    "#run-athena-query\n",
    "\n",
    "query.run(query_string=query_string, output_location=output_location)\n",
    "query.wait()\n",
    "df = query.as_dataframe()\n",
    "df.head()"
   ]
  },
  {
   "attachments": {},
   "cell_type": "markdown",
   "metadata": {},
   "source": [
    "### Conclusão\n",
    "\n",
    "Parabéns! Você usou o SageMaker Feature Store para fazer definições de recurso para um grupo de recursos no SageMaker Studio e com o SDK Python do SageMaker. Com o grupo de recursos recém-criado, você já pode treinar e ajustar o modelo usando o SageMaker Experiments no próximo laboratório. Mais adiante no curso, o SageMaker Feature Store também será útil para suplementar dados em solicitações de inferência com a funcionalidade GetRecord de baixa latência usando o armazenamento on-line. Você vai continuar trabalhando com esse conjunto de dados de receita de cliente no próximo laboratório.\n",
    "\n",
    "## Limpeza\n",
    "\n",
    "Você concluiu este notebook. Passe para a próxima parte do laboratório da seguinte forma:\n",
    "\n",
    "- Feche este arquivo de notebook.\n",
    "- Retorne à sessão do laboratório e continue com a **Conclusão**."
   ]
  }
 ],
 "metadata": {
  "kernelspec": {
   "display_name": "Python 3.9.6 64-bit",
   "language": "python",
   "name": "python3"
  },
  "language_info": {
   "name": "python",
   "version": "3.9.6"
  },
  "orig_nbformat": 4,
  "vscode": {
   "interpreter": {
    "hash": "2e45558c452cedcb26631315a9b3b77e80a9c32d662ed25df58964b99bc5b9b9"
   }
  }
 },
 "nbformat": 4,
 "nbformat_minor": 2
}
