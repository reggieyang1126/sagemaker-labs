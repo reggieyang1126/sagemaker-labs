{
 "cells": [
  {
   "cell_type": "markdown",
   "metadata": {},
   "source": [
    "# Tarea 2: usar SageMaker Feature Store"
   ]
  },
  {
   "attachments": {},
   "cell_type": "markdown",
   "metadata": {},
   "source": [
    "## Tarea 2.1: opciones de Feature Store\n",
    "\n",
    "Existen tres formas principales de almacenar funciones en Amazon SageMaker:\n",
    "1. Usar Amazon SageMaker Feature Store como destino de Amazon SageMaker Data Wrangler después de completar los pasos de preprocesamiento y de agregar las funciones\n",
    "2. Exportar un cuaderno de SageMaker Data Wrangler que se ejecute a través de la definición de funciones, la creación del grupo de funciones y la ingesta de datos a SageMaker Feature Store\n",
    "3. Usar el SDK para Python de SageMaker en un cuaderno personalizado que se ejecute a través de la definición de funciones, la creación del grupo de funciones y la ingesta de datos a SageMaker Feature Store\n",
    "\n",
    "Cada una de estas tres opciones se describe en las siguientes secciones.\n",
    "\n",
    "### Use SageMaker Feature Store como un destino de SageMaker Data Wrangler\n",
    "\n",
    "Para agregar SageMaker Feature Store como un destino en Amazon SageMaker Studio, use la opción **Add destination** (Agregar destino). Cuando complete los pasos de preprocesamiento en SageMaker Data Wrangler, puede seleccionar **Add destination** (Agregar destino) en su flujo. SageMaker Studio lo guiará para crear grupos de funciones y le mostrará cómo completar los pasos necesarios para ingerir sus datos preprocesados a SageMaker Feature Store.\n",
    "\n",
    "Consulte [Cree funciones en Amazon Sagemaker sin código y almacénelas con facilidad](https://aws.amazon.com/blogs/machine-learning/easily-create-and-store-features-in-amazon-sagemaker-without-code/#save_features_to_feature_store) para obtener más información sobre cómo agregar SageMaker Feature Store como un destino.\n",
    "\n",
    "Consulte [Use Amazon SageMaker Feature Store con Amazon SageMaker Studio](https://docs.aws.amazon.com/sagemaker/latest/dg/feature-store-use-with-studio.html) para obtener más información sobre cómo crear un grupo de funciones en RSageMaker Studio.\n",
    "\n",
    "### Exporte un cuaderno desde SageMaker Data Wrangler\n",
    "\n",
    "Para crear grupos de funciones, use la opción **Export to** (Exportar a) en SageMaker Studio. Cuando usa esta opción, puede crear un cuaderno que incluya todos los comandos necesarios para crear un grupo de funciones.\n",
    "\n",
    "Con algunas personalizaciones, puede ejecutar el cuaderno para hacer lo siguiente:\n",
    "- Crear una definición de función según su conjunto de datos\n",
    "- Crear un grupo de funciones usando la definición de función\n",
    "- Almacenar el grupo de funciones en SageMaker Feature Store\n",
    "- Configurar las entradas y salidas de un trabajo de procesamiento\n",
    "\n",
    "Este laboratorio es similar al cuaderno exportado. Se centra en la primera parte del cuaderno exportado. Muestra cómo ingerir datos al grupo de funciones y extraer registros de un almacén en línea y un almacén sin conexión.\n",
    "\n",
    "### Use el SDK para Python de SageMaker en un cuaderno personalizado\n",
    "\n",
    "En este laboratorio, cree un grupo de funciones y extraiga registros de un almacén en línea y un almacén sin conexión. Aprenda cómo funciona SageMaker Feature Store con un cuaderno personalizado. Configure el entorno en la Tarea 2. Luego, complete las siguientes tareas:\n",
    "\n",
    "Tarea 2.3: configurar SageMaker Feature Store\n",
    "- Cree funciones en un archivo de cuaderno.\n",
    "- Cree un grupo de funciones en SageMaker Feature Store.\n",
    "- Confirme que el grupo de funciones se haya creado.\n",
    "- Visualice el grupo de funciones en SageMaker Studio.\n",
    "\n",
    "Tarea 2.4: consultar los almacenes en línea y sin conexión\n",
    "- Ingiera datos al grupo de funciones.\n",
    "- Extraiga registros de un almacén en línea.\n",
    "- Extraiga registros de un almacén sin conexión con Amazon Athena."
   ]
  },
  {
   "cell_type": "markdown",
   "metadata": {},
   "source": [
    "## Tarea 2.2: configuración del entorno\n",
    "\n",
    "Instale los paquetes y las dependencias."
   ]
  },
  {
   "cell_type": "code",
   "execution_count": null,
   "metadata": {},
   "outputs": [],
   "source": [
    "#install-dependencies\n",
    "\n",
    "import boto3\n",
    "import json\n",
    "import pandas as pd\n",
    "import sagemaker\n",
    "import sagemaker_datawrangler\n",
    "import time\n",
    "import uuid\n",
    "import random\n",
    "from sagemaker.session import Session\n",
    "from sagemaker.feature_store.feature_definition import FeatureDefinition\n",
    "from sagemaker.feature_store.feature_definition import FeatureTypeEnum\n",
    "from sagemaker.feature_store.feature_group import FeatureGroup\n",
    "\n",
    "\n",
    "region = boto3.Session().region_name\n",
    "sess = boto3.Session(region_name=region)\n",
    "bucket = sagemaker.Session().default_bucket()\n",
    "role = sagemaker.get_execution_role()"
   ]
  },
  {
   "cell_type": "markdown",
   "metadata": {},
   "source": [
    "Importe el conjunto de datos procesados del cliente."
   ]
  },
  {
   "cell_type": "code",
   "execution_count": null,
   "metadata": {},
   "outputs": [],
   "source": [
    "#explore-dataset\n",
    "\n",
    "column_list = ['income','age','education','education_num','capital_gain','capital_loss','hours_per_week','sex','workclass','marital_status','occupation','relationship','race']\n",
    "lab_test_data = pd.read_csv('adult_data_processed.csv', names=(column_list), header=1)\n",
    "pd.set_option('display.max_columns', 500)\n",
    "pd.set_option('display.max_rows', 20)"
   ]
  },
  {
   "attachments": {},
   "cell_type": "markdown",
   "metadata": {},
   "source": [
    "Luego, revise una muestra del conjunto de datos en una tabla."
   ]
  },
  {
   "cell_type": "code",
   "execution_count": null,
   "metadata": {},
   "outputs": [],
   "source": [
    "#view-dataset\n",
    "\n",
    "lab_test_data.dtypes\n",
    "lab_test_data.head()"
   ]
  },
  {
   "cell_type": "markdown",
   "metadata": {},
   "source": [
    "## Tarea 2.3: configurar SageMaker Feature Store\n",
    "\n",
    "Cree funciones para entrenar su modelo. Extraiga los datos procesados de su laboratorio de Amazon SageMaker Data Wrangler para crear un grupo de funciones con SageMaker Feature Store.\n",
    "\n",
    "- Cree funciones en un archivo de cuaderno.\n",
    "- Cree un grupo de funciones en SageMaker Feature Store.\n",
    "- Confirme que el grupo de funciones se haya creado.\n",
    "- Visualice el grupo de funciones en SageMaker Studio."
   ]
  },
  {
   "cell_type": "markdown",
   "metadata": {},
   "source": [
    "## Tarea 2.3.1: crear funciones en un archivo de cuaderno"
   ]
  },
  {
   "attachments": {},
   "cell_type": "markdown",
   "metadata": {},
   "source": [
    "Para crear un grupo de funciones, necesita columnas para asignar las funciones **record_identifier_name** e **event_time_feature_name**. Para cumplir con este requisito, agregue las columnas **record** e **event_time** al conjunto de datos.\n",
    "- **record_identifier_name** hace referencia a uno de los nombres de una función definida en las definiciones de funciones del grupo. En este laboratorio, cree una columna de ID únicos llamada **record**.\n",
    "- **event_time_feature_name** es un momento determinado en el que ocurre un nuevo evento que corresponde a la creación o actualización de un registro en un grupo de funciones. Todos los registros del grupo de funciones deben tener un horario de evento correspondiente. Se puede usar para hacer un seguimiento de los cambios en un registro conforme avanza el tiempo. En este laboratorio, cree una columna llamada **event_time**.\n",
    "\n",
    "Consulte [Introducción a Amazon SageMaker Feature Store](https://docs.aws.amazon.com/sagemaker/latest/dg/feature-store-concepts.html) para obtener más información sobre el nombre del identificador de registros o el horario del evento."
   ]
  },
  {
   "cell_type": "code",
   "execution_count": null,
   "metadata": {},
   "outputs": [],
   "source": [
    "#add-required-columns\n",
    "\n",
    "# Add record and event_time columns\n",
    "current_time_sec = int(round(time.time()))\n",
    "lab_test_data.insert(0, 'record', range(0, 0 + len(lab_test_data)))\n",
    "lab_test_data.insert(1, 'event_time', [current_time_sec]*len(lab_test_data))\n",
    "lab_test_data['record'] = lab_test_data['record'].astype('string')\n",
    "lab_test_data['event_time'] = lab_test_data['event_time'].astype('float64')\n",
    "\n",
    "# Set the record-and-event_time-feature-names\n",
    "record_identifier_feature_name = 'record'\n",
    "event_time_feature_name = 'event_time'\n",
    "\n",
    "# View the dataset\n",
    "print(lab_test_data.dtypes)\n",
    "lab_test_data.head()"
   ]
  },
  {
   "attachments": {},
   "cell_type": "markdown",
   "metadata": {},
   "source": [
    "Puede agregar funciones nuevas en cualquier momento durante el procesamiento de datos según sus necesidades, ya sea con el SDK para Python de SageMaker o con SageMaker Studio.\n",
    "\n",
    "En este laboratorio, como parte de los pasos del preprocesamiento de datos, use el SDK para Python de SageMaker para agregar una función. Esta función es una combinación ponderada de dos columnas en el conjunto de datos y permite que el modelo se entrene de forma más eficiente.\n",
    "\n",
    "Cree una función de viabilidad combinando las columnas age y hours_per_week para identificar a los clientes que están más adelantados en sus carreras."
   ]
  },
  {
   "cell_type": "code",
   "execution_count": null,
   "metadata": {},
   "outputs": [],
   "source": [
    "#add-feature\n",
    "\n",
    "lab_test_data = lab_test_data.assign(\n",
    "    workability = 0.5*lab_test_data.age + 0.5*lab_test_data.hours_per_week)\n",
    "\n",
    "lab_test_data.head()"
   ]
  },
  {
   "attachments": {},
   "cell_type": "markdown",
   "metadata": {},
   "source": [
    "### Tarea 2.2: crear un grupo de funciones en SageMaker Feature Store\n",
    "\n",
    "Para ingerir funciones a SageMaker Feature Store, primero establezca las definiciones (nombre de la función y tipo de datos) de todas las funciones que pertenecen al grupo.\n",
    "\n",
    "Una sola función corresponde a una columna de su conjunto de datos. Un grupo de funciones es un esquema predefinido para una recopilación de funciones. Cada función del grupo tiene un tipo de datos y un nombre especificados. Un solo registro de un grupo de funciones corresponde a una fila de su DataFrame. Un almacén de funciones es una recopilación de grupos de funciones. \n",
    "\n",
    "Consulte [Cree, almacene y comparta funciones con Amazon SageMaker Feature Store](https://docs.aws.amazon.com/sagemaker/latest/dg/feature-store.html) para obtener más información sobre SageMaker Feature Store.\n",
    "\n",
    "Para comenzar el proceso de crear una definición de función, mencione el esquema para cada función."
   ]
  },
  {
   "cell_type": "code",
   "execution_count": null,
   "metadata": {},
   "outputs": [],
   "source": [
    "#list-column-schemas\n",
    "\n",
    "column_schemas = [\n",
    "    {\n",
    "        \"name\": \"record\",\n",
    "        \"type\": \"string\"\n",
    "    },\n",
    "    {\n",
    "        \"name\": \"event_time\",\n",
    "        \"type\": \"float\"\n",
    "    },\n",
    "    {\n",
    "        \"name\": \"income\",\n",
    "        \"type\": \"string\"\n",
    "    },\n",
    "    {\n",
    "        \"name\": \"age\",\n",
    "        \"type\": \"long\"\n",
    "    },\n",
    "    {\n",
    "        \"name\": \"education\",\n",
    "        \"type\": \"float\"\n",
    "    },\n",
    "    {\n",
    "        \"name\": \"education_num\",\n",
    "        \"type\": \"float\"\n",
    "    },\n",
    "    {\n",
    "        \"name\": \"capital_gain\",\n",
    "        \"type\": \"long\"\n",
    "    },\n",
    "    {\n",
    "        \"name\": \"capital_loss\",\n",
    "        \"type\": \"long\"\n",
    "    },\n",
    "    {\n",
    "        \"name\": \"hours_per_week\",\n",
    "        \"type\": \"long\"\n",
    "    },\n",
    "    {\n",
    "        \"name\": \"sex\",\n",
    "        \"type\": \"float\"\n",
    "    },\n",
    "    {\n",
    "        \"name\": \"workclass\",\n",
    "        \"type\": \"array\"\n",
    "    },\n",
    "    {\n",
    "        \"name\": \"marital_status\",\n",
    "        \"type\": \"array\"\n",
    "    },\n",
    "    {\n",
    "        \"name\": \"occupation\",\n",
    "        \"type\": \"array\"\n",
    "    },\n",
    "    {\n",
    "        \"name\": \"relationship\",\n",
    "        \"type\": \"array\"\n",
    "    },\n",
    "    {\n",
    "        \"name\": \"race\",\n",
    "        \"type\": \"array\"\n",
    "    },\n",
    "    {\n",
    "        \"name\": \"workability\",\n",
    "        \"type\": \"float\"\n",
    "    }\n",
    "]\n"
   ]
  },
  {
   "cell_type": "markdown",
   "metadata": {},
   "source": [
    "Ahora que ya definió el esquema, cree la entrada para las definiciones de las funciones. Configure un mapeo de tipos para los valores long y float del conjunto de datos de FRACTIONAL e INTEGRAL.\n",
    "\n",
    "Luego, cree la definición de su función estableciendo los valores para **feature_name** y **feature_type** para todas las columnas del esquema que definió."
   ]
  },
  {
   "cell_type": "code",
   "execution_count": null,
   "metadata": {},
   "outputs": [],
   "source": [
    "#create-feature-definitions\n",
    "\n",
    "default_feature_type = FeatureTypeEnum.STRING\n",
    "column_to_feature_type_mapping = {\n",
    "    \"float\": FeatureTypeEnum.FRACTIONAL,\n",
    "    \"long\": FeatureTypeEnum.INTEGRAL\n",
    "}\n",
    "\n",
    "feature_definitions = [\n",
    "    FeatureDefinition(\n",
    "        feature_name=column_schema['name'], \n",
    "        feature_type=column_to_feature_type_mapping.get(column_schema['type'], default_feature_type)\n",
    "    ) for column_schema in column_schemas\n",
    "]"
   ]
  },
  {
   "attachments": {},
   "cell_type": "markdown",
   "metadata": {},
   "source": [
    "En SageMaker Feature Store, los grupos de funciones pueden ser del tipo “solo en línea”, “solo sin conexión” o ambos. En este laboratorio, usa almacenes en línea y sin conexión, de modo que **enable_online_store** debe estar configurado en **True**.\n",
    "- El almacén en línea está diseñado principalmente para brindar compatibilidad con predicciones en tiempo real que necesitan lecturas con baja latencia de milisegundos y escrituras de alto rendimiento.\n",
    "- El almacén sin conexión está diseñado principalmente para las predicciones de lotes y el entrenamiento de modelos. Además, es un almacén solo para anexar y se puede usar para almacenar datos históricos de funciones y acceder a ellos.\n",
    "\n",
    "Cuando su almacén en línea tiene ambas configuraciones, “sin conexión” y “en línea”, cualquier función que ingiera al almacén en línea se replicará en el almacén sin conexión. \n",
    "\n",
    "Para configurar el grupo de funciones, especifique las opciones para los siguientes parámetros de configuración:\n",
    "- **feature_group_name**: es el nombre del grupo de funciones.\n",
    "- **feature_store_offline_s3_uri**: es la ubicación del bucket de Amazon Simple Storage Service (Amazon S3) en el que SageMaker Feature Store escribe datos en el almacén sin conexión de un grupo de funciones.\n",
    "- **enable_online_store**: controla si hay o no un almacén en línea habilitado."
   ]
  },
  {
   "cell_type": "code",
   "execution_count": null,
   "metadata": {},
   "outputs": [],
   "source": [
    "#configure-feature-store\n",
    "\n",
    "# flow name and a unique ID for this export (used later as the processing job name for the export)\n",
    "flow_name = \"DataWranglerLab\"\n",
    "flow_export_id = f\"{time.strftime('%d-%H-%M-%S', time.gmtime())}-{str(uuid.uuid4())[:8]}\"\n",
    "flow_export_name = f\"flow-{flow_export_id}\"\n",
    "feature_group_name = f\"FG-{flow_name}-{str(uuid.uuid4())[:8]}\"\n",
    "print(f\"Feature Group Name: {feature_group_name}\")\n",
    "\n",
    "feature_store_offline_s3_uri = 's3://' + bucket\n",
    "enable_online_store = True"
   ]
  },
  {
   "cell_type": "markdown",
   "metadata": {},
   "source": [
    "Ahora que ya configuró su almacén de funciones, configure una región de AWS e inicie una sesión. Luego, configure un cliente de SageMaker y un tiempo de ejecución para el almacén de funciones. Por último, configure la sesión del almacén de funciones.\n",
    "\n",
    "Al configurar una sesión del almacén de funciones, se definen los valores **boto_session**, **sagemaker_client** y **sagemaker_featurestore_runtime_client**."
   ]
  },
  {
   "cell_type": "code",
   "execution_count": null,
   "metadata": {},
   "outputs": [],
   "source": [
    "#set-up-sagemaker-feature-store-session\n",
    "\n",
    "sagemaker_client = sess.client(service_name='sagemaker', region_name=region)\n",
    "featurestore_runtime = sess.client(service_name='sagemaker-featurestore-runtime', region_name=region)\n",
    "\n",
    "feature_store_session = Session(\n",
    "    boto_session=sess,\n",
    "    sagemaker_client=sagemaker_client,\n",
    "    sagemaker_featurestore_runtime_client=featurestore_runtime\n",
    ")"
   ]
  },
  {
   "cell_type": "markdown",
   "metadata": {},
   "source": [
    "Inicialice el grupo de funciones usando los parámetros que configuró antes e invoque la API de Feature Store para crear el grupo de funciones."
   ]
  },
  {
   "cell_type": "code",
   "execution_count": null,
   "metadata": {},
   "outputs": [],
   "source": [
    "#initialize-feature-group\n",
    "\n",
    "feature_group = FeatureGroup(\n",
    "    name=feature_group_name, sagemaker_session=feature_store_session, feature_definitions=feature_definitions)\n",
    "\n",
    "feature_group.create(\n",
    "    s3_uri=feature_store_offline_s3_uri,\n",
    "    record_identifier_name=record_identifier_feature_name,\n",
    "    event_time_feature_name=event_time_feature_name,\n",
    "    role_arn=role,\n",
    "    enable_online_store=enable_online_store\n",
    ")"
   ]
  },
  {
   "cell_type": "markdown",
   "metadata": {},
   "source": [
    "### Tarea 2.3.3: confirmar que el grupo de funciones se haya creado\n",
    "\n",
    "Su grupo de funciones ya debería estar listo. Confirme que el grupo de funciones se haya creado correctamente.\n",
    "\n",
    "Espere hasta que el grupo esté listo. Para ello, use la API Describe. Esta función revisa la respuesta que devolvió la API Describe y espera a que el estado sea **Created** (Creado)."
   ]
  },
  {
   "cell_type": "code",
   "execution_count": null,
   "metadata": {},
   "outputs": [],
   "source": [
    "#wait-for-describe\n",
    "\n",
    "def wait_for_feature_group_creation_complete(feature_group):\n",
    "    \"\"\"Helper function to wait for the completions of creating a feature group\"\"\"\n",
    "    response = feature_group.describe()\n",
    "    status = response.get(\"FeatureGroupStatus\")\n",
    "    while status == \"Creating\":\n",
    "        print(\"Waiting for Feature Group Creation\")\n",
    "        time.sleep(5)\n",
    "        response = feature_group.describe()\n",
    "        status = response.get(\"FeatureGroupStatus\")\n",
    "\n",
    "    if status != \"Created\":\n",
    "        print(f\"Failed to create feature group, response: {response}\")\n",
    "        failureReason = response.get(\"FailureReason\", \"\")\n",
    "        raise SystemExit(\n",
    "            f\"Failed to create feature group {feature_group.name}, status: {status}, reason: {failureReason}\"\n",
    "        )\n",
    "    print(f\"FeatureGroup {feature_group.name} successfully created.\")\n",
    "\n",
    "wait_for_feature_group_creation_complete(feature_group=feature_group)"
   ]
  },
  {
   "attachments": {},
   "cell_type": "markdown",
   "metadata": {},
   "source": [
    "Mencione los grupos de funciones usando la API ListFeatureGroups."
   ]
  },
  {
   "cell_type": "code",
   "execution_count": null,
   "metadata": {},
   "outputs": [],
   "source": [
    "#list-feature-groups\n",
    "\n",
    "response = sagemaker_client.list_feature_groups()\n",
    "print(json.dumps(response, indent=4, sort_keys=True, default=str))"
   ]
  },
  {
   "cell_type": "markdown",
   "metadata": {},
   "source": [
    "### Tarea 2.3.4: visualizar el grupo de funciones en SageMaker Studio"
   ]
  },
  {
   "attachments": {},
   "cell_type": "markdown",
   "metadata": {},
   "source": [
    "Ya creó un grupo de funciones de SageMaker usando el SDK para Python de SageMaker. Ahora, revise el grupo de funciones en SageMaker Studio para descubrir detalles adicionales.\n",
    "\n",
    "1. En la pestaña de navegación que se encuentra a la izquierda de su cuaderno, seleccione el ícono **SageMaker Home** (Inicio de SageMaker).\n",
    "\n",
    "El próximo paso abre una nueva pestaña en SageMaker Studio. Para seguir esas instrucciones, utilice las siguientes opciones:\n",
    "- **Opción 1**: ver las pestañas una al lado de la otra Para crear una vista de pantalla dividida de la ventana principal de SageMaker Studio, arrastre la pestaña **lab_5.ipynb** hacia el costado o seleccione (con el botón derecho del mouse) la pestaña **lab_5.ipynb** y elija la opción **New View for Notebook** (Nueva vista para el cuaderno). Ahora puede tener las instrucciones a la vista mientras explora el grupo de funciones.\n",
    "- **Opción 2**: alternar entre las pestañas de SageMaker Studio para seguir estas instrucciones. Cuando haya terminado de explorar el grupo de funciones, vuelva al cuaderno. Para ello, seleccione la pestaña **lab_5.ipynb**.\n",
    "\n",
    "2. Expanda la sección **Data** (Datos) y seleccione **Feature Store** (Almacén de funciones).\n",
    "3. El grupo de funciones que acaba de crear se muestra en la pestaña Feature Store. Puede revisar información detallada sobre el grupo de funciones. Para buscar más detalles, seleccione el grupo de funciones que comienza con **FG-DataWranglerLab-**. Examine los siguientes detalles mientras explora SageMaker Feature Store en SageMaker Studio.\n",
    "    - **Features** (Funciones): describe todas las funciones en su grupo de funciones, incluido el **tipo** y el momento en que se creó la función según la columna **event_time**.\n",
    "    **Details** (Detalles): describe los metadatos para el grupo de funciones, incluido el **estado del grupo de funciones**, el **identificador de registros** que configuró antes en el cuaderno, el **tipo de almacén** que estableció en En línea/Sin conexión y el **nombre de la tabla** que puede usar para consultar datos desde el almacén de funciones sin conexión con Athena.\n",
    "    **Sample Query** (Consulta de muestra): proporciona varias consultas de muestra que puede usar para consultar datos desde el almacén de funciones sin conexión."
   ]
  },
  {
   "cell_type": "markdown",
   "metadata": {},
   "source": [
    "## Tarea 2.4: consultar los almacenes en línea y sin conexión\n",
    "\n",
    "Ya creó un grupo de funciones. Ahora, ingiera datos al grupo de funciones y extraiga registros de un almacén en línea y de un almacén sin conexión con Athena.\n",
    "\n",
    "- Ingiera datos al grupo de funciones.\n",
    "- Extraiga registros de un almacén en línea.\n",
    "- Extraiga registros de un almacén sin conexión con Athena."
   ]
  },
  {
   "attachments": {},
   "cell_type": "markdown",
   "metadata": {},
   "source": [
    "### Tarea 2.4.1: ingerir datos al grupo de funciones\n",
    "\n",
    "Después de crear el grupo de funciones, coloque datos en él. Use **ingest()** para utilizar la llamada a la API PutRecord con el SDK para Python de SageMaker. Cada vez que cree un grupo de funciones por primera vez o que quiera agregar más registros, ingiera los registros al grupo de funciones. \n",
    "\n",
    "Para este conjunto de datos, la ingesta demora entre 3 y 5 minutos. Cuando la celda está completa, se muestra una salida como la siguiente:\n",
    "\n",
    "**IngestionManagerPandas(feature_group_name='FG-DataWranglerLab-13ee4f26', sagemaker_fs_runtime_client_config=<botocore.config.Config object at 0x7fdb7fccee60>, sagemaker_session=<sagemaker.session.Session object at 0x7fdb82a900d0>, max_workers=1, max_processes=1, profile_name=None, _async_result=None, _processing_pool=None, _failed_indices=[])**"
   ]
  },
  {
   "cell_type": "code",
   "execution_count": null,
   "metadata": {},
   "outputs": [],
   "source": [
    "#ingest-records\n",
    "\n",
    "feature_group.ingest(data_frame=lab_test_data, wait=True)"
   ]
  },
  {
   "cell_type": "markdown",
   "metadata": {},
   "source": [
    "### Tarea 2.4.2: extraer registros de un almacén en línea\n",
    "\n",
    "El almacén en línea es especialmente útil para las tareas de inferencia porque le permite mostrar un subconjunto de funciones rápidamente.\n",
    "\n",
    "Ahora que ya se ingirieron sus datos, use **get_record** para extraer un registro de un almacén en línea."
   ]
  },
  {
   "cell_type": "code",
   "execution_count": null,
   "metadata": {},
   "outputs": [],
   "source": [
    "#get-record\n",
    "\n",
    "record = random.randint(0, len(lab_test_data.index)-1)\n",
    "sample_record = featurestore_runtime.get_record(FeatureGroupName=feature_group_name, RecordIdentifierValueAsString=str(record))\n",
    "\n",
    "print(json.dumps(sample_record, indent=4, sort_keys=True, default=str))"
   ]
  },
  {
   "cell_type": "markdown",
   "metadata": {},
   "source": [
    "Ahora, use **batch_get_record** para obtener varios registros del grupo de funciones. Ya se seleccionaron varios registros para usted, pero puede cambiar los registros que figuran en **records_list**."
   ]
  },
  {
   "cell_type": "code",
   "execution_count": null,
   "metadata": {},
   "outputs": [],
   "source": [
    "#batch-get-record\n",
    "\n",
    "records_list = [\"7789\", \"5646\", \"309\", \"24528\"]\n",
    "\n",
    "batch_records = featurestore_runtime.batch_get_record(\n",
    "    Identifiers=[\n",
    "        {\n",
    "            \"FeatureGroupName\": feature_group_name,\n",
    "            \"RecordIdentifiersValueAsString\": records_list,\n",
    "        }\n",
    "    ]\n",
    ")\n",
    "\n",
    "print(json.dumps(batch_records, indent=4, sort_keys=True, default=str))"
   ]
  },
  {
   "cell_type": "markdown",
   "metadata": {},
   "source": [
    "### Tarea 2.4.3 extraer registros de un almacén sin conexión con Athena"
   ]
  },
  {
   "cell_type": "markdown",
   "metadata": {},
   "source": [
    "Ahora que ya extrajo registros de un almacén en línea, use Athena para extraer registros de un almacén sin conexión. \n",
    "\n",
    "Puede consultar el conjunto de datos completo cuando entrene y ajuste su modelo, o bien consultar un subconjunto de registros para la inferencia. Como SageMaker Feature Store retiene el horario de un evento para cada registro, puede entrenar modelos con exactamente el mismo conjunto de funciones de un horario específico en el pasado sin el riesgo de incluir datos que no correspondan a ese horario. \n",
    "\n",
    "¿Cómo adaptaría la consulta para cambiar el subconjunto de datos que obtuvo del almacén sin conexión?\n",
    "\n",
    "Primero, seleccione la configuración de la consulta. Puede personalizar su consulta para ver todos los subconjuntos de sus datos almacenados en el grupo de funciones. La siguiente consulta es una definición de consulta SELECT (SELECCIONAR) básica."
   ]
  },
  {
   "cell_type": "code",
   "execution_count": null,
   "metadata": {},
   "outputs": [],
   "source": [
    "#query-settings\n",
    "# Confirm the Athena settings are configured\n",
    "try:\n",
    "    boto3.client('athena').update_work_group(\n",
    "        WorkGroup='primary',\n",
    "        ConfigurationUpdates={\n",
    "            'EnforceWorkGroupConfiguration':False\n",
    "        }\n",
    "    )\n",
    "except Exception:\n",
    "    pass\n",
    "\n",
    "#Create the query\n",
    "query = feature_group.athena_query()\n",
    "table = query.table_name\n",
    "query_string = f'SELECT * FROM \"{table}\" '\n",
    "output_location = f's3://{bucket}/query_results/'\n",
    "\n",
    "print(f'Athena query output location: \\n{output_location}')"
   ]
  },
  {
   "attachments": {},
   "cell_type": "markdown",
   "metadata": {},
   "source": [
    "Cuando termine de configurar las opciones, ejecute la consulta y muestre los resultados en forma de tabla."
   ]
  },
  {
   "cell_type": "code",
   "execution_count": null,
   "metadata": {},
   "outputs": [],
   "source": [
    "#run-athena-query\n",
    "\n",
    "query.run(query_string=query_string, output_location=output_location)\n",
    "query.wait()\n",
    "df = query.as_dataframe()\n",
    "df.head()"
   ]
  },
  {
   "attachments": {},
   "cell_type": "markdown",
   "metadata": {},
   "source": [
    "### Conclusión\n",
    "\n",
    "¡Felicitaciones! Usó SageMaker Feature Store para crear definiciones de funciones para un grupo de funciones en SageMaker Studio y con el SDK para Python de SageMaker. Con su grupo de funciones recién creado, está listo para entrenar y adaptar su modelo con SageMaker Experiments en el siguiente laboratorio. Más adelante en el curso, SageMaker Feature Store le servirá para complementar datos para solicitudes de inferencias debido a la funcionalidad GetRecord de baja latencia que usa el almacén en línea. Seguirá trabajando con este conjunto de datos de ingresos de clientes en el próximo laboratorio.\n",
    "\n",
    "### Limpieza\n",
    "\n",
    "Ha completado este cuaderno. Para ir a la siguiente parte del laboratorio, complete estos pasos:\n",
    "\n",
    "- Cierre este archivo de cuaderno.\n",
    "- Regrese a la sesión de laboratorio y continúe con la **Conclusión**."
   ]
  }
 ],
 "metadata": {
  "kernelspec": {
   "display_name": "Python 3.9.6 64-bit",
   "language": "python",
   "name": "python3"
  },
  "language_info": {
   "name": "python",
   "version": "3.9.6"
  },
  "orig_nbformat": 4,
  "vscode": {
   "interpreter": {
    "hash": "2e45558c452cedcb26631315a9b3b77e80a9c32d662ed25df58964b99bc5b9b9"
   }
  }
 },
 "nbformat": 4,
 "nbformat_minor": 2
}
