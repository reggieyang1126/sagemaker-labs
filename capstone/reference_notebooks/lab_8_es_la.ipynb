{
 "cells": [
  {
   "attachments": {},
   "cell_type": "markdown",
   "metadata": {},
   "source": [
    "# Tarea 2: utilizar SageMaker Clarify\n",
    "\t\n",
    "En este laboratorio, utilice Amazon SageMaker Clarify para detectar sesgos en los datos previos al entrenamiento y en los modelos posteriores al entrenamiento, así como para acceder a los informes de explicabilidad.\n"
   ]
  },
  {
   "cell_type": "markdown",
   "metadata": {},
   "source": [
    "## Tarea 2.1: configuración del entorno\n",
    "\n",
    "Instale los paquetes y las dependencias."
   ]
  },
  {
   "cell_type": "code",
   "execution_count": null,
   "metadata": {},
   "outputs": [],
   "source": [
    "#install-dependencies\n",
    "\n",
    "import boto3\n",
    "import io\n",
    "import json\n",
    "import math\n",
    "import matplotlib.pyplot as plt\n",
    "import numpy as np\n",
    "import os\n",
    "import pandas as pd\n",
    "import re\n",
    "import sagemaker\n",
    "import sagemaker_datawrangler\n",
    "import sys\n",
    "import time\n",
    "import zipfile\n",
    "\n",
    "from IPython.display import display\n",
    "from IPython.display import Image\n",
    "from sagemaker import clarify\n",
    "from sagemaker import Session\n",
    "from sagemaker.inputs import TrainingInput\n",
    "from sagemaker.s3 import S3Uploader\n",
    "from sklearn.model_selection import train_test_split\n",
    "from time import gmtime, strftime\n",
    "\n",
    "s3_client = boto3.client(\"s3\")\n",
    "session = Session()\n",
    "bucket = session.default_bucket()\n",
    "prefix = 'sagemaker/lab_8'\n",
    "role = sagemaker.get_execution_role()"
   ]
  },
  {
   "cell_type": "markdown",
   "metadata": {},
   "source": [
    "A continuación, importe, divida y cargue el conjunto de datos."
   ]
  },
  {
   "cell_type": "code",
   "execution_count": null,
   "metadata": {},
   "outputs": [],
   "source": [
    "#prepare-dataset\n",
    "\n",
    "lab_test_data = pd.read_csv('adult_data_processed.csv')\n",
    "\n",
    "# Split the dataset\n",
    "train_data, validation_data, test_data = np.split(\n",
    "    lab_test_data.sample(frac=1, random_state=1729),\n",
    "    [int(0.7 * len(lab_test_data)), int(0.9 * len(lab_test_data))],\n",
    ")\n",
    "\n",
    "train_data.to_csv('train_data.csv', index=False, header=False)\n",
    "validation_data.to_csv('validation_data.csv', index=False, header=False)\n",
    "test_data.to_csv('test_data.csv', index=False, header=False)\n",
    "\n",
    "# Upload the Dataset to S3\n",
    "from sagemaker.s3 import S3Uploader\n",
    "from sagemaker.inputs import TrainingInput\n",
    "\n",
    "sagemaker_session = sagemaker.Session()\n",
    "\n",
    "train_path = S3Uploader.upload('train_data.csv', 's3://{}/{}'.format(bucket, prefix))\n",
    "validation_path = S3Uploader.upload('validation_data.csv', 's3://{}/{}'.format(bucket, prefix))\n",
    "test_path = S3Uploader.upload('test_data.csv', 's3://{}/{}'.format(bucket, prefix))\n",
    "\n",
    "train_input = TrainingInput(train_path, content_type='text/csv')\n",
    "validation_input = TrainingInput(validation_path, content_type='text/csv')\n",
    "test_input = TrainingInput(validation_path, content_type='text/csv')\n",
    "\n",
    "data_inputs = {\n",
    "    'train': train_input,\n",
    "    'validation': validation_input\n",
    "}"
   ]
  },
  {
   "attachments": {},
   "cell_type": "markdown",
   "metadata": {},
   "source": [
    "Ahora, entrene el modelo de XGBoost. Utilice este modelo entrenado para el objeto ModelConfig de SageMaker Clarify. El tiempo estimado para completar este entrenamiento es de aproximadamente 3 a 4 minutos."
   ]
  },
  {
   "cell_type": "code",
   "execution_count": null,
   "metadata": {},
   "outputs": [],
   "source": [
    "#train-model\n",
    "\n",
    "# Retrieve the container image\n",
    "container = sagemaker.image_uris.retrieve(\n",
    "    region=boto3.Session().region_name, \n",
    "    framework='xgboost', \n",
    "    version='1.5-1'\n",
    ")\n",
    "# Set up the estimator\n",
    "xgb = sagemaker.estimator.Estimator(\n",
    "    container,\n",
    "    role, \n",
    "    instance_count=1, \n",
    "    instance_type='ml.m5.xlarge',\n",
    "    output_path='s3://{}/{}/output'.format(bucket, prefix),\n",
    "    sagemaker_session=sagemaker_session\n",
    ")\n",
    "# Set the hyperparameters\n",
    "xgb.set_hyperparameters(\n",
    "    max_depth=5, \n",
    "    eta=0.2, \n",
    "    gamma=4, \n",
    "    min_child_weight=6,\n",
    "    subsample=0.8, \n",
    "    verbosity=1, \n",
    "    objective='binary:logistic', \n",
    "    num_round=800\n",
    ")\n",
    "\n",
    "# Train the model\n",
    "xgb.fit(\n",
    "    inputs = data_inputs\n",
    ") "
   ]
  },
  {
   "attachments": {},
   "cell_type": "markdown",
   "metadata": {},
   "source": [
    "## Tarea 2.2: configurar el trabajo de SageMaker Clarify y acceder al informe de sesgos\n",
    "\n",
    "Para usar [SageMaker Clarify](https://docs.aws.amazon.com/sagemaker/latest/dg/clarify-configure-processing-jobs.html), primero cree un modelo a partir de su trabajo de entrenamiento. Luego, establezca las configuraciones necesarias y ejecute el trabajo de SageMaker Clarify en su modelo entrenado. En esta tarea, complete lo siguiente:\n",
    "\n",
    "- Cree el modelo.\n",
    "- Habilite SageMaker Clarify.\n",
    "- Ejecute el informe de sesgos.\n",
    "- Acceda al informe."
   ]
  },
  {
   "cell_type": "markdown",
   "metadata": {},
   "source": [
    "### Tarea 2.2.1: crear el modelo\n",
    "\n",
    "Cree un modelo a partir del trabajo de entrenamiento para usar SageMaker Clarify."
   ]
  },
  {
   "cell_type": "code",
   "execution_count": null,
   "metadata": {},
   "outputs": [],
   "source": [
    "#create-clarify-model\n",
    "\n",
    "model_name = \"lab-8-clarify-model\"\n",
    "model = xgb.create_model(name=model_name)\n",
    "container_def = model.prepare_container_def()\n",
    "session.create_model(model_name, role, container_def)"
   ]
  },
  {
   "cell_type": "markdown",
   "metadata": {},
   "source": [
    "### Tarea 2.2.2: habilitar SageMaker Clarify\n",
    "\n",
    "Ahora, para comenzar la configuración, habilite SageMaker Clarify."
   ]
  },
  {
   "cell_type": "code",
   "execution_count": null,
   "metadata": {},
   "outputs": [],
   "source": [
    "#enable-clarify\n",
    "\n",
    "clarify_processor = clarify.SageMakerClarifyProcessor(\n",
    "    role=role, \n",
    "    instance_count=1, \n",
    "    instance_type=\"ml.m5.xlarge\", \n",
    "    sagemaker_session=session\n",
    ")"
   ]
  },
  {
   "attachments": {},
   "cell_type": "markdown",
   "metadata": {},
   "source": [
    "Con SageMaker Clarify, puede detectar posibles sesgos previos al entrenamiento en sus datos y posteriores al entrenamiento en sus modelos a través de diversas métricas. Consulte [métricas](https://docs.aws.amazon.com/sagemaker/latest/dg/clarify-processing-job-configure-analysis.html) para obtener más información sobre la configuración del análisis de Clarify.\n",
    "\n",
    "Configure el objeto **DataConfig** para comunicar información de E/S de los datos a SageMaker Clarify. Aquí, especifique la ubicación del conjunto de datos de entrada, la ubicación para la salida, la columna de ingresos (**etiqueta**), los nombres de encabezados y el tipo de conjunto de datos."
   ]
  },
  {
   "cell_type": "code",
   "execution_count": null,
   "metadata": {},
   "outputs": [],
   "source": [
    "#define-data-config\n",
    "\n",
    "bias_report_output_path = \"s3://{}/{}/clarify-bias\".format(bucket, prefix)\n",
    "bias_data_config = clarify.DataConfig(\n",
    "    s3_data_input_path=train_path,\n",
    "    s3_output_path=bias_report_output_path,\n",
    "    label=\"income\",\n",
    "    headers=train_data.columns.to_list(),\n",
    "    dataset_type=\"text/csv\",\n",
    ")"
   ]
  },
  {
   "cell_type": "markdown",
   "metadata": {},
   "source": [
    "Configure el objeto **ModelConfig** para comunicar información sobre su modelo entrenado. Establezca el nombre del modelo y un punto de enlace exclusivo temporal para evitar enviar tráfico adicional a su modelo de producción (**instance_type** e **instance_count**). Además, configure **accept_type** para indicar el formato de la carga de respuesta del punto de enlace y **content_type** para indicar el formato de la carga de la solicitud al punto del enlace."
   ]
  },
  {
   "cell_type": "code",
   "execution_count": null,
   "metadata": {},
   "outputs": [],
   "source": [
    "#define-model-config\n",
    "\n",
    "model_config = clarify.ModelConfig(\n",
    "    model_name=model_name,\n",
    "    instance_type=\"ml.m5.xlarge\",\n",
    "    instance_count=1,\n",
    "    accept_type=\"text/csv\",\n",
    "    content_type=\"text/csv\",\n",
    ")"
   ]
  },
  {
   "cell_type": "markdown",
   "metadata": {},
   "source": [
    "Configure el término **probability_threshold** del objeto **ModelPredictedLabelConfig** para convertir la probabilidad de las muestras en etiquetas binarias para el análisis de sesgos. La predicción que esté por encima del umbral se interpretará como valor de etiqueta **1** y la que sea igual al umbral o esté por debajo de este se interpretará como valor de etiqueta **0**."
   ]
  },
  {
   "cell_type": "code",
   "execution_count": null,
   "metadata": {},
   "outputs": [],
   "source": [
    "#define-model-predicted-label-config\n",
    "\n",
    "predictions_config = clarify.ModelPredictedLabelConfig(probability_threshold=0.8)"
   ]
  },
  {
   "cell_type": "markdown",
   "metadata": {},
   "source": [
    "Configure el objeto **BiasConfig** para indicar las columnas sensibles (**facets**), las posibles características sensibles (**facet_values_or_threshold**) y los resultados favorables (**label_values_or_threshold**).\n",
    "\n",
    "Puede señalar datos categóricos y continuos para **facet_values_or_threshold** y **label_values_or_threshold**. Las funciones **sex** (sexo) y **age** (edad) son categóricas.\n",
    "\n",
    "El objetivo de este modelo es determinar si una persona gana 50 000 USD o más, donde un resultado positivo es favorable. Use **BiasConfig** para proporcionar información sobre las columnas que contienen las facetas con el grupo sensible de **Sex**, las funciones sensibles que podrían estar usando **facet_values_or_threshold** y los resultados deseados que están usando **label_values_or_threshold**. Agrupe por **Age** para ver si existen diferencias según la edad de las personas."
   ]
  },
  {
   "cell_type": "code",
   "execution_count": null,
   "metadata": {},
   "outputs": [],
   "source": [
    "#define-bias-config\n",
    "\n",
    "bias_config = clarify.BiasConfig(\n",
    "    label_values_or_threshold=[1], facet_name=\"sex\", facet_values_or_threshold=[0], group_name=\"age\"\n",
    ")"
   ]
  },
  {
   "attachments": {},
   "cell_type": "markdown",
   "metadata": {},
   "source": [
    "### Tarea 2.2.3: ejecutar el informe de sesgos\n",
    "\n",
    "Cree el informe de sesgos usando sus configuraciones para análisis previos y posteriores al entrenamiento. El tiempo estimado de este paso es de 10 a 20 minutos. Mientras se genera el informe de sesgos, puede descubrir cómo SageMaker Clarify procesa [medidas de equidad para machine learning en Finanzas](./Fairness.Measures.for.Machine.Learning.in.Finance.pdf)."
   ]
  },
  {
   "cell_type": "code",
   "execution_count": null,
   "metadata": {},
   "outputs": [],
   "source": [
    "#run-bias-report\n",
    "\n",
    "clarify_processor.run_bias(\n",
    "    data_config=bias_data_config,\n",
    "    bias_config=bias_config,\n",
    "    model_config=model_config,\n",
    "    model_predicted_label_config=predictions_config,\n",
    "    pre_training_methods=\"all\",\n",
    "    post_training_methods=\"all\",\n",
    ")"
   ]
  },
  {
   "attachments": {},
   "cell_type": "markdown",
   "metadata": {},
   "source": [
    "### Tarea 2.2.4: acceder al informe de sesgos\n",
    "\n",
    "En SageMaker Studio, puede ver los resultados debajo de la pestaña Experiments (Experimentos).\n",
    "\n",
    "El próximo paso abre una nueva pestaña en SageMaker Studio. Para seguir esas instrucciones, utilice las siguientes opciones:\n",
    "- **Opción 1**: ver las pestañas una al lado de la otra. Para crear una vista de pantalla dividida de la ventana principal de SageMaker Studio, arrastre la pestaña **lab_8.ipynb** hacia el lado o seleccione (con el botón derecho del mouse) la pestaña **lab_8.ipynb** y elija **New View for Notebook** (Nueva vista para el cuaderno). Ahora puede tener las instrucciones visibles a medida que explora el informe de sesgos.\n",
    "- **Opción 2**: alternar entre las pestañas de SageMaker Studio para seguir estas instrucciones. Cuando termine de explorar el informe de sesgos, seleccione la pestaña **lab_8.ipynb** para volver al cuaderno.\n",
    "\n",
    "1. En SageMaker Studio, seleccione el ícono de **SageMaker Home** (Inicio de SageMaker).\n",
    "\n",
    "2. Ejecute **Experiments** (Experimentos).\n",
    "\n",
    "Verá la pestaña **Experiments** (Experimentos) en SageMaker Studio.\n",
    "\n",
    "3. En la pestaña **Experiments** (Experimentos), seleccione **Unassigned runs** (Ejecuciones no asignadas) a la izquierda.\n",
    "\n",
    "4. En la lista **Unassigned runs**, seleccione el nombre del trabajo de entrenamiento que contiene **clarify-bias-** en el título. \n",
    "\n",
    "5. En la pestaña **Experiments** (Experimentos), seleccione **Bias Reports** (Informes de sesgos) a la izquierda.\n",
    "\n",
    "El informe de sesgos de las métricas está disponible cuando SageMaker Clarify termina de ejecutar el trabajo de sesgos.\n",
    "\n",
    "6. Espere a que SageMaker Clarify termine de ejecutar el trabajo de sesgos.\n",
    "\n",
    "Cada métrica de sesgo tiene explicaciones detalladas con ejemplos que puede explorar si selecciona cada valor. \n",
    "\n",
    "7. Examine las explicaciones detalladas de **Class Imbalance** (Desequilibrios de clase) y **Disparate (Adverse) Impact (DI)** (Impacto dispar [DI] [adverso]) si elige las flechas junto a las métricas de sesgo y expande el campo. \n",
    "\n",
    "Cuando termine de explorar las métricas de sesgo, puede continuar con la siguiente tarea."
   ]
  },
  {
   "attachments": {},
   "cell_type": "markdown",
   "metadata": {},
   "source": [
    "## Tarea 2.3: acceder a informes sobre la explicabilidad\n",
    "\n",
    "Además de usar un informe de sesgos, puede usar SageMaker Clarify para analizar las explicaciones locales de las predicciones individuales. Cree un informe para revisar los resultados de explicabilidad de las predicciones producidas por SageMaker Clarify y analizar las métricas clave del informe. En esta tarea, complete lo siguiente:\n",
    "\n",
    "1. Defina una configuración de valores de Shapley (SHAP).\n",
    "2. Ejecute el informe de explicabilidad.\n",
    "3. Acceda al informe de explicabilidad."
   ]
  },
  {
   "cell_type": "markdown",
   "metadata": {},
   "source": [
    "### Tarea 2.3.1: definir una configuración de SHAP"
   ]
  },
  {
   "attachments": {},
   "cell_type": "markdown",
   "metadata": {},
   "source": [
    "Puede ejecutar un informe de explicabilidad para obtener una explicación de por qué un modelo realizó una predicción específica. SageMaker Clarify utiliza SHAP para generar un informe sobre el razonamiento que el modelo hizo para tomar sus decisiones. Consulte [Valores de referencia de SHAP para la explicabilidad](https://docs.aws.amazon.com/sagemaker/latest/dg/clarify-feature-attribute-shap-baselines.html) para obtener más información sobre los valores de referencia de SHAP.\n",
    "\n",
    "Las métricas de SHAP que están configuradas son las siguientes:\n",
    "- **baseline**: una lista de filas o un URI de objeto de Amazon Simple Storage Service (Amazon S3), que se usará como el conjunto de datos de valores de referencia en el algoritmo de Kernel SHAP.\n",
    "- **num_samples**: cantidad de muestras que se usarán en el algoritmo de Kernel SHAP. Este número determina el tamaño del conjunto de datos sintético generado para procesar los valores de SHAP.\n",
    "- **agg_method: mean_abs**: media de los valores de SHAP absolutos para todas las instancias.\n",
    "- **save_local_shap_values**: valor booleano para indicar si los valores de SHAP locales se deben guardar en la ubicación de salida.\n",
    "\n",
    "Consulte [métricas de SHAP](https://docs.aws.amazon.com/sagemaker/latest/dg/clarify-processing-job-configure-analysis.html) para obtener más información sobre las métricas usadas."
   ]
  },
  {
   "cell_type": "code",
   "execution_count": null,
   "metadata": {},
   "outputs": [],
   "source": [
    "#configure-shap\n",
    "\n",
    "testing_data, clarify_data = train_test_split(test_data, test_size =0.005)\n",
    "clarify_data = clarify_data.drop(columns=[\"income\"])\n",
    "clarify_data.to_csv('clarify_data.csv', index=False, header=False)\n",
    "clarify_path = S3Uploader.upload('clarify_data.csv', 's3://{}/{}'.format(bucket, prefix))\n",
    "\n",
    "shap_config = clarify.SHAPConfig(\n",
    "    baseline=clarify_path,\n",
    "    num_samples=15,\n",
    "    agg_method=\"mean_abs\",\n",
    "    save_local_shap_values=True,\n",
    ")\n",
    "\n",
    "explainability_output_path = \"s3://{}/{}/clarify-explainability\".format(bucket, prefix)\n",
    "explainability_data_config = clarify.DataConfig(\n",
    "    s3_data_input_path=clarify_path,\n",
    "    s3_output_path=explainability_output_path,\n",
    "    headers=clarify_data.columns.to_list(),\n",
    "    dataset_type=\"text/csv\",\n",
    ")"
   ]
  },
  {
   "cell_type": "markdown",
   "metadata": {},
   "source": [
    "### Tarea 2.3.2: ejecutar el informe de explicabilidad"
   ]
  },
  {
   "attachments": {},
   "cell_type": "markdown",
   "metadata": {},
   "source": [
    "Use sus configuraciones para crear el informe de explicabilidad. El tiempo estimado de este paso es de 10 a 15 minutos. Mientras se genera el informe de explicabilidad, puede seguir con el proceso del estado del trabajo en SageMaker Studio si continúa con la siguiente tarea.\n",
    "\n",
    "Consulte [Documento técnico sobre imparcialidad y explicabilidad de la IA de Amazon](./Amazon.AI.Fairness.and.Explainability.Whitepaper.pdf) para obtener información sobre el proceso de explicabilidad de SageMaker Clarify."
   ]
  },
  {
   "cell_type": "code",
   "execution_count": null,
   "metadata": {},
   "outputs": [],
   "source": [
    "#run-explainability-report\n",
    "\n",
    "clarify_processor.run_explainability(\n",
    "    data_config=explainability_data_config,\n",
    "    model_config=model_config,\n",
    "    explainability_config=shap_config,\n",
    ")"
   ]
  },
  {
   "attachments": {},
   "cell_type": "markdown",
   "metadata": {},
   "source": [
    "### Tarea 2.3.3: acceder al informe de explicabilidad\n",
    "\n",
    "Al igual que con el informe de sesgos, puede revisar el informe de explicabilidad en Studio como parte de los experimentos.\n",
    "\n",
    "1. Seleccione la pestaña **Experiments** (Experimentos).\n",
    "\n",
    "2. En la pestaña **Experiments** (Experimentos), seleccione **Unassigned runs** (Ejecuciones no asignadas) a la izquierda.\n",
    "\n",
    "3. En la lista **Unassigned runs** (Ejecuciones no asignadas), seleccione el nombre del trabajo de entrenamiento que contiene **clarify-bias-** en el título. \n",
    "\n",
    "4. En la pestaña **Experiments** (Experimentos), seleccione **Explainability** (Explicabilidad) a la izquierda.\n",
    "\n",
    "5. Cuando haya finalizado el trabajo de explicabilidad, seleccione <span style=\"background-color:#57c4f8; font-size:90%;  color:black; position:relative; top:-1px; padding-top:3px; padding-bottom:3px; padding-left:10px; padding-right:10px; border-color:#00a0d2; border-radius:2px; margin-right:5px; white-space:nowrap\">View sample notebook</span> (Ver cuaderno de muestra) para ver el gráfico de **importancia de las funciones**.\n",
    "\n",
    "SageMaker Studio abre el cuaderno **Imparcialidad y explicabilidad con SageMaker Clarify** en una pestaña.\n",
    "\n",
    "¿Qué funciones tienen mayor y mejor importancia? ¿Hay algunos resultados que lo sorprendan?"
   ]
  },
  {
   "attachments": {},
   "cell_type": "markdown",
   "metadata": {},
   "source": [
    "### Conclusión\n",
    "\n",
    "¡Felicitaciones! Usó SageMaker Clarify para crear informes de sesgos y explicabilidad que puede usar para desarrollar modelos más fiables y conformes. En el próximo laboratorio, implemente sus modelos y ejecute la inferencia. Seguirá trabajando con el modelo en el próximo laboratorio.\n",
    "\n",
    "### Limpieza\n",
    "\n",
    "Ha completado este cuaderno. Para ir a la siguiente parte del laboratorio, complete estos pasos:\n",
    "\n",
    "- Cierre este archivo de cuaderno.\n",
    "- Regrese a la sesión de laboratorio y continúe con la **Conclusión**."
   ]
  }
 ],
 "metadata": {
  "kernelspec": {
   "display_name": "Python 3.9.6 64-bit",
   "language": "python",
   "name": "python3"
  },
  "language_info": {
   "name": "python",
   "version": "3.9.6"
  },
  "orig_nbformat": 4,
  "vscode": {
   "interpreter": {
    "hash": "2e45558c452cedcb26631315a9b3b77e80a9c32d662ed25df58964b99bc5b9b9"
   }
  }
 },
 "nbformat": 4,
 "nbformat_minor": 2
}
