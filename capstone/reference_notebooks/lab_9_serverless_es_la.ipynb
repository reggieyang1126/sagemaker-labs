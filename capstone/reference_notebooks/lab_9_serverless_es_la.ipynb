{
 "cells": [
  {
   "cell_type": "markdown",
   "metadata": {},
   "source": [
    "# Tarea 3: implementar un modelo de inferencia sin servidor\n",
    "\n",
    "## Tarea 3.1: configuración del entorno\n",
    "\n",
    "Instale los paquetes y las dependencias."
   ]
  },
  {
   "cell_type": "code",
   "execution_count": null,
   "metadata": {},
   "outputs": [],
   "source": [
    "#install-dependencies\n",
    "import boto3\n",
    "import sagemaker\n",
    "import sagemaker_datawrangler\n",
    "import sys\n",
    "import time\n",
    "\n",
    "role = sagemaker.get_execution_role()\n",
    "region = boto3.Session().region_name\n",
    "sess = boto3.Session()\n",
    "sm = sess.client('sagemaker')\n",
    "prefix = 'sagemaker/mlasms'\n",
    "bucket = sagemaker.Session().default_bucket()\n",
    "s3_client = boto3.client(\"s3\")"
   ]
  },
  {
   "cell_type": "markdown",
   "metadata": {},
   "source": [
    "Guarde el modelo del laboratorio de entrenamiento y ajuste en el bucket predeterminado de Amazon Simple Storage Service (Amazon S3). Configure un modelo usando **create_model** y configure **ModelDataUrl** para referenciar al modelo entrenado."
   ]
  },
  {
   "cell_type": "code",
   "execution_count": null,
   "metadata": {},
   "outputs": [],
   "source": [
    "#set-up-model\n",
    "# Upload the model to your Amazon S3 bucket\n",
    "s3_client.upload_file(\n",
    "    Filename=\"model.tar.gz\", Bucket=bucket, Key=f\"{prefix}/models/model.tar.gz\"\n",
    ")\n",
    "\n",
    "# Set a date to use in the model name\n",
    "create_date = time.strftime(\"%Y-%m-%d-%H-%M-%S\")\n",
    "model_name = 'income-model-{}'.format(create_date)\n",
    "\n",
    "# Retrieve the container image\n",
    "container = sagemaker.image_uris.retrieve(\n",
    "    region=boto3.Session().region_name, \n",
    "    framework='xgboost', \n",
    "    version='1.5-1'\n",
    ")\n",
    "\n",
    "# Set up the model\n",
    "income_model = sm.create_model(\n",
    "    ModelName = model_name,\n",
    "    ExecutionRoleArn = role,\n",
    "    PrimaryContainer = {\n",
    "        'Image': container,\n",
    "        'ModelDataUrl': f's3://{bucket}/{prefix}/models/model.tar.gz',\n",
    "    }\n",
    ")"
   ]
  },
  {
   "cell_type": "markdown",
   "metadata": {},
   "source": [
    "## Tarea 3.2: crear un punto de enlace a partir del modelo reentrenado y sintetizado que se proporciona"
   ]
  },
  {
   "cell_type": "markdown",
   "metadata": {},
   "source": [
    "Inferencia sin servidor de Amazon SageMaker es una opción de inferencia personalizada que le permite implementar y escalar modelos de machine learning (ML). Inferencia sin servidor es ideal para las cargas de trabajo que tienen períodos de inactividad entre los aumentos de tráfico y pueden tolerar el arranque en frío. Los puntos de enlace sin servidor inician automáticamente recursos de cómputo y los escalan y reducen horizontalmente según el tráfico. Por lo tanto, no necesita seleccionar tipos de instancias ni administrar políticas de escalado. Esto elimina el trabajo pesado no diferenciado de seleccionar y administrar servidores. La inferencia sin servidor se integra en AWS Lambda para ofrecerle una disponibilidad alta, la tolerancia a errores integrada y el escalado automático.\n",
    "\n",
    "Puede crear un punto de enlace sin servidor con el SDK para Python de Amazon SageMaker en tres pasos. Los pasos son los mismos que se usan para el punto de enlace en tiempo real, pero tienen distintas configuraciones:\n",
    "1. Cree un modelo en SageMaker.\n",
    "2. Cree una configuración para un punto de enlace HTTPS.\n",
    "3. Cree un punto de enlace HTTPS.\n",
    "\n",
    "Ya creó un modelo. Ahora está listo para crear un punto de enlace y su configuración. \n",
    "\n",
    "Primero, establezca el nombre de la configuración del punto de enlace y el tamaño de la memoria que desea usar. Luego, llame a la API CreateEndpointConfig.\n",
    "\n",
    "Para crear una configuración del punto de enlace, debe establecer las siguientes opciones:\n",
    "- **VariantName**: el nombre de la variante de producción (uno o más modelos en producción)\n",
    "- **ModelName**: el nombre del modelo que desea alojar. Este es el nombre que especificó cuando creó el modelo.\n",
    "- **ServerlessConfig**: aquí es donde se configura el punto de enlace como “sin servidor”. Configure los valores de **MemorySizeInMB** y **MaxConcurrency**.\n",
    "    - **MemorySizeInMB**: el tamaño de memoria asignado (1024, 2048, 3072, 4096, 5120 o 6144 MB).\n",
    "    - **MaxConcurrency**: la cantidad de invocaciones simultáneas (1 a 200)."
   ]
  },
  {
   "cell_type": "code",
   "execution_count": null,
   "metadata": {},
   "outputs": [],
   "source": [
    "#create-endpoint-configuration \n",
    "# Create an endpoint config name. Here you create one based on the date so you can search endpoints based on creation time.\n",
    "endpoint_config_name = 'income-model-serverless-endpoint-{}'.format(create_date)                              \n",
    "\n",
    "endpoint_config_response = sm.create_endpoint_config(\n",
    "   EndpointConfigName=endpoint_config_name,\n",
    "   ProductionVariants=[\n",
    "        {\n",
    "            \"ModelName\": model_name,\n",
    "            \"VariantName\": \"variant1\", # The name of the production variant\n",
    "            \"ServerlessConfig\": {\n",
    "                \"MemorySizeInMB\": 2048, # The memory size\n",
    "                \"MaxConcurrency\": 20 # Number of concurrent invocations\n",
    "            }\n",
    "        } \n",
    "    ]\n",
    ")\n",
    "\n",
    "print(f\"Created EndpointConfig: {endpoint_config_response['EndpointConfigArn']}\")"
   ]
  },
  {
   "attachments": {},
   "cell_type": "markdown",
   "metadata": {},
   "source": [
    "A continuación, cree un punto de enlace. Cuando crea un punto de enlace sin servidor, SageMaker aprovisiona y administra los recursos de procesamiento por usted. Luego, usted puede hacer solicitudes de inferencias al punto de enlace y, como respuesta, recibir predicciones sobre el modelo. SageMaker escala y reduce los recursos de cómputo horizontalmente según sea necesario para gestionar el tráfico de su solicitud, y usted solo paga por lo que usa.\n",
    "\n",
    "Puede elegir entre un contenedor proporcionado por SageMaker o uno propio. Un punto de enlace sin servidor tiene un tamaño de RAM mínimo de 1024 MB y un tamaño de RAM máximo de 6144 MB. La inferencia sin servidor asigna automáticamente recursos de cómputo proporcionales a la memoria que selecciona.\n",
    "\n",
    "Cuando el punto de enlace está en funcionamiento, la función auxiliar imprime el Amazon Resource Name (ARN) del punto de enlace. La creación del punto de enlace puede demorar hasta 7 minutos en ejecutarse."
   ]
  },
  {
   "cell_type": "code",
   "execution_count": null,
   "metadata": {},
   "outputs": [],
   "source": [
    "#create-endpoint\n",
    "# The name of the endpoint. The name must be unique within an AWS Region in your AWS account.\n",
    "endpoint_name = '{}-name'.format(endpoint_config_name)\n",
    "\n",
    "create_endpoint_response = sm.create_endpoint(\n",
    "    EndpointName=endpoint_name, \n",
    "    EndpointConfigName=endpoint_config_name\n",
    ") \n",
    "\n",
    "def wait_for_endpoint_creation_complete(endpoint):\n",
    "    \"\"\"Helper function to wait for the completion of creating an endpoint\"\"\"\n",
    "    response = sm.describe_endpoint(EndpointName=endpoint_name)\n",
    "    status = response.get(\"EndpointStatus\")\n",
    "    while status == \"Creating\":\n",
    "        print(\"Waiting for Endpoint Creation\")\n",
    "        time.sleep(15)\n",
    "        response = sm.describe_endpoint(EndpointName=endpoint_name)\n",
    "        status = response.get(\"EndpointStatus\")\n",
    "\n",
    "    if status != \"InService\":\n",
    "        print(f\"Failed to create endpoint, response: {response}\")\n",
    "        failureReason = response.get(\"FailureReason\", \"\")\n",
    "        raise SystemExit(\n",
    "            f\"Failed to create endpoint {create_endpoint_response['EndpointArn']}, status: {status}, reason: {failureReason}\"\n",
    "        )\n",
    "    print(f\"Endpoint {create_endpoint_response['EndpointArn']} successfully created.\")\n",
    "\n",
    "wait_for_endpoint_creation_complete(endpoint=create_endpoint_response)\n"
   ]
  },
  {
   "attachments": {},
   "cell_type": "markdown",
   "metadata": {},
   "source": [
    "En SageMaker Studio, puede ver los detalles del punto de enlace debajo de la pestaña **Endpoints** (Puntos de enlace).\n",
    "\n",
    "El próximo paso abre una nueva pestaña en SageMaker Studio. Para seguir esas instrucciones, utilice las siguientes opciones:\n",
    "- **Opción 1**: ver las pestañas una al lado de la otra. Para crear una vista de pantalla dividida de la ventana principal de SageMaker Studio, arrastre la pestaña **serverless_inference.ipynb** hacia el lado o seleccione (con el botón derecho del mouse) la pestaña **serverless_inference.ipynb** y elija **New View for Notebook** (Nueva vista para el cuaderno). Ahora puede tener las instrucciones visibles mientras explora el punto de enlace.\n",
    "- **Opción 2**: alternar entre las pestañas de SageMaker Studio para seguir estas instrucciones. Cuando termine de explorar el punto de enlace, seleccione la pestaña **serverless_inference.ipynb** para volver al cuaderno.\n",
    "\n",
    "1. Seleccione el ícono de **SageMaker Home** (Inicio de SageMaker).\n",
    "2. Seleccione **Deployments** (Implementaciones).\n",
    "3. Seleccione **Endpoints** (Puntos de enlace).\n",
    "\n",
    "Verá la pestaña **Endpoints** (Puntos de enlace) en SageMaker Studio.\n",
    "\n",
    "4. Seleccione el punto de enlace que tenga **income-model-serverless-** en la columna **Name** (Nombre).\n",
    "\n",
    "Si el punto de enlace no aparece, seleccione el ícono de actualización hasta que aparezca.\n",
    "\n",
    "Verá la pestaña **ENDPOINT DETAILS** (DETALLES DEL PUNTO DE ENLACE) en SageMaker Studio.\n",
    "\n",
    "5. Vaya a la pestaña **AWS settings** (Configuración de AWS).\n",
    "\n",
    "Si abrió el punto de enlace antes de que terminara de crearse, seleccione el ícono de actualización hasta que el valor de **Endpoint status** (Estado del punto de enlace) cambie de *Creating* (Creando) a *InService* (En funcionamiento).\n",
    "\n",
    "En **Endpoint type** (Tipo de punto de enlace), verá **Serverless** (Sin servidor). En la sección **Endpoint runtime settings** (Configuración del tiempo de ejecución del punto de enlace), verá las configuraciones que eligió antes en el cuaderno."
   ]
  },
  {
   "attachments": {},
   "cell_type": "markdown",
   "metadata": {},
   "source": [
    "## Tarea 3.3: invocar un punto de enlace para una inferencia sin servidor con registros de clientes\n",
    "\n",
    "Después de que implemente su modelo con los servicios de alojamiento de SageMaker, puede enviarle datos de prueba al modelo en ese punto de enlace para probarlo.\n",
    "\n",
    "Si su punto de enlace no recibe tráfico por un tiempo y, luego, comienza a recibir nuevas solicitudes de repente, es posible que necesite un poco de tiempo para poner en marcha los recursos de cómputo y procesarlas. Esto se denomina arranque en frío. Dado que los puntos de enlace sin servidor aprovisionan recursos de cómputo bajo demanda, su punto de enlace podría experimentar arranques en frío. El arranque en frío también puede producirse si sus solicitudes simultáneas superan el uso actual de solicitudes simultáneas. El tiempo del arranque en frío depende del tamaño de su modelo y del tiempo que demora su descarga, así como del tiempo de inicio de su contenedor.\n",
    "\n",
    "Consulte [Inferencia sin servidor](https://docs.aws.amazon.com/sagemaker/latest/dg/serverless-endpoints.html) para obtener más información sobre el funcionamiento de la inferencia sin servidor y el arranque en frío.\n",
    "\n",
    "Recibió varios registros más de clientes. Confirme que el punto de enlace esté funcionando. Para ello, invóquelo con un conjunto de registros que tengan un valor de ingresos de 1 y un valor de ingresos de 0. La salida será una lista de las puntuaciones de las predicciones para cada registro. "
   ]
  },
  {
   "cell_type": "code",
   "execution_count": null,
   "metadata": {},
   "outputs": [],
   "source": [
    "#invoke-endpoint-serverless-records\n",
    "sagemaker_runtime = boto3.client(\"sagemaker-runtime\", region_name=region)\n",
    "\n",
    "response = sagemaker_runtime.invoke_endpoint(\n",
    "    ContentType='text/csv',\n",
    "    EndpointName=endpoint_name, \n",
    "    Body=bytes('47,0,4,9,0,3,4,0,1,0,1902,60\\n' +\n",
    "                '53,0,0,0,0,2,4,0,1,0,0,40\\n' +\n",
    "                '44,0,0,0,2,0,1,0,1,14344,0,40\\n', 'utf-8')\n",
    ")\n",
    "\n",
    "print(response)\n",
    "\n",
    "print('\\nTesting with records that have an income value of 1:')\n",
    "print('The returned scores are: {}'.format(response['Body'].read().decode('utf-8')))\n",
    "\n",
    "start_time = time.time()\n",
    "response = sagemaker_runtime.invoke_endpoint(\n",
    "    ContentType='text/csv',\n",
    "    EndpointName=endpoint_name, \n",
    "    Body=bytes('19,0,1,1,1,1,2,1,0,0,0,35\\n' +\n",
    "                '56,2,1,1,0,1,0,0,0,0,0,50\\n' +\n",
    "                '61,2,0,0,0,0,0,0,0,0,0,40\\n', 'utf-8')\n",
    ")\n",
    "\n",
    "print('\\nTesting with records that have an income value of 0:')\n",
    "print('The returned scores are: {}'.format(response['Body'].read().decode('utf-8')))"
   ]
  },
  {
   "cell_type": "markdown",
   "metadata": {},
   "source": [
    "## Tarea 3.4: eliminar el punto de enlace\n",
    "\n",
    "La eliminación de un punto de enlace se puede lograr en tres pasos. Primero, elimine el punto de enlace. Luego, elimine la configuración del punto de enlace. Por último, si ya no necesita el modelo que implementó, elimínelo."
   ]
  },
  {
   "cell_type": "code",
   "execution_count": null,
   "metadata": {},
   "outputs": [],
   "source": [
    "#delete-resources\n",
    "# Delete endpoint\n",
    "sm.delete_endpoint(EndpointName=endpoint_name)\n",
    "\n",
    "# Delete endpoint configuration\n",
    "sm.delete_endpoint_config(EndpointConfigName=endpoint_config_name)\n",
    "                   \n",
    "# Delete model\n",
    "sm.delete_model(ModelName=model_name)"
   ]
  },
  {
   "cell_type": "markdown",
   "metadata": {},
   "source": [
    "### Conclusión\n",
    "\n",
    "¡Felicitaciones! Usó SageMaker para crear correctamente un punto de enlace sin servidor, con el SDK para Python de SageMaker, y para invocarlo.\n",
    "\n",
    "La próxima tarea del laboratorio se centra en la implementación de un modelo de inferencia usando una inferencia asíncrona.\n",
    "\n",
    "### Limpieza\n",
    "\n",
    "Ha completado este cuaderno. Para ir a la siguiente parte del laboratorio, complete estos pasos:\n",
    "\n",
    "- Cierre este archivo de cuaderno.\n",
    "- Regrese a la sesión de laboratorio y continúe con la **Tarea 4: implementar un modelo de inferencia asíncrona**."
   ]
  }
 ],
 "metadata": {
  "instance_type": "ml.t3.xlarge",
  "kernelspec": {
   "display_name": "Python 3.9.6 64-bit",
   "language": "python",
   "name": "python3"
  },
  "language_info": {
   "codemirror_mode": {
    "name": "ipython",
    "version": 3
   },
   "file_extension": ".py",
   "mimetype": "text/x-python",
   "name": "python",
   "nbconvert_exporter": "python",
   "pygments_lexer": "ipython3",
   "version": "3.9.6"
  },
  "vscode": {
   "interpreter": {
    "hash": "2e45558c452cedcb26631315a9b3b77e80a9c32d662ed25df58964b99bc5b9b9"
   }
  }
 },
 "nbformat": 4,
 "nbformat_minor": 4
}
