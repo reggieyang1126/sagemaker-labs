{
 "cells": [
  {
   "cell_type": "markdown",
   "metadata": {},
   "source": [
    "# Cómo usar un cuaderno de Amazon SageMaker Studio\n",
    "\n",
    "Este cuaderno lo guiará para que inicialice y configure el entorno. Muestra cómo cargar y descargar los datos desde y hacia un bucket de Amazon Simple Storage Service (Amazon S3) usando los métodos auxiliares de Amazon S3 del SDK para Python de SageMaker.\n",
    "\n",
    "Para comenzar, inicialice el entorno. Para ello, importe las bibliotecas necesarias y obtenga el bucket de Amazon S3 predeterminado que utiliza SageMaker Studio."
   ]
  },
  {
   "cell_type": "code",
   "execution_count": null,
   "metadata": {},
   "outputs": [],
   "source": [
    "# Install dependencies\n",
    "import pandas as pd\n",
    "import boto3\n",
    "\n",
    "\n",
    "# SageMaker dependencies\n",
    "import sagemaker\n",
    "from sagemaker import get_execution_role, session\n",
    "from sagemaker.s3 import S3Downloader, S3Uploader\n",
    "\n",
    "region= boto3.Session().region_name\n",
    "\n",
    "# This object represents the AWS Identity and Access Management (IAM) role that you are assigned\n",
    "role = sagemaker.get_execution_role()\n",
    "print(\"Role: \", role)\n",
    "\n",
    "sm_session = session.Session(boto3.Session())\n",
    "sm = boto3.Session().client(\"sagemaker\")\n",
    "sm_runtime = boto3.Session().client(\"sagemaker-runtime\")"
   ]
  },
  {
   "attachments": {},
   "cell_type": "markdown",
   "metadata": {},
   "source": [
    "Descargue el conjunto de datos del bucket de Amazon S3 usando el método S3Downloader del SDK para Python de SageMaker. Consulte [Método S3Downloader del SDK para Python de SageMaker](https://sagemaker.readthedocs.io/en/stable/api/utility/s3.html#sagemaker.s3.S3Downloader) para obtener más información sobre este método de descarga."
   ]
  },
  {
   "cell_type": "code",
   "execution_count": null,
   "metadata": {},
   "outputs": [],
   "source": [
    "bucket = ''\n",
    "s3 = boto3.resource('s3')\n",
    "for buckets in s3.buckets.all():\n",
    "    if 'labdatabucket' in buckets.name:\n",
    "        bucket = buckets.name\n",
    "print(bucket)\n",
    "prefix = 'scripts/data'\n",
    "\n",
    "S3Downloader.download(s3_uri=f\"s3://{bucket}/{prefix}/iris.csv\", local_path= 'data/')"
   ]
  },
  {
   "attachments": {},
   "cell_type": "markdown",
   "metadata": {},
   "source": [
    "El siguiente código verifica el conjunto de datos y lo muestra en una cuadrícula."
   ]
  },
  {
   "cell_type": "code",
   "execution_count": null,
   "metadata": {},
   "outputs": [],
   "source": [
    "import pandas as pd\n",
    "import numpy as np\n",
    "\n",
    "shape=pd.read_csv(\"data/iris.csv\", header=None)\n",
    "shape.sample(3)"
   ]
  },
  {
   "attachments": {},
   "cell_type": "markdown",
   "metadata": {},
   "source": [
    "Cree particiones del conjunto de datos para obtener divisiones de entrenamiento y pruebas. Cárguelo en un bucket de Amazon S3 usando el método S3Uploader del SDK para Python de SageMaker. Consulte [Método S3Uploader del SDK para Python de SageMaker](https://sagemaker.readthedocs.io/en/stable/api/utility/s3.html#sagemaker.s3.S3Uploader) para obtener más información sobre este método de carga."
   ]
  },
  {
   "cell_type": "code",
   "execution_count": null,
   "metadata": {},
   "outputs": [],
   "source": [
    "train_data = shape.sample(frac=0.8,random_state=200)\n",
    "test_data = shape.drop(train_data.index)"
   ]
  },
  {
   "cell_type": "code",
   "execution_count": null,
   "metadata": {},
   "outputs": [],
   "source": [
    "train_file = 'train_data.csv';\n",
    "train_data.to_csv(train_file, index=False, header=True)\n",
    "test_file = 'test_data.csv';\n",
    "test_data.to_csv(test_file, index=False, header=True)\n",
    "\n",
    "# Return the URLs of the uploaded file, so they can be reviewed or used elsewhere\n",
    "s3url = S3Uploader.upload(train_file, 's3://{}/{}'.format(bucket, prefix + \"/train\", \"train\"))\n",
    "print(s3url)\n",
    "s3url = S3Uploader.upload(test_file, 's3://{}/{}'.format(bucket, prefix + \"/test\", \"test\"))\n",
    "print(s3url)"
   ]
  },
  {
   "cell_type": "markdown",
   "metadata": {},
   "source": [
    "### Conclusión\n",
    "\n",
    "¡Felicitaciones! Inicializó correctamente su entorno y cargó y descargó archivos de un bucket de Amazon S3. \n",
    "\n",
    "### Limpieza\n",
    "\n",
    "Ha completado este cuaderno. Para ir a la siguiente parte del laboratorio, haga lo siguiente:\n",
    "\n",
    "- Cierre el archivo del cuaderno\n",
    "- Vuelva a las instrucciones del laboratorio"
   ]
  }
 ],
 "metadata": {
  "kernelspec": {
   "display_name": "Python 3",
   "language": "python",
   "name": "python3"
  },
  "language_info": {
   "codemirror_mode": {
    "name": "ipython",
    "version": 3
   },
   "file_extension": ".py",
   "mimetype": "text/x-python",
   "name": "python",
   "nbconvert_exporter": "python",
   "pygments_lexer": "ipython3",
   "version": "3.8.5"
  },
  "vscode": {
   "interpreter": {
    "hash": "741de909edea0d5644898c592544ed98bede62b404d20772e5c4abc3c2f12566"
   }
  }
 },
 "nbformat": 4,
 "nbformat_minor": 2
}
