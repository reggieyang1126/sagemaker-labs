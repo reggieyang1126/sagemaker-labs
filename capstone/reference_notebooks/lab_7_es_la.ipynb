{
 "cells": [
  {
   "cell_type": "markdown",
    "id": "669cd6bb",
   "metadata": {},
   "source": [
    "Tarea 2: utilizar SageMaker Debugger\n",
    "\n",
    "En este laboratorio, use Amazon SageMaker Debugger para analizar y detectar cuellos de botella, tasas de utilización de recursos y diversos problemas de entrenamiento durante los trabajos de entrenamiento, así como para recibir alertas sobre todo esto."
   ]
  },
  {
   "cell_type": "markdown",
   "id": "frequent-booking",
   "metadata": {
    "papermill": {
     "duration": 0.018947,
     "end_time": "2021-06-01T00:12:50.309809",
     "exception": false,
     "start_time": "2021-06-01T00:12:50.290862",
     "status": "completed"
    },
    "tags": []
   },
   "source": [
    "## Tarea 2.1: configuración del entorno\n",
    "\n",
    "Instale los paquetes y las dependencias."
   ]
  },
  {
   "cell_type": "code",
   "execution_count": null,
   "id": "516a23c6",
   "metadata": {},
   "outputs": [],
   "source": [
    "%%capture\n",
    "\n",
    "#install a compiler\n",
    "%conda install -c conda-forge gcc -y"
   ]
  },
  {
   "attachments": {},
   "cell_type": "markdown",
   "id": "1c83fa35",
   "metadata": {},
   "source": [
    "**Nota:** La instalación de GCC puede demorar hasta 5 minutos."
   ]
  },
  {
   "cell_type": "code",
   "execution_count": null,
   "id": "faa03393",
   "metadata": {},
   "outputs": [],
   "source": [
    "#install-dependencies\n",
    "\n",
    "%pip install pytest-cov\n",
    "%pip install pytest-filter-subpackage\n",
    "%pip install -U sagemaker\n",
    "%pip install -U smdebug\n",
    "%pip install -U shap"
   ]
  },
  {
   "cell_type": "code",
   "execution_count": null,
   "id": "44983b4e",
   "metadata": {},
   "outputs": [],
   "source": [
    "#import libraries and set variable values\n",
    "\n",
    "import sys\n",
    "import boto3\n",
    "import matplotlib.pyplot as plt\n",
    "import numpy as np\n",
    "import os\n",
    "import pandas as pd\n",
    "import sagemaker\n",
    "import sagemaker_datawrangler \n",
    "import shap\n",
    "\n",
    "from mpl_toolkits.axes_grid1 import host_subplot\n",
    "\n",
    "from sagemaker.debugger import (\n",
    "    CollectionConfig,\n",
    "    DebuggerHookConfig,\n",
    "    FrameworkProfile,\n",
    "    ProfilerConfig,\n",
    "    ProfilerRule,\n",
    "    Rule,\n",
    "    rule_configs,\n",
    "    TensorBoardOutputConfig\n",
    ")\n",
    "\n",
    "from sagemaker.estimator import Estimator\n",
    "from sagemaker import get_execution_role\n",
    "from sagemaker.inputs import TrainingInput\n",
    "from sagemaker.s3 import S3Uploader\n",
    "from sagemaker.xgboost.estimator import XGBoost\n",
    "from smdebug.core import modes\n",
    "from smdebug.trials import create_trial\n",
    "\n",
    "base_job_name = \"lab-7-smdebugger-job\"\n",
    "bucket = sagemaker.Session().default_bucket()\n",
    "bucket_path = \"s3://{}\".format(bucket)\n",
    "prefix = \"lab-7-smdebugger\"\n",
    "region = boto3.Session().region_name\n",
    "role = sagemaker.get_execution_role()\n",
    "save_interval = 5"
   ]
  },
  {
   "cell_type": "markdown",
   "id": "c2f5b470",
   "metadata": {},
   "source": [
    "A continuación, importe el conjunto de datos."
   ]
  },
  {
   "cell_type": "code",
   "execution_count": null,
   "id": "57128928",
   "metadata": {},
   "outputs": [],
   "source": [
    "#import-dataset\n",
    "lab_test_data = pd.read_csv('adult_data_processed.csv')\n",
    "pd.set_option('display.max_columns', 500)\n",
    "pd.set_option('display.max_rows', 20)\n",
    "lab_test_data.head()"
   ]
  },
  {
   "cell_type": "markdown",
   "id": "d26e3138",
   "metadata": {},
   "source": [
    "Divida el conjunto de datos en conjuntos de datos de entrenamiento (70 %), validación (20 %) y prueba (10 %). Los conjuntos de datos de validación y entrenamiento se usan para crear el modelo en este laboratorio. No usará el conjunto de datos de pruebas en este laboratorio."
   ]
  },
  {
   "cell_type": "code",
   "execution_count": null,
   "id": "d95c48c9",
   "metadata": {},
   "outputs": [],
   "source": [
    "#split-dataset\n",
    "train_data, validation_data, test_data = np.split(\n",
    "    lab_test_data.sample(frac=1, random_state=1729),\n",
    "    [int(0.7 * len(lab_test_data)), int(0.9 * len(lab_test_data))],\n",
    ")\n",
    "\n",
    "train_data.to_csv('train_data.csv', index=False, header=False)\n",
    "validation_data.to_csv('validation_data.csv', index=False, header=False)\n",
    "\n",
    "feature_names = list(train_data.columns)"
   ]
  },
  {
   "cell_type": "markdown",
   "id": "42977436",
   "metadata": {},
   "source": [
    "Ahora, cargue el conjunto de datos a Amazon Simple Storage Service (Amazon S3)."
   ]
  },
  {
   "cell_type": "code",
   "execution_count": null,
   "id": "be44e809",
   "metadata": {},
   "outputs": [],
   "source": [
    "#upload-dataset\n",
    "sagemaker_session = sagemaker.Session()\n",
    "\n",
    "train_path = S3Uploader.upload('train_data.csv', 's3://{}/{}'.format(bucket, prefix))\n",
    "validation_path = S3Uploader.upload('validation_data.csv', 's3://{}/{}'.format(bucket, prefix))\n",
    "\n",
    "train_input = TrainingInput(train_path, content_type='text/csv')\n",
    "validation_input = TrainingInput(validation_path, content_type='text/csv')\n",
    "\n",
    "data_inputs = {\n",
    "    'train': train_input,\n",
    "    'validation': validation_input\n",
    "}"
   ]
  },
  {
   "attachments": {},
   "cell_type": "markdown",
   "id": "wrong-terror",
   "metadata": {
    "papermill": {
     "duration": 0.022031,
     "end_time": "2021-06-01T00:12:54.187737",
     "exception": false,
     "start_time": "2021-06-01T00:12:54.165706",
     "status": "completed"
    },
    "tags": []
   },
   "source": [
    "## Tarea 2.2: modificar el script de entrenamiento para habilitar SageMaker Debugger\n",
    "\n",
    "Debe modificar el script de entrenamiento que usó en el laboratorio anterior para guardar los tensores en un bucket de S3 de salida determinado, especificar qué tensores guardar y registrar los enlaces de depuración.\n",
    "\n",
    "Para entrenar el modelo, deberá configurar lo siguiente:\n",
    "- **Parámetros de enlaces de Debugger** para ajustar los intervalos de guardado de los tensores de salida en las fases de entrenamiento\n",
    "- **Objeto de la regla de Debugger** para guardar los tensores de salida para la evaluación\n",
    "\n",
    "En el caso de los *parámetros de enlaces de Debugger**, configure las colecciones de tensores incorporadas **metrics**, **feature_importance**, **full_shap** y **average_shap** para que se capturen durante el entrenamiento. Estas se configuran en **collection_configs** para **debugger_hook_config**. Las colecciones de tensores incorporadas **full_shap** y **average_shap** utilizan valores de Shapley (SHAP). SHAP explica una predicción de machine learning (ML) mediante la suposición de que el valor de cada función de una instancia de datos de entrenamiento es un jugador en un juego en el que la predicción es el monto. Luego, indica cómo distribuir el monto equitativamente entre las funciones. Consulte [Valores de referencia de SHAP para la explicabilidad](https://docs.aws.amazon.com/sagemaker/latest/dg/clarify-feature-attribute-shap-baselines.html) para obtener más información sobre SHAP.\n",
    "\n",
    "En el caso del **objeto de la regla de Debugger**, configure **rule_configs** en **rules** (reglas):\n",
    "- [Informe del generador de perfiles](https://docs.aws.amazon.com/sagemaker/latest/dg/debugger-report.html#debugger-profiling-report): se ejecuta para detectar cuellos de botella del sistema y autogenera un informe de generación de perfiles.\n",
    "- [Informe de entrenamiento con XGBoost](https://docs.aws.amazon.com/sagemaker/latest/dg/debugger-report-xgboost.html): ejecuta un informe de XGBoost integral.\n",
    "- [Sobreajuste](https://docs.aws.amazon.com/sagemaker/latest/dg/debugger-built-in-rules.html#overfit): detecta si se está sobreajustando su modelo a los datos de entrenamiento mediante la comparación de la validación y las pérdidas de entrenamiento.\n",
    "- [Sobreentrenamiento ](https://docs.aws.amazon.com/sagemaker/latest/dg/debugger-built-in-rules.html#overtraining): detecta si se está sobreentrenando un modelo. Después de varias iteraciones del entrenamiento en un modelo con buen comportamiento (disminución de pérdida de entrenamiento y validación), el modelo se acerca a un mínimo de la función de pérdida y no mejora más. Si se sigue entrenando el modelo, la pérdida de validación podría empezar a aumentar porque el modelo comienza a sobreajustarse.\n",
    "- [La perdida no disminuye](https://docs.aws.amazon.com/sagemaker/latest/dg/debugger-built-in-rules.html#loss-not-decreasing): detecta si el valor de la pérdida no está disminuyendo a una tasa adecuada. Estas pérdidas deben ser escalares. "
   ]
  },
  {
   "cell_type": "code",
   "execution_count": null,
   "id": "4253b24f",
   "metadata": {},
   "outputs": [],
   "source": [
    "#enable-debugger\n",
    "# Retrieve the container image\n",
    "container = sagemaker.image_uris.retrieve(\n",
    "    region=boto3.Session().region_name, \n",
    "    framework='xgboost', \n",
    "    version='1.5-1'\n",
    ")\n",
    "# Set up the estimator\n",
    "xgb = sagemaker.estimator.Estimator(\n",
    "    container,\n",
    "    role, \n",
    "    base_job_name=base_job_name,\n",
    "    instance_count=1, \n",
    "    instance_type='ml.m5.4xlarge',\n",
    "    #Set the hyperparameters\n",
    "    hyperparameters= {\n",
    "        \"max_depth\": \"5\",\n",
    "        \"eta\": \"0.2\",\n",
    "        \"gamma\": \"4\",\n",
    "        \"min_child_weight\": \"6\",\n",
    "        \"subsample\": \"0.7\",\n",
    "        \"objective\": \"binary:logistic\",\n",
    "        \"num_round\": \"300\",\n",
    "    },\n",
    "    sagemaker_session=sagemaker_session,\n",
    "    max_run=1800,\n",
    "    #Set the Debugger Hook Config\n",
    "    debugger_hook_config=DebuggerHookConfig(\n",
    "        s3_output_path=bucket_path,  # Required\n",
    "        collection_configs=[  # For each of these, a new processing job will be run later in the lab\n",
    "            CollectionConfig(name=\"metrics\", parameters={\"save_interval\": str(save_interval)}),\n",
    "            CollectionConfig(name=\"feature_importance\", parameters={\"save_interval\": str(save_interval)},),\n",
    "            CollectionConfig(name=\"full_shap\", parameters={\"save_interval\": str(save_interval)}),\n",
    "            CollectionConfig(name=\"average_shap\", parameters={\"save_interval\": str(save_interval)}),\n",
    "        ],\n",
    "    ),\n",
    "    #Set the Debugger Profiler Configuration\n",
    "    profiler_config = ProfilerConfig(\n",
    "        system_monitor_interval_millis=500,\n",
    "        framework_profile_params=FrameworkProfile()\n",
    "\n",
    "    ),\n",
    "    #Configure the Debugger Rule Object\n",
    "    rules = [\n",
    "        ProfilerRule.sagemaker(rule_configs.ProfilerReport()),\n",
    "        Rule.sagemaker(rule_configs.create_xgboost_report()),  \n",
    "        Rule.sagemaker(rule_configs.overfit()),\n",
    "        Rule.sagemaker(rule_configs.overtraining()),\n",
    "        Rule.sagemaker(rule_configs.loss_not_decreasing(),\n",
    "            rule_parameters={\n",
    "                \"collection_names\": \"metrics\",\n",
    "                \"num_steps\": str(save_interval * 2),\n",
    "            }\n",
    "        )\n",
    "    ]\n",
    ")"
   ]
  },
  {
   "cell_type": "markdown",
   "id": "2c6a6c2d",
   "metadata": {},
   "source": [
    "## Tarea 2.3: ejecutar el trabajo de entrenamiento habilitado por Debugger\n",
    "\n",
    "Ahora, entrene el modelo XGBoost usando el script habilitado por Debugger. La ejecución del entrenamiento demorará entre 5 y 10 minutos. Puede continuar con la próxima tarea mientras el trabajo de entrenamiento se está ejecutando y supervisar el avance del trabajo con SageMaker Debugger."
   ]
  },
  {
   "cell_type": "code",
   "execution_count": null,
   "id": "88cd5dab",
   "metadata": {},
   "outputs": [],
   "source": [
    "#train-model\n",
    "xgb.fit(\n",
    "    inputs = data_inputs\n",
    ")"
   ]
  },
  {
   "attachments": {},
   "cell_type": "markdown",
   "id": "verified-draft",
   "metadata": {
    "papermill": {
     "duration": 0.022325,
     "end_time": "2021-06-01T00:12:55.995017",
     "exception": false,
     "start_time": "2021-06-01T00:12:55.972692",
     "status": "completed"
    },
    "tags": []
   },
   "source": [
    "## Tarea 2.4: supervisar el estado del trabajo de entrenamiento\n",
    "\n",
    "En SageMaker Studio, puede revisar los componentes de prueba, incluidos todos los trabajos de SageMaker Debugger que inició. En este laboratorio, creó trabajos de lo siguiente: **informe de XGBoost**, **sobreajuste**, **sobreentrenamiento** y **pérdida que no disminuye**. Explórelos en SageMaker Studio.\n",
    "\n",
    "El siguiente paso lo llevará a una nueva pestaña en SageMaker Studio. Para seguir esas instrucciones, utilice las siguientes opciones:\n",
    "- **Opción 1**: ver las pestañas una al lado de la otra. Para crear una vista de pantalla dividida de la ventana principal de SageMaker Studio, arrastre la pestaña **lab_7.ipynb** hacia el costado o seleccione (con el botón derecho del mouse) la pestaña **lab_7.ipynb** y elija la opción **New View for Notebook** (Nueva vista para el cuaderno). Ahora puede tener las instrucciones a la vista mientras explora el grupo de funciones.\n",
    "- **Opción 2**: alternar entre las pestañas de SageMaker Studio para seguir estas instrucciones.\n",
    "\n",
    "1. Seleccione el ícono de **SageMaker Home** (Inicio de SageMaker).\n",
    "2. Ejecute **Experiments** (Experimentos).\n",
    "\n",
    "Verá la pestaña **Experiments** (Experimentos) en SageMaker Studio.\n",
    "\n",
    "3. Seleccione **Unassigned runs** (Ejecuciones no asignadas).\n",
    "4. En la lista, seleccione el **nombre** del trabajo cuyo tipo es **SageMakerTrainingJob**.\n",
    "\n",
    "Se mostrarán los detalles del trabajo de entrenamiento.\n",
    "\n",
    "5. En el lado izquierdo, seleccione la pestaña **Debugger** (Depurador).\n",
    "\n",
    "SageMaker Debugger proporciona el estado de su trabajo de entrenamiento, que puede supervisar mientras se está ejecutando el entrenamiento de modelos. Cuando se complete, verá el estado de cualquier problema de entrenamiento especificado.\n",
    "\n",
    "El análisis estará completo cuando todas las líneas de **estado** muestren el mensaje **No Issues Found** (No se encontraron problemas) o **Issues Found** (Se encontraron problemas). Las reglas de Debugger pueden demorar hasta 9 minutos en completarse.\n",
    "\n",
    "Si se encuentran problemas, esto significa que debería solucionarlos en su modelo. ¿Se encontró algún problema para los trabajos? \n",
    "\n",
    "En este laboratorio, no resuelva ningún problema encontrado. Sin embargo, si desea resolverlos, puede abordarlos con una combinación de procesamiento del conjunto de datos y reentrenamiento del modelo con los hiperparámetros ajustados.\n",
    "\n",
    "6. Cuando se complete el análisis, vuelva a la pestaña del cuaderno que tiene la etiqueta **lab_7.ipynb**."
   ]
  },
  {
   "cell_type": "markdown",
   "id": "adverse-galaxy",
   "metadata": {
    "papermill": {
     "duration": null,
     "end_time": null,
     "exception": null,
     "start_time": null,
     "status": "pending"
    },
    "tags": []
   },
   "source": [
    "## Tarea 2.5: realizar análisis posteriores al entrenamiento\n",
    "\n",
    "Con SageMaker Debugger, puede crear registros del trabajo de procesamiento en Amazon CloudWatch, que puede usar para configurar alarmas personalizadas. Aquí, imprima la ubicación del lugar donde se almacenan los registros para cada métrica evaluada."
   ]
  },
  {
   "cell_type": "code",
   "execution_count": null,
   "id": "southeast-command",
   "metadata": {
    "papermill": {
     "duration": null,
     "end_time": null,
     "exception": null,
     "start_time": null,
     "status": "pending"
    },
    "tags": []
   },
   "outputs": [],
   "source": [
    "#print-urls\n",
    "def _get_rule_job_name(training_job_name, rule_configuration_name, rule_job_arn):\n",
    "    \"\"\"Helper function to get the rule job name with correct casing\"\"\"\n",
    "    return \"{}-{}-{}\".format(\n",
    "        training_job_name[:26], rule_configuration_name[:26], rule_job_arn[-8:]\n",
    "    )\n",
    "\n",
    "\n",
    "def _get_cw_url_for_rule_job(rule_job_name, region):\n",
    "    return \"https://{}.console.aws.amazon.com/cloudwatch/home?region={}#logStream:group=/aws/sagemaker/ProcessingJobs;prefix={};streamFilter=typeLogStreamPrefix\".format(\n",
    "        region, region, rule_job_name\n",
    "    )\n",
    "\n",
    "\n",
    "def get_rule_jobs_cw_urls(xgb):\n",
    "    region = boto3.Session().region_name\n",
    "    training_job = xgb.latest_training_job\n",
    "    training_job_name = training_job.describe()[\"TrainingJobName\"]\n",
    "    rule_eval_statuses = training_job.describe()[\"DebugRuleEvaluationStatuses\"]\n",
    "\n",
    "    result = {}\n",
    "    for status in rule_eval_statuses:\n",
    "        if status.get(\"RuleEvaluationJobArn\", None) is not None:\n",
    "            rule_job_name = _get_rule_job_name(\n",
    "                training_job_name, status[\"RuleConfigurationName\"], status[\"RuleEvaluationJobArn\"]\n",
    "            )\n",
    "            result[status[\"RuleConfigurationName\"]] = _get_cw_url_for_rule_job(\n",
    "                rule_job_name, region\n",
    "            )\n",
    "    return result\n",
    "\n",
    "\n",
    "get_rule_jobs_cw_urls(xgb)"
   ]
  },
  {
   "cell_type": "markdown",
   "id": "0280e9a7",
   "metadata": {},
   "source": [
    "Las colecciones predeterminadas pueden recuperar tensores como ponderaciones, gradientes, sesgos y pérdidas que SageMaker Debugger crea a partir de su trabajo de entrenamiento, además de personalizar las colecciones usando los tensores. Genere una lista de los nombres y valores para los tensores guardados a fin de determinar cuáles trazar para el análisis más detallado."
   ]
  },
  {
   "cell_type": "code",
   "execution_count": null,
   "id": "cleared-liquid",
   "metadata": {
    "papermill": {
     "duration": null,
     "end_time": null,
     "exception": null,
     "start_time": null,
     "status": "pending"
    },
    "tags": []
   },
   "outputs": [],
   "source": [
    "#retrieve-names\n",
    "trial = create_trial(xgb.latest_job_debugger_artifacts_path())\n",
    "trial.tensor_names()"
   ]
  },
  {
   "cell_type": "code",
   "execution_count": null,
   "id": "e4ef14b5",
   "metadata": {},
   "outputs": [],
   "source": [
    "#retrieve-values\n",
    "trial.tensor(\"average_shap/f1\").values()"
   ]
  },
  {
   "cell_type": "code",
   "execution_count": null,
   "id": "8fba8e2f",
   "metadata": {},
   "outputs": [],
   "source": [
    "#plot-tensors\n",
    "shap_values = trial.tensor(\"full_shap/f10\").value(trial.last_complete_step)\n",
    "shap_no_base = shap_values[:, :-1]\n",
    "shap_base_value = shap_values[0, -1]\n",
    "shap.summary_plot(shap_no_base, plot_type=\"bar\", feature_names=feature_names)"
   ]
  },
  {
   "attachments": {},
   "cell_type": "markdown",
   "id": "c6e546ff",
   "metadata": {},
   "source": [
    "## Tarea 2.6: acceder al panel de información de SageMaker Debugger\n",
    "\n",
    "1. Regrese a la pestaña **Experiments** (Experimentos).\n",
    "2. Seleccione **Debugger** (Depurador), que se encuentra a la izquierda.\n",
    "3. En la sección **Debugger insights** (Información de depurador), seleccione **lab-7-smdebugger-job** de la lista **Training job name** (Nombre del trabajo de entrenamiento).\n",
    "\n",
    "SageMaker Studio abre una nueva pestaña **Insights** (Información) de Debugger para el trabajo y empieza a cargar datos.\n",
    "\n",
    "SageMaker Debugger proporciona una descripción general del rendimiento del entrenamiento de su modelo en instancias de Amazon Elastic Compute Cloud (Amazon EC2). Explore SageMaker Debugger en SageMaker Studio y examine detalles contenidos en los informes.\n",
    "\n",
    "La pestaña **Systems Metrics** (Métricas del sistema) incluye las siguientes secciones:\n",
    "\n",
    "- **Resource utilization summary** (Resumen de utilización de los recursos)\n",
    "- **CPU utilization summary** (Resumen de utilización de CPU)\n",
    "- **GPU Utilization summary** (Resumen de utilización de GPU)\n",
    "\n",
    "La pestaña **Rules** (Reglas) incluye la siguiente **información**: \n",
    "\n",
    "- **BatchSize**\n",
    "- **LowGPUUtiliztion**\n",
    "- **CPUBottleneck**\n",
    "- **GPUMemoryIncrease**\n",
    "- **StepOutlier**\n",
    "- **MaxInitializationTime**\n",
    "- **IOBottleneck**\n",
    "- **LoadBalancing**\n",
    "\n",
    "Los datos se propagarán en los gráficos y las tablas si se encuentra algún problema.\n",
    "\n",
    "4. Puede descargar un informe del depurador si selecciona <span style=\"background-color:#1a1b22; font-size:90%; color:#57c4f8; position:relative; top:-1px; padding-top:3px; padding-bottom:3px; padding-left:10px; padding-right:10px; border-color:#57c4f8; border-width:thin; border-style:solid; border-radius:2px; margin-right:5px; white-space:nowrap\">Download report</span> (Descargar informe) cerca de la parte superior de la pestaña **Debugger insights** (Información del depurador).\n",
    "\n",
    "### Conclusión\n",
    "\n",
    "¡Felicitaciones! Usó SageMaker Debugger para analizar, detectar y crear alertas para posibles problemas en el entrenamiento de modelos. Ahora puede usar la información generada a partir de sus informes y alertas para proporcionar información sobre el entrenamiento y la creación eficientes de un modelo más efectivo. El siguiente laboratorio se centra en el uso de SageMaker Clarify para detectar sesgos y proporcionar explicabilidad para las predicciones de modelos.\n",
    "\n",
    "### Limpieza\n",
    "\n",
    "Ha completado este cuaderno. Para ir a la siguiente parte del laboratorio, complete estos pasos:\n",
    "\n",
    "- Cierre este archivo de cuaderno.\n",
    "- Regrese a la sesión de laboratorio y continúe con la **Conclusión**."
   ]
  }
 ],
 "metadata": {
  "instance_type": "ml.g4dn.xlarge",
  "kernelspec": {
   "display_name": "Python 3.9.6 64-bit",
   "language": "python",
   "name": "python3"
  },
  "language_info": {
   "codemirror_mode": {
    "name": "ipython",
    "version": 3
   },
   "file_extension": ".py",
   "mimetype": "text/x-python",
   "name": "python",
   "nbconvert_exporter": "python",
   "pygments_lexer": "ipython3",
   "version": "3.9.6"
  },
  "papermill": {
   "default_parameters": {},
   "duration": 239.460793,
   "end_time": "2021-06-01T00:16:48.734820",
   "environment_variables": {},
   "exception": true,
   "input_path": "pytorch_script_change_smdebug.ipynb",
   "output_path": "/opt/ml/processing/output/pytorch_script_change_smdebug-2021-06-01-00-08-41.ipynb",
   "parameters": {
    "kms_key": "arn:aws:kms:us-west-2:521695447989:key/6e9984db-50cf-4c7e-926c-877ec47a8b25"
   },
   "start_time": "2021-06-01T00:12:49.274027",
   "version": "2.3.3"
  },
  "vscode": {
   "interpreter": {
    "hash": "2e45558c452cedcb26631315a9b3b77e80a9c32d662ed25df58964b99bc5b9b9"
   }
  }
 },
 "nbformat": 4,
 "nbformat_minor": 5
}
