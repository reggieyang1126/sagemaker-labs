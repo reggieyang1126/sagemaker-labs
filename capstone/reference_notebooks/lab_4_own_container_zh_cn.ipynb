{
 "cells": [
  {
   "cell_type": "markdown",
   "metadata": {},
   "source": [
    "# 任务 4：使用您自己的容器执行数据处理\n",
    "\n",
    "在之前的笔记本中，您使用了 Amazon SageMaker Processing 和 scikit-learn 内置容器执行数据处理。\n",
    "\n",
    "在此笔记本中，您将设置使用自己的处理容器运行 scikit-learn 脚本所需的环境。\n",
    "\n",
    "您将创建自己的 Docker 映像，构建处理容器，并使用来自 SageMaker Python SDK 的 **ScriptProcessor** 类在容器中运行 scikit-learn 预处理脚本。\n",
    "\n",
    "最后，您将验证保存在 Amazon Simple Storage Service (Amazon S3) 中的数据处理结果。"
   ]
  },
  {
   "attachments": {},
   "cell_type": "markdown",
   "metadata": {},
   "source": [
    "## 任务 4.1：环境设置\n",
    "\n",
    "在此任务中，您将安装所需的库和依赖项。\n",
    "\n",
    "您将设置 Amazon S3 存储桶来存储处理作业的输出，还将让执行角色运行 SageMaker 处理作业。"
   ]
  },
  {
   "cell_type": "code",
   "execution_count": null,
   "metadata": {},
   "outputs": [],
   "source": [
    "#install-dependencies\n",
    "import logging\n",
    "import boto3\n",
    "import sagemaker\n",
    "import pandas as pd\n",
    "import numpy as np\n",
    "\n",
    "sagemaker_logger = logging.getLogger(\"sagemaker\")\n",
    "sagemaker_logger.setLevel(logging.INFO)\n",
    "sagemaker_logger.addHandler(logging.StreamHandler())\n",
    "\n",
    "sagemaker_session = sagemaker.Session()\n",
    "\n",
    "#Execution role to run the SageMaker Processing job\n",
    "role = sagemaker.get_execution_role()\n",
    "print(\"SageMaker Execution Role: \", role)\n",
    "\n",
    "#S3 bucket to read the SKLearn processing script and writing processing job outputs\n",
    "s3 = boto3.resource('s3')\n",
    "for buckets in s3.buckets.all():\n",
    "    if 'labdatabucket' in buckets.name:\n",
    "        bucket = buckets.name\n",
    "print(\"Bucket: \", bucket)"
   ]
  },
  {
   "attachments": {},
   "cell_type": "markdown",
   "metadata": {},
   "source": [
    "## 任务 4.2：创建处理容器\n",
    "\n",
    "在此任务中，您将使用 Dockerfile 定义并创建 scikit-learn 容器。"
   ]
  },
  {
   "attachments": {},
   "cell_type": "markdown",
   "metadata": {},
   "source": [
    "### 任务 4.2.1：创建 Dockerfile \n",
    "\n",
    "在此任务中，您将创建 Docker 目录，并添加用于创建处理容器的 Dockerfile。因为要创建 scikit-learn 容器，所以要安装 Pandas 和 scikit-learn。"
   ]
  },
  {
   "cell_type": "code",
   "execution_count": null,
   "metadata": {},
   "outputs": [],
   "source": [
    "%mkdir docker"
   ]
  },
  {
   "cell_type": "code",
   "execution_count": null,
   "metadata": {},
   "outputs": [],
   "source": [
    "%%writefile docker/Dockerfile\n",
    "FROM public.ecr.aws/docker/library/python:3.7-slim-buster\n",
    "\n",
    "RUN pip3 install pandas==0.25.3 scikit-learn==0.21.3\n",
    "ENV PYTHONUNBUFFERED=TRUE\n",
    "\n",
    "ENTRYPOINT [\"python3\"]"
   ]
  },
  {
   "attachments": {},
   "cell_type": "markdown",
   "metadata": {},
   "source": [
    "### 任务 4.2.2：构建容器映像\n",
    "\n",
    "在此任务中，您将使用 Amazon SageMaker Studio 映像构建命令行界面 (CLI) 创建一个自定义容器映像。\n",
    "\n",
    "通过使用 Amazon SageMaker Studio 映像构建 CLI，您可以直接在 SageMaker Studio 环境中构建兼容 Amazon SageMaker 的 Docker 映像。\n",
    "\n",
    "安装 SageMaker Studio 映像构建包："
   ]
  },
  {
   "cell_type": "code",
   "execution_count": null,
   "metadata": {},
   "outputs": [],
   "source": [
    "%pip install sagemaker-studio-image-build"
   ]
  },
  {
   "cell_type": "markdown",
   "metadata": {},
   "source": [
    "导航到包含 Dockerfile 的目录并运行 sm-docker 构建命令。此命令会自动记录构建输出，并返回 Docker 映像的**映像 URI**。完成此过程大约需要 2 分钟。"
   ]
  },
  {
   "cell_type": "code",
   "execution_count": null,
   "metadata": {},
   "outputs": [],
   "source": [
    "%%sh\n",
    "\n",
    "cd docker\n",
    "\n",
    "sm-docker build ."
   ]
  },
  {
   "attachments": {},
   "cell_type": "markdown",
   "metadata": {},
   "source": [
    "接着，复制**映像 URI** 并将其粘贴到您选择的文本编辑器中。\n",
    "您将使用此**映像 URI** 来创建一个 **ScriptProcessor** 类。"
   ]
  },
  {
   "attachments": {},
   "cell_type": "markdown",
   "metadata": {},
   "source": [
    "## 任务 4.3：运行 SageMaker 处理作业\n",
    "\n",
    "在此任务中，您将使用与前一个笔记本相同的预处理数据集。"
   ]
  },
  {
   "cell_type": "code",
   "execution_count": null,
   "metadata": {},
   "outputs": [],
   "source": [
    "#import-data\n",
    "shape=pd.read_csv(\"data/adult_data.csv\", header=None)\n",
    "shape.sample(5)"
   ]
  },
  {
   "attachments": {},
   "cell_type": "markdown",
   "metadata": {},
   "source": [
    "\n",
    "\n",
    "然后，您将使用 SageMaker ScriptProcessor 类来定义一个处理脚本并将其作为处理作业运行。有关此类的更多信息，请参阅 [SageMaker ScriptProcessor](https://sagemaker.readthedocs.io/en/stable/api/training/processing.html#sagemaker.processing.ScriptProcessor)。\n",
    "\n",
    "要创建 ScriptProcessor 类，请配置以下参数：\n",
    "- **base_job_name**：处理作业名称的前缀\n",
    "- **command**：要运行的命令，以及任何命令行标志\n",
    "- **image_uri**：要用于处理作业的 Docker 映像的 URI\n",
    "- **role**：SageMaker 执行角色\n",
    "- **instance_count**：要运行处理作业的实例的数量\n",
    "- **instance_type**：用于处理作业的 Amazon Elastic Compute Cloud (Amazon EC2) 实例的类型\n",
    "\n",
    "在下面的代码中，将 **REPLACE_IMAGE_URI** 替换为文本编辑器中的 URI。"
   ]
  },
  {
   "cell_type": "code",
   "execution_count": null,
   "metadata": {},
   "outputs": [],
   "source": [
    "#sagemaker-script-processor\n",
    "from sagemaker.processing import ScriptProcessor\n",
    "\n",
    "# create a ScriptProcessor\n",
    "script_processor = ScriptProcessor(\n",
    "    base_job_name=\"own-processing-container\",\n",
    "    command=[\"python3\"],\n",
    "    image_uri=\"REPLACE_IMAGE_URI\",\n",
    "    role=role,\n",
    "    instance_count=1,\n",
    "    instance_type=\"ml.m5.xlarge\",\n",
    ")"
   ]
  },
  {
   "attachments": {},
   "cell_type": "markdown",
   "metadata": {},
   "source": [
    "\n",
    "接着，使用 ScriptProcessor.run() 方法将 **sklearn_preprocessing.py** 脚本作为处理作业运行。这与任务 3 中使用的脚本相同，但是您现在是在从基本映像构建的自定义容器上运行该脚本。有关此方法的更多信息，请参阅 [ScriptProcessor.run()](https://sagemaker.readthedocs.io/en/stable/api/training/processing.html#sagemaker.processing.ScriptProcessor.run)。\n",
    "\n",
    "要运行处理作业，请配置以下参数：\n",
    "- **code**：预处理脚本的路径 \n",
    "- **inputs**：预处理脚本的输入数据路径（Amazon S3 输入位置）\n",
    "- **outputs**：预处理脚本的输出路径（Amazon S3 输出位置）\n",
    "- **arguments**：预处理脚本的命令行参数（如训练测试分割率）\n",
    "\n",
    "完成处理作业大约需要 4–5 分钟。"
   ]
  },
  {
   "cell_type": "code",
   "execution_count": null,
   "metadata": {},
   "outputs": [],
   "source": [
    "#processing-job\n",
    "import os\n",
    "from sagemaker.processing import ProcessingInput, ProcessingOutput\n",
    "\n",
    "# Amazon S3 path prefix\n",
    "input_raw_data_prefix = \"data/input\"\n",
    "output_preprocessed_data_prefix = \"data/output\"\n",
    "scripts_prefix = \"scripts/smstudiofiles\"\n",
    "logs_prefix = \"logs\"\n",
    "\n",
    "# Run the processing job\n",
    "script_processor.run(\n",
    "    code=\"s3://\" + os.path.join(bucket, scripts_prefix, \"sklearn_preprocessing.py\"),\n",
    "    inputs=[ProcessingInput(source=\"s3://\" + os.path.join(bucket, input_raw_data_prefix, \"adult_data.csv\"),\n",
    "                            destination=\"/opt/ml/processing/input\")],\n",
    "    outputs=[\n",
    "        ProcessingOutput(output_name=\"train_data\", \n",
    "                         source=\"/opt/ml/processing/train\",\n",
    "                         destination=\"s3://\" + os.path.join(bucket, output_preprocessed_data_prefix, \"train\")),\n",
    "        ProcessingOutput(output_name=\"test_data\", \n",
    "                         source=\"/opt/ml/processing/test\",\n",
    "                         destination=\"s3://\" + os.path.join(bucket, output_preprocessed_data_prefix, \"test\")),\n",
    "    ],\n",
    "    arguments=[\"--train-test-split-ratio\", \"0.2\"],\n",
    ")\n",
    "script_processor_job_description = script_processor.jobs[-1].describe()\n",
    "print(script_processor_job_description)"
   ]
  },
  {
   "cell_type": "markdown",
   "metadata": {},
   "source": [
    "## 任务 4.4：验证数据处理结果\n",
    "\n",
    "通过查看训练和测试输出数据集的前五行，验证您运行的处理作业的输出。"
   ]
  },
  {
   "cell_type": "code",
   "execution_count": null,
   "metadata": {},
   "outputs": [],
   "source": [
    "#view-train-dataset\n",
    "print(\"Top 5 rows from s3://{}/{}/train/\".format(bucket, output_preprocessed_data_prefix))\n",
    "!aws s3 cp --quiet s3://$bucket/$output_preprocessed_data_prefix/train/train_features.csv - | head -n5"
   ]
  },
  {
   "cell_type": "code",
   "execution_count": null,
   "metadata": {},
   "outputs": [],
   "source": [
    "#view-validation-dataset\n",
    "print(\"Top 5 rows from s3://{}/{}/validation/\".format(bucket, output_preprocessed_data_prefix))\n",
    "!aws s3 cp --quiet s3://$bucket/$output_preprocessed_data_prefix/test/test_features.csv - | head -n5"
   ]
  },
  {
   "cell_type": "markdown",
   "metadata": {},
   "source": [
    "### 总结\n",
    "\n",
    "恭喜！ 您已经成功构建了自己的处理容器，并使用了 SageMaker Processing 来运行处理作业。\n",
    "\n",
    "### 清理\n",
    "\n",
    "您已完成此笔记本。要进入本实验的下一部分，请执行以下操作：\n",
    "\n",
    "- 关闭此笔记本文件。\n",
    "- 返回至实验会话并继续**总结**部分。"
   ]
  }
 ],
 "metadata": {
  "instance_type": "ml.t3.medium",
  "kernelspec": {
   "display_name": "Python 3",
   "language": "python",
   "name": "python3"
  },
  "language_info": {
   "codemirror_mode": {
    "name": "ipython",
    "version": 3
   },
   "file_extension": ".py",
   "mimetype": "text/x-python",
   "name": "python",
   "nbconvert_exporter": "python",
   "pygments_lexer": "ipython3",
   "version": "3.8.5"
  },
  "vscode": {
   "interpreter": {
    "hash": "741de909edea0d5644898c592544ed98bede62b404d20772e5c4abc3c2f12566"
   }
  }
 },
 "nbformat": 4,
 "nbformat_minor": 4
}