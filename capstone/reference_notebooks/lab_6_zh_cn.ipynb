{
 "cells": [
  {
   "cell_type": "markdown",
   "metadata": {},
   "source": [
    "# 任务 2：使用 SageMaker Experiments\n",
    "\n",
    "在本实验中，您将使用 Amazon SageMaker Experiments 设置一个试验。您将使用 XGBoost 训练机器学习 (ML) 模型，执行超参数优化以测试多个超参数设置和生成更准确的模型，并评估模型的性能。"
   ]
  },
  {
   "attachments": {},
   "cell_type": "markdown",
   "metadata": {},
   "source": [
    "## 任务 2.1：环境设置\n",
    "\n",
    "在开始训练模型之前，请安装所有必要依赖项。\n",
    "\n",
    "\n",
    "要了解有关 SageMaker Experiments 的功能的详情，请参阅 [使用 Amazon SageMaker Experiments 管理机器学习](https://docs.aws.amazon.com/sagemaker/latest/dg/experiments.html#experiments-features)。"
   ]
  },
  {
   "cell_type": "code",
   "execution_count": null,
   "metadata": {},
   "outputs": [],
   "source": [
    "#install-dependencies\n",
    "\n",
    "import boto3\n",
    "import io\n",
    "import json\n",
    "import math\n",
    "import matplotlib.pyplot as plt\n",
    "import numpy as np\n",
    "import os\n",
    "import pandas as pd\n",
    "import re\n",
    "import sagemaker\n",
    "import sys\n",
    "import time\n",
    "import zipfile\n",
    "\n",
    "from IPython.display import display\n",
    "from IPython.display import Image\n",
    "from sagemaker.analytics import ExperimentAnalytics\n",
    "from sagemaker.inputs import TrainingInput\n",
    "from sagemaker.session import Session\n",
    "from sagemaker.experiments.run import Run, load_run\n",
    "#from sagemaker.utils import unique_name_from_base  #could be used instead of the date-time append approach, to create a unique Experiment name.\n",
    "from sagemaker.tuner import IntegerParameter, CategoricalParameter, ContinuousParameter, HyperparameterTuner\n",
    "from sagemaker.xgboost.estimator import XGBoost\n",
    "from time import gmtime, strftime\n",
    "\n",
    "role = sagemaker.get_execution_role()\n",
    "region = boto3.Session().region_name\n",
    "sess = boto3.Session()\n",
    "sm = sess.client('sagemaker')\n",
    "bucket = sagemaker.Session().default_bucket()\n",
    "prefix = 'sagemaker/mlasms'"
   ]
  },
  {
   "cell_type": "markdown",
   "metadata": {},
   "source": [
    "接下来，导入数据集。"
   ]
  },
  {
   "cell_type": "code",
   "execution_count": null,
   "metadata": {},
   "outputs": [],
   "source": [
    "#import-dataset\n",
    "lab_test_data = pd.read_csv('adult_data_processed.csv')\n",
    "pd.set_option('display.max_columns', 500)\n",
    "pd.set_option('display.max_rows', 20)\n",
    "lab_test_data.head()"
   ]
  },
  {
   "attachments": {},
   "cell_type": "markdown",
   "metadata": {},
   "source": [
    "将数据集拆分为训练数据集 (70%)、验证数据集 (20%) 和测试数据集 (10%)。在训练期间将使用训练数据集和验证数据集。在部署后进行模型评估时将使用测试数据集。\n",
    "\n",
    "要使用 SageMaker 进行训练，您需要将数据集转换为 libSVM 或 CSV 格式。本实验使用 CSV 格式进行训练。\n",
    "\n",
    "有关 XGBoost 算法的信息，请参阅 [XGBoost 算法](https://docs.aws.amazon.com/sagemaker/latest/dg/xgboost.html)。\n",
    "有关 XGBoost 算法的输入/输出界面的更多信息，请参阅 [XGBoost 算法的输入/输出界面](https://docs.aws.amazon.com/sagemaker/latest/dg/xgboost.html#InputOutput-XGBoost)。\n"
   ]
  },
  {
   "cell_type": "code",
   "execution_count": null,
   "metadata": {},
   "outputs": [],
   "source": [
    "#split-dataset\n",
    "train_data, validation_data, test_data = np.split(\n",
    "    lab_test_data.sample(frac=1, random_state=1729),\n",
    "    [int(0.7 * len(lab_test_data)), int(0.9 * len(lab_test_data))],\n",
    ")\n",
    "\n",
    "train_data.to_csv('train_data.csv', index=False, header=False)\n",
    "validation_data.to_csv('validation_data.csv', index=False, header=False)"
   ]
  },
  {
   "cell_type": "markdown",
   "metadata": {},
   "source": [
    "您已经创建了两个数据集文件，名称为 *train_data.csv* 和 *validation_data.csv*。\n",
    "将这些数据集文件上传到 Amazon Simple Storage Service (Amazon S3)。"
   ]
  },
  {
   "cell_type": "code",
   "execution_count": null,
   "metadata": {},
   "outputs": [],
   "source": [
    "#upload-dataset\n",
    "from sagemaker.s3 import S3Uploader\n",
    "from sagemaker.inputs import TrainingInput\n",
    "\n",
    "sagemaker_session = sagemaker.Session()\n",
    "\n",
    "train_path = S3Uploader.upload('train_data.csv', 's3://{}/{}'.format(bucket, prefix))\n",
    "validation_path = S3Uploader.upload('validation_data.csv', 's3://{}/{}'.format(bucket, prefix))\n",
    "\n",
    "train_input = TrainingInput(train_path, content_type='text/csv')\n",
    "validation_input = TrainingInput(validation_path, content_type='text/csv')\n",
    "\n",
    "data_inputs = {\n",
    "    'train': train_input,\n",
    "    'validation': validation_input\n",
    "}"
   ]
  },
  {
   "attachments": {},
   "cell_type": "markdown",
   "metadata": {},
   "source": [
    "## 任务 2.2：创建试验并运行初始训练作业\n",
    "\n",
    "使用 SageMaker Experiments，通过各种训练组件来整理、跟踪、比较和评估 ML 模型训练试验。有关 SageMaker Experiments 的更多信息，请参阅 [SageMaker Experiments](https://docs.aws.amazon.com/sagemaker/latest/dg/experiments.html)。在 SageMaker Experiments 中，这些组件包括数据集、算法、超参数和指标。\n",
    "\n",
    "在此任务中，您将完成以下操作：\n",
    "- 在 Amazon SageMaker Studio 中创建和跟踪试验。\n",
    "- 创建一个运行来跟踪输入、参数和指标。"
   ]
  },
  {
   "cell_type": "markdown",
   "metadata": {},
   "source": [
    "首先，为试验创建名称并提供描述。"
   ]
  },
  {
   "cell_type": "code",
   "execution_count": null,
   "metadata": {},
   "outputs": [],
   "source": [
    "#create unique experiment name\n",
    "create_date = strftime(\"%m%d%H%M\")\n",
    "\n",
    "lab_6_experiment_name = \"lab-6-{}\".format(create_date)\n",
    "description = \"Using SageMaker Experiments with the Adult dataset.\"\n",
    "\n",
    "\n"
   ]
  },
  {
   "attachments": {},
   "cell_type": "markdown",
   "metadata": {},
   "source": [
    "然后，针对运行名称和标签定义可选值。"
   ]
  },
  {
   "cell_type": "code",
   "execution_count": null,
   "metadata": {},
   "outputs": [],
   "source": [
    "# create initial run_name\n",
    "run_name = \"lab-6-run-{}\".format(create_date)\n",
    "\n",
    "# define a run_tag\n",
    "run_tags = [{'Key': 'lab-6', 'Value': 'lab-6-run'}]\n",
    "\n",
    "print(f\"Experiment name - {lab_6_experiment_name},  run name - {run_name}\")"
   ]
  },
  {
   "cell_type": "markdown",
   "metadata": {},
   "source": [
    "## 任务 2.3：使用 XGBoost 算法训练和优化模型\n",
    "\n",
    "试验已设置好，可供训练使用。训练完成后，您可以在 SageMaker Studio 中分析结果。在此任务中，您将： \n",
    "\n",
    "- 训练 XGBoost 模型。\n",
    "- 在 SageMaker Studio 中分析试验。\n",
    "- 使用超参数优化模型。\n",
    "- 在 SageMaker Studio 中分析优化结果。"
   ]
  },
  {
   "cell_type": "markdown",
   "metadata": {},
   "source": [
    "### 任务 2.3.1：训练 XGBoost 模型"
   ]
  },
  {
   "attachments": {},
   "cell_type": "markdown",
   "metadata": {},
   "source": [
    "现在，您将使用 XGBoost 算法和您创建的试验来训练模型。\n",
    "\n",
    "您将设置的超参数如下所示：\n",
    "- **eta**：更新中使用的步长收缩，用于防止过度拟合。在每个提升步骤之后，您可以直接获得新特征的权重。\n",
    "- **gamma**：在树的叶节点上进行进一步分区所需的最小损失减少。算法越大，越保守。\n",
    "eta 参数实际上缩减了特征权重，使提升过程更加保守。\n",
    "- **max_depth**：树的最大深度。增大此值会使模型更加复杂，并可能导致过度拟合。\n",
    "- **min_child_weight**：子树中所需的实例权重 (hessian) 的最小总和。如果树分区步骤导致某个叶节点的实例权重总和小于 min_child_weight 值，则构建过程将放弃进一步分区。在线性回归模型中，这对应于每个节点所需的最小实例数。算法越大，越保守。\n",
    "- **num_round**：用于提升的轮数（树）。增加树可以提高模型准确性，但会增加过度拟合的风险。\n",
    "- **objective**：指定学习任务和相应的学习目标。\n",
    "- **subsample**：训练实例的子样本比率。将其设置为 0.5 意味着 XGBoost 随机抽取一半的数据实例来建立树。这将防止过度拟合。\n",
    "- **verbosity**：打印消息的详细程度。有效值为 0（静默）、1（警告）、2（信息）和 3（调试）。\n",
    "\n",
    "运行训练大约需要 3–4 分钟。\n",
    "\n",
    "有关 XGBoost 超参数的更多信息，请参阅 [超参数](https://docs.aws.amazon.com/sagemaker/latest/dg/xgboost_hyperparameters.html)。"
   ]
  },
  {
   "cell_type": "code",
   "execution_count": null,
   "metadata": {},
   "outputs": [],
   "source": [
    "from sagemaker import image_uris\n",
    "container = image_uris.retrieve(framework='xgboost',region=boto3.Session().region_name,version='1.5-1')\n",
    "\n",
    "# initialize hyperparameters\n",
    "eta=0.2\n",
    "gamma=4\n",
    "max_depth=5\n",
    "min_child_weight=6\n",
    "num_round=800\n",
    "objective='binary:logistic'\n",
    "subsample=0.8\n",
    "verbosity=0\n",
    "\n",
    "hyperparameters = {\n",
    "        \"max_depth\":max_depth,\n",
    "        \"eta\":eta,\n",
    "        \"gamma\":gamma,\n",
    "        \"min_child_weight\":min_child_weight,\n",
    "        \"subsample\":subsample,\n",
    "        \"verbosity\":verbosity,\n",
    "        \"objective\":objective,\n",
    "        \"num_round\":num_round\n",
    "}\n",
    "\n",
    "# Set up the estimator\n",
    "xgb = sagemaker.estimator.Estimator(\n",
    "    container,\n",
    "    role, \n",
    "    instance_count=1, \n",
    "    instance_type='ml.m5.xlarge',\n",
    "    output_path='s3://{}/{}/output'.format(bucket, prefix),\n",
    "    sagemaker_session=sagemaker_session,\n",
    "    EnableSageMakerMetricsTimeSeries=True,\n",
    "    hyperparameters=hyperparameters,\n",
    "    tags = run_tags\n",
    ")\n",
    "\n",
    "\n",
    "#Run the training job link to Experiment.\n",
    "with Run(\n",
    "    experiment_name=lab_6_experiment_name,\n",
    "    run_name=run_name,\n",
    "    tags=run_tags,\n",
    "    sagemaker_session=sagemaker_session,\n",
    ") as run:\n",
    "\n",
    "    run.log_parameters({\n",
    "                        \"eta\": eta, \n",
    "                        \"gamma\": gamma, \n",
    "                        \"max_depth\": max_depth,\n",
    "                        \"min_child_weight\": min_child_weight,\n",
    "                        \"num_round\": num_round,\n",
    "                        \"objective\": objective,\n",
    "                        \"subsample\": subsample,\n",
    "                        \"verbosity\": verbosity\n",
    "                       })\n",
    "    \n",
    "#    you may also specify metrics to log\n",
    "#    run.log_metric(name=\"\", value=x)\n",
    "\n",
    "# Train the model associating the training run with the current \"experiment\"\n",
    "    xgb.fit(\n",
    "        inputs = data_inputs\n",
    "    ) "
   ]
  },
  {
   "attachments": {},
   "cell_type": "markdown",
   "metadata": {},
   "source": [
    "### 任务 2.3.2：评估优化前的模型性能\n",
    "\n",
    "在 SageMaker Studio 中，您可以创建图表来评估您的训练作业。例如，在运行 lab-6 试验后，您能够以图表格式查看 validation:logloss_max 值。\n",
    "\n",
    "在本实验中，您可以直接在笔记本中内联绘制其他指标。"
   ]
  },
  {
   "cell_type": "code",
   "execution_count": null,
   "metadata": {},
   "outputs": [],
   "source": [
    "#visualize-training-results-table\n",
    "run_component_analytics = ExperimentAnalytics(\n",
    "    experiment_name=lab_6_experiment_name,\n",
    "    search_expression={\n",
    "                        \"Filters\": [{\n",
    "                                    \"Name\":\"TrialComponentName\",\n",
    "                                    \"Operator\":\"Contains\",\n",
    "                                    \"Value\":\"sagemaker\"\n",
    "                                    }]},\n",
    "    sagemaker_session=Session(sess, sm),\n",
    ")\n",
    "run_component_analytics.dataframe()[\"validation:logloss - Last\"].plot(kind=\"bar\", title=\"validation:logloss - Max\", xlabel=\"training job\", ylabel=\"logloss_max\")\n",
    "plt.show()"
   ]
  },
  {
   "attachments": {},
   "cell_type": "markdown",
   "metadata": {},
   "source": [
    "### 任务 2.3.3：使用超参数优化模型\n",
    "\n",
    "您已使用 SageMaker Experiments 成功执行了模型训练。在训练时，您还可以将 SageMaker 配置为使用超参数来显著影响训练过的模型的性能。SageMaker Studio 包含用于模型训练的各种常见超参数优化选项。虽然测试众多参数的效率会因所使用的数据集而异，但创建最佳模型也可能需要花费大量时间和精力。\n",
    "\n",
    "SageMaker 自动模型优化功能可以自动选择超参数来优化训练。有关自动模型优化的更多信息，请参阅 [自动模型优化](https://docs.aws.amazon.com/sagemaker/latest/dg/automatic-model-tuning.html)。要使用该功能，您需要为选择用于优化的每个超参数指定一个范围或一个可能值的列表。SageMaker 自动模型优化功能将使用各种超参数设置自动运行多个训练作业。它随后将根据指定的目标指标评估每个作业的结果，并根据之前的结果选择要在将来尝试的超参数设置。对于每个优化作业，您将指定训练作业的最大数量，达到该数量后，优化作业就完成了。\n",
    "\n",
    "您将需要设置的超参数范围如下所示：\n",
    "- **alpha**：针对权重的 L1 正则项。增大此值会使模型更加保守。\n",
    "- **eta**：更新中使用的步长收缩，用于防止过度拟合。在每个提升步骤之后，您可以直接获得新特征的权重。eta 参数实际上缩减了特征权重，使提升过程更加保守。\n",
    "- **max_depth**：树的最大深度。增大此值会使模型更加复杂，并可能导致过度拟合。\n",
    "- **min_child_weight**：子树中所需的实例权重 (hessian) 的最小总和。如果树分区步骤导致某个叶节点的实例权重总和小于 min_child_weight 值，则构建过程将放弃进一步分区。在线性回归模型中，这对应于每个节点所需的最小实例数。算法越大，越保守。\n",
    "- **num_round**：用于提升的轮数（树）。增加树可以提高模型准确性，但会增加过度拟合的风险。\n",
    "\n",
    "完成优化大约需要 5 分钟。\n",
    "\n",
    "有关 XGBoost 超参数的更多信息，请参阅 [超参数范围](https://docs.aws.amazon.com/sagemaker/latest/dg/xgboost_hyperparameters.html)。"
   ]
  },
  {
   "cell_type": "code",
   "execution_count": null,
   "metadata": {},
   "outputs": [],
   "source": [
    "#tune-model\n",
    "from sagemaker.tuner import IntegerParameter, CategoricalParameter, ContinuousParameter, HyperparameterTuner\n",
    "\n",
    "# Setup the hyperparameter ranges\n",
    "hyperparameter_ranges = {\n",
    "    'alpha': ContinuousParameter(0, 2),\n",
    "    'eta': ContinuousParameter(0, 1),\n",
    "    'max_depth': IntegerParameter(1, 10),\n",
    "    'min_child_weight': ContinuousParameter(1, 10),\n",
    "    'num_round': IntegerParameter(100, 1000)\n",
    "}\n",
    "# Define the target metric and the objective type (max/min)\n",
    "objective_metric_name = 'validation:auc'\n",
    "objective_type='Maximize'\n",
    "# Define the HyperparameterTuner\n",
    "tuner = HyperparameterTuner(\n",
    "    estimator = xgb,\n",
    "    objective_metric_name = objective_metric_name,\n",
    "    hyperparameter_ranges = hyperparameter_ranges,\n",
    "    objective_type = objective_type,\n",
    "    max_jobs=12,\n",
    "    max_parallel_jobs=4,\n",
    "    early_stopping_type='Auto',\n",
    ")\n",
    "\n",
    "with load_run(sagemaker_session=sagemaker_session, experiment_name=lab_6_experiment_name, run_name=run_name) as run:\n",
    "# Tune the model\n",
    "    tuner.fit(\n",
    "        inputs = data_inputs,\n",
    "        job_name = lab_6_experiment_name,\n",
    "    )\n",
    "    run_component_analytics = ExperimentAnalytics(\n",
    "    experiment_name=lab_6_experiment_name,\n",
    "    search_expression={\n",
    "                        \"Filters\": [{\n",
    "                                    \"Name\":\"TrialComponentName\",\n",
    "                                    \"Operator\":\"Contains\",\n",
    "                                    \"Value\":\"sagemaker\"\n",
    "                                    }]},\n",
    "    sagemaker_session=Session(sess, sm),\n",
    ")\n",
    "run_component_analytics.dataframe()[\"validation:logloss - Last\"].plot(kind=\"bar\", title=\"validation:logloss - Max\", xlabel=\"training job\", ylabel=\"logloss_max\")\n",
    " \n",
    "plt.show()\n",
    "    "
   ]
  },
  {
   "cell_type": "markdown",
   "metadata": {},
   "source": [
    "### 任务 2.3.4：评估优化后的模型性能\n",
    "\n",
    "在 SageMaker Studio 中，您还可以创建图表来评估您的优化作业。例如，在运行 lab-6-trial 训练作业后，您能够以图表格式查看目标值 **validation:auc_max**。\n",
    "\n",
    "![SageMaker Studio 中的 validation:error_max 图表的图片。](Task_2_3_4.png)\n",
    "\n",
    "在本实验中，查看来自最佳优化作业的结果，并使用笔记本中的图表对其进行可视化。"
   ]
  },
  {
   "cell_type": "code",
   "execution_count": null,
   "metadata": {},
   "outputs": [],
   "source": [
    "#get_experiment_analytics \n",
    "run_component_analytics = ExperimentAnalytics(\n",
    "    experiment_name=lab_6_experiment_name,\n",
    "    sagemaker_session=Session(sess, sm),\n",
    ")\n",
    "\n",
    "run_component_analytics.dataframe()"
   ]
  },
  {
   "cell_type": "code",
   "execution_count": null,
   "metadata": {},
   "outputs": [],
   "source": [
    "#visualize-tuning-results-auc-max\n",
    "if run_component_analytics.dataframe()[\"validation:auc - Max\"].iloc[1] != 0:\n",
    "    run_component_analytics.dataframe()[\"validation:auc - Max\"].plot(kind=\"bar\", title=\"validation:auc - Max\", xlabel=\"training job\", ylabel=\"auc_max\").set_ylim([0.8, 1]);\n",
    "else:\n",
    "    run_component_analytics.dataframe()[\"validation:auc - Last\"].plot(kind=\"bar\", title=\"validation:auc - Max\", xlabel=\"training job\", ylabel=\"auc_max\").set_ylim([0.8, 1]);\n",
    "    \n",
    "plt.show()"
   ]
  },
  {
   "cell_type": "code",
   "execution_count": null,
   "metadata": {},
   "outputs": [],
   "source": [
    "#visualize-tuning-results-auc-max-scatter\n",
    "N = 12\n",
    "if run_component_analytics.dataframe()[\"validation:auc - Max\"].iloc[1] != 0:\n",
    "    x = run_component_analytics.dataframe().sort_values(by=['TrialComponentName'])[\"validation:auc - Max\"];\n",
    "else:\n",
    "    x = run_component_analytics.dataframe().sort_values(by=['TrialComponentName'])[\"validation:auc - Last\"];\n",
    "y = run_component_analytics.dataframe().sort_values(by=['TrialComponentName'])[\"num_round\"]\n",
    "\n",
    "plt.scatter(x, y, alpha=0.5)\n",
    "plt.title(\"auc_max by num_round\")\n",
    "plt.xlabel(\"validation:auc - Max\")\n",
    "plt.ylabel(\"num_round\");\n",
    "plt.show()"
   ]
  },
  {
   "cell_type": "markdown",
   "metadata": {},
   "source": [
    "最后，您可以根据自己的目标指标打印最佳优化作业。"
   ]
  },
  {
   "cell_type": "code",
   "execution_count": null,
   "metadata": {},
   "outputs": [],
   "source": [
    "#print-best\n",
    "tuner.best_training_job()"
   ]
  },
  {
   "attachments": {},
   "cell_type": "markdown",
   "metadata": {},
   "source": [
    "### 任务 2.3.5：通过 SageMaker Studio 使用内置功能绘制试验指标\n",
    "\n",
    "之前提到的方法使用内联笔记本单元格来创建试验指标图表。另一种选择是使用 SageMaker Studio 内的功能来绘制一些试验指标。现在，试验已经至少运行一次，可以在 SageMaker Studio 中创建一个新条形图。\n",
    "\n",
    "下一项任务将在 SageMaker Studio 中打开一个新选项卡。要遵循这些指示，请使用以下选项之一：\n",
    "- **选项 1**：并排查看选项卡。要从 SageMaker Studio 主窗口创建分屏视图，请将 **lab_6.ipynb** 选项卡拖到一边，或者选择（右键单击）**lab_6.ipynb** 选项卡并选择 **New View for Notebook**（为笔记本新建视图）。现在，您可以在浏览构件时看到相应指示。\n",
    "- **选项 2**：在 SageMaker Studio 选项卡之间切换，以遵循这些指示。浏览完构件后，通过选择 **lab_6.ipynb** 选项卡返回至笔记本。\n",
    "\n",
    "1.选择 **SageMaker Home**（SageMaker 主页）图标。\n",
    "1.选择 **Experiments**（试验）。\n",
    "\n",
    "此时 SageMaker Studio 将显示 **Experiments**（试验）选项卡。\n",
    "\n",
    "1.选择以 *lab-6-* 开头的试验。\n",
    "\n",
    "此时 SageMaker Studio 将显示该试验中包含的 **Runs**（运行）的列表。\n",
    "\n",
    "1.选择与超参数优化作业关联的所有可用运行旁边的 **Name**（名称）列中的选项。\n",
    "1.清除 \n",
    "1.选择 <span style=\"background-color:#1a1b22; font-size:90%; color:#57c4f8; position:relative; top:-1px; padding-top:3px; padding-bottom:3px; padding-left:10px; padding-right:10px; border-color:#57c4f8; border-width:thin; border-style:solid; border-radius:2px; margin-right:5px; white-space:nowrap\">Analyze</span>（分析）。\n",
    "\n",
    "此时 SageMaker Studio 将显示 **Run Analyze Chart**（运行分析图表）选项卡。\n",
    "\n",
    "1.在选项卡下半部分的图表部分中，选择 <span style=\"background-color:#1a1b22; font-size:90%; color:#57c4f8; position:relative; top:-1px; padding-top:3px; padding-bottom:3px; padding-left:10px; padding-right:10px; border-color:#57c4f8; border-width:thin; border-style:solid; border-radius:2px; margin-right:5px; white-space:nowrap\">+ Add Chart</span>（+ 添加图表）。\n",
    "1.选择 **Bar**（条形图）。\n",
    "\n",
    "此时 SageMaker Studio 将显示 **Add Chart**（添加图表）窗口。\n",
    "\n",
    "1.对于 **Y-axis**（Y 轴），选择 **min_child_weight**。\n",
    "1.选择 <span style=\"background-color:#73cdf9; font-size:90%;  color:black; position:relative; top:-1px; padding-top:3px; padding-bottom:3px; padding-left:10px; padding-right:10px; border-color:#57c4f8; border-radius:2px; border-width:3px; margin-right:5px; white-space:nowrap\">Create</span>（创建）。\n",
    "\n",
    "显示试验中每个 *run* 的 *min_child_weight* 的条形图现已保存到图表部分。\n",
    "\n",
    "1.重复此流程，为 **train:auc** 指标创建一个新条形图。\n",
    "1.重复此流程，为 **validation:auc** 指标创建一个新条形图。"
   ]
  },
  {
   "cell_type": "markdown",
   "metadata": {},
   "source": [
    "### 总结\n",
    "\n",
    "恭喜！ 您已使用 SageMaker Experiments 训练和优化模型。在下一个实验中，您将使用 SageMaker Debugger 来深入了解训练模型时的潜在问题。\n",
    "\n",
    "### 清理\n",
    "\n",
    "您已完成此笔记本。要进入本实验的下一部分，请执行以下操作：\n",
    "\n",
    "- 关闭此笔记本文件。\n",
    "- 返回至实验会话并继续**总结**部分。"
   ]
  }
 ],
 "metadata": {
  "instance_type": "ml.t3.xlarge",
  "kernelspec": {
   "display_name": "Python 3",
   "language": "python",
   "name": "python3"
  },
  "language_info": {
   "codemirror_mode": {
    "name": "ipython",
    "version": 3
   },
   "file_extension": ".py",
   "mimetype": "text/x-python",
   "name": "python",
   "nbconvert_exporter": "python",
   "pygments_lexer": "ipython3",
   "version": "3.8.10"
  },
  "vscode": {
   "interpreter": {
    "hash": "741de909edea0d5644898c592544ed98bede62b404d20772e5c4abc3c2f12566"
   }
  }
 },
 "nbformat": 4,
 "nbformat_minor": 4
}