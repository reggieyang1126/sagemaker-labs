{
 "cells": [
  {
   "cell_type": "markdown",
   "metadata": {},
   "source": [
    "# Tarea 2: implementar un modelo de inferencia en tiempo real\n",
    "\n",
    "## Tarea 2.1: configuración del entorno\n",
    "\n",
    "Instale los paquetes y las dependencias."
   ]
  },
  {
   "cell_type": "code",
   "execution_count": null,
   "metadata": {},
   "outputs": [],
   "source": [
    "#install-dependencies\n",
    "import boto3\n",
    "import pandas as pd\n",
    "import sagemaker\n",
    "import sagemaker_datawrangler\n",
    "import time\n",
    "\n",
    "role = sagemaker.get_execution_role()\n",
    "region = boto3.Session().region_name\n",
    "sess = boto3.Session()\n",
    "sm = sess.client('sagemaker')\n",
    "prefix = 'sagemaker/mlasms'\n",
    "bucket = sagemaker.Session().default_bucket()\n",
    "s3_client = boto3.client(\"s3\")"
   ]
  },
  {
   "attachments": {},
   "cell_type": "markdown",
   "metadata": {},
   "source": [
    "Revise el conjunto de datos procesados del cliente."
   ]
  },
  {
   "cell_type": "code",
   "execution_count": null,
   "metadata": {},
   "outputs": [],
   "source": [
    "#explore-dataset\n",
    "column_list = ['income','age','workclass','education','education_num','marital_status','occupation','relationship','race','sex','capital_gain','capital_loss','hours_per_week']\n",
    "lab_test_data = pd.read_csv('adult_data_processed.csv', names=(column_list), header=1)\n",
    "pd.set_option('display.max_columns', 500)\n",
    "pd.set_option('display.max_rows', 20)\n",
    "lab_test_data.dtypes\n",
    "lab_test_data.head()"
   ]
  },
  {
   "cell_type": "markdown",
   "metadata": {},
   "source": [
    "Guarde el modelo del laboratorio de entrenamiento y ajuste en el bucket predeterminado de Amazon Simple Storage Service (Amazon S3). Configure un modelo usando **create_model** y configure **ModelDataUrl** para referenciar al modelo entrenado."
   ]
  },
  {
   "cell_type": "code",
   "execution_count": null,
   "metadata": {},
   "outputs": [],
   "source": [
    "#set-up-model\n",
    "# Upload the model to your Amazon S3 bucket\n",
    "s3_client.upload_file(\n",
    "    Filename=\"model.tar.gz\", Bucket=bucket, Key=f\"{prefix}/models/model.tar.gz\"\n",
    ")\n",
    "\n",
    "# Set a date to use in the model name\n",
    "create_date = time.strftime(\"%Y-%m-%d-%H-%M-%S\")\n",
    "model_name = 'income-model-{}'.format(create_date)\n",
    "\n",
    "# Retrieve the container image\n",
    "container = sagemaker.image_uris.retrieve(\n",
    "    region=boto3.Session().region_name, \n",
    "    framework='xgboost', \n",
    "    version='1.5-1'\n",
    ")\n",
    "\n",
    "# Set up the model\n",
    "income_model = sm.create_model(\n",
    "    ModelName = model_name,\n",
    "    ExecutionRoleArn = role,\n",
    "    PrimaryContainer = {\n",
    "        'Image': container,\n",
    "        'ModelDataUrl': f's3://{bucket}/{prefix}/models/model.tar.gz',\n",
    "    }\n",
    ")"
   ]
  },
  {
   "cell_type": "markdown",
   "metadata": {},
   "source": [
    "## Tarea 2.2: crear un punto de enlace a partir del modelo reentrenado y sintetizado que se proporciona"
   ]
  },
  {
   "attachments": {},
   "cell_type": "markdown",
   "metadata": {},
   "source": [
    "Puede crear un punto de enlace con el SDK para Python de Amazon SageMaker en tres pasos:\n",
    "1. Cree un modelo de SageMaker.\n",
    "2. Cree una configuración para un punto de enlace HTTPS.\n",
    "3. Cree un punto de enlace HTTPS.\n",
    "\n",
    "Consulte [Cree su punto de enlace e implemente su modelo](https://docs.aws.amazon.com/sagemaker/latest/dg/realtime-endpoints-deployment.html) para obtener más información sobre cómo crear un punto de enlace.\n",
    "\n",
    "Ya creó un modelo. Ahora está listo para crear un punto de enlace y su configuración. \n",
    "\n",
    "Primero, establezca la configuración del punto de enlace y el tipo de instancia que desea usar. Luego, llame a la API CreateEndpointConfig.\n",
    "\n",
    "Para crear una configuración del punto de enlace, debe establecer las siguientes opciones:\n",
    "- **VariantName**: el nombre de la variante de producción (uno o más modelos en producción)\n",
    "- **ModelName**: el nombre del modelo que desea alojar. Este es el nombre que especificó cuando creó el modelo.\n",
    "**InstanceType**: es el tipo de instancia de cómputo.\n",
    "- **InitialInstanceCount**: la cantidad de instancias que se deben iniciar en un primer momento.\n",
    "\n",
    "Para registrar las entradas en su punto de enlace y las salidas de la inferencia de los puntos de enlace en tiempo real de SageMaker en Amazon S3, puede habilitar una función llamada Captura de datos. La Captura de datos se usa habitualmente para registrar información que se puede utilizar para el entrenamiento, la depuración y la supervisión. Cuando explore su punto de enlace en Amazon SageMaker Studio, se mostrará información más detallada sobre el punto de enlace si está habilitada la Captura de datos. La configuración de la Captura de datos se presenta más adelante en este laboratorio para que aprenda a habilitarla.\n",
    "\n",
    "Consulte [Captura de datos](https://docs.aws.amazon.com/sagemaker/latest/dg/model-monitor-data-capture.html) para obtener más información sobre cómo agregar la Captura de datos."
   ]
  },
  {
   "cell_type": "code",
   "execution_count": null,
   "metadata": {},
   "outputs": [],
   "source": [
    "#create-endpoint-configuration \n",
    "# Create an endpoint config name. Here you create one based on the date  \n",
    "# so it you can search endpoints based on creation time.\n",
    "endpoint_config_name = 'income-model-real-time-endpoint-{}'.format(create_date)                              \n",
    "instance_type = 'ml.m5.xlarge'   \n",
    "initial_sampling_percentage = 25 # Choose a value between 0 and 100\n",
    "capture_modes = [ \"Input\",  \"Output\" ] # Specify input, output, or both\n",
    "\n",
    "endpoint_config_response = sm.create_endpoint_config(\n",
    "    EndpointConfigName=endpoint_config_name, # You will specify this name in a CreateEndpoint request.\n",
    "    # List of ProductionVariant objects, one for each model that you want to host at this endpoint.\n",
    "    ProductionVariants=[\n",
    "        {\n",
    "            \"VariantName\": \"variant1\", # The name of the production variant.\n",
    "            \"ModelName\": model_name, \n",
    "            \"InstanceType\": instance_type, # Specify the compute instance type.\n",
    "            \"InitialInstanceCount\": 1 # Number of instances to launch initially.\n",
    "        }\n",
    "    ],\n",
    "    DataCaptureConfig= {\n",
    "        'EnableCapture': True, # Whether data should be captured or not.\n",
    "        'InitialSamplingPercentage' : initial_sampling_percentage,\n",
    "        'DestinationS3Uri': f's3://{bucket}/data-capture',\n",
    "        'CaptureOptions': [{\"CaptureMode\" : capture_mode} for capture_mode in capture_modes]\n",
    "    }\n",
    ")\n",
    "\n",
    "print(f\"Created EndpointConfig: {endpoint_config_response['EndpointConfigArn']}\")"
   ]
  },
  {
   "attachments": {},
   "cell_type": "markdown",
   "metadata": {},
   "source": [
    "A continuación, cree un punto de enlace. Cuando crea un punto de enlace en tiempo real, SageMaker inicia las instancias de cómputo de machine learning (ML) e implementa uno o más modelos según lo especificado en la configuración. En este laboratorio, solo implementa un modelo para inferencias. En SageMaker, puede crear un punto de enlace de varios modelos. Consulte [Invocar un punto de enlace de varios modelos](https://docs.aws.amazon.com/sagemaker/latest/dg/invoke-multi-model-endpoint.html) para obtener más información sobre puntos de enlace de varios modelos.\n",
    "\n",
    "Cuando el punto de enlace esté en funcionamiento, la función auxiliar imprimirá el Amazon Resource Name (ARN) del punto de enlace. La creación del punto de enlace demorará entre 3 y 7 minutos."
   ]
  },
  {
   "cell_type": "code",
   "execution_count": null,
   "metadata": {},
   "outputs": [],
   "source": [
    "#create-endpoint\n",
    "# The name of the endpoint. The name must be unique within an AWS Region in your AWS account.\n",
    "endpoint_name = '{}-name'.format(endpoint_config_name)\n",
    "\n",
    "create_endpoint_response = sm.create_endpoint(\n",
    "    EndpointName=endpoint_name, \n",
    "    EndpointConfigName=endpoint_config_name\n",
    ") \n",
    "\n",
    "def wait_for_endpoint_creation_complete(endpoint):\n",
    "    \"\"\"Helper function to wait for the completion of creating an endpoint\"\"\"\n",
    "    response = sm.describe_endpoint(EndpointName=endpoint_name)\n",
    "    status = response.get(\"EndpointStatus\")\n",
    "    while status == \"Creating\":\n",
    "        print(\"Waiting for Endpoint Creation\")\n",
    "        time.sleep(15)\n",
    "        response = sm.describe_endpoint(EndpointName=endpoint_name)\n",
    "        status = response.get(\"EndpointStatus\")\n",
    "\n",
    "    if status != \"InService\":\n",
    "        print(f\"Failed to create endpoint, response: {response}\")\n",
    "        failureReason = response.get(\"FailureReason\", \"\")\n",
    "        raise SystemExit(\n",
    "            f\"Failed to create endpoint {create_endpoint_response['EndpointArn']}, status: {status}, reason: {failureReason}\"\n",
    "        )\n",
    "    print(f\"Endpoint {create_endpoint_response['EndpointArn']} successfully created.\")\n",
    "\n",
    "wait_for_endpoint_creation_complete(endpoint=create_endpoint_response)\n"
   ]
  },
  {
   "attachments": {},
   "cell_type": "markdown",
   "metadata": {},
   "source": [
    "En SageMaker Studio, puede revisar los detalles del punto de enlace debajo de la pestaña **Endpoints** (Puntos de enlace).\n",
    "\n",
    "El próximo paso abre una nueva pestaña en SageMaker Studio. Para seguir esas instrucciones, utilice las siguientes opciones:\n",
    "- **Opción 1**: ver las pestañas una al lado de la otra. Para crear una vista de pantalla dividida de la ventana principal de SageMaker Studio, arrastre la pestaña **real_time_inference.ipynb** hacia el lado o seleccione (con el botón derecho del mouse) la pestaña **real_time_inference.ipynb** y elija **New View for Notebook** (Nueva vista para el cuaderno). Ahora puede tener las instrucciones visibles mientras explora el punto de enlace.\n",
    "- **Opción 2**: alternar entre las pestañas de SageMaker Studio para seguir estas instrucciones. Cuando termine de explorar el punto de enlace, seleccione la pestaña **real_time_inference.ipynb** para volver al cuaderno.\n",
    "\n",
    "1. Seleccione el ícono de **SageMaker Home** (Inicio de SageMaker).\n",
    "2. Seleccione **Deployments** (Implementaciones).\n",
    "3. Seleccione **Endpoints** (Puntos de enlace).\n",
    "\n",
    "Verá la pestaña **Endpoints** (Puntos de enlace) en SageMaker Studio.\n",
    "\n",
    "4. Seleccione el punto de enlace que tenga **income-model-real-time-** en la columna **Name** (Nombre).\n",
    "\n",
    "Si el punto de enlace no aparece, seleccione el ícono de actualización hasta que aparezca en la lista.\n",
    "\n",
    "Verá la pestaña **ENDPOINT DETAILS** (DETALLES DEL PUNTO DE ENLACE) en SageMaker Studio.\n",
    "\n",
    "5. Vaya a la pestaña **AWS settings** (Configuración de AWS).\n",
    "\n",
    "Si abrió el punto de enlace antes de que terminara de crearse, seleccione el ícono de actualización hasta que el valor de **Endpoint status** (Estado del punto de enlace) cambie de *Creating* (Creando) a *InService* (En funcionamiento).\n",
    "\n",
    "En **Endpoint type** (Tipo de punto de enlace), verá **Real-time** (En tiempo real). Las secciones **Data capture settings** (Configuración de la captura de datos) y **Endpoint configuration settings** (Ajustes de la configuración de punto de enlace) muestran las configuraciones que seleccionó antes en el cuaderno."
   ]
  },
  {
   "cell_type": "markdown",
   "metadata": {},
   "source": [
    "## Tarea 2.3: invocar un punto de enlace para una inferencia en tiempo real con registros de clientes en tiempo real\n",
    "\n",
    "Después de que implemente su modelo con los servicios de alojamiento de SageMaker, puede enviarle datos de prueba al modelo en ese punto de enlace para probarlo.\n",
    "\n",
    "Tiene varios registros de clientes que sabe que perciben un ingreso mayor que o igual a 50 000 USD (un valor de **ingresos** de **1**) y varios que perciben un ingreso inferior a ese monto (un valor de **ingresos** de **0**). Invoque el punto de enlace con estos registros y vea las puntuaciones que se muestran.\n",
    "\n",
    "Para ver las predicciones en tiempo real del punto de enlace, lea el texto del cuerpo que se muestra en la respuesta, que contiene una lista de puntuaciones de las predicciones. La puntuación para cada registro varía de **0** a **1**. Los números cercanos a **1** indican que es más probable que esos clientes tengan un ingreso mayor que o igual a 50 000 USD. Por ejemplo, es más probable que un cliente con una puntuación de predicción de **0,42** tenga un ingreso mayor que o igual a 50 000 USD que un cliente cuya puntuación de predicción es de **0,14**."
   ]
  },
  {
   "cell_type": "code",
   "execution_count": null,
   "metadata": {},
   "outputs": [],
   "source": [
    "#invoke-endpoint-real-time-records\n",
    "sagemaker_runtime = boto3.client(\"sagemaker-runtime\", region_name=region)\n",
    "\n",
    "response = sagemaker_runtime.invoke_endpoint(\n",
    "    ContentType='text/csv',\n",
    "    EndpointName=endpoint_name, \n",
    "    Body=bytes('56,3,6,6,0,3,1,0,0,1,0,13\\n' +\n",
    "                '29,2,2,2,0,1,0,0,0,0,0,70\\n' +\n",
    "                '79,0,1,1,0,3,5,0,0,0,0,20\\n', 'utf-8')\n",
    ")\n",
    "\n",
    "print(response)\n",
    "\n",
    "print('\\nTesting with records that have an income value of 1:')\n",
    "print('The returned scores are: {}'.format(response['Body'].read().decode('utf-8')))\n",
    "\n",
    "response = sagemaker_runtime.invoke_endpoint(\n",
    "    ContentType='text/csv',\n",
    "    EndpointName=endpoint_name, \n",
    "    Body=bytes('19,0,1,1,1,3,2,0,0,0,0,32\\n' +\n",
    "                '31,0,1,1,2,1,2,1,1,0,0,40\\n' +\n",
    "                '23,0,1,1,1,0,1,0,0,0,0,40\\n', 'utf-8')\n",
    ")\n",
    "\n",
    "print('\\nTesting with records that have an income value of 0:')\n",
    "print('The returned scores are: {}'.format(response['Body'].read().decode('utf-8')))"
   ]
  },
  {
   "cell_type": "markdown",
   "metadata": {},
   "source": [
    "## Tarea 2.4: eliminar el punto de enlace"
   ]
  },
  {
   "cell_type": "markdown",
   "metadata": {},
   "source": [
    "La eliminación de un punto de enlace se puede lograr en tres pasos. Primero, elimine el punto de enlace. Luego, elimine la configuración del punto de enlace. Por último, si ya no necesita el modelo que implementó, elimínelo."
   ]
  },
  {
   "cell_type": "code",
   "execution_count": null,
   "metadata": {},
   "outputs": [],
   "source": [
    "#delete-resources\n",
    "# Delete endpoint\n",
    "sm.delete_endpoint(EndpointName=endpoint_name)\n",
    "\n",
    "# Delete endpoint configuration\n",
    "sm.delete_endpoint_config(EndpointConfigName=endpoint_config_name)\n",
    "                   \n",
    "# Delete model\n",
    "sm.delete_model(ModelName=model_name)"
   ]
  },
  {
   "cell_type": "markdown",
   "metadata": {},
   "source": [
    "### Conclusión\n",
    "\n",
    "¡Felicitaciones! Usó SageMaker para crear correctamente un punto de enlace en tiempo real, con el SDK para Python de SageMaker, y para invocarlo.\n",
    "\n",
    "La próxima tarea del laboratorio se centra en la implementación de un modelo de inferencias usando una inferencia sin servidor.\n",
    "\n",
    "### Limpieza\n",
    "\n",
    "Ha completado este cuaderno. Para ir a la siguiente parte del laboratorio, complete estos pasos:\n",
    "\n",
    "- Cierre este archivo de cuaderno.\n",
    "- Regrese a la sesión de laboratorio y continúe con la **Tarea 3: implementar un modelo de inferencia sin servidor**."
   ]
  }
 ],
 "metadata": {
  "instance_type": "ml.t3.xlarge",
  "kernelspec": {
   "display_name": "Python 3.9.6 64-bit",
   "language": "python",
   "name": "python3"
  },
  "language_info": {
   "codemirror_mode": {
    "name": "ipython",
    "version": 3
   },
   "file_extension": ".py",
   "mimetype": "text/x-python",
   "name": "python",
   "nbconvert_exporter": "python",
   "pygments_lexer": "ipython3",
   "version": "3.9.6"
  },
  "vscode": {
   "interpreter": {
    "hash": "2e45558c452cedcb26631315a9b3b77e80a9c32d662ed25df58964b99bc5b9b9"
   }
  }
 },
 "nbformat": 4,
 "nbformat_minor": 4
}
