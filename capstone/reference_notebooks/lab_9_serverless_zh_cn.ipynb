{
 "cells": [
  {
   "cell_type": "markdown",
   "metadata": {},
   "source": [
    "# 任务 3：部署用于无服务器推理的模型\n",
    "\n",
    "## 任务 3.1：环境设置\n",
    "\n",
    "安装程序包和依赖项。"
   ]
  },
  {
   "cell_type": "code",
   "execution_count": null,
   "metadata": {},
   "outputs": [],
   "source": [
    "#install-dependencies\n",
    "import boto3\n",
    "import sagemaker\n",
    "import sagemaker_datawrangler\n",
    "import sys\n",
    "import time\n",
    "\n",
    "role = sagemaker.get_execution_role()\n",
    "region = boto3.Session().region_name\n",
    "sess = boto3.Session()\n",
    "sm = sess.client('sagemaker')\n",
    "prefix = 'sagemaker/mlasms'\n",
    "bucket = sagemaker.Session().default_bucket()\n",
    "s3_client = boto3.client(\"s3\")"
   ]
  },
  {
   "cell_type": "markdown",
   "metadata": {},
   "source": [
    "将来自训练和优化实验的模型保存在默认 Amazon Simple Storage Service (Amazon S3) 存储桶中。使用 **create_model** 设置模型，并配置 **ModelDataUrl** 以引用经过训练的模型。"
   ]
  },
  {
   "cell_type": "code",
   "execution_count": null,
   "metadata": {},
   "outputs": [],
   "source": [
    "#set-up-model\n",
    "# Upload the model to your Amazon S3 bucket\n",
    "s3_client.upload_file(\n",
    "    Filename=\"model.tar.gz\", Bucket=bucket, Key=f\"{prefix}/models/model.tar.gz\"\n",
    ")\n",
    "\n",
    "# Set a date to use in the model name\n",
    "create_date = time.strftime(\"%Y-%m-%d-%H-%M-%S\")\n",
    "model_name = 'income-model-{}'.format(create_date)\n",
    "\n",
    "# Retrieve the container image\n",
    "container = sagemaker.image_uris.retrieve(\n",
    "    region=boto3.Session().region_name, \n",
    "    framework='xgboost', \n",
    "    version='1.5-1'\n",
    ")\n",
    "\n",
    "# Set up the model\n",
    "income_model = sm.create_model(\n",
    "    ModelName = model_name,\n",
    "    ExecutionRoleArn = role,\n",
    "    PrimaryContainer = {\n",
    "        'Image': container,\n",
    "        'ModelDataUrl': f's3://{bucket}/{prefix}/models/model.tar.gz',\n",
    "    }\n",
    ")"
   ]
  },
  {
   "cell_type": "markdown",
   "metadata": {},
   "source": [
    "## 任务 3.2：从提供的经过合成和重新训练的模型创建终端节点"
   ]
  },
  {
   "cell_type": "markdown",
   "metadata": {},
   "source": [
    "Amazon SageMaker Serverless Inference 是一项专用推理功能，可帮助您部署和扩展机器学习 (ML) 模型。Serverless Inference 非常适合流量突增之间有空闲期并且可以容忍冷启动的工作负载。无服务器终端节点会自动启动计算资源，并根据流量进行缩减或扩展。因此，您无需选择实例类型或管理扩展策略。这免去了选择和管理服务器这样无差别的繁重工作。Serverless Inference 集成了 AWS Lambda，提供高可用性、内置容错能力和弹性伸缩。\n",
    "\n",
    "使用 Amazon SageMaker Python SDK 创建无服务器终端节点分三个步骤。这些步骤与用于实时终端节点的步骤相同，但两者的配置不同：\n",
    "1.在 SageMaker 中创建 SageMaker 模型。\n",
    "2.为 HTTPS 终端节点创建终端节点配置。\n",
    "3.创建 HTTPS 终端节点。\n",
    "\n",
    "您已创建模型。现在，您可以创建终端节点配置和终端节点。\n",
    "\n",
    "首先，设置终端节点配置名称和要使用的内存大小。然后，调用 CreateEndpointConfig API。\n",
    "\n",
    "要创建终端节点配置，您需要设置以下选项：\n",
    "- **VariantName**：生产变体（生产环境中的一个或多个模型）的名称。\n",
    "- **ModelName**：您要托管的模型的名称。这是您在创建模型时指定的名称。\n",
    "- **ServerlessConfig**：这是将终端节点设置为无服务器终端节点的位置。请为 **MemorySizeInMB** 和 **MaxConcurrency** 配置值。\n",
    "    - **MemorySizeInMB**：分配的内存大小（1024MB、2048MB、3072MB、4096MB、5120MB 或 6144MB）。\n",
    "    - **MaxConcurrency**：并发调用数（1 到 200）。"
   ]
  },
  {
   "cell_type": "code",
   "execution_count": null,
   "metadata": {},
   "outputs": [],
   "source": [
    "#create-endpoint-configuration \n",
    "# Create an endpoint config name. Here you create one based on the date so you can search endpoints based on creation time.\n",
    "endpoint_config_name = 'income-model-serverless-endpoint-{}'.format(create_date)                              \n",
    "\n",
    "endpoint_config_response = sm.create_endpoint_config(\n",
    "   EndpointConfigName=endpoint_config_name,\n",
    "   ProductionVariants=[\n",
    "        {\n",
    "            \"ModelName\": model_name,\n",
    "            \"VariantName\": \"variant1\", # The name of the production variant\n",
    "            \"ServerlessConfig\": {\n",
    "                \"MemorySizeInMB\": 2048, # The memory size\n",
    "                \"MaxConcurrency\": 20 # Number of concurrent invocations\n",
    "            }\n",
    "        } \n",
    "    ]\n",
    ")\n",
    "\n",
    "print(f\"Created EndpointConfig: {endpoint_config_response['EndpointConfigArn']}\")"
   ]
  },
  {
   "attachments": {},
   "cell_type": "markdown",
   "metadata": {},
   "source": [
    "接下来，创建终端节点。当您创建无服务器终端节点时，SageMaker 会为您预置和管理计算资源。然后，您可以向终端节点发出推理请求，并在响应中收到模型预测。SageMaker 会根据需要扩展和缩减计算资源以处理您的请求流量，而您只需为使用的资源付费。\n",
    "\n",
    "您可以选择 SageMaker 提供的容器，也可以使用自己的容器。无服务器终端节点的 RAM 大小最小为 1024MB，最大为 6144MB。Serverless Inference 会自动分配与您选择的内存成正比的计算资源。\n",
    "\n",
    "当终端节点正在运行时，辅助函数将打印终端节点 Amazon Resource Name (ARN)。终端节点可能需要长达 7 分钟的时间才能完成创建。"
   ]
  },
  {
   "cell_type": "code",
   "execution_count": null,
   "metadata": {},
   "outputs": [],
   "source": [
    "#create-endpoint\n",
    "# The name of the endpoint. The name must be unique within an AWS Region in your AWS account.\n",
    "endpoint_name = '{}-name'.format(endpoint_config_name)\n",
    "\n",
    "create_endpoint_response = sm.create_endpoint(\n",
    "    EndpointName=endpoint_name, \n",
    "    EndpointConfigName=endpoint_config_name\n",
    ") \n",
    "\n",
    "def wait_for_endpoint_creation_complete(endpoint):\n",
    "    \"\"\"Helper function to wait for the completion of creating an endpoint\"\"\"\n",
    "    response = sm.describe_endpoint(EndpointName=endpoint_name)\n",
    "    status = response.get(\"EndpointStatus\")\n",
    "    while status == \"Creating\":\n",
    "        print(\"Waiting for Endpoint Creation\")\n",
    "        time.sleep(15)\n",
    "        response = sm.describe_endpoint(EndpointName=endpoint_name)\n",
    "        status = response.get(\"EndpointStatus\")\n",
    "\n",
    "    if status != \"InService\":\n",
    "        print(f\"Failed to create endpoint, response: {response}\")\n",
    "        failureReason = response.get(\"FailureReason\", \"\")\n",
    "        raise SystemExit(\n",
    "            f\"Failed to create endpoint {create_endpoint_response['EndpointArn']}, status: {status}, reason: {failureReason}\"\n",
    "        )\n",
    "    print(f\"Endpoint {create_endpoint_response['EndpointArn']} successfully created.\")\n",
    "\n",
    "wait_for_endpoint_creation_complete(endpoint=create_endpoint_response)\n"
   ]
  },
  {
   "attachments": {},
   "cell_type": "markdown",
   "metadata": {},
   "source": [
    "在 SageMaker Studio 中，您可以在 **Endpoints**（终端节点）选项卡下查看终端节点详细信息。\n",
    "\n",
    "下一个步骤将在 SageMaker Studio 中打开一个新选项卡。要遵循这些指示，请使用以下选项之一：\n",
    "- **选项 1**：并排查看选项卡。要从 SageMaker Studio 主窗口创建分屏视图，请将 **serverless_inference.ipynb** 选项卡拖到一边，或者选择（右键单击）**serverless_inference.ipynb** 选项卡并选择 **New View for Notebook**（为笔记本新建视图）。现在，您可以在浏览终端节点时看到相应指示。\n",
    "- **选项 2**：在 SageMaker Studio 选项卡之间切换，以遵循这些指示。浏览完终端节点后，通过选择 **serverless_inference.ipynb** 选项卡返回至笔记本。\n",
    "\n",
    "1.选择 **SageMaker Home**（SageMaker 主页）图标。\n",
    "2.选择 **Deployments**（部署）。\n",
    "3.选择 **Endpoints**（终端节点）。\n",
    "\n",
    "此时 SageMaker Studio 将显示 **Endpoints**（终端节点）选项卡。\n",
    "\n",
    "4.选择 **Name**（名称）列中包含 **income-model-serverless-** 的终端节点。\n",
    "\n",
    "如果终端节点未出现，请选择刷新图标，直到终端节点出现。\n",
    "\n",
    "此时 SageMaker Studio 将显示 **ENDPOINT DETAILS**（终端节点详细信息）选项卡。\n",
    "\n",
    "5.选择 **AWS settings**（AWS 设置）选项卡。\n",
    "\n",
    "如果您在终端节点完成创建之前打开了终端节点，请选择刷新图标，直到 **Endpoint status**（终端节点状态）从 *Creating*（正在创建）变为 *InService*（正在运行）。\n",
    "\n",
    "**Endpoint type**（终端节点类型）显示为 **Serverless**（无服务器）。**Endpoint runtime settings**（终端节点运行时设置）部分会显示您之前在笔记本中选择的配置。"
   ]
  },
  {
   "attachments": {},
   "cell_type": "markdown",
   "metadata": {},
   "source": [
    "## 任务 3.3：使用客户记录调用终端节点以进行无服务器推理\n",
    "\n",
    "使用 SageMaker 托管服务部署模型后，您可以向终端节点发送测试数据，以便在其上测试模型。\n",
    "\n",
    "如果终端节点在一段时间内没有收到流量，然后突然收到了新请求，则可能需要一些时间来启动计算资源以处理请求。这称为冷启动。由于无服务器终端节点按需预置计算资源，因此您的终端节点可能会进行冷启动。如果并发请求数超过了当前并发请求使用率，也可能会发生冷启动。冷启动时间取决于模型大小、下载模型所需的时间以及容器的启动时间。\n",
    "\n",
    "有关无服务器推理和冷启动如何运作的更多信息，请参阅 [Serverless Inference](https://docs.aws.amazon.com/sagemaker/latest/dg/serverless-endpoints.html)。\n",
    "\n",
    "您又收到了几条客户记录。请使用一组收入值为 1 的记录和一组收入值为 0 的记录调用终端节点，以确认终端节点是否正常运作。此时系统将输出每条记录的预测分数的列表。"
   ]
  },
  {
   "cell_type": "code",
   "execution_count": null,
   "metadata": {},
   "outputs": [],
   "source": [
    "#invoke-endpoint-serverless-records\n",
    "sagemaker_runtime = boto3.client(\"sagemaker-runtime\", region_name=region)\n",
    "\n",
    "response = sagemaker_runtime.invoke_endpoint(\n",
    "    ContentType='text/csv',\n",
    "    EndpointName=endpoint_name, \n",
    "    Body=bytes('47,0,4,9,0,3,4,0,1,0,1902,60\\n' +\n",
    "                '53,0,0,0,0,2,4,0,1,0,0,40\\n' +\n",
    "                '44,0,0,0,2,0,1,0,1,14344,0,40\\n', 'utf-8')\n",
    ")\n",
    "\n",
    "print(response)\n",
    "\n",
    "print('\\nTesting with records that have an income value of 1:')\n",
    "print('The returned scores are: {}'.format(response['Body'].read().decode('utf-8')))\n",
    "\n",
    "start_time = time.time()\n",
    "response = sagemaker_runtime.invoke_endpoint(\n",
    "    ContentType='text/csv',\n",
    "    EndpointName=endpoint_name, \n",
    "    Body=bytes('19,0,1,1,1,1,2,1,0,0,0,35\\n' +\n",
    "                '56,2,1,1,0,1,0,0,0,0,0,50\\n' +\n",
    "                '61,2,0,0,0,0,0,0,0,0,0,40\\n', 'utf-8')\n",
    ")\n",
    "\n",
    "print('\\nTesting with records that have an income value of 0:')\n",
    "print('The returned scores are: {}'.format(response['Body'].read().decode('utf-8')))"
   ]
  },
  {
   "cell_type": "markdown",
   "metadata": {},
   "source": [
    "## 任务 3.4：删除终端节点\n",
    "\n",
    "清理终端节点可以分三个步骤完成。首先，删除终端节点。然后，删除终端节点配置。最后，如果不再需要部署的模型，则删除该模型。"
   ]
  },
  {
   "cell_type": "code",
   "execution_count": null,
   "metadata": {},
   "outputs": [],
   "source": [
    "#delete-resources\n",
    "# Delete endpoint\n",
    "sm.delete_endpoint(EndpointName=endpoint_name)\n",
    "\n",
    "# Delete endpoint configuration\n",
    "sm.delete_endpoint_config(EndpointConfigName=endpoint_config_name)\n",
    "                   \n",
    "# Delete model\n",
    "sm.delete_model(ModelName=model_name)"
   ]
  },
  {
   "cell_type": "markdown",
   "metadata": {},
   "source": [
    "### 总结\n",
    "\n",
    "恭喜！ 您已使用 SageMaker 成功创建一个无服务器终端节点，并使用 SageMaker Python SDK 调用了该终端节点。\n",
    "\n",
    "本实验的下一项任务侧重于部署使用异步推理进行推理的模型。\n",
    "\n",
    "### 清理\n",
    "\n",
    "您已完成此笔记本。要进入本实验的下一部分，请执行以下操作：\n",
    "\n",
    "- 关闭此笔记本文件。\n",
    "- 返回至实验会话并继续执行**任务 4：部署用于异步推理的模型**。"
   ]
  }
 ],
 "metadata": {
  "instance_type": "ml.t3.xlarge",
  "kernelspec": {
   "display_name": "Python 3.9.6 64-bit",
   "language": "python",
   "name": "python3"
  },
  "language_info": {
   "codemirror_mode": {
    "name": "ipython",
    "version": 3
   },
   "file_extension": ".py",
   "mimetype": "text/x-python",
   "name": "python",
   "nbconvert_exporter": "python",
   "pygments_lexer": "ipython3",
   "version": "3.9.6"
  },
  "vscode": {
   "interpreter": {
    "hash": "2e45558c452cedcb26631315a9b3b77e80a9c32d662ed25df58964b99bc5b9b9"
   }
  }
 },
 "nbformat": 4,
 "nbformat_minor": 4
}