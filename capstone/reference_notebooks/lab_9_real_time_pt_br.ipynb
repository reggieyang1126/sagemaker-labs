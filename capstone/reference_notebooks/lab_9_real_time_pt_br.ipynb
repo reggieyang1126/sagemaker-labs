{
 "cells": [
  {
   "cell_type": "markdown",
   "metadata": {},
   "source": [
    "# Tarefa 2: Implantar um modelo para inferência em tempo real\n",
    "\n",
    "## Tarefa 2.1: Configuração do ambiente\n",
    "\n",
    "Instale os pacotes e as dependências."
   ]
  },
  {
   "cell_type": "code",
   "execution_count": null,
   "metadata": {},
   "outputs": [],
   "source": [
    "#install-dependencies\n",
    "import boto3\n",
    "import pandas as pd\n",
    "import sagemaker\n",
    "import sagemaker_datawrangler\n",
    "import time\n",
    "\n",
    "role = sagemaker.get_execution_role()\n",
    "region = boto3.Session().region_name\n",
    "sess = boto3.Session()\n",
    "sm = sess.client('sagemaker')\n",
    "prefix = 'sagemaker/mlasms'\n",
    "bucket = sagemaker.Session().default_bucket()\n",
    "s3_client = boto3.client(\"s3\")"
   ]
  },
  {
   "attachments": {},
   "cell_type": "markdown",
   "metadata": {},
   "source": [
    "Examine o conjunto de dados processado de clientes."
   ]
  },
  {
   "cell_type": "code",
   "execution_count": null,
   "metadata": {},
   "outputs": [],
   "source": [
    "#explore-dataset\n",
    "column_list = ['income','age','workclass','education','education_num','marital_status','occupation','relationship','race','sex','capital_gain','capital_loss','hours_per_week']\n",
    "lab_test_data = pd.read_csv('adult_data_processed.csv', names=(column_list), header=1)\n",
    "pd.set_option('display.max_columns', 500)\n",
    "pd.set_option('display.max_rows', 20)\n",
    "lab_test_data.dtypes\n",
    "lab_test_data.head()"
   ]
  },
  {
   "cell_type": "markdown",
   "metadata": {},
   "source": [
    "Salve o modelo do laboratório de treinamento e ajuste no bucket-padrão do Amazon Simple Storage Service (Amazon S3). Configure um modelo usando **create_model** e configure **ModelDataUrl** para referenciar o modelo treinado."
   ]
  },
  {
   "cell_type": "code",
   "execution_count": null,
   "metadata": {},
   "outputs": [],
   "source": [
    "#set-up-model\n",
    "# Upload the model to your Amazon S3 bucket\n",
    "s3_client.upload_file(\n",
    "    Filename=\"model.tar.gz\", Bucket=bucket, Key=f\"{prefix}/models/model.tar.gz\"\n",
    ")\n",
    "\n",
    "# Set a date to use in the model name\n",
    "create_date = time.strftime(\"%Y-%m-%d-%H-%M-%S\")\n",
    "model_name = 'income-model-{}'.format(create_date)\n",
    "\n",
    "# Retrieve the container image\n",
    "container = sagemaker.image_uris.retrieve(\n",
    "    region=boto3.Session().region_name, \n",
    "    framework='xgboost', \n",
    "    version='1.5-1'\n",
    ")\n",
    "\n",
    "# Set up the model\n",
    "income_model = sm.create_model(\n",
    "    ModelName = model_name,\n",
    "    ExecutionRoleArn = role,\n",
    "    PrimaryContainer = {\n",
    "        'Image': container,\n",
    "        'ModelDataUrl': f's3://{bucket}/{prefix}/models/model.tar.gz',\n",
    "    }\n",
    ")"
   ]
  },
  {
   "cell_type": "markdown",
   "metadata": {},
   "source": [
    "## Tarefa 2.2: Criar um endpoint por meio do modelo retreinado e sintetizado fornecido"
   ]
  },
  {
   "attachments": {},
   "cell_type": "markdown",
   "metadata": {},
   "source": [
    "Há três etapas para criar um endpoint usando o Amazon SageMaker SDK for Python:\n",
    "1. Criar um modelo do SageMaker.\n",
    "2. Criar uma configuração de endpoint para um endpoint HTTPS.\n",
    "3. Criar um endpoint HTTPS.\n",
    "\n",
    "Consulte [Criar o endpoint e implantar o modelo](https://docs.aws.amazon.com/sagemaker/latest/dg/realtime-endpoints-deployment.html) para saber mais sobre a criação de endpoints.\n",
    "\n",
    "Você já criou um modelo. Agora você já pode criar uma configuração de endpoint e um endpoint. \n",
    "\n",
    "Primeiro, defina o nome da configuração de endpoint e o tipo de instância que deseja usar. Depois, chame a API CreateEndpointConfig.\n",
    "\n",
    "Para criar uma configuração de endpoint, você precisa definir as seguintes opções:\n",
    "- **VariantName**: o nome da variante de produção (um ou mais modelos em produção).\n",
    "- **ModelName**: o nome do modelo que você deseja hospedar. Esse é o nome que você especificou quando criou o modelo.\n",
    "- **InstanceType**: o tipo de instância de computação.\n",
    "- **InitialInstanceCount**: o número de instâncias a serem iniciadas primeiramente.\n",
    "\n",
    "Para registrar as entradas no endpoint e as saídas de inferência dos endpoints em tempo real do SageMaker para o Amazon S3, ative um recurso chamado Data Capture. O Data Capture é muito usado para registrar informações que podem ser usadas para treinamento, depuração e monitoramento. Ao explorar o endpoint no Amazon SageMaker Studio, você verá mais detalhes sobre o endpoint quando o Data Capture for ativado. A configuração do Data Capture será apresentada depois neste laboratório para mostrar como ativá-lo.\n",
    "\n",
    "Confira [Capture Data](https://docs.aws.amazon.com/sagemaker/latest/dg/model-monitor-data-capture.html) para saber mais sobre a adição do Data Capture."
   ]
  },
  {
   "cell_type": "code",
   "execution_count": null,
   "metadata": {},
   "outputs": [],
   "source": [
    "#create-endpoint-configuration \n",
    "# Create an endpoint config name. Here you create one based on the date  \n",
    "# so it you can search endpoints based on creation time.\n",
    "endpoint_config_name = 'income-model-real-time-endpoint-{}'.format(create_date)                              \n",
    "instance_type = 'ml.m5.xlarge'   \n",
    "initial_sampling_percentage = 25 # Choose a value between 0 and 100\n",
    "capture_modes = [ \"Input\",  \"Output\" ] # Specify input, output, or both\n",
    "\n",
    "endpoint_config_response = sm.create_endpoint_config(\n",
    "    EndpointConfigName=endpoint_config_name, # You will specify this name in a CreateEndpoint request.\n",
    "    # List of ProductionVariant objects, one for each model that you want to host at this endpoint.\n",
    "    ProductionVariants=[\n",
    "        {\n",
    "            \"VariantName\": \"variant1\", # The name of the production variant.\n",
    "            \"ModelName\": model_name, \n",
    "            \"InstanceType\": instance_type, # Specify the compute instance type.\n",
    "            \"InitialInstanceCount\": 1 # Number of instances to launch initially.\n",
    "        }\n",
    "    ],\n",
    "    DataCaptureConfig= {\n",
    "        'EnableCapture': True, # Whether data should be captured or not.\n",
    "        'InitialSamplingPercentage' : initial_sampling_percentage,\n",
    "        'DestinationS3Uri': f's3://{bucket}/data-capture',\n",
    "        'CaptureOptions': [{\"CaptureMode\" : capture_mode} for capture_mode in capture_modes]\n",
    "    }\n",
    ")\n",
    "\n",
    "print(f\"Created EndpointConfig: {endpoint_config_response['EndpointConfigArn']}\")"
   ]
  },
  {
   "attachments": {},
   "cell_type": "markdown",
   "metadata": {},
   "source": [
    "Em seguida, crie um endpoint. Quando você cria um endpoint em tempo real, o SageMaker inicia instâncias de computação de machine learning (ML) e implanta um ou mais modelos de acordo com as especificações na configuração. Neste laboratório, você vai implantar somente um modelo para inferência. No SageMaker, é possível criar um endpoint multimodelo. Consulte [Invocar um endpoint multimodelo](https://docs.aws.amazon.com/sagemaker/latest/dg/invoke-multi-model-endpoint.html) para saber mais sobre os endpoints multimodelo.\n",
    "\n",
    "Quando o endpoint estiver em serviço, a função auxiliar imprimirá o Amazon Resource Name (ARN) do endpoint. A criação do endpoint exigirá cerca de três a sete minutos."
   ]
  },
  {
   "cell_type": "code",
   "execution_count": null,
   "metadata": {},
   "outputs": [],
   "source": [
    "#create-endpoint\n",
    "# The name of the endpoint. The name must be unique within an AWS Region in your AWS account.\n",
    "endpoint_name = '{}-name'.format(endpoint_config_name)\n",
    "\n",
    "create_endpoint_response = sm.create_endpoint(\n",
    "    EndpointName=endpoint_name, \n",
    "    EndpointConfigName=endpoint_config_name\n",
    ") \n",
    "\n",
    "def wait_for_endpoint_creation_complete(endpoint):\n",
    "    \"\"\"Helper function to wait for the completion of creating an endpoint\"\"\"\n",
    "    response = sm.describe_endpoint(EndpointName=endpoint_name)\n",
    "    status = response.get(\"EndpointStatus\")\n",
    "    while status == \"Creating\":\n",
    "        print(\"Waiting for Endpoint Creation\")\n",
    "        time.sleep(15)\n",
    "        response = sm.describe_endpoint(EndpointName=endpoint_name)\n",
    "        status = response.get(\"EndpointStatus\")\n",
    "\n",
    "    if status != \"InService\":\n",
    "        print(f\"Failed to create endpoint, response: {response}\")\n",
    "        failureReason = response.get(\"FailureReason\", \"\")\n",
    "        raise SystemExit(\n",
    "            f\"Failed to create endpoint {create_endpoint_response['EndpointArn']}, status: {status}, reason: {failureReason}\"\n",
    "        )\n",
    "    print(f\"Endpoint {create_endpoint_response['EndpointArn']} successfully created.\")\n",
    "\n",
    "wait_for_endpoint_creation_complete(endpoint=create_endpoint_response)\n"
   ]
  },
  {
   "attachments": {},
   "cell_type": "markdown",
   "metadata": {},
   "source": [
    "No SageMaker Studio, você pode examinar os detalhes do endpoint na aba **Endpoints**.\n",
    "\n",
    "A próxima etapa abre uma nova aba no SageMaker Studio. Para seguir essas orientações, escolha uma das seguintes opções:\n",
    "- **Opção 1:** visualizar as abas lado a lado. Para criar uma visualização de tela dividida por meio da janela principal do SageMaker Studio, arraste a aba **real_time_inference.ipynb** para a lateral ou selecione (clique com o botão direito) a aba **real_time_inference.ipynb** e escolha **New View for Notebook** (Nova visualização do notebook). Agora, as orientações ficam visíveis enquanto você explora o endpoint.\n",
    "- **Opção 2:** alternar entre as abas do SageMaker Studio para seguir essas instruções. Ao terminar de explorar o endpoint, retorne ao notebook a aba **real_time_inference.ipynb**.\n",
    "\n",
    "1. Selecione o ícone **Página inicial do SageMaker**.\n",
    "2. Escolha **Deployments** (Implantações).\n",
    "3. Escolha **Endpoints**.\n",
    "\n",
    "O SageMaker Studio exibe a aba **Endpoints**.\n",
    "\n",
    "4. Selecione o endpoint que tem **income-model-real-time-** na coluna **Name** (Nome).\n",
    "\n",
    "Se o endpoint não aparecer, selecione o ícone de atualização até que o endpoint apareça na lista.\n",
    "\n",
    "O SageMaker Studio exibe a aba **ENDPOINT DETAILS** (DETALHES DO ENDPOINT).\n",
    "\n",
    "5. Selecione a aba **AWS settings** (Configurações da AWS).\n",
    "\n",
    "Se você abriu o endpoint antes que a criação fosse concluída, selecione o ícone de atualização até que o **Endpoint status** (Status do endpoint) seja alterado de *Creating* para *InService*.\n",
    "\n",
    "O **Endpoint type** (Tipo de endpoint) está listado como **Real-time** (Em tempo real). As seções **Data capture settings** (Configurações do Data Capture) e **Endpoint configuration settings** (Definições de configuração do endpoint) mostram as configurações que você já escolheu no notebook."
   ]
  },
  {
   "cell_type": "markdown",
   "metadata": {},
   "source": [
    "## Tarefa 2.3: Invocar um endpoint para uma inferência em tempo real com registros de clientes em tempo real\n",
    "\n",
    "Depois de implantar o modelo usando os serviços de host do SageMaker, você poderá testar o modelo nesse endpoint enviando dados a ele.\n",
    "\n",
    "Há vários registros de cliente com uma receita igual ou superior a USD 50 mil (valor de **income** igual **1**) e vários outros com uma receita inferior a USD 50 mil (valor de **income** igual a **0**). Invoque o endpoint com esses registros e visualize as pontuações retornadas.\n",
    "\n",
    "Para visualizar as previsões em tempo real do endpoint, leia o texto do corpo da mensagem retornado, que contém uma lista de pontuações de previsão. A pontuação de cada registro varia de **0** a **1**, com os números próximos de **1** indicando que esses clientes têm maior probabilidade de ter uma receita igual ou superior a USD 50 mil. Por exemplo, um cliente com a pontuação de previsão igual a **0,42** tem maior probabilidade de ter uma receita igual ou superior a USD 50 mil do que um cliente com a pontuação de previsão igual a **0,14**."
   ]
  },
  {
   "cell_type": "code",
   "execution_count": null,
   "metadata": {},
   "outputs": [],
   "source": [
    "#invoke-endpoint-real-time-records\n",
    "sagemaker_runtime = boto3.client(\"sagemaker-runtime\", region_name=region)\n",
    "\n",
    "response = sagemaker_runtime.invoke_endpoint(\n",
    "    ContentType='text/csv',\n",
    "    EndpointName=endpoint_name, \n",
    "    Body=bytes('56,3,6,6,0,3,1,0,0,1,0,13\\n' +\n",
    "                '29,2,2,2,0,1,0,0,0,0,0,70\\n' +\n",
    "                '79,0,1,1,0,3,5,0,0,0,0,20\\n', 'utf-8')\n",
    ")\n",
    "\n",
    "print(response)\n",
    "\n",
    "print('\\nTesting with records that have an income value of 1:')\n",
    "print('The returned scores are: {}'.format(response['Body'].read().decode('utf-8')))\n",
    "\n",
    "response = sagemaker_runtime.invoke_endpoint(\n",
    "    ContentType='text/csv',\n",
    "    EndpointName=endpoint_name, \n",
    "    Body=bytes('19,0,1,1,1,3,2,0,0,0,0,32\\n' +\n",
    "                '31,0,1,1,2,1,2,1,1,0,0,40\\n' +\n",
    "                '23,0,1,1,1,0,1,0,0,0,0,40\\n', 'utf-8')\n",
    ")\n",
    "\n",
    "print('\\nTesting with records that have an income value of 0:')\n",
    "print('The returned scores are: {}'.format(response['Body'].read().decode('utf-8')))"
   ]
  },
  {
   "cell_type": "markdown",
   "metadata": {},
   "source": [
    "## Tarefa 2.4: Excluir o endpoint"
   ]
  },
  {
   "cell_type": "markdown",
   "metadata": {},
   "source": [
    "A limpeza do endpoint pode ser realizada em três etapas. Primeiro, exclua o endpoint. Depois, exclua a configuração do endpoint. Por fim, se você não precisar mais do modelo implantado, exclua-o."
   ]
  },
  {
   "cell_type": "code",
   "execution_count": null,
   "metadata": {},
   "outputs": [],
   "source": [
    "#delete-resources\n",
    "# Delete endpoint\n",
    "sm.delete_endpoint(EndpointName=endpoint_name)\n",
    "\n",
    "# Delete endpoint configuration\n",
    "sm.delete_endpoint_config(EndpointConfigName=endpoint_config_name)\n",
    "                   \n",
    "# Delete model\n",
    "sm.delete_model(ModelName=model_name)"
   ]
  },
  {
   "cell_type": "markdown",
   "metadata": {},
   "source": [
    "### Conclusão\n",
    "\n",
    "Parabéns! Você usou o SageMaker para criar um endpoint em tempo real usando o SDK Python do SageMaker e para invocar o endpoint com sucesso.\n",
    "\n",
    "A próxima tarefa do laboratório se concentra na implantação de um modelo para inferência usando a inferência sem servidor.\n",
    "\n",
    "## Limpeza\n",
    "\n",
    "Você concluiu este notebook. Passe para a próxima parte do laboratório da seguinte forma:\n",
    "\n",
    "- Feche este arquivo de notebook.\n",
    "- Retorne à sessão do laboratório e continue na **Tarefa 3: Implantar um modelo para inferência sem servidor**."
   ]
  }
 ],
 "metadata": {
  "instance_type": "ml.t3.xlarge",
  "kernelspec": {
   "display_name": "Python 3.9.6 64-bit",
   "language": "python",
   "name": "python3"
  },
  "language_info": {
   "codemirror_mode": {
    "name": "ipython",
    "version": 3
   },
   "file_extension": ".py",
   "mimetype": "text/x-python",
   "name": "python",
   "nbconvert_exporter": "python",
   "pygments_lexer": "ipython3",
   "version": "3.9.6"
  },
  "vscode": {
   "interpreter": {
    "hash": "2e45558c452cedcb26631315a9b3b77e80a9c32d662ed25df58964b99bc5b9b9"
   }
  }
 },
 "nbformat": 4,
 "nbformat_minor": 4
}
