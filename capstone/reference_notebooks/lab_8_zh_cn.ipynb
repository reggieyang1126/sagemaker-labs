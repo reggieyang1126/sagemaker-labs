{
 "cells": [
  {
   "attachments": {},
   "cell_type": "markdown",
   "metadata": {},
   "source": [
    "# 任务 2：使用 SageMaker Clarify\n",
    "\t\n",
    "在本实验中，您将使用 Amazon SageMaker Clarify 来检测训练前数据和训练后模型中的偏差并访问可解释性报告。\n"
   ]
  },
  {
   "cell_type": "markdown",
   "metadata": {},
   "source": [
    "## 任务 2.1：环境设置\n",
    "\n",
    "安装程序包和依赖项。"
   ]
  },
  {
   "cell_type": "code",
   "execution_count": null,
   "metadata": {},
   "outputs": [],
   "source": [
    "#install-dependencies\n",
    "\n",
    "import boto3\n",
    "import io\n",
    "import json\n",
    "import math\n",
    "import matplotlib.pyplot as plt\n",
    "import numpy as np\n",
    "import os\n",
    "import pandas as pd\n",
    "import re\n",
    "import sagemaker\n",
    "import sagemaker_datawrangler\n",
    "import sys\n",
    "import time\n",
    "import zipfile\n",
    "\n",
    "from IPython.display import display\n",
    "from IPython.display import Image\n",
    "from sagemaker import clarify\n",
    "from sagemaker import Session\n",
    "from sagemaker.inputs import TrainingInput\n",
    "from sagemaker.s3 import S3Uploader\n",
    "from sklearn.model_selection import train_test_split\n",
    "from time import gmtime, strftime\n",
    "\n",
    "s3_client = boto3.client(\"s3\")\n",
    "session = Session()\n",
    "bucket = session.default_bucket()\n",
    "prefix = 'sagemaker/lab_8'\n",
    "role = sagemaker.get_execution_role()"
   ]
  },
  {
   "cell_type": "markdown",
   "metadata": {},
   "source": [
    "接着，导入、拆分和上传数据集。"
   ]
  },
  {
   "cell_type": "code",
   "execution_count": null,
   "metadata": {},
   "outputs": [],
   "source": [
    "#prepare-dataset\n",
    "\n",
    "lab_test_data = pd.read_csv('adult_data_processed.csv')\n",
    "\n",
    "# Split the dataset\n",
    "train_data, validation_data, test_data = np.split(\n",
    "    lab_test_data.sample(frac=1, random_state=1729),\n",
    "    [int(0.7 * len(lab_test_data)), int(0.9 * len(lab_test_data))],\n",
    ")\n",
    "\n",
    "train_data.to_csv('train_data.csv', index=False, header=False)\n",
    "validation_data.to_csv('validation_data.csv', index=False, header=False)\n",
    "test_data.to_csv('test_data.csv', index=False, header=False)\n",
    "\n",
    "# Upload the Dataset to S3\n",
    "from sagemaker.s3 import S3Uploader\n",
    "from sagemaker.inputs import TrainingInput\n",
    "\n",
    "sagemaker_session = sagemaker.Session()\n",
    "\n",
    "train_path = S3Uploader.upload('train_data.csv', 's3://{}/{}'.format(bucket, prefix))\n",
    "validation_path = S3Uploader.upload('validation_data.csv', 's3://{}/{}'.format(bucket, prefix))\n",
    "test_path = S3Uploader.upload('test_data.csv', 's3://{}/{}'.format(bucket, prefix))\n",
    "\n",
    "train_input = TrainingInput(train_path, content_type='text/csv')\n",
    "validation_input = TrainingInput(validation_path, content_type='text/csv')\n",
    "test_input = TrainingInput(validation_path, content_type='text/csv')\n",
    "\n",
    "data_inputs = {\n",
    "    'train': train_input,\n",
    "    'validation': validation_input\n",
    "}"
   ]
  },
  {
   "attachments": {},
   "cell_type": "markdown",
   "metadata": {},
   "source": [
    "现在，训练 XGBoost 模型。您将为 SageMaker Clarify ModelConfig 使用这个经过训练的模型。完成此次训练大约需要 3–4 分钟。"
   ]
  },
  {
   "cell_type": "code",
   "execution_count": null,
   "metadata": {},
   "outputs": [],
   "source": [
    "#train-model\n",
    "\n",
    "# Retrieve the container image\n",
    "container = sagemaker.image_uris.retrieve(\n",
    "    region=boto3.Session().region_name, \n",
    "    framework='xgboost', \n",
    "    version='1.5-1'\n",
    ")\n",
    "# Set up the estimator\n",
    "xgb = sagemaker.estimator.Estimator(\n",
    "    container,\n",
    "    role, \n",
    "    instance_count=1, \n",
    "    instance_type='ml.m5.xlarge',\n",
    "    output_path='s3://{}/{}/output'.format(bucket, prefix),\n",
    "    sagemaker_session=sagemaker_session\n",
    ")\n",
    "# Set the hyperparameters\n",
    "xgb.set_hyperparameters(\n",
    "    max_depth=5, \n",
    "    eta=0.2, \n",
    "    gamma=4, \n",
    "    min_child_weight=6,\n",
    "    subsample=0.8, \n",
    "    verbosity=1, \n",
    "    objective='binary:logistic', \n",
    "    num_round=800\n",
    ")\n",
    "\n",
    "# Train the model\n",
    "xgb.fit(\n",
    "    inputs = data_inputs\n",
    ") "
   ]
  },
  {
   "attachments": {},
   "cell_type": "markdown",
   "metadata": {},
   "source": [
    "## 任务 2.2：设置 SageMaker Clarify 任务并访问偏差报告\n",
    "\n",
    "要使用 [SageMaker Clarify](https://docs.aws.amazon.com/sagemaker/latest/dg/clarify-configure-processing-jobs.html)，您首先要从训练任务中创建一个模型。然后，您需要设置必要的配置并在经过训练的模型上运行 SageMaker Clarify 任务。在此任务中，您将完成以下操作：\n",
    "\n",
    "- 创建模型。\n",
    "- 启用 SageMaker Clarify。\n",
    "- 运行偏差报告。\n",
    "- 访问该报告。"
   ]
  },
  {
   "cell_type": "markdown",
   "metadata": {},
   "source": [
    "### 任务 2.2.1：创建模型\n",
    "\n",
    "从训练任务创建一个模型以与 SageMaker Clarify 一起使用。"
   ]
  },
  {
   "cell_type": "code",
   "execution_count": null,
   "metadata": {},
   "outputs": [],
   "source": [
    "#create-clarify-model\n",
    "\n",
    "model_name = \"lab-8-clarify-model\"\n",
    "model = xgb.create_model(name=model_name)\n",
    "container_def = model.prepare_container_def()\n",
    "session.create_model(model_name, role, container_def)"
   ]
  },
  {
   "cell_type": "markdown",
   "metadata": {},
   "source": [
    "### 任务 2.2.2：启用 SageMaker Clarify\n",
    "\n",
    "现在，要开始进行配置，请启用 SageMaker Clarify。"
   ]
  },
  {
   "cell_type": "code",
   "execution_count": null,
   "metadata": {},
   "outputs": [],
   "source": [
    "#enable-clarify\n",
    "\n",
    "clarify_processor = clarify.SageMakerClarifyProcessor(\n",
    "    role=role, \n",
    "    instance_count=1, \n",
    "    instance_type=\"ml.m5.xlarge\", \n",
    "    sagemaker_session=session\n",
    ")"
   ]
  },
  {
   "attachments": {},
   "cell_type": "markdown",
   "metadata": {},
   "source": [
    "借助 SageMaker Clarify，您可以通过各种指标来检测数据中潜在的训练前偏差和模型中的训练后偏差。有关配置 Clarify 分析的更多信息，请参阅 [metrics](https://docs.aws.amazon.com/sagemaker/latest/dg/clarify-processing-job-configure-analysis.html)。\n",
    "\n",
    "配置 **DataConfig** 对象以将数据 I/O 信息传递给 SageMaker Clarify。在此处，您将指定输入数据集的位置、输出的位置、收入 (**label**) 列、标头名称和数据集类型。"
   ]
  },
  {
   "cell_type": "code",
   "execution_count": null,
   "metadata": {},
   "outputs": [],
   "source": [
    "#define-data-config\n",
    "\n",
    "bias_report_output_path = \"s3://{}/{}/clarify-bias\".format(bucket, prefix)\n",
    "bias_data_config = clarify.DataConfig(\n",
    "    s3_data_input_path=train_path,\n",
    "    s3_output_path=bias_report_output_path,\n",
    "    label=\"income\",\n",
    "    headers=train_data.columns.to_list(),\n",
    "    dataset_type=\"text/csv\",\n",
    ")"
   ]
  },
  {
   "cell_type": "markdown",
   "metadata": {},
   "source": [
    "配置 **ModelConfig** 对象以传递有关经过训练的模型的信息。设置模型名称和临时专用终端节点以避免额外流量进入生产模型（**instance_type** 和 **instance_count**）。此外，您还需要设置 **accept_type** 来表示终端节点响应负载格式，并设置 **content_type** 来表示向终端节点发送的请求的负载格式。"
   ]
  },
  {
   "cell_type": "code",
   "execution_count": null,
   "metadata": {},
   "outputs": [],
   "source": [
    "#define-model-config\n",
    "\n",
    "model_config = clarify.ModelConfig(\n",
    "    model_name=model_name,\n",
    "    instance_type=\"ml.m5.xlarge\",\n",
    "    instance_count=1,\n",
    "    accept_type=\"text/csv\",\n",
    "    content_type=\"text/csv\",\n",
    ")"
   ]
  },
  {
   "cell_type": "markdown",
   "metadata": {},
   "source": [
    "配置 **ModelPredictedLabelConfig** 的 **probability_threshold**，将样本概率转换为二进制标签以进行偏差分析。高于阈值的预测被解释为标签值 **1**，而低于或等于阈值的预测被解释为标签值 **0**。"
   ]
  },
  {
   "cell_type": "code",
   "execution_count": null,
   "metadata": {},
   "outputs": [],
   "source": [
    "#define-model-predicted-label-config\n",
    "\n",
    "predictions_config = clarify.ModelPredictedLabelConfig(probability_threshold=0.8)"
   ]
  },
  {
   "cell_type": "markdown",
   "metadata": {},
   "source": [
    "配置 **BiasConfig** 以表示敏感列 (**facets**)、潜在敏感特征 (**facet_values_or_threshold**) 以及有利结果 (**label_values_or_threshold**)。\n",
    "\n",
    "您可以表示 **facet_values_or_threshold** 和 **label_values_or_threshold** 的分类数据和连续数据。**sex** 和 **age** 特征都属于分类数据。\n",
    "\n",
    "该模型的目标是确定一个人的收入是否为 50,000 USD 或更多，并且积极的结果是有利的。使用 **BiasConfig** 来提供与以下内容相关的信息：哪些列包含具有 **Sex** 敏感组的分面、哪些敏感特征可能使用 **facet_values_or_threshold** 以及哪些理想结果使用 **label_values_or_threshold**。按 **age** 进行分组以查看是否会因个人年龄而出现差异。"
   ]
  },
  {
   "cell_type": "code",
   "execution_count": null,
   "metadata": {},
   "outputs": [],
   "source": [
    "#define-bias-config\n",
    "\n",
    "bias_config = clarify.BiasConfig(\n",
    "    label_values_or_threshold=[1], facet_name=\"sex\", facet_values_or_threshold=[0], group_name=\"age\"\n",
    ")"
   ]
  },
  {
   "attachments": {},
   "cell_type": "markdown",
   "metadata": {},
   "source": [
    "### 任务 2.2.3：运行偏差报告\n",
    "\n",
    "使用您的配置创建偏差报告以进行训练前和训练后分析。完成本步骤大约需要 15–20 分钟。在系统生成偏差报告时，您可以参阅 [机器学习在金融业的公平措施](./Fairness.Measures.for.Machine.Learning.in.Finance.pdf) 来了解 SageMaker Clarify 的计算方法。"
   ]
  },
  {
   "cell_type": "code",
   "execution_count": null,
   "metadata": {},
   "outputs": [],
   "source": [
    "#run-bias-report\n",
    "\n",
    "clarify_processor.run_bias(\n",
    "    data_config=bias_data_config,\n",
    "    bias_config=bias_config,\n",
    "    model_config=model_config,\n",
    "    model_predicted_label_config=predictions_config,\n",
    "    pre_training_methods=\"all\",\n",
    "    post_training_methods=\"all\",\n",
    ")"
   ]
  },
  {
   "attachments": {},
   "cell_type": "markdown",
   "metadata": {},
   "source": [
    "### 任务 2.2.4：访问偏差报告\n",
    "\n",
    "在 SageMaker Studio 中，您可以在 <b>Experiments</b>（实验）选项卡下查看结果。\n",
    "\n",
    "下一个步骤将在 SageMaker Studio 中打开一个新选项卡。要遵循这些指示，请使用以下选项之一：\n",
    "- **选项 1**：并排查看选项卡。要从 SageMaker Studio 主窗口创建分屏视图，请将 **lab_8.ipynb** 选项卡拖到一边，或者选择（右键单击）**lab_8.ipynb** 选项卡并选择 **New View for Notebook**（为笔记本新建视图）。现在，您可以在浏览偏差报告时看到相应指示。\n",
    "- **选项 2**：在 SageMaker Studio 选项卡之间切换，以遵循这些指示。浏览完偏差报告后，通过选择 **lab_8.ipynb** 选项卡返回至笔记本。\n",
    "\n",
    "1.在 SageMaker Studio 中，选择 **SageMaker 主页**图标。\n",
    "\n",
    "2.选择 **Experiments**（实验）。\n",
    "\n",
    "此时 SageMaker Studio 将打开 **Experiments**（实验）选项卡。\n",
    "\n",
    "3.在 **Experiments**（实验）选项卡中，选择左侧的 **Unassigned runs**（未分配的运行）。\n",
    "\n",
    "4.在 **Unassigned runs**（未分配的运行）列表中，选择标题中包含 **clarify-bias-** 的训练任务名称。\n",
    "\n",
    "5.在 **Experiments**（实验）选项卡中，选择左侧的 **Bias Reports**（偏差报告）。\n",
    "\n",
    "在 SageMaker Clarify 运行完偏差任务后，系统将提供一份包含多个指标的偏差报告。\n",
    "\n",
    "6.等待 SageMaker Clarify 运行完偏差任务。\n",
    "\n",
    "每个偏差指标都有详细的解释，并含有示例，您可以通过选择每个值来加以探索。\n",
    "\n",
    "7.通过选择偏差指标旁的箭头并展开字段来检查 **Class Imbalance**（类不平衡）和 **Disparate (Adverse) Impact (DI)**（分散（不利）影响 (DI)）详细解释。\n",
    "\n",
    "浏览完偏差指标后，继续执行下一个任务。"
   ]
  },
  {
   "attachments": {},
   "cell_type": "markdown",
   "metadata": {},
   "source": [
    "## 任务 2.3：访问可解释性报告\n",
    "\n",
    "除了使用偏差报告之外，您还可以使用 SageMaker Clarify 来分析单个预测的本地解释。创建一份报告以查看 SageMaker Clarify 生成的预测的可解释性结果并分析报告中的关键指标。在此任务中，您将完成以下操作：\n",
    "\n",
    "1.定义夏普里值 (SHAP) 配置。\n",
    "2.运行可解释性报告。\n",
    "3.访问可解释性报告。"
   ]
  },
  {
   "cell_type": "markdown",
   "metadata": {},
   "source": [
    "### 任务 2.3.1：定义 SHAP 配置"
   ]
  },
  {
   "attachments": {},
   "cell_type": "markdown",
   "metadata": {},
   "source": [
    "您可以运行可解释性报告，以获得对一个模型为什么做出特定预测的解释。SageMaker Clarify 使用 SHAP 来生成关于模型决策推理的报告。有关 SHAP 基准的更多信息，请参阅 [SHAP Baselines for Explainability](https://docs.aws.amazon.com/sagemaker/latest/dg/clarify-feature-attribute-shap-baselines.html)。\n",
    "\n",
    "各个 SHAP 指标的配置如下：\n",
    "- **baseline**：行列表或 Amazon Simple Storage Service (Amazon S3) 对象 URI，用作 Kernel SHAP 算法中的基准数据集。\n",
    "- **num_samples**：Kernel SHAP 算法中所用的样本数量。此数值决定了所生成的用于计算 SHAP 值的合成数据集的大小。\n",
    "- **agg_method: mean_abs**：所有实例的绝对 SHAP 值的平均值。\n",
    "- **save_local_shap_values**：指示是否会将本地 SHAP 值保存在输出位置的布尔值。\n",
    "\n",
    "有关所用指标的更多信息，请参阅 [SHAP metrics](https://docs.aws.amazon.com/sagemaker/latest/dg/clarify-processing-job-configure-analysis.html)。"
   ]
  },
  {
   "cell_type": "code",
   "execution_count": null,
   "metadata": {},
   "outputs": [],
   "source": [
    "#configure-shap\n",
    "\n",
    "testing_data, clarify_data = train_test_split(test_data, test_size =0.005)\n",
    "clarify_data = clarify_data.drop(columns=[\"income\"])\n",
    "clarify_data.to_csv('clarify_data.csv', index=False, header=False)\n",
    "clarify_path = S3Uploader.upload('clarify_data.csv', 's3://{}/{}'.format(bucket, prefix))\n",
    "\n",
    "shap_config = clarify.SHAPConfig(\n",
    "    baseline=clarify_path,\n",
    "    num_samples=15,\n",
    "    agg_method=\"mean_abs\",\n",
    "    save_local_shap_values=True,\n",
    ")\n",
    "\n",
    "explainability_output_path = \"s3://{}/{}/clarify-explainability\".format(bucket, prefix)\n",
    "explainability_data_config = clarify.DataConfig(\n",
    "    s3_data_input_path=clarify_path,\n",
    "    s3_output_path=explainability_output_path,\n",
    "    headers=clarify_data.columns.to_list(),\n",
    "    dataset_type=\"text/csv\",\n",
    ")"
   ]
  },
  {
   "cell_type": "markdown",
   "metadata": {},
   "source": [
    "### 任务 2.3.2：运行可解释性报告"
   ]
  },
  {
   "attachments": {},
   "cell_type": "markdown",
   "metadata": {},
   "source": [
    "使用您的配置创建可解释性报告。完成本步骤大约需要 10–15 分钟。在系统生成可解释性报告时，您可以通过继续执行下一个任务，在 SageMaker Studio 中监控任务状态。\n",
    "\n",
    "有关 SageMaker Clarify 可解释性流程的更多信息，请参阅 [Amazon AI Fairness and Explainability Whitepaper](./Amazon.AI.Fairness.and.Explainability.Whitepaper.pdf)。"
   ]
  },
  {
   "cell_type": "code",
   "execution_count": null,
   "metadata": {},
   "outputs": [],
   "source": [
    "#run-explainability-report\n",
    "\n",
    "clarify_processor.run_explainability(\n",
    "    data_config=explainability_data_config,\n",
    "    model_config=model_config,\n",
    "    explainability_config=shap_config,\n",
    ")"
   ]
  },
  {
   "attachments": {},
   "cell_type": "markdown",
   "metadata": {},
   "source": [
    "### 任务 2.3.3：访问可解释性报告\n",
    "\n",
    "与偏差报告一样，您可以在 Studio 中的 <b>Experiments</b>（实验）选项卡下查看可解释性报告。\n",
    "\n",
    "1.选择 **Experiments**（实验）选项卡。\n",
    "\n",
    "2.在 **Experiments**（实验）选项卡中，选择左侧的 **Unassigned runs**（未分配的运行）。\n",
    "\n",
    "3.在 **Unassigned runs**（未分配的运行）列表中，选择标题中包含 **clarify-bias-** 的训练任务名称。\n",
    "\n",
    "4.在 **Experiments**（实验）选项卡中，选择左侧的 **Explainability**（可解释性）。\n",
    "\n",
    "5.完成可解释性任务后，要查看 **Feature Importance**（特征重要性）图表，请选择 <span style=\"background-color:#57c4f8; font-size:90%;  color:black; position:relative; top:-1px; padding-top:3px; padding-bottom:3px; padding-left:10px; padding-right:10px; border-color:#00a0d2; border-radius:2px; margin-right:5px; white-space:nowrap\">View sample notebook</span>（查看示例笔记本）。\n",
    "\n",
    "此时 SageMaker Studio 将在选项卡中打开 **Fairness and Explainability with SageMaker Clarify**（利用 SageMaker Clarify 实现公平性和可解释性）笔记本。\n",
    "\n",
    "哪些特征是最重要的？哪些特征是最不重要的？ 是否有任何出乎意料的结果？"
   ]
  },
  {
   "attachments": {},
   "cell_type": "markdown",
   "metadata": {},
   "source": [
    "### 总结\n",
    "\n",
    "恭喜！ 您已经使用 SageMaker Clarify 创建了可用于开发更可靠且更具合规性的模型的偏差和可解释性报告。在下一个实验中，您将部署模型并运行推理。您将在下一个实验中继续使用您的模型。\n",
    "\n",
    "### 清理\n",
    "\n",
    "您已完成此笔记本。要进入本实验的下一部分，请执行以下操作：\n",
    "\n",
    "- 关闭此笔记本文件。\n",
    "- 返回至实验会话并继续**总结**部分。"
   ]
  }
 ],
 "metadata": {
  "kernelspec": {
   "display_name": "Python 3.9.6 64-bit",
   "language": "python",
   "name": "python3"
  },
  "language_info": {
   "name": "python",
   "version": "3.9.6"
  },
  "orig_nbformat": 4,
  "vscode": {
   "interpreter": {
    "hash": "2e45558c452cedcb26631315a9b3b77e80a9c32d662ed25df58964b99bc5b9b9"
   }
  }
 },
 "nbformat": 4,
 "nbformat_minor": 2
}