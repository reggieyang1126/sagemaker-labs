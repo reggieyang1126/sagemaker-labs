{
 "cells": [
  {
   "cell_type": "markdown",
   "metadata": {},
   "source": [
    "# 使用 Amazon SageMaker Studio 笔记本\n",
    "\n",
    "此笔记本将引导您初始化和设置环境。它会向您展示如何使用 SageMaker Python SDK 中的 Amazon S3 帮助程序方法向 Amazon Simple Storage Service (Amazon S3) 存储桶上传数据和从其下载数据。\n",
    "\n",
    "首先初始化环境。为此，请导入所需的库并获得 SageMaker Studio 使用的默认 Amazon S3 存储桶。"
   ]
  },
  {
   "cell_type": "code",
   "execution_count": null,
   "metadata": {},
   "outputs": [],
   "source": [
    "# Install dependencies\n",
    "import pandas as pd\n",
    "import boto3\n",
    "\n",
    "\n",
    "# SageMaker dependencies\n",
    "import sagemaker\n",
    "from sagemaker import get_execution_role, session\n",
    "from sagemaker.s3 import S3Downloader, S3Uploader\n",
    "\n",
    "region= boto3.Session().region_name\n",
    "\n",
    "# This object represents the AWS Identity and Access Management (IAM) role that you are assigned\n",
    "role = sagemaker.get_execution_role()\n",
    "print(\"Role: \", role)\n",
    "\n",
    "sm_session = session.Session(boto3.Session())\n",
    "sm = boto3.Session().client(\"sagemaker\")\n",
    "sm_runtime = boto3.Session().client(\"sagemaker-runtime\")"
   ]
  },
  {
   "attachments": {},
   "cell_type": "markdown",
   "metadata": {},
   "source": [
    "使用 SageMaker Python SDK S3Downloader 方法从 Amazon S3 存储桶下载数据集。有关此下载器方法的更多信息，请参阅 [SageMaker Python SDK S3Downloader 方法](https://sagemaker.readthedocs.io/en/stable/api/utility/s3.html#sagemaker.s3.S3Downloader)。"
   ]
  },
  {
   "cell_type": "code",
   "execution_count": null,
   "metadata": {},
   "outputs": [],
   "source": [
    "bucket = ''\n",
    "s3 = boto3.resource('s3')\n",
    "for buckets in s3.buckets.all():\n",
    "    if 'labdatabucket' in buckets.name:\n",
    "        bucket = buckets.name\n",
    "print(bucket)\n",
    "prefix = 'scripts/data'\n",
    "\n",
    "S3Downloader.download(s3_uri=f\"s3://{bucket}/{prefix}/iris.csv\", local_path= 'data/')"
   ]
  },
  {
   "attachments": {},
   "cell_type": "markdown",
   "metadata": {},
   "source": [
    "以下代码将验证数据集并将其显示在网格中。"
   ]
  },
  {
   "cell_type": "code",
   "execution_count": null,
   "metadata": {},
   "outputs": [],
   "source": [
    "import pandas as pd\n",
    "import numpy as np\n",
    "\n",
    "shape=pd.read_csv(\"data/iris.csv\", header=None)\n",
    "shape.sample(3)"
   ]
  },
  {
   "attachments": {},
   "cell_type": "markdown",
   "metadata": {},
   "source": [
    "将数据集分割成训练和测试数据集。使用 SageMaker Python SDK S3Uploader 方法将其上传到 Amazon S3 存储桶。有关此上传器方法的更多信息，请参阅 [SageMaker Python SDK S3Uploader 方法](https://sagemaker.readthedocs.io/en/stable/api/utility/s3.html#sagemaker.s3.S3Uploader)。"
   ]
  },
  {
   "cell_type": "code",
   "execution_count": null,
   "metadata": {},
   "outputs": [],
   "source": [
    "train_data = shape.sample(frac=0.8,random_state=200)\n",
    "test_data = shape.drop(train_data.index)"
   ]
  },
  {
   "cell_type": "code",
   "execution_count": null,
   "metadata": {},
   "outputs": [],
   "source": [
    "train_file = 'train_data.csv';\n",
    "train_data.to_csv(train_file, index=False, header=True)\n",
    "test_file = 'test_data.csv';\n",
    "test_data.to_csv(test_file, index=False, header=True)\n",
    "\n",
    "# Return the URLs of the uploaded file, so they can be reviewed or used elsewhere\n",
    "s3url = S3Uploader.upload(train_file, 's3://{}/{}'.format(bucket, prefix + \"/train\", \"train\"))\n",
    "print(s3url)\n",
    "s3url = S3Uploader.upload(test_file, 's3://{}/{}'.format(bucket, prefix + \"/test\", \"test\"))\n",
    "print(s3url)"
   ]
  },
  {
   "cell_type": "markdown",
   "metadata": {},
   "source": [
    "### 总结\n",
    "\n",
    "恭喜！ 您已成功初始化环境，并从 Amazon S3 存储桶上传和下载了文件。\n",
    "\n",
    "### 清理\n",
    "\n",
    "您已完成此笔记本。要进入本实验的下一部分，请执行以下操作：\n",
    "\n",
    "- 关闭此笔记本文件\n",
    "- 返回至实验说明"
   ]
  }
 ],
 "metadata": {
  "kernelspec": {
   "display_name": "Python 3",
   "language": "python",
   "name": "python3"
  },
  "language_info": {
   "codemirror_mode": {
    "name": "ipython",
    "version": 3
   },
   "file_extension": ".py",
   "mimetype": "text/x-python",
   "name": "python",
   "nbconvert_exporter": "python",
   "pygments_lexer": "ipython3",
   "version": "3.8.5"
  },
  "vscode": {
   "interpreter": {
    "hash": "741de909edea0d5644898c592544ed98bede62b404d20772e5c4abc3c2f12566"
   }
  }
 },
 "nbformat": 4,
 "nbformat_minor": 2
}