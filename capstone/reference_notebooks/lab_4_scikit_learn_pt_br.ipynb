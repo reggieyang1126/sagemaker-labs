{
 "cells": [
  {
   "cell_type": "markdown",
   "metadata": {},
   "source": [
    "# Tarefa 3: Executar o processamento de dados com o SageMaker Processing e o contêiner scikit-learn integrado\n",
    "\n",
    "Neste notebook, você vai configurar o ambiente necessário para executar um script scikit-learn usando uma imagem do Docker fornecida e mantida pelo SageMaker Processing. \n",
    "\n",
    "Depois, você vai usar a classe **SKLearnProcessor** do SDK Python do SageMaker para definir e executar um trabalho de processamento do scikit-learn.\n",
    "\n",
    "Por fim, você vai validar os resultados do processamento de dados salvos no Amazon Simple Storage Service (Amazon S3).\n",
    "\n",
    "**Atenção:** o script de processamento faz um processamento básico de dados, como remoção de duplicações, transformação da coluna de destino em uma coluna contendo dois rótulos, codificação one-hot e uma divisão 80-20 para gerar conjuntos de dados de treinamento e teste. "
   ]
  },
  {
   "attachments": {},
   "cell_type": "markdown",
   "metadata": {},
   "source": [
    "## Tarefa 3.1: Configuração do ambiente\n",
    "\n",
    "Nesta tarefa, você vai instalar os pacotes e as dependências necessários. \n",
    "\n",
    "Você vai definir um bucket do Amazon S3 para armazenar as saídas do trabalho de processamento e fazer com que a função de execução execute o trabalho do SageMaker Processing."
   ]
  },
  {
   "cell_type": "code",
   "execution_count": null,
   "metadata": {},
   "outputs": [],
   "source": [
    "#install-dependencies\n",
    "import logging\n",
    "import boto3\n",
    "import sagemaker\n",
    "import pandas as pd\n",
    "import numpy as np\n",
    "from sagemaker.s3 import S3Downloader\n",
    "\n",
    "sagemaker_logger = logging.getLogger(\"sagemaker\")\n",
    "sagemaker_logger.setLevel(logging.INFO)\n",
    "sagemaker_logger.addHandler(logging.StreamHandler())\n",
    "\n",
    "sagemaker_session = sagemaker.Session()\n",
    "\n",
    "#Execution role to run the SageMaker Processing job\n",
    "role = sagemaker.get_execution_role()\n",
    "print(\"SageMaker Execution Role: \", role)\n",
    "\n",
    "#S3 bucket to read the SKLearn processing script and writing processing job outputs\n",
    "s3 = boto3.resource('s3')\n",
    "for buckets in s3.buckets.all():\n",
    "    if 'labdatabucket' in buckets.name:\n",
    "        bucket = buckets.name\n",
    "print(\"Bucket: \", bucket)"
   ]
  },
  {
   "attachments": {},
   "cell_type": "markdown",
   "metadata": {},
   "source": [
    "## Tarefa 3.2: Executar o trabalho de processamento do SageMaker\n",
    "\n",
    "Nesta tarefa, você vai importar e examinar o conjunto de dados pré-processado."
   ]
  },
  {
   "cell_type": "code",
   "execution_count": null,
   "metadata": {},
   "outputs": [],
   "source": [
    "#import-data\n",
    "prefix = 'data/input'\n",
    "\n",
    "S3Downloader.download(s3_uri=f\"s3://{bucket}/{prefix}/adult_data.csv\", local_path= 'data/')\n",
    "\n",
    "shape=pd.read_csv(\"data/adult_data.csv\", header=None)\n",
    "shape.sample(5)"
   ]
  },
  {
   "attachments": {},
   "cell_type": "markdown",
   "metadata": {},
   "source": [
    "Neste laboratório, são executadas as transformações de dados, como a remoção de duplicações, a transformação da coluna de destino em um coluna contendo dois rótulos e a codificação one-hot dos recursos categóricos."
   ]
  },
  {
   "attachments": {},
   "cell_type": "markdown",
   "metadata": {},
   "source": [
    "Depois, você vai criar a classe SKLearnProcessor para definir e executar um script de processamento scikit-learn como um trabalho de processamento. Consulte [SKLearnProcessor scikit-learn do SageMaker](https://sagemaker.readthedocs.io/en/stable/frameworks/sklearn/sagemaker.sklearn.html#sagemaker.sklearn.processing.SKLearnProcessor) para saber mais sobre essa classe.\n",
    "\n",
    "Para criar a classe SKLearnProcessor, configure os seguintes parâmetros:\n",
    "- **base_job_name**: prefixo do nome do trabalho de processamento\n",
    "- **framework_version**: versão do scikit-learn\n",
    "- **role**: função de execução do SageMaker\n",
    "- **instance_count**: número de instâncias para executar o trabalho de processamento\n",
    "- **instance_type**: tipo de instância do Amazon Elastic Compute Cloud (Amazon EC2) usado para o trabalho de processamento"
   ]
  },
  {
   "cell_type": "code",
   "execution_count": null,
   "metadata": {},
   "outputs": [],
   "source": [
    "#scikit-learn-processor\n",
    "import os\n",
    "from sagemaker.sklearn.processing import SKLearnProcessor\n",
    "\n",
    "# create a SKLearnProcessor\n",
    "sklearn_processor = SKLearnProcessor(\n",
    "    base_job_name=\"sklearn-preprocessor\",\n",
    "    framework_version=\"0.20.0\", \n",
    "    role=role, \n",
    "    instance_count=1,\n",
    "    instance_type=\"ml.m5.xlarge\"\n",
    ")"
   ]
  },
  {
   "cell_type": "markdown",
   "metadata": {},
   "source": [
    "\n",
    "Depois, use o método **SKLearnProcessor.run()** para executar o script **sklearn_preprocessing.py** como um trabalho de processamento. \n",
    "\n",
    "Para executar o trabalho de processamento, configure os seguintes parâmetros:\n",
    "- **code**: caminho do script de pré-processamento \n",
    "- **inputs e outputs**: caminho da entrada e da saída do script de pré-processamento (local de entrada e de saída do Amazon S3)\n",
    "- **arguments**: argumentos da linha de comando para o script de pré-processamento (como a taxa de divisão do teste e do treinamento)\n",
    "\n",
    "O trabalho de processamento exige cerca de quatro a cinco minutos para ser concluído. Enquanto o trabalho estiver em execução, examine a origem do script de pré-processamento (que foi pré-configurado como parte deste laboratório) abrindo o arquivo **sklearn_preprocessing.py** com o navegador de arquivos."
   ]
  },
  {
   "cell_type": "code",
   "execution_count": null,
   "metadata": {},
   "outputs": [],
   "source": [
    "#processing-job\n",
    "from sagemaker.processing import ProcessingInput, ProcessingOutput\n",
    "\n",
    "# Amazon S3 path prefix\n",
    "input_raw_data_prefix = \"data/input\"\n",
    "output_preprocessed_data_prefix = \"data/output\"\n",
    "scripts_prefix = \"scripts/smstudiofiles\"\n",
    "logs_prefix = \"logs\"\n",
    "\n",
    "# Run the processing job\n",
    "sklearn_processor.run(\n",
    "    code=\"s3://\" + os.path.join(bucket, scripts_prefix, \"sklearn_preprocessing.py\"),\n",
    "    inputs=[ProcessingInput(source=\"s3://\" + os.path.join(bucket, input_raw_data_prefix, \"adult_data.csv\"),\n",
    "                            destination=\"/opt/ml/processing/input\")],\n",
    "    outputs=[\n",
    "        ProcessingOutput(output_name=\"train_data\", \n",
    "                         source=\"/opt/ml/processing/train\",\n",
    "                         destination=\"s3://\" + os.path.join(bucket, output_preprocessed_data_prefix, \"train\")),\n",
    "        ProcessingOutput(output_name=\"test_data\", \n",
    "                         source=\"/opt/ml/processing/test\",\n",
    "                         destination=\"s3://\" + os.path.join(bucket, output_preprocessed_data_prefix, \"test\")),\n",
    "    ],\n",
    "    arguments=[\"--train-test-split-ratio\", \"0.2\"],\n",
    ")\n",
    "\n",
    "print(\"SKLearn Processing Job Completed.\")"
   ]
  },
  {
   "attachments": {},
   "cell_type": "markdown",
   "metadata": {},
   "source": [
    "## Tarefa 3.3: Validar os resultados do processamento de dados\n",
    "\n",
    "Nesta tarefa, você vai validar a saída do trabalho de processamento que executou examinando as cinco primeiras linhas dos conjuntos de dados de saída de treinamento e teste."
   ]
  },
  {
   "cell_type": "code",
   "execution_count": null,
   "metadata": {},
   "outputs": [],
   "source": [
    "#view-train-dataset\n",
    "print(\"Top 5 rows from s3://{}/{}/train/\".format(bucket, output_preprocessed_data_prefix))\n",
    "!aws s3 cp --quiet s3://$bucket/$output_preprocessed_data_prefix/train/train_features.csv - | head -n5"
   ]
  },
  {
   "cell_type": "code",
   "execution_count": null,
   "metadata": {},
   "outputs": [],
   "source": [
    "#view-validation-dataset\n",
    "print(\"Top 5 rows from s3://{}/{}/validation/\".format(bucket, output_preprocessed_data_prefix))\n",
    "!aws s3 cp --quiet s3://$bucket/$output_preprocessed_data_prefix/test/test_features.csv - | head -n5"
   ]
  },
  {
   "cell_type": "markdown",
   "metadata": {},
   "source": [
    "### Conclusão\n",
    "\n",
    "Parabéns! Você usou o SageMaker Processing para criar um trabalho de processamento scikit-learn usando o SDK Python do SageMaker e executou o trabalho de processamento com sucesso.\n",
    "\n",
    "A próxima tarefa do laboratório se concentra no processamento de dados usando o SageMaker Processing com o seu contêiner de processamento.\n",
    "\n",
    "## Limpeza\n",
    "\n",
    "Você concluiu este notebook. Passe para a próxima parte do laboratório da seguinte forma:\n",
    "\n",
    "- Feche este arquivo de notebook.\n",
    "- Retorne à sessão do laboratório e continue na **Tarefa 4: Executar o processamento de dados com o seu contêiner**."
   ]
  }
 ],
 "metadata": {
  "instance_type": "ml.t3.medium",
  "kernelspec": {
   "display_name": "Python 3",
   "language": "python",
   "name": "python3"
  },
  "language_info": {
   "codemirror_mode": {
    "name": "ipython",
    "version": 3
   },
   "file_extension": ".py",
   "mimetype": "text/x-python",
   "name": "python",
   "nbconvert_exporter": "python",
   "pygments_lexer": "ipython3",
   "version": "3.8.5"
  },
  "vscode": {
   "interpreter": {
    "hash": "741de909edea0d5644898c592544ed98bede62b404d20772e5c4abc3c2f12566"
   }
  }
 },
 "nbformat": 4,
 "nbformat_minor": 4
}
