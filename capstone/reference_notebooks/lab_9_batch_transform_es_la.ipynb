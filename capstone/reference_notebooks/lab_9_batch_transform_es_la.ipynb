{
 "cells": [
  {
   "cell_type": "markdown",
   "metadata": {},
   "source": [
    "## Tarea 5: utilizar la transformación por lotes para obtener inferencias a partir de un gran conjunto de datos\n",
    "\n",
    "## Tarea 5.1: configuración del entorno\n",
    "\n",
    "Instale los paquetes y las dependencias."
   ]
  },
  {
   "cell_type": "code",
   "execution_count": null,
   "metadata": {},
   "outputs": [],
   "source": [
    "#install-dependencies\n",
    "import boto3\n",
    "import sagemaker\n",
    "import sagemaker_datawrangler\n",
    "import time\n",
    "from sagemaker.session import Session\n",
    "from sagemaker.transformer import Transformer\n",
    "\n",
    "role = sagemaker.get_execution_role()\n",
    "region = boto3.Session().region_name\n",
    "sess = boto3.Session()\n",
    "sm = sess.client('sagemaker')\n",
    "prefix = 'sagemaker/mlasms'\n",
    "sagemaker_session = sagemaker.Session()\n",
    "bucket = sagemaker.Session().default_bucket()\n",
    "s3_client = boto3.client(\"s3\")"
   ]
  },
  {
   "cell_type": "markdown",
   "metadata": {},
   "source": [
    "Guarde el modelo del laboratorio de entrenamiento y ajuste en el bucket predeterminado de Amazon Simple Storage Service (Amazon S3). Configure un modelo usando **create_model** y configure **ModelDataUrl** para referenciar al modelo entrenado."
   ]
  },
  {
   "cell_type": "code",
   "execution_count": null,
   "metadata": {},
   "outputs": [],
   "source": [
    "#set-up-model\n",
    "# Upload the model and dataset to your Amazon S3 bucket\n",
    "s3_client.upload_file(Filename=\"model.tar.gz\", Bucket=bucket, Key=f\"{prefix}/models/model.tar.gz\")\n",
    "\n",
    "# Set a date to use in the model name\n",
    "create_date = time.strftime(\"%Y-%m-%d-%H-%M-%S\")\n",
    "model_name = 'income-model-{}'.format(create_date)\n",
    "\n",
    "# Retrieve the container image\n",
    "container = sagemaker.image_uris.retrieve(\n",
    "    region=boto3.Session().region_name, \n",
    "    framework='xgboost', \n",
    "    version='1.5-1'\n",
    ")\n",
    "\n",
    "# Set up the model\n",
    "income_model = sm.create_model(\n",
    "    ModelName = model_name,\n",
    "    ExecutionRoleArn = role,\n",
    "    PrimaryContainer = {\n",
    "        'Image': container,\n",
    "        'ModelDataUrl': f's3://{bucket}/{prefix}/models/model.tar.gz',\n",
    "    }\n",
    ")"
   ]
  },
  {
   "cell_type": "markdown",
   "metadata": {},
   "source": [
    "Cargue los registros de lotes en el bucket predeterminado de Amazon S3."
   ]
  },
  {
   "cell_type": "code",
   "execution_count": null,
   "metadata": {},
   "outputs": [],
   "source": [
    "#upload-dataset\n",
    "s3_client.upload_file(Filename=\"batch_data.csv\", Bucket=bucket, Key=f\"{prefix}/batch_data.csv\", ExtraArgs={\"ContentType\": \"text/csv;charset=utf-8\"})\n",
    "batch_path = f\"s3://{bucket}/{prefix}/batch_data.csv\""
   ]
  },
  {
   "cell_type": "markdown",
   "metadata": {},
   "source": [
    "### Tarea 5.2: crear un trabajo de transformación por lotes\n",
    "\n",
    "La transformación por lotes administra automáticamente el procesamiento de grandes conjuntos de datos dentro de los límites de los parámetros especificados. Cuando se inicia un trabajo de transformación por lotes, SageMaker inicializa las instancias de cómputo y distribuye la inferencia o la carga de trabajo de preprocesamiento entre ellas. La transformación por lotes particiona los objetos de Amazon S3 de la entrada por claves y mapea dichos objetos a las instancias.\n",
    "\n",
    "Use la transformación por lotes cuando necesite obtener inferencias de grandes conjuntos de datos o cuando no necesite un punto de enlace persistente.\n",
    "\n",
    "Para crear un trabajo de transformación por lotes, debe configurar las siguientes opciones:\n",
    "- **model_name**: el nombre de su modelo.\n",
    "- **instance_type**: el tipo de instancia de Amazon Elastic Compute Cloud (Amazon EC2) que se debe usar; por ejemplo, \"ml.c4.xlarge\".\n",
    "- **instance_count**: la cantidad de instancias de EC2 que se deben usar.\n",
    "- **assemble_with**: la forma en que se ensambla la salida. Los valores válidos son “Line” (Línea) o “None” (Ninguno).\n",
    "- **strategy**: la estrategia que se usó para decidir cómo reunir registros por lotes en una sola solicitud. Los valores válidos son \"MultiRecord\" y \"SingleRecord\".\n",
    "- **accept**: el tipo de archivo que se debe aceptar.\n",
    "- **output_path**: la ubicación en Amazon S3 para guardar el resultado de la transformación. Si no se especifica, los resultados se almacenan en un bucket predeterminado."
   ]
  },
  {
   "cell_type": "code",
   "execution_count": null,
   "metadata": {},
   "outputs": [],
   "source": [
    "#create-batch-transformer\n",
    "transformer = Transformer(\n",
    "    model_name=model_name,\n",
    "    instance_type=\"ml.m4.xlarge\",\n",
    "    instance_count=1,\n",
    "    assemble_with=\"Line\",\n",
    "    strategy=\"MultiRecord\",\n",
    "    accept=\"text/csv\",\n",
    "    output_path=\"s3://{}/{}/batch-transform/test\".format(bucket, prefix)\n",
    ")"
   ]
  },
  {
   "attachments": {},
   "cell_type": "markdown",
   "metadata": {},
   "source": [
    "Use el conjunto de datos de prueba como registros de sus clientes y ejecute el trabajo de transformación por lotes. La ejecución del trabajo puede demorar hasta 10 minutos con este conjunto de registros de clientes.\n",
    "\n",
    "Consulte [Uso de la transformación por lotes](https://docs.aws.amazon.com/sagemaker/latest/dg/batch-transform.html) para obtener más información sobre los trabajos de transformación por lotes."
   ]
  },
  {
   "cell_type": "code",
   "execution_count": null,
   "metadata": {},
   "outputs": [],
   "source": [
    "#run-batch-transform-job\n",
    "transformer.transform(batch_path, content_type=\"text/csv\", split_type=\"Line\", join_source=\"Input\")\n",
    "transformer.wait()"
   ]
  },
  {
   "attachments": {},
   "cell_type": "markdown",
   "metadata": {},
   "source": [
    "### Tarea 5.3: ver los datos de predicción en Amazon S3\n",
    "\n",
    "El trabajo de transformación por lotes almacena la salida en el bucket y la carpeta que especificó cuando configuró el transformador. Puede ver los resultados de la predicción en Amazon S3, ya sea en la Consola de administración de AWS o en el cuaderno.\n",
    "\n",
    "Si quiere descargar y visualizar la salida de la consola, navegue a Amazon S3, abra el bucket que comienza con **sagemaker-** y vaya al objeto ubicado en **/sagemaker/mlasms/batch-transform/test**. Descargue el objeto **batch_data.csv.out** y ábralo con un editor de bloc de notas. El archivo contiene cientos de valores predichos para los registros de clientes que ejecutó a través del trabajo de transformación por lotes.\n",
    "\n",
    "También se puede incluir en el cuaderno una muestra de la salida.\n"
   ]
  },
  {
   "cell_type": "code",
   "execution_count": null,
   "metadata": {},
   "outputs": [],
   "source": [
    "!aws s3 cp --recursive $transformer.output_path ./\n",
    "!head batch_data.csv.out"
   ]
  },
  {
   "cell_type": "markdown",
   "metadata": {},
   "source": [
    "### Conclusión\n",
    "\n",
    "¡Felicitaciones! Usó Amazon SageMaker para ejecutar correctamente un trabajo de transformación por lotes.\n",
    "\n",
    "### Limpieza\n",
    "\n",
    "Ha completado este cuaderno. Para ir a la siguiente parte del laboratorio, complete estos pasos:\n",
    "\n",
    "- Cierre este archivo de cuaderno.\n",
    "- Regrese a la sesión de laboratorio y continúe con la **Conclusión**."
   ]
  }
 ],
 "metadata": {
  "instance_type": "ml.t3.xlarge",
  "kernelspec": {
   "display_name": "Python 3.9.6 64-bit",
   "language": "python",
   "name": "python3"
  },
  "language_info": {
   "codemirror_mode": {
    "name": "ipython",
    "version": 3
   },
   "file_extension": ".py",
   "mimetype": "text/x-python",
   "name": "python",
   "nbconvert_exporter": "python",
   "pygments_lexer": "ipython3",
   "version": "3.9.6"
  },
  "vscode": {
   "interpreter": {
    "hash": "2e45558c452cedcb26631315a9b3b77e80a9c32d662ed25df58964b99bc5b9b9"
   }
  }
 },
 "nbformat": 4,
 "nbformat_minor": 4
}
