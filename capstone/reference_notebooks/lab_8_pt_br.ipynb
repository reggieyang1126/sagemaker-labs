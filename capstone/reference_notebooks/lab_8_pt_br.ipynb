{
 "cells": [
  {
   "attachments": {},
   "cell_type": "markdown",
   "metadata": {},
   "source": [
    "# Tarefa 2: Usar o SageMaker Clarify\n",
    "\t\n",
    "Neste laboratório, você vai usar o Amazon SageMaker Clarify para detectar viés nos dados antes do treinamento e nos modelos após o treinamento, além de acessar relatórios de explicabilidade.\n"
   ]
  },
  {
   "cell_type": "markdown",
   "metadata": {},
   "source": [
    "## Tarefa 2.1: Configuração do ambiente\n",
    "\n",
    "Instale os pacotes e as dependências."
   ]
  },
  {
   "cell_type": "code",
   "execution_count": null,
   "metadata": {},
   "outputs": [],
   "source": [
    "#install-dependencies\n",
    "\n",
    "import boto3\n",
    "import io\n",
    "import json\n",
    "import math\n",
    "import matplotlib.pyplot as plt\n",
    "import numpy as np\n",
    "import os\n",
    "import pandas as pd\n",
    "import re\n",
    "import sagemaker\n",
    "import sagemaker_datawrangler\n",
    "import sys\n",
    "import time\n",
    "import zipfile\n",
    "\n",
    "from IPython.display import display\n",
    "from IPython.display import Image\n",
    "from sagemaker import clarify\n",
    "from sagemaker import Session\n",
    "from sagemaker.inputs import TrainingInput\n",
    "from sagemaker.s3 import S3Uploader\n",
    "from sklearn.model_selection import train_test_split\n",
    "from time import gmtime, strftime\n",
    "\n",
    "s3_client = boto3.client(\"s3\")\n",
    "session = Session()\n",
    "bucket = session.default_bucket()\n",
    "prefix = 'sagemaker/lab_8'\n",
    "role = sagemaker.get_execution_role()"
   ]
  },
  {
   "cell_type": "markdown",
   "metadata": {},
   "source": [
    "Depois, importe, divida e carregue o conjunto de dados."
   ]
  },
  {
   "cell_type": "code",
   "execution_count": null,
   "metadata": {},
   "outputs": [],
   "source": [
    "#prepare-dataset\n",
    "\n",
    "lab_test_data = pd.read_csv('adult_data_processed.csv')\n",
    "\n",
    "# Split the dataset\n",
    "train_data, validation_data, test_data = np.split(\n",
    "    lab_test_data.sample(frac=1, random_state=1729),\n",
    "    [int(0.7 * len(lab_test_data)), int(0.9 * len(lab_test_data))],\n",
    ")\n",
    "\n",
    "train_data.to_csv('train_data.csv', index=False, header=False)\n",
    "validation_data.to_csv('validation_data.csv', index=False, header=False)\n",
    "test_data.to_csv('test_data.csv', index=False, header=False)\n",
    "\n",
    "# Upload the Dataset to S3\n",
    "from sagemaker.s3 import S3Uploader\n",
    "from sagemaker.inputs import TrainingInput\n",
    "\n",
    "sagemaker_session = sagemaker.Session()\n",
    "\n",
    "train_path = S3Uploader.upload('train_data.csv', 's3://{}/{}'.format(bucket, prefix))\n",
    "validation_path = S3Uploader.upload('validation_data.csv', 's3://{}/{}'.format(bucket, prefix))\n",
    "test_path = S3Uploader.upload('test_data.csv', 's3://{}/{}'.format(bucket, prefix))\n",
    "\n",
    "train_input = TrainingInput(train_path, content_type='text/csv')\n",
    "validation_input = TrainingInput(validation_path, content_type='text/csv')\n",
    "test_input = TrainingInput(validation_path, content_type='text/csv')\n",
    "\n",
    "data_inputs = {\n",
    "    'train': train_input,\n",
    "    'validation': validation_input\n",
    "}"
   ]
  },
  {
   "attachments": {},
   "cell_type": "markdown",
   "metadata": {},
   "source": [
    "Agora, treine o modelo do XGBoost. Use este modelo treinado para o ModelConfig do SageMaker Clarify. Este treinamento exige cerca de três a quatro minutos para ser concluído."
   ]
  },
  {
   "cell_type": "code",
   "execution_count": null,
   "metadata": {},
   "outputs": [],
   "source": [
    "#train-model\n",
    "\n",
    "# Retrieve the container image\n",
    "container = sagemaker.image_uris.retrieve(\n",
    "    region=boto3.Session().region_name, \n",
    "    framework='xgboost', \n",
    "    version='1.5-1'\n",
    ")\n",
    "# Set up the estimator\n",
    "xgb = sagemaker.estimator.Estimator(\n",
    "    container,\n",
    "    role, \n",
    "    instance_count=1, \n",
    "    instance_type='ml.m5.xlarge',\n",
    "    output_path='s3://{}/{}/output'.format(bucket, prefix),\n",
    "    sagemaker_session=sagemaker_session\n",
    ")\n",
    "# Set the hyperparameters\n",
    "xgb.set_hyperparameters(\n",
    "    max_depth=5, \n",
    "    eta=0.2, \n",
    "    gamma=4, \n",
    "    min_child_weight=6,\n",
    "    subsample=0.8, \n",
    "    verbosity=1, \n",
    "    objective='binary:logistic', \n",
    "    num_round=800\n",
    ")\n",
    "\n",
    "# Train the model\n",
    "xgb.fit(\n",
    "    inputs = data_inputs\n",
    ") "
   ]
  },
  {
   "attachments": {},
   "cell_type": "markdown",
   "metadata": {},
   "source": [
    "## Tarefa 2.2: Configurar o trabalho do SageMaker Clarify e acessar o relatório de viés\n",
    "\n",
    "Para usar o [SageMaker Clarify](https://docs.aws.amazon.com/sagemaker/latest/dg/clarify-configure-processing-jobs.html), primeiro você cria um modelo por meio do trabalho de treinamento. Depois, você define as configurações necessárias e executa o trabalho SageMaker Clarify no modelo treinado. Nesta tarefa, você vai:\n",
    "\n",
    "- Criar o modelo.\n",
    "- Ativar o SageMaker Clarify.\n",
    "- Gerar o relatório de viés.\n",
    "- Acessar o relatório."
   ]
  },
  {
   "cell_type": "markdown",
   "metadata": {},
   "source": [
    "### Tarefa 2.2.1: criar o modelo\n",
    "\n",
    "Crie um modelo por meio do trabalho de treinamento a ser usado com o SageMaker Clarify."
   ]
  },
  {
   "cell_type": "code",
   "execution_count": null,
   "metadata": {},
   "outputs": [],
   "source": [
    "#create-clarify-model\n",
    "\n",
    "model_name = \"lab-8-clarify-model\"\n",
    "model = xgb.create_model(name=model_name)\n",
    "container_def = model.prepare_container_def()\n",
    "session.create_model(model_name, role, container_def)"
   ]
  },
  {
   "cell_type": "markdown",
   "metadata": {},
   "source": [
    "### Tarefa 2.2.2 Ativar o SageMaker Clarify\n",
    "\n",
    "Agora, para iniciar a configuração, ative o SageMaker Clarify."
   ]
  },
  {
   "cell_type": "code",
   "execution_count": null,
   "metadata": {},
   "outputs": [],
   "source": [
    "#enable-clarify\n",
    "\n",
    "clarify_processor = clarify.SageMakerClarifyProcessor(\n",
    "    role=role, \n",
    "    instance_count=1, \n",
    "    instance_type=\"ml.m5.xlarge\", \n",
    "    sagemaker_session=session\n",
    ")"
   ]
  },
  {
   "attachments": {},
   "cell_type": "markdown",
   "metadata": {},
   "source": [
    "Com o SageMaker Clarify, você pode detectar um possível viés antes do treinamento nos dados e um viés após o treinamento nos modelos por meio de várias métricas. Consulte [métricas](https://docs.aws.amazon.com/sagemaker/latest/dg/clarify-processing-job-configure-analysis.html) para obter mais informações de como configurar a análise do Clarify.\n",
    "\n",
    "Configure o objeto **DataConfig** para comunicar informações de E/S de dados ao SageMaker Clarify. Aqui, você especifica o local do conjunto de dados de entrada, o local da saída, a coluna de entrada (**label**), os nomes de cabeçalho e o tipo de conjunto de dados."
   ]
  },
  {
   "cell_type": "code",
   "execution_count": null,
   "metadata": {},
   "outputs": [],
   "source": [
    "#define-data-config\n",
    "\n",
    "bias_report_output_path = \"s3://{}/{}/clarify-bias\".format(bucket, prefix)\n",
    "bias_data_config = clarify.DataConfig(\n",
    "    s3_data_input_path=train_path,\n",
    "    s3_output_path=bias_report_output_path,\n",
    "    label=\"income\",\n",
    "    headers=train_data.columns.to_list(),\n",
    "    dataset_type=\"text/csv\",\n",
    ")"
   ]
  },
  {
   "cell_type": "markdown",
   "metadata": {},
   "source": [
    "Configure um objeto **ModelConfig** para comunicar informações sobre o modelo treinado. Defina o nome do modelo e um endpoint dedicado temporário para o modelo de produção (**instance_type** e **instance_count**). Defina também um **accept_type** para indicar o formato do payload de resposta do endpoint e um **content_type** para indicar o formato do payload de solicitação ao endpoint."
   ]
  },
  {
   "cell_type": "code",
   "execution_count": null,
   "metadata": {},
   "outputs": [],
   "source": [
    "#define-model-config\n",
    "\n",
    "model_config = clarify.ModelConfig(\n",
    "    model_name=model_name,\n",
    "    instance_type=\"ml.m5.xlarge\",\n",
    "    instance_count=1,\n",
    "    accept_type=\"text/csv\",\n",
    "    content_type=\"text/csv\",\n",
    ")"
   ]
  },
  {
   "cell_type": "markdown",
   "metadata": {},
   "source": [
    "Configure o **probability_threshold** de **ModelPredictedLabelConfig** para converter a probabilidade de amostras em rótulos binários visando a análise de viés. Uma previsão superior ao limite é interpretada como o valor de rótulo **1** e, igual ou inferior ao limite, como o valor de rótulo 0."
   ]
  },
  {
   "cell_type": "code",
   "execution_count": null,
   "metadata": {},
   "outputs": [],
   "source": [
    "#define-model-predicted-label-config\n",
    "\n",
    "predictions_config = clarify.ModelPredictedLabelConfig(probability_threshold=0.8)"
   ]
  },
  {
   "cell_type": "markdown",
   "metadata": {},
   "source": [
    "Configure **BiasConfig** para indicar as colunas sensíveis (**facets**), os recursos possivelmente sensíveis (**facet_values_or_threshold**) e os resultados favoráveis (**label_values_or_threshold**).\n",
    "\n",
    "Você pode indicar dados categóricos e contínuos para **facet_values_or_threshold** e **label_values_or_threshold**. Os recursos **sex** e **age** são categóricos.\n",
    "\n",
    "A meta desse modelo é determinar se uma pessoa ganha USD 50 mil ou mais, com o resultado positivo considerado favorável. Use **BiasConfig** para saber quais colunas contêm as facetas com o grupo sensível **Sex**, o que os recursos sensíveis podem estar usando **facet_values_or_threshold** e o que os resultados desejados estão usando **label_values_or_threshold**. Agrupe por **age** para ver se há diferenças dependendo da idade da pessoa."
   ]
  },
  {
   "cell_type": "code",
   "execution_count": null,
   "metadata": {},
   "outputs": [],
   "source": [
    "#define-bias-config\n",
    "\n",
    "bias_config = clarify.BiasConfig(\n",
    "    label_values_or_threshold=[1], facet_name=\"sex\", facet_values_or_threshold=[0], group_name=\"age\"\n",
    ")"
   ]
  },
  {
   "attachments": {},
   "cell_type": "markdown",
   "metadata": {},
   "source": [
    "### Tarefa 2.2.3: gerar o relatório de viés\n",
    "\n",
    "Crie o relatório de viés usando as configurações para análise antes e após o treinamento. Esta etapa exige cerca de 15 a 20 minutos. Enquanto o relatório de viés está sendo gerado, você pode descobrir como o SageMaker Clarify faz os cálculos [Medidas de equidade para machine learning em finanças](./Fairness.Measures.for.Machine.Learning.in.Finance.pdf)."
   ]
  },
  {
   "cell_type": "code",
   "execution_count": null,
   "metadata": {},
   "outputs": [],
   "source": [
    "#run-bias-report\n",
    "\n",
    "clarify_processor.run_bias(\n",
    "    data_config=bias_data_config,\n",
    "    bias_config=bias_config,\n",
    "    model_config=model_config,\n",
    "    model_predicted_label_config=predictions_config,\n",
    "    pre_training_methods=\"all\",\n",
    "    post_training_methods=\"all\",\n",
    ")"
   ]
  },
  {
   "attachments": {},
   "cell_type": "markdown",
   "metadata": {},
   "source": [
    "### Tarefa 2.2.4: Acessar o relatório de viés\n",
    "\n",
    "No SageMaker Studio, você pode visualizar os resultados na aba de experimentos.\n",
    "\n",
    "A próxima etapa abre uma nova aba no SageMaker Studio. Para seguir essas orientações, escolha uma das seguintes opções:\n",
    "- **Opção 1:** visualizar as abas lado a lado. Para criar uma visualização de tela dividida por meio da janela principal do SageMaker Studio, arraste a aba **lab_8.ipynb** para a lateral ou escolha (clique com o botão direito) a aba **lab_8.ipynb** e selecione **New View for Notebook** (Nova visualização do notebook). Agora, as orientações ficam visíveis enquanto você explora o relatório de viés.\n",
    "- **Opção 2:** alternar entre as abas do SageMaker Studio para seguir essas instruções. Ao terminar de explorar o relatório de viés, retorne ao notebook selecionando a aba **lab_8.ipynb**.\n",
    "\n",
    "1. No SageMaker Studio, selecione o ícone **Página inicial do SageMaker**.\n",
    "\n",
    "2. Escolha **Experiments** (Experimentos).\n",
    "\n",
    "O SageMaker Studio abre a aba **Experiments** (Experimentos).\n",
    "\n",
    "3. Na aba **Experiments** (Experimentos), selecione **Unassigned runs** (Execuções não atribuídas) à esquerda.\n",
    "\n",
    "4. Na lista **Unassigned runs** (Execuções não atribuídas), selecione o nome do trabalho de treinamento que contém **clarify-bias-** no título. \n",
    "\n",
    "5. Na aba **Experiments** (Experimentos), selecione **Bias Reports** (Relatórios de viés) à esquerda.\n",
    "\n",
    "Um relatório de viés das métricas é disponibilizado quando o SageMaker Clarify termina a execução do trabalho de viés.\n",
    "\n",
    "6. Espere até que o SageMaker Clarify termine a execução do trabalho de viés.\n",
    "\n",
    "Cada métrica de viés tem explicações detalhadas com exemplos que você pode explorar ao selecionar cada valor. \n",
    "\n",
    "7. Examine as explicações detalhadas de **Class Imbalance** (Desequilíbrio de classe) e **Disparate (Adverse) Impact (DI)** (Impacto (adverso) da discrepância (DI)) clicando nas setas ao lado das métricas de viés e expandindo o campo. \n",
    "\n",
    "Quando terminar de explorar as métricas de viés, continue na próxima tarefa."
   ]
  },
  {
   "attachments": {},
   "cell_type": "markdown",
   "metadata": {},
   "source": [
    "## Tarefa 2.3: Acessar relatórios de explicabilidade\n",
    "\n",
    "Além de usar um relatório de viés, você pode usar o SageMaker Clarify para analisar as explicações locais de previsões individuais. Crie um relatório para examinar os resultados de explicabilidade das previsões geradas pelo SageMaker Clarify e analise as métricas principais do relatório. Nesta tarefa, você vai:\n",
    "\n",
    "1. Defina uma configuração de valores Shapley (SHAP).\n",
    "2. Gerar o relatório de explicabilidade.\n",
    "3. Acessar o relatório de explicabilidade."
   ]
  },
  {
   "cell_type": "markdown",
   "metadata": {},
   "source": [
    "### Tarefa 2.3.1: Definir uma configuração de SHAP"
   ]
  },
  {
   "attachments": {},
   "cell_type": "markdown",
   "metadata": {},
   "source": [
    "Você pode gerar um relatório de explicabilidade para obter uma explicação do motivo pelo qual o modelo fez uma previsão específica. O SageMaker Clarify usa o SHAP para gerar um relatório sobre o raciocínio do modelo para tomar decisões. Consulte [Linhas de base do SHAP para explicabilidade](https://docs.aws.amazon.com/sagemaker/latest/dg/clarify-feature-attribute-shap-baselines.html) para saber mais sobre as linhas de base de SHAP.\n",
    "\n",
    "As métricas do SHAP configuradas são as seguintes:\n",
    "- **baseline**: uma lista linhas ou um URI de objeto do Amazon Simple Storage Service (Amazon S3), a ser usada como o conjunto de dados de linha de base no algoritmo do SHAP do kernel.\n",
    "- **num_samples**: número de exemplos a serem usados no algoritmo do SHAP do kernel. Esse número determina o tamanho do conjunto de dados sintético gerado para calcular os valores SHAP.\n",
    "- **agg_method: mean_abs**: média de valores SHAP absolutos para todas as instâncias.\n",
    "- **save_local_shap_values**: valor booliano para indicar se os valores SHAP locais devem ser salvos no local de saída.\n",
    "\n",
    "Consulte [métricas do SHAP](https://docs.aws.amazon.com/sagemaker/latest/dg/clarify-processing-job-configure-analysis.html) para obter mais informações sobre as métricas usadas."
   ]
  },
  {
   "cell_type": "code",
   "execution_count": null,
   "metadata": {},
   "outputs": [],
   "source": [
    "#configure-shap\n",
    "\n",
    "testing_data, clarify_data = train_test_split(test_data, test_size =0.005)\n",
    "clarify_data = clarify_data.drop(columns=[\"income\"])\n",
    "clarify_data.to_csv('clarify_data.csv', index=False, header=False)\n",
    "clarify_path = S3Uploader.upload('clarify_data.csv', 's3://{}/{}'.format(bucket, prefix))\n",
    "\n",
    "shap_config = clarify.SHAPConfig(\n",
    "    baseline=clarify_path,\n",
    "    num_samples=15,\n",
    "    agg_method=\"mean_abs\",\n",
    "    save_local_shap_values=True,\n",
    ")\n",
    "\n",
    "explainability_output_path = \"s3://{}/{}/clarify-explainability\".format(bucket, prefix)\n",
    "explainability_data_config = clarify.DataConfig(\n",
    "    s3_data_input_path=clarify_path,\n",
    "    s3_output_path=explainability_output_path,\n",
    "    headers=clarify_data.columns.to_list(),\n",
    "    dataset_type=\"text/csv\",\n",
    ")"
   ]
  },
  {
   "cell_type": "markdown",
   "metadata": {},
   "source": [
    "### Tarefa 2.3.2: Executar o relatório de explicabilidade"
   ]
  },
  {
   "attachments": {},
   "cell_type": "markdown",
   "metadata": {},
   "source": [
    "Crie o relatório de explicabilidade usando suas configurações. Esta etapa exige cerca de 10 a 15 minutos. Enquanto o relatório de explicabilidade está sendo gerado, você pode acompanhar o status do trabalho no SageMaker Studio continuando na próxima tarefa.\n",
    "\n",
    "Consulte [Whitepaper de equidade e explicabilidade de IA da Amazon](./Amazon.AI.Fairness.and.Explainability.Whitepaper.pdf) para obter mais informações sobre o processo de explicabilidade do SageMaker Clarify."
   ]
  },
  {
   "cell_type": "code",
   "execution_count": null,
   "metadata": {},
   "outputs": [],
   "source": [
    "#run-explainability-report\n",
    "\n",
    "clarify_processor.run_explainability(\n",
    "    data_config=explainability_data_config,\n",
    "    model_config=model_config,\n",
    "    explainability_config=shap_config,\n",
    ")"
   ]
  },
  {
   "attachments": {},
   "cell_type": "markdown",
   "metadata": {},
   "source": [
    "### Tarefa 2.3.3: Acessar o relatório de explicabilidade\n",
    "\n",
    "Assim como no relatório de viés, você pode visualizar o relatório de explicabilidade no Studio como parte dos experimentos.\n",
    "\n",
    "1. Clique na aba **Experiments** (Experimentos).\n",
    "\n",
    "2. Na aba **Experiments** (Experimentos), selecione **Unassigned runs** (Execuções não atribuídas) à esquerda.\n",
    "\n",
    "3. Na lista **Unassigned runs** (Execuções não atribuídas), selecione o nome do trabalho de treinamento que contém **clarify-bias-** no título. \n",
    "\n",
    "4. Na aba **Experiments** (Experimentos), selecione **Explainability** (Explicabilidade) à esquerda.\n",
    "\n",
    "5. Quando o trabalho de explicabilidade for concluído, para visualizar o gráfico **Feature Importance** (Importância do recurso), selecione <span style=\"background-color:#57c4f8; font-size:90%;  color:black; position:relative; top:-1px; padding-top:3px; padding-bottom:3px; padding-left:10px; padding-right:10px; border-color:#00a0d2; border-radius:2px; margin-right:5px; white-space:nowrap\">View sample notebook (Visualizar notebook de exemplo)</span>.\n",
    "\n",
    "O SageMaker Studio abre o notebook **Fairness and Explainability with SageMaker Clarify** (Equidade e explicabilidade com o SageMaker Clarify) em uma aba.\n",
    "\n",
    "Quais recursos têm a maior e a menor importância? Há resultados surpreendentes?"
   ]
  },
  {
   "attachments": {},
   "cell_type": "markdown",
   "metadata": {},
   "source": [
    "### Conclusão\n",
    "\n",
    "Parabéns! Você usou o SageMaker Clarify para criar relatórios de viés e explicabilidade que podem ser usados para desenvolver modelos mais confiáveis e em maior conformidade. No próximo laboratório, você vai implantar os modelos e executar a inferência. Você vai continuar trabalhando com o modelo no próximo laboratório.\n",
    "\n",
    "## Limpeza\n",
    "\n",
    "Você concluiu este notebook. Passe para a próxima parte do laboratório da seguinte forma:\n",
    "\n",
    "- Feche este arquivo de notebook.\n",
    "- Retorne à sessão do laboratório e continue com a **Conclusão**."
   ]
  }
 ],
 "metadata": {
  "kernelspec": {
   "display_name": "Python 3.9.6 64-bit",
   "language": "python",
   "name": "python3"
  },
  "language_info": {
   "name": "python",
   "version": "3.9.6"
  },
  "orig_nbformat": 4,
  "vscode": {
   "interpreter": {
    "hash": "2e45558c452cedcb26631315a9b3b77e80a9c32d662ed25df58964b99bc5b9b9"
   }
  }
 },
 "nbformat": 4,
 "nbformat_minor": 2
}
