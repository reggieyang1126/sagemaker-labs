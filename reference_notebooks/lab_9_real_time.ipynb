{
 "cells": [
  {
   "cell_type": "markdown",
   "metadata": {},
   "source": [
    "# Task 2: Deploy a model for real-time inference\n",
    "\n",
    "## Task 2.1: Environment setup\n",
    "\n",
    "Install packages and dependencies."
   ]
  },
  {
   "cell_type": "code",
   "execution_count": null,
   "metadata": {},
   "outputs": [],
   "source": [
    "#install-dependencies\n",
    "import boto3\n",
    "import pandas as pd\n",
    "import sagemaker\n",
    "import sagemaker_datawrangler\n",
    "import time\n",
    "\n",
    "role = sagemaker.get_execution_role()\n",
    "region = boto3.Session().region_name\n",
    "sess = boto3.Session()\n",
    "sm = sess.client('sagemaker')\n",
    "prefix = 'sagemaker/mlasms'\n",
    "bucket = sagemaker.Session().default_bucket()\n",
    "s3_client = boto3.client(\"s3\")"
   ]
  },
  {
   "attachments": {},
   "cell_type": "markdown",
   "metadata": {},
   "source": [
    "Review the processed customer dataset."
   ]
  },
  {
   "cell_type": "code",
   "execution_count": null,
   "metadata": {},
   "outputs": [],
   "source": [
    "#explore-dataset\n",
    "column_list = ['income','age','workclass','education','education_num','marital_status','occupation','relationship','race','sex','capital_gain','capital_loss','hours_per_week']\n",
    "lab_test_data = pd.read_csv('adult_data_processed.csv', names=(column_list), header=1)\n",
    "pd.set_option('display.max_columns', 500)\n",
    "pd.set_option('display.max_rows', 20)\n",
    "lab_test_data.dtypes\n",
    "lab_test_data.head()"
   ]
  },
  {
   "cell_type": "markdown",
   "metadata": {},
   "source": [
    "Save the model from the training and tuning lab in the default Amazon Simple Storage Service (Amazon S3) bucket. Set up a model using **create_model** and configure **ModelDataUrl** to reference the trained model."
   ]
  },
  {
   "cell_type": "code",
   "execution_count": null,
   "metadata": {},
   "outputs": [],
   "source": [
    "#set-up-model\n",
    "# Upload the model to your Amazon S3 bucket\n",
    "s3_client.upload_file(\n",
    "    Filename=\"model.tar.gz\", Bucket=bucket, Key=f\"{prefix}/models/model.tar.gz\"\n",
    ")\n",
    "\n",
    "# Set a date to use in the model name\n",
    "create_date = time.strftime(\"%Y-%m-%d-%H-%M-%S\")\n",
    "model_name = 'income-model-{}'.format(create_date)\n",
    "\n",
    "# Retrieve the container image\n",
    "container = sagemaker.image_uris.retrieve(\n",
    "    region=boto3.Session().region_name, \n",
    "    framework='xgboost', \n",
    "    version='1.5-1'\n",
    ")\n",
    "\n",
    "# Set up the model\n",
    "income_model = sm.create_model(\n",
    "    ModelName = model_name,\n",
    "    ExecutionRoleArn = role,\n",
    "    PrimaryContainer = {\n",
    "        'Image': container,\n",
    "        'ModelDataUrl': f's3://{bucket}/{prefix}/models/model.tar.gz',\n",
    "    }\n",
    ")"
   ]
  },
  {
   "cell_type": "markdown",
   "metadata": {},
   "source": [
    "## Task 2.2: Create an endpoint from the provided synthesized, retrained model"
   ]
  },
  {
   "attachments": {},
   "cell_type": "markdown",
   "metadata": {},
   "source": [
    "There are three steps to creating an endpoint using the Amazon SageMaker SDK for Python:\n",
    "1. Create a SageMaker model.\n",
    "2. Create an endpoint configuration for an HTTPS endpoint.\n",
    "3. Create an HTTPS endpoint.\n",
    "\n",
    "Refer to [Create Your Endpoint and Deploy Your Model](https://docs.aws.amazon.com/sagemaker/latest/dg/realtime-endpoints-deployment.html) for more information about creating an endpoints.\n",
    "\n",
    "You have already created a model. You are now ready to create an endpoint configuration and an endpoint. \n",
    "\n",
    "First, set up the endpoint configuration name and the instance type that you want to use. Then, call the CreateEndpointConfig API.\n",
    "\n",
    "To create an endpoint configuration, you need to set the following options:\n",
    "- **VariantName**: The name of the production variant (one or more models in production).\n",
    "- **ModelName**: The name of the model that you want to host. This is the name that you specified when you created the model.\n",
    "- **InstanceType**: The compute instance type.\n",
    "- **InitialInstanceCount**: The number of instances to launch initially.\n",
    "\n",
    "To log the inputs to your endpoint and the inference outputs from SageMaker real-time endpoints to Amazon S3, you can enable a feature called Data Capture. Data Capture is commonly used to record information that can be used for training, debugging, and monitoring. When you explore your endpoint in Amazon SageMaker Studio, more details about the endpoint will be displayed when Data Capture is enabled. The configuration for Data Capture features later in this lab to show you how to enable it.\n",
    "\n",
    "Refer to [Capture Data](https://docs.aws.amazon.com/sagemaker/latest/dg/model-monitor-data-capture.html) for more information about adding Data Capture."
   ]
  },
  {
   "cell_type": "code",
   "execution_count": null,
   "metadata": {},
   "outputs": [],
   "source": [
    "#create-endpoint-configuration \n",
    "# Create an endpoint config name. Here you create one based on the date  \n",
    "# so it you can search endpoints based on creation time.\n",
    "endpoint_config_name = 'income-model-real-time-endpoint-{}'.format(create_date)                              \n",
    "instance_type = 'ml.m5.xlarge'   \n",
    "initial_sampling_percentage = 25 # Choose a value between 0 and 100\n",
    "capture_modes = [ \"Input\",  \"Output\" ] # Specify input, output, or both\n",
    "\n",
    "endpoint_config_response = sm.create_endpoint_config(\n",
    "    EndpointConfigName=endpoint_config_name, # You will specify this name in a CreateEndpoint request.\n",
    "    # List of ProductionVariant objects, one for each model that you want to host at this endpoint.\n",
    "    ProductionVariants=[\n",
    "        {\n",
    "            \"VariantName\": \"variant1\", # The name of the production variant.\n",
    "            \"ModelName\": model_name, \n",
    "            \"InstanceType\": instance_type, # Specify the compute instance type.\n",
    "            \"InitialInstanceCount\": 1 # Number of instances to launch initially.\n",
    "        }\n",
    "    ],\n",
    "    DataCaptureConfig= {\n",
    "        'EnableCapture': True, # Whether data should be captured or not.\n",
    "        'InitialSamplingPercentage' : initial_sampling_percentage,\n",
    "        'DestinationS3Uri': f's3://{bucket}/data-capture',\n",
    "        'CaptureOptions': [{\"CaptureMode\" : capture_mode} for capture_mode in capture_modes]\n",
    "    }\n",
    ")\n",
    "\n",
    "print(f\"Created EndpointConfig: {endpoint_config_response['EndpointConfigArn']}\")"
   ]
  },
  {
   "attachments": {},
   "cell_type": "markdown",
   "metadata": {},
   "source": [
    "Next, create an endpoint. When you create a real-time endpoint, SageMaker launches the machine learning (ML) compute instances and deploys one or more models as specified in the configuration. In this lab, you are only deploying one model for inference. In SageMaker, you can create a multi-model endpoint. Refer to [Invoke a Multi-Model Endpoint](https://docs.aws.amazon.com/sagemaker/latest/dg/invoke-multi-model-endpoint.html) for more information about multi-model endpoints.\n",
    "\n",
    "When the endpoint is in service, the helper function will print the endpoint Amazon Resource Name (ARN). Endpoint creation will take approximately 3–7 minutes to run."
   ]
  },
  {
   "cell_type": "code",
   "execution_count": null,
   "metadata": {},
   "outputs": [],
   "source": [
    "#create-endpoint\n",
    "# The name of the endpoint. The name must be unique within an AWS Region in your AWS account.\n",
    "endpoint_name = '{}-name'.format(endpoint_config_name)\n",
    "\n",
    "create_endpoint_response = sm.create_endpoint(\n",
    "    EndpointName=endpoint_name, \n",
    "    EndpointConfigName=endpoint_config_name\n",
    ") \n",
    "\n",
    "def wait_for_endpoint_creation_complete(endpoint):\n",
    "    \"\"\"Helper function to wait for the completion of creating an endpoint\"\"\"\n",
    "    response = sm.describe_endpoint(EndpointName=endpoint_name)\n",
    "    status = response.get(\"EndpointStatus\")\n",
    "    while status == \"Creating\":\n",
    "        print(\"Waiting for Endpoint Creation\")\n",
    "        time.sleep(15)\n",
    "        response = sm.describe_endpoint(EndpointName=endpoint_name)\n",
    "        status = response.get(\"EndpointStatus\")\n",
    "\n",
    "    if status != \"InService\":\n",
    "        print(f\"Failed to create endpoint, response: {response}\")\n",
    "        failureReason = response.get(\"FailureReason\", \"\")\n",
    "        raise SystemExit(\n",
    "            f\"Failed to create endpoint {create_endpoint_response['EndpointArn']}, status: {status}, reason: {failureReason}\"\n",
    "        )\n",
    "    print(f\"Endpoint {create_endpoint_response['EndpointArn']} successfully created.\")\n",
    "\n",
    "wait_for_endpoint_creation_complete(endpoint=create_endpoint_response)\n"
   ]
  },
  {
   "attachments": {},
   "cell_type": "markdown",
   "metadata": {},
   "source": [
    "In SageMaker Studio, you can review the endpoint details under the **Endpoints** tab.\n",
    "\n",
    "The next step opens a new tab in SageMaker Studio. To follow these directions, use one of the following options:\n",
    "- **Option 1:** View the tabs side by side. To create a split screen view from the main SageMaker Studio window, either drag the **real_time_inference.ipynb** tab to the side or choose (right-click) the **real_time_inference.ipynb** tab and choose **New View for Notebook**. You can now have the directions visible as you explore the endpoint.\n",
    "- **Option 2:** Switch between the SageMaker Studio tabs to follow these instructions. When you are finished exploring the endpoint, return to the notebook by choosing the **real_time_inference.ipynb** tab.\n",
    "\n",
    "1. Choose the **SageMaker Home** icon.\n",
    "2. Choose **Deployments**.\n",
    "3. Choose **Endpoints**.\n",
    "\n",
    "SageMaker Studio displays the **Endpoints** tab.\n",
    "\n",
    "4. Select the endpoint which has **income-model-real-time-** in the **Name** column.\n",
    "\n",
    "If the endpoint does not appear, choose the refresh icon until the endpoint appears in the list.\n",
    "\n",
    "SageMaker Studio displays the **ENDPOINT DETAILS** tab.\n",
    "\n",
    "5. Choose the **AWS settings** tab.\n",
    "\n",
    "If you opened the endpoint before it finished creating, choose the refresh icon until the **Endpoint status** changes from *Creating* to *InService*.\n",
    "\n",
    "The **Endpoint type** is listed as **Real-time**. The **Data capture settings** and **Endpoint configuration settings** sections show the configurations that you chose earlier in the notebook."
   ]
  },
  {
   "cell_type": "markdown",
   "metadata": {},
   "source": [
    "## Task 2.3: Invoke an endpoint for a real-time inference with real-time customer records\n",
    "\n",
    "After you deploy your model using SageMaker hosting services, you can test your model on that endpoint by sending it test data.\n",
    "\n",
    "You have several customer records that you know have an income greater than or equal to 50,000 USD (an **income** value of **1**), and several that have an income less than 50,000 USD (an **income** value of **0**). Invoke the endpoint with these records and view the returned scores.\n",
    "\n",
    "To view real-time predictions from the endpoint, you read the returned body text from the response, which contains a list of the prediction scores. The score for each record ranges from **0** to **1**, with numbers closer to **1** indicating that those customers are more likely to have an income greater than or equal to 50,000 USD. For example, a customer with a prediction score of **0.42** is more likely to have an income greater than or equal to 50,000 USD than a customer with a prediction score of **0.14**."
   ]
  },
  {
   "cell_type": "code",
   "execution_count": null,
   "metadata": {},
   "outputs": [],
   "source": [
    "#invoke-endpoint-real-time-records\n",
    "sagemaker_runtime = boto3.client(\"sagemaker-runtime\", region_name=region)\n",
    "\n",
    "response = sagemaker_runtime.invoke_endpoint(\n",
    "    ContentType='text/csv',\n",
    "    EndpointName=endpoint_name, \n",
    "    Body=bytes('56,3,6,6,0,3,1,0,0,1,0,13\\n' +\n",
    "                '29,2,2,2,0,1,0,0,0,0,0,70\\n' +\n",
    "                '79,0,1,1,0,3,5,0,0,0,0,20\\n', 'utf-8')\n",
    ")\n",
    "\n",
    "print(response)\n",
    "\n",
    "print('\\nTesting with records that have an income value of 1:')\n",
    "print('The returned scores are: {}'.format(response['Body'].read().decode('utf-8')))\n",
    "\n",
    "response = sagemaker_runtime.invoke_endpoint(\n",
    "    ContentType='text/csv',\n",
    "    EndpointName=endpoint_name, \n",
    "    Body=bytes('19,0,1,1,1,3,2,0,0,0,0,32\\n' +\n",
    "                '31,0,1,1,2,1,2,1,1,0,0,40\\n' +\n",
    "                '23,0,1,1,1,0,1,0,0,0,0,40\\n', 'utf-8')\n",
    ")\n",
    "\n",
    "print('\\nTesting with records that have an income value of 0:')\n",
    "print('The returned scores are: {}'.format(response['Body'].read().decode('utf-8')))"
   ]
  },
  {
   "cell_type": "markdown",
   "metadata": {},
   "source": [
    "## Task 2.4: Delete the endpoint"
   ]
  },
  {
   "cell_type": "markdown",
   "metadata": {},
   "source": [
    "Cleaning up an endpoint can be accomplished in three steps. First, delete the endpoint. Then, delete the endpoint configuration. Finally, if you no longer need the model that you deployed, delete the model."
   ]
  },
  {
   "cell_type": "code",
   "execution_count": null,
   "metadata": {},
   "outputs": [],
   "source": [
    "#delete-resources\n",
    "# Delete endpoint\n",
    "sm.delete_endpoint(EndpointName=endpoint_name)\n",
    "\n",
    "# Delete endpoint configuration\n",
    "sm.delete_endpoint_config(EndpointConfigName=endpoint_config_name)\n",
    "                   \n",
    "# Delete model\n",
    "sm.delete_model(ModelName=model_name)"
   ]
  },
  {
   "cell_type": "markdown",
   "metadata": {},
   "source": [
    "### Conclusion\n",
    "\n",
    "Congratulations! You have used SageMaker to successfully create a real-time endpoint, using the SageMaker Python SDK, and to invoke the endpoint.\n",
    "\n",
    "The next task of the lab focuses on deploying a model for inference using serverless inference.\n",
    "\n",
    "### Cleanup\n",
    "\n",
    "You have completed this notebook. To move to the next part of the lab, do the following:\n",
    "\n",
    "- Close this notebook file.\n",
    "- Return to the lab session and continue with **Task 3: Deploy a model for serverless inference**."
   ]
  }
 ],
 "metadata": {
  "instance_type": "ml.t3.xlarge",
  "kernelspec": {
   "display_name": "Python 3.9.6 64-bit",
   "language": "python",
   "name": "python3"
  },
  "language_info": {
   "codemirror_mode": {
    "name": "ipython",
    "version": 3
   },
   "file_extension": ".py",
   "mimetype": "text/x-python",
   "name": "python",
   "nbconvert_exporter": "python",
   "pygments_lexer": "ipython3",
   "version": "3.9.6"
  },
  "vscode": {
   "interpreter": {
    "hash": "2e45558c452cedcb26631315a9b3b77e80a9c32d662ed25df58964b99bc5b9b9"
   }
  }
 },
 "nbformat": 4,
 "nbformat_minor": 4
}
