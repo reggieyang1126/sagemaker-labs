{
 "cells": [
  {
   "cell_type": "markdown",
   "metadata": {},
   "source": [
    "# Task 2: Use SageMaker Feature Store"
   ]
  },
  {
   "attachments": {},
   "cell_type": "markdown",
   "metadata": {},
   "source": [
    "## Task 2.1: Feature Store options\n",
    "\n",
    "There are three main ways to store features in Amazon SageMaker:\n",
    "1. Using Amazon SageMaker Feature Store as an Amazon SageMaker Data Wrangler destination after preprocessing steps have been completed and features have been added.\n",
    "2. Exporting a notebook from SageMaker Data Wrangler that runs through feature definition, feature group creation, and ingestion of data into SageMaker Feature Store.\n",
    "3. Using the SageMaker Python SDK in a custom notebook that runs through feature definition, feature group creation, and ingestion of data into SageMaker Feature Store.\n",
    "\n",
    "Each of these three options are outlined in following sections.\n",
    "\n",
    "### Using SageMaker Feature Store as a SageMaker Data Wrangler destination\n",
    "\n",
    "You can add SageMaker Feature Store as a destination in Amazon SageMaker Studio using the **Add destination** option. When you are finished with preprocessing steps in SageMaker Data Wrangler, you can choose **Add destination** in your flow. SageMaker Studio guides you through feature group creation and how to complete the necessary steps to ingest your preprocessed data into SageMaker Feature Store.\n",
    "\n",
    "Refer to [Easily Create and Store Features in Amazon SageMaker Without Code](https://aws.amazon.com/blogs/machine-learning/easily-create-and-store-features-in-amazon-sagemaker-without-code/#save_features_to_feature_store) for more information about adding SageMaker Feature Store as a destination.\n",
    "\n",
    "Refer to [Use Amazon SageMaker Feature Store with Amazon SageMaker Studio](https://docs.aws.amazon.com/sagemaker/latest/dg/feature-store-use-with-studio.html) for more information about how to create a feature group in RSageMaker Studio.\n",
    "\n",
    "### Exporting a notebook from SageMaker Data Wrangler\n",
    "\n",
    "You can create feature groups using the **Export to** option in SageMaker Studio. When using the **Export to** option, you can create a notebook that includes all the commands necessary to create a feature group.\n",
    "\n",
    "With a few customizations, you can run through the notebook to do the following:\n",
    "- Create a feature definition based on your dataset.\n",
    "- Create a feature group using the feature definition.\n",
    "- Store the feature group in SageMaker Feature Store.\n",
    "- Set up the inputs and outputs of a processing job.\n",
    "\n",
    "This lab is similar to the exported notebook. This lab focuses on the first part of the exported notebook. It shows how to ingest data into the feature group and extract records from an online store and an offline store.\n",
    "\n",
    "### Using the SageMaker Python SDK in a custom notebook\n",
    "\n",
    "In this lab, you create a feature group and extract records from an online store and an offline store. You learn how SageMaker Feature Store works using a custom notebook. You set up the environment in Task 2. Then you complete the following tasks:\n",
    "\n",
    "Task 2.3: Set up SageMaker Feature Store\n",
    "- Create features in a notebook file.\n",
    "- Create a feature group in SageMaker Feature Store.\n",
    "- Confirm that the feature group has been created.\n",
    "- View the feature group in SageMaker Studio.\n",
    "\n",
    "Task 2.4: Query online and offline stores\n",
    "- Ingest data into a feature group.\n",
    "- Extract records from an online store.\n",
    "- Extract records from an offline store using Amazon Athena."
   ]
  },
  {
   "cell_type": "markdown",
   "metadata": {},
   "source": [
    "## Task 2.2: Environment setup\n",
    "\n",
    "Install packages and dependencies."
   ]
  },
  {
   "cell_type": "code",
   "execution_count": null,
   "metadata": {},
   "outputs": [],
   "source": [
    "#install-dependencies\n",
    "\n",
    "import boto3\n",
    "import json\n",
    "import pandas as pd\n",
    "import sagemaker\n",
    "import sagemaker_datawrangler\n",
    "import time\n",
    "import uuid\n",
    "import random\n",
    "from sagemaker.session import Session\n",
    "from sagemaker.feature_store.feature_definition import FeatureDefinition\n",
    "from sagemaker.feature_store.feature_definition import FeatureTypeEnum\n",
    "from sagemaker.feature_store.feature_group import FeatureGroup\n",
    "\n",
    "\n",
    "region = boto3.Session().region_name\n",
    "sess = boto3.Session(region_name=region)\n",
    "bucket = sagemaker.Session().default_bucket()\n",
    "role = sagemaker.get_execution_role()"
   ]
  },
  {
   "cell_type": "markdown",
   "metadata": {},
   "source": [
    "Import the processed customer dataset."
   ]
  },
  {
   "cell_type": "code",
   "execution_count": null,
   "metadata": {},
   "outputs": [],
   "source": [
    "#explore-dataset\n",
    "\n",
    "column_list = ['income','age','education','education_num','capital_gain','capital_loss','hours_per_week','sex','workclass','marital_status','occupation','relationship','race']\n",
    "lab_test_data = pd.read_csv('adult_data_processed.csv', names=(column_list), header=1)\n",
    "pd.set_option('display.max_columns', 500)\n",
    "pd.set_option('display.max_rows', 20)"
   ]
  },
  {
   "attachments": {},
   "cell_type": "markdown",
   "metadata": {},
   "source": [
    "Then, review a sample of the dataset in a table."
   ]
  },
  {
   "cell_type": "code",
   "execution_count": null,
   "metadata": {},
   "outputs": [],
   "source": [
    "#view-dataset\n",
    "\n",
    "lab_test_data.dtypes\n",
    "lab_test_data.head()"
   ]
  },
  {
   "cell_type": "markdown",
   "metadata": {},
   "source": [
    "## Task 2.3: Set up SageMaker Feature Store\n",
    "\n",
    "Create features to help train your model. Take the processed data from your Amazon SageMaker Data Wrangler lab to create a feature group using SageMaker Feature Store.\n",
    "\n",
    "- Create features in a notebook file.\n",
    "- Create a feature group in SageMaker Feature Store.\n",
    "- Confirm the feature group has been created.\n",
    "- View the feature group in SageMaker Studio."
   ]
  },
  {
   "cell_type": "markdown",
   "metadata": {},
   "source": [
    "### Task 2.3.1: Create features in a notebook file"
   ]
  },
  {
   "attachments": {},
   "cell_type": "markdown",
   "metadata": {},
   "source": [
    "To create a feature group, you need columns to assign for the **record_identifier_name** and the **event_time_feature_name**. To fulfill this requirement, add **record** and **event_time** columns to the dataset.\n",
    "- The **record_identifier_name** refers to one of the names of a feature defined in the feature group's feature definitions. In this lab, you create a column of unique IDs called **record**.\n",
    "- The **event_time_feature_name** is a point in time when a new event occurs that corresponds to the creation or update of a record in a feature group. All records in the feature group must have a corresponding event time. It can be used to track changes to a record over time. In this lab, you create a column called **event_time**.\n",
    "\n",
    "Refer to [Get Started With Amazon SageMaker Feature Store](https://docs.aws.amazon.com/sagemaker/latest/dg/feature-store-concepts.html) for more information about record identifier name or event time."
   ]
  },
  {
   "cell_type": "code",
   "execution_count": null,
   "metadata": {},
   "outputs": [],
   "source": [
    "#add-required-columns\n",
    "\n",
    "# Add record and event_time columns\n",
    "current_time_sec = int(round(time.time()))\n",
    "lab_test_data.insert(0, 'record', range(0, 0 + len(lab_test_data)))\n",
    "lab_test_data.insert(1, 'event_time', [current_time_sec]*len(lab_test_data))\n",
    "lab_test_data['record'] = lab_test_data['record'].astype('string')\n",
    "lab_test_data['event_time'] = lab_test_data['event_time'].astype('float64')\n",
    "\n",
    "# Set the record-and-event_time-feature-names\n",
    "record_identifier_feature_name = 'record'\n",
    "event_time_feature_name = 'event_time'\n",
    "\n",
    "# View the dataset\n",
    "print(lab_test_data.dtypes)\n",
    "lab_test_data.head()"
   ]
  },
  {
   "attachments": {},
   "cell_type": "markdown",
   "metadata": {},
   "source": [
    "You can add new features at any point during data processing, depending on your needs, either using the SageMaker Python SDK or SageMaker Studio.\n",
    "\n",
    "In this lab, as part of your data preprocessing steps, add one feature using the SageMaker Python SDK. This feature is a weighted combination of two columns in the dataset and helps the model train more efficiently.\n",
    "\n",
    "Create a workability feature, combining the age and hours_per_week columns to identify customers who are further along in their careers."
   ]
  },
  {
   "cell_type": "code",
   "execution_count": null,
   "metadata": {},
   "outputs": [],
   "source": [
    "#add-feature\n",
    "\n",
    "lab_test_data = lab_test_data.assign(\n",
    "    workability = 0.5*lab_test_data.age + 0.5*lab_test_data.hours_per_week)\n",
    "\n",
    "lab_test_data.head()"
   ]
  },
  {
   "attachments": {},
   "cell_type": "markdown",
   "metadata": {},
   "source": [
    "### Task 2.3.2: Create a feature group in SageMaker Feature Store\n",
    "\n",
    "To ingest features into SageMaker Feature Store, first define the feature definitions (feature name and data type) for all features that belong to the feature group.\n",
    "\n",
    "A single feature corresponds to a column in your dataset. A feature group is a predefined schema for a collection of features. Each feature in the feature group has a specified data type and name. A single record in a feature group corresponds to a row in your dataframe. A feature store is a collection of feature groups. \n",
    "\n",
    "Refer to [Create, Store, and Share Features with Amazon SageMaker Feature Store](https://docs.aws.amazon.com/sagemaker/latest/dg/feature-store.html) for more information about SageMaker Feature Store.\n",
    "\n",
    "To start the process of making a feature definition, list out the schema for each feature."
   ]
  },
  {
   "cell_type": "code",
   "execution_count": null,
   "metadata": {},
   "outputs": [],
   "source": [
    "#list-column-schemas\n",
    "\n",
    "column_schemas = [\n",
    "    {\n",
    "        \"name\": \"record\",\n",
    "        \"type\": \"string\"\n",
    "    },\n",
    "    {\n",
    "        \"name\": \"event_time\",\n",
    "        \"type\": \"float\"\n",
    "    },\n",
    "    {\n",
    "        \"name\": \"income\",\n",
    "        \"type\": \"string\"\n",
    "    },\n",
    "    {\n",
    "        \"name\": \"age\",\n",
    "        \"type\": \"long\"\n",
    "    },\n",
    "    {\n",
    "        \"name\": \"education\",\n",
    "        \"type\": \"float\"\n",
    "    },\n",
    "    {\n",
    "        \"name\": \"education_num\",\n",
    "        \"type\": \"float\"\n",
    "    },\n",
    "    {\n",
    "        \"name\": \"capital_gain\",\n",
    "        \"type\": \"long\"\n",
    "    },\n",
    "    {\n",
    "        \"name\": \"capital_loss\",\n",
    "        \"type\": \"long\"\n",
    "    },\n",
    "    {\n",
    "        \"name\": \"hours_per_week\",\n",
    "        \"type\": \"long\"\n",
    "    },\n",
    "    {\n",
    "        \"name\": \"sex\",\n",
    "        \"type\": \"float\"\n",
    "    },\n",
    "    {\n",
    "        \"name\": \"workclass\",\n",
    "        \"type\": \"array\"\n",
    "    },\n",
    "    {\n",
    "        \"name\": \"marital_status\",\n",
    "        \"type\": \"array\"\n",
    "    },\n",
    "    {\n",
    "        \"name\": \"occupation\",\n",
    "        \"type\": \"array\"\n",
    "    },\n",
    "    {\n",
    "        \"name\": \"relationship\",\n",
    "        \"type\": \"array\"\n",
    "    },\n",
    "    {\n",
    "        \"name\": \"race\",\n",
    "        \"type\": \"array\"\n",
    "    },\n",
    "    {\n",
    "        \"name\": \"workability\",\n",
    "        \"type\": \"float\"\n",
    "    }\n",
    "]\n"
   ]
  },
  {
   "cell_type": "markdown",
   "metadata": {},
   "source": [
    "Now that the schema is defined, create the input for the feature definitions. Set up a type mapping for the float and long dataset values of FRACTIONAL and INTEGRAL.\n",
    "\n",
    "Then, create your feature definition, setting the values for **feature_name** and **feature_type** for all the columns in the schema that you defined."
   ]
  },
  {
   "cell_type": "code",
   "execution_count": null,
   "metadata": {},
   "outputs": [],
   "source": [
    "#create-feature-definitions\n",
    "\n",
    "default_feature_type = FeatureTypeEnum.STRING\n",
    "column_to_feature_type_mapping = {\n",
    "    \"float\": FeatureTypeEnum.FRACTIONAL,\n",
    "    \"long\": FeatureTypeEnum.INTEGRAL\n",
    "}\n",
    "\n",
    "feature_definitions = [\n",
    "    FeatureDefinition(\n",
    "        feature_name=column_schema['name'], \n",
    "        feature_type=column_to_feature_type_mapping.get(column_schema['type'], default_feature_type)\n",
    "    ) for column_schema in column_schemas\n",
    "]"
   ]
  },
  {
   "attachments": {},
   "cell_type": "markdown",
   "metadata": {},
   "source": [
    "In SageMaker Feature Store, feature groups can be online-only, offline-only, or both. In this lab, you use both online and offline stores, so **enable_online_store** is set as **True**.\n",
    "- Online store is primarily designed for supporting real-time predictions that need low millisecond latency reads and high throughput writes.\n",
    "- Offline store is primarily intended for batch predictions and model training. Offline store is an append-only store and can be used to store and access historical feature data.\n",
    "\n",
    "When your feature store is set to both online and offline store, any features ingested into online store are replicated in offline store. \n",
    "\n",
    "Configure the feature group, specifying options for the following settings:\n",
    "- **feature_group_name**: The name of the feature group\n",
    "- **feature_store_offline_s3_uri**: The Amazon Simple Storage Service (Amazon S3) bucket location to which SageMaker Feature Store writes data in the offline store of a feature group.\n",
    "- **enable_online_store**: Controls whether or not an online store is enabled"
   ]
  },
  {
   "cell_type": "code",
   "execution_count": null,
   "metadata": {},
   "outputs": [],
   "source": [
    "#configure-feature-store\n",
    "\n",
    "# flow name and a unique ID for this export (used later as the processing job name for the export)\n",
    "flow_name = \"DataWranglerLab\"\n",
    "flow_export_id = f\"{time.strftime('%d-%H-%M-%S', time.gmtime())}-{str(uuid.uuid4())[:8]}\"\n",
    "flow_export_name = f\"flow-{flow_export_id}\"\n",
    "feature_group_name = f\"FG-{flow_name}-{str(uuid.uuid4())[:8]}\"\n",
    "print(f\"Feature Group Name: {feature_group_name}\")\n",
    "\n",
    "feature_store_offline_s3_uri = 's3://' + bucket\n",
    "enable_online_store = True"
   ]
  },
  {
   "cell_type": "markdown",
   "metadata": {},
   "source": [
    "Now that your feature store is configured, set an AWS Region and start a session. Then, set up a SageMaker client and a Feature Store runtime. Finally, set up the Feature Store session.\n",
    "\n",
    "When setting up a feature store session, the **boto_session**, **sagemaker_client**, and **sagemaker_featurestore_runtime_client** values are defined."
   ]
  },
  {
   "cell_type": "code",
   "execution_count": null,
   "metadata": {},
   "outputs": [],
   "source": [
    "#set-up-sagemaker-feature-store-session\n",
    "\n",
    "sagemaker_client = sess.client(service_name='sagemaker', region_name=region)\n",
    "featurestore_runtime = sess.client(service_name='sagemaker-featurestore-runtime', region_name=region)\n",
    "\n",
    "feature_store_session = Session(\n",
    "    boto_session=sess,\n",
    "    sagemaker_client=sagemaker_client,\n",
    "    sagemaker_featurestore_runtime_client=featurestore_runtime\n",
    ")"
   ]
  },
  {
   "cell_type": "markdown",
   "metadata": {},
   "source": [
    "Initialize the feature group using the parameters that you configured earlier and invoke the Feature Store API to create the feature group."
   ]
  },
  {
   "cell_type": "code",
   "execution_count": null,
   "metadata": {},
   "outputs": [],
   "source": [
    "#initialize-feature-group\n",
    "\n",
    "feature_group = FeatureGroup(\n",
    "    name=feature_group_name, sagemaker_session=feature_store_session, feature_definitions=feature_definitions)\n",
    "\n",
    "feature_group.create(\n",
    "    s3_uri=feature_store_offline_s3_uri,\n",
    "    record_identifier_name=record_identifier_feature_name,\n",
    "    event_time_feature_name=event_time_feature_name,\n",
    "    role_arn=role,\n",
    "    enable_online_store=enable_online_store\n",
    ")"
   ]
  },
  {
   "cell_type": "markdown",
   "metadata": {},
   "source": [
    "### Task 2.3.3: Confirm that the feature group has been created\n",
    "\n",
    "Your feature group should be ready now. Confirm that the feature group has been created successfully.\n",
    "\n",
    "Wait until the feature group is ready by using the Describe API. This function checks the response returned by the Describe API and waits for a status of **Created**."
   ]
  },
  {
   "cell_type": "code",
   "execution_count": null,
   "metadata": {},
   "outputs": [],
   "source": [
    "#wait-for-describe\n",
    "\n",
    "def wait_for_feature_group_creation_complete(feature_group):\n",
    "    \"\"\"Helper function to wait for the completions of creating a feature group\"\"\"\n",
    "    response = feature_group.describe()\n",
    "    status = response.get(\"FeatureGroupStatus\")\n",
    "    while status == \"Creating\":\n",
    "        print(\"Waiting for Feature Group Creation\")\n",
    "        time.sleep(5)\n",
    "        response = feature_group.describe()\n",
    "        status = response.get(\"FeatureGroupStatus\")\n",
    "\n",
    "    if status != \"Created\":\n",
    "        print(f\"Failed to create feature group, response: {response}\")\n",
    "        failureReason = response.get(\"FailureReason\", \"\")\n",
    "        raise SystemExit(\n",
    "            f\"Failed to create feature group {feature_group.name}, status: {status}, reason: {failureReason}\"\n",
    "        )\n",
    "    print(f\"FeatureGroup {feature_group.name} successfully created.\")\n",
    "\n",
    "wait_for_feature_group_creation_complete(feature_group=feature_group)"
   ]
  },
  {
   "attachments": {},
   "cell_type": "markdown",
   "metadata": {},
   "source": [
    "List the feature groups using the ListFeatureGroups API."
   ]
  },
  {
   "cell_type": "code",
   "execution_count": null,
   "metadata": {},
   "outputs": [],
   "source": [
    "#list-feature-groups\n",
    "\n",
    "response = sagemaker_client.list_feature_groups()\n",
    "print(json.dumps(response, indent=4, sort_keys=True, default=str))"
   ]
  },
  {
   "cell_type": "markdown",
   "metadata": {},
   "source": [
    "### Task 2.3.4: View the feature group in SageMaker Studio"
   ]
  },
  {
   "attachments": {},
   "cell_type": "markdown",
   "metadata": {},
   "source": [
    "You have created a SageMaker Feature Group using the SageMaker Python SDK. Now, review the feature group in SageMaker Studio to discover additional details.\n",
    "\n",
    "1. In the navigation tab to the left of your notebook, choose the **SageMaker home** icon.\n",
    "\n",
    "The next step opens a new tab in SageMaker Studio. To follow these directions, use one of the following options:\n",
    "- **Option 1:** View the tabs side by side. To create a split screen view from the main SageMaker Studio window, either drag the **lab_5.ipynb** tab to the side or choose (right-click) the **lab_5.ipynb** tab and choose **New View for Notebook**. You can now have the directions visible as you explore the feature group.\n",
    "- **Option 2:** Switch between the SageMaker Studio tabs to follow these instructions. When you are finished exploring the feature group, return to the notebook by selecting the **lab_5.ipynb** tab.\n",
    "\n",
    "2. Expand the **Data** section, choose **Feature Store**.\n",
    "3. The feature group you just created appears in the Feature Store tab. You can review details about the feature group. To locate more details, choose the feature group that starts with **FG-DataWranglerLab-**. Examine the following details while you explore SageMaker Feature Store in SageMaker Studio:\n",
    "    - **Features**: Describes all the features in your feature group, including the **Type** and when the feature was created based on the **event_time** column.\n",
    "    - **Details**: Outlines the metadata for the feature group, including the **Feature group status**, the **Record identifier** that you set earlier in the notebook, the **Store type** set to Online/Offline, and the **Table name** that you can use to query data from the offline feature store with Athena.\n",
    "    - **Sample query**: Provides several sample queries that you can use to query data from the offline feature store."
   ]
  },
  {
   "cell_type": "markdown",
   "metadata": {},
   "source": [
    "## Task 2.4: Query online and offline stores\n",
    "\n",
    "You have created a feature group. Now, ingest data into the feature group, extract records from an online store, and extract records from an offline store with Athena.\n",
    "\n",
    "- Ingest data into a feature group.\n",
    "- Extract records from an online store.\n",
    "- Extract records from an offline store using Athena."
   ]
  },
  {
   "attachments": {},
   "cell_type": "markdown",
   "metadata": {},
   "source": [
    "### Task 2.4.1: Ingest data into a feature group\n",
    "\n",
    "After the feature group has been created, you put data into it. Use the PutRecord API call using **ingest()** with the SageMaker Python SDK. Whenever you create a feature group for the first time or want to add more records, you ingest the records into the feature group. \n",
    "\n",
    "For this dataset, ingestion takes 3–5 minutes. When the cell is complete when output like the following is displayed:\n",
    "\n",
    "**IngestionManagerPandas(feature_group_name='FG-DataWranglerLab-13ee4f26', sagemaker_fs_runtime_client_config=<botocore.config.Config object at 0x7fdb7fccee60>, sagemaker_session=<sagemaker.session.Session object at 0x7fdb82a900d0>, max_workers=1, max_processes=1, profile_name=None, _async_result=None, _processing_pool=None, _failed_indices=[])**"
   ]
  },
  {
   "cell_type": "code",
   "execution_count": null,
   "metadata": {},
   "outputs": [],
   "source": [
    "#ingest-records\n",
    "\n",
    "feature_group.ingest(data_frame=lab_test_data, wait=True)"
   ]
  },
  {
   "cell_type": "markdown",
   "metadata": {},
   "source": [
    "### Task 2.4.2: Extract records from an online store\n",
    "\n",
    "The online store is particularly useful for inference tasks because you can return a subset of features quickly.\n",
    "\n",
    "Now that your data is ingested, extract a record from an online store using **get_record**."
   ]
  },
  {
   "cell_type": "code",
   "execution_count": null,
   "metadata": {},
   "outputs": [],
   "source": [
    "#get-record\n",
    "\n",
    "record = random.randint(0, len(lab_test_data.index)-1)\n",
    "sample_record = featurestore_runtime.get_record(FeatureGroupName=feature_group_name, RecordIdentifierValueAsString=str(record))\n",
    "\n",
    "print(json.dumps(sample_record, indent=4, sort_keys=True, default=str))"
   ]
  },
  {
   "cell_type": "markdown",
   "metadata": {},
   "source": [
    "Now, get several records from the feature group using **batch_get_record**. Several records have been chosen for you already, but feel free to change the records listed in **records_list**."
   ]
  },
  {
   "cell_type": "code",
   "execution_count": null,
   "metadata": {},
   "outputs": [],
   "source": [
    "#batch-get-record\n",
    "\n",
    "records_list = [\"7789\", \"5646\", \"309\", \"24528\"]\n",
    "\n",
    "batch_records = featurestore_runtime.batch_get_record(\n",
    "    Identifiers=[\n",
    "        {\n",
    "            \"FeatureGroupName\": feature_group_name,\n",
    "            \"RecordIdentifiersValueAsString\": records_list,\n",
    "        }\n",
    "    ]\n",
    ")\n",
    "\n",
    "print(json.dumps(batch_records, indent=4, sort_keys=True, default=str))"
   ]
  },
  {
   "cell_type": "markdown",
   "metadata": {},
   "source": [
    "### Task 2.4.3 Extract records from an offline store using Athena"
   ]
  },
  {
   "cell_type": "markdown",
   "metadata": {},
   "source": [
    "Now that you have extracted records from an online store, use Athena to extract records from an offline store. \n",
    "\n",
    "You can query the full dataset when you train and tune your model, or you can query a subset of records for inference. Because SageMaker Feature Store retains an event time for every record, you can train models with the exact set of features from a specific time in the past without the risk of including data from beyond that time. \n",
    "\n",
    "How would you adjust the query to change the subset of data returned from the offline store?\n",
    "\n",
    "First, choose your query settings. You can customize your query to look at any subset of your data stored in the feature group. The following query is a basic SELECT query definition."
   ]
  },
  {
   "cell_type": "code",
   "execution_count": null,
   "metadata": {},
   "outputs": [],
   "source": [
    "#query-settings\n",
    "# Confirm the Athena settings are configured\n",
    "try:\n",
    "    boto3.client('athena').update_work_group(\n",
    "        WorkGroup='primary',\n",
    "        ConfigurationUpdates={\n",
    "            'EnforceWorkGroupConfiguration':False\n",
    "        }\n",
    "    )\n",
    "except Exception:\n",
    "    pass\n",
    "\n",
    "#Create the query\n",
    "query = feature_group.athena_query()\n",
    "table = query.table_name\n",
    "query_string = f'SELECT * FROM \"{table}\" '\n",
    "output_location = f's3://{bucket}/query_results/'\n",
    "\n",
    "print(f'Athena query output location: \\n{output_location}')"
   ]
  },
  {
   "attachments": {},
   "cell_type": "markdown",
   "metadata": {},
   "source": [
    "When your options are set, run the query, and display the results in the form of a table."
   ]
  },
  {
   "cell_type": "code",
   "execution_count": null,
   "metadata": {},
   "outputs": [],
   "source": [
    "#run-athena-query\n",
    "\n",
    "query.run(query_string=query_string, output_location=output_location)\n",
    "query.wait()\n",
    "df = query.as_dataframe()\n",
    "df.head()"
   ]
  },
  {
   "attachments": {},
   "cell_type": "markdown",
   "metadata": {},
   "source": [
    "### Conclusion\n",
    "\n",
    "Congratulations! You have used SageMaker Feature Store to make feature definitions for a feature group in SageMaker Studio and with the SageMaker Python SDK. With your newly created feature group, you are ready to train and tune your model using SageMaker Experiments in the next lab. Even later in the course, SageMaker Feature Store is useful for supplementing data for inference requests because of the low-latency GetRecord functionality using the online store. You continue working with this customer income dataset in the next lab.\n",
    "\n",
    "### Cleanup\n",
    "\n",
    "You have completed this notebook. To move to the next part of the lab, do the following:\n",
    "\n",
    "- Close this notebook file.\n",
    "- Return to the lab session and continue with the **Conclusion**."
   ]
  }
 ],
 "metadata": {
  "kernelspec": {
   "display_name": "Python 3.9.6 64-bit",
   "language": "python",
   "name": "python3"
  },
  "language_info": {
   "name": "python",
   "version": "3.9.6"
  },
  "orig_nbformat": 4,
  "vscode": {
   "interpreter": {
    "hash": "2e45558c452cedcb26631315a9b3b77e80a9c32d662ed25df58964b99bc5b9b9"
   }
  }
 },
 "nbformat": 4,
 "nbformat_minor": 2
}
